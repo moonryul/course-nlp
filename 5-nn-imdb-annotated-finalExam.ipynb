{
  "nbformat": 4,
  "nbformat_minor": 0,
  "metadata": {
    "kernelspec": {
      "display_name": "Python 3",
      "language": "python",
      "name": "python3"
    },
    "language_info": {
      "codemirror_mode": {
        "name": "ipython",
        "version": 3
      },
      "file_extension": ".py",
      "mimetype": "text/x-python",
      "name": "python",
      "nbconvert_exporter": "python",
      "pygments_lexer": "ipython3",
      "version": "3.7.3"
    },
    "colab": {
      "name": "5-nn-imdb.ipynb",
      "provenance": []
    },
    "accelerator": "GPU"
  },
  "cells": [
    {
      "cell_type": "markdown",
      "metadata": {
        "id": "uUrigbbUe3Re"
      },
      "source": [
        "#In this exam, I will test if you understand what is going on in this notebook for text classification. \n",
        "# Because it explains this notebook very well, I refer to the following paper, espeially the diagrams#Cf: https://humboldt-wi.github.io/blog/research/information_systems_1819/group4_ulmfit/#forwardpass \n",
        "\n",
        "I WILL ask you to explain the diagrams and sometimes ask which parts of this notebook corresponds to parts of each diagram.\n",
        "\n",
        "To prepare the exam, you should execute every cell and try to guess what the command used mean by looking at the displayed result.\n",
        "\n",
        "Also we need to download the dataset and train the neural nets yourself, and save the results.  You should do it before coming the exam, because the total training time in colab will be about two or three hours. \n",
        "\n"
      ]
    },
    {
      "cell_type": "markdown",
      "metadata": {
        "id": "HOtnZ3Q9WpLq"
      },
      "source": [
        "This lesson was adapted from the end of [lesson 3](https://course.fast.ai/videos/?lesson=3) and beginning of [lesson 4](https://course.fast.ai/videos/?lesson=4) of the latest fast.ai Practical Deep Learning for Coders course.  We will cover all the material you need here in this notebook, so no need to have taken the Deep Learning course.  Even if you have taken the DL class, we will go slower and get into more detail here!"
      ]
    },
    {
      "cell_type": "markdown",
      "metadata": {
        "id": "q1qhL-2NWpLr"
      },
      "source": [
        "# Transfer Learning for Natural Language Modeling\n",
        "### Contructing a Language Model and a Sentiment Classifier for IMDB movie reviews"
      ]
    },
    {
      "cell_type": "markdown",
      "metadata": {
        "id": "o0ssTspaWpLs"
      },
      "source": [
        "\n",
        "\n",
        "Transfer learning has been widely used with great success in computer vision for several years, but only in the last year or so has it been successfully applied to NLP (beginning with ULMFit, which we will use here, which was built upon by BERT and GPT-2).\n",
        "\n",
        "As Sebastian Ruder wrote in [The Gradient](https://thegradient.pub/) last summer, [NLP's ImageNet moment has arrived](https://thegradient.pub/nlp-imagenet/).\n",
        "\n",
        "We will first build a language model for IMDB movie reviews.  Next we will build a sentiment classifier, which will predict whether a review is negative or positive, based on its text. For both of these tasks, we will use **transfer learning**. Starting with the pre-trained weights from the `wikitext-103` language model, we will tune these weights to specialize to the language of `IMDb` movie reviews. "
      ]
    },
    {
      "cell_type": "markdown",
      "metadata": {
        "heading_collapsed": true,
        "id": "3hKRSenMWpLs"
      },
      "source": [
        "## Language Models"
      ]
    },
    {
      "cell_type": "markdown",
      "metadata": {
        "hidden": true,
        "id": "081mp5ePWpLs"
      },
      "source": [
        "Language modeling can be a fun creative form. Research scientist [Janelle Shane blogs](https://aiweirdness.com/) & [tweets](https://twitter.com/JanelleCShane) about her creative AI explorations, which often involve text.  For instance, see her:\n",
        "\n",
        "- [Why did the neural network cross the road?](https://aiweirdness.com/post/174691534037/why-did-the-neural-network-cross-the-road)\n",
        "- [Try these neural network-generated recipes at your own risk.](https://aiweirdness.com/post/163878889437/try-these-neural-network-generated-recipes-at-your)\n",
        "- [D&D character bios - now making slightly more sense](https://aiweirdness.com/post/183471928977/dd-character-bios-now-making-slightly-more)"
      ]
    },
    {
      "cell_type": "markdown",
      "metadata": {
        "id": "ZEefC5-6WpLs"
      },
      "source": [
        "## Using a GPU"
      ]
    },
    {
      "cell_type": "markdown",
      "metadata": {
        "id": "2blcmwHZWpLt"
      },
      "source": [
        "You will need to have the fastai library installed for this lesson, and you will want to use a GPU to train your neural net.  If you don't have a GPU you can use in your computer (currently, only Nvidia GPUs are fully supported by the main deep learning libraries), no worries!  There are a number of cloud options you can consider:\n",
        "\n",
        "[GPU Cloud Options](https://course.fast.ai/#using-a-gpu)\n",
        "\n",
        "**Reminder: If you are using a cloud GPU, always be sure to shut it down when you are done!!! Otherwise, you could end up with an expensive bill!**"
      ]
    },
    {
      "cell_type": "code",
      "metadata": {
        "id": "7GU9GRRGWpLt"
      },
      "source": [
        "%reload_ext autoreload\n",
        "%autoreload 2\n",
        "\n",
        "%matplotlib inline"
      ],
      "execution_count": null,
      "outputs": []
    },
    {
      "cell_type": "markdown",
      "metadata": {
        "id": "3PJVesdxYN7K"
      },
      "source": [
        "https://medium.com/@mukesh.kumar43585/model-checkpoint-google-colab-and-drive-as-persistent-storage-for-long-training-runs-e35ffa0c33d9"
      ]
    },
    {
      "cell_type": "code",
      "metadata": {
        "id": "EJpPOBi6WpLt"
      },
      "source": [
        "from fastai import *\n",
        "from fastai.text import *\n",
        "from scipy.spatial.distance import cosine as dist"
      ],
      "execution_count": null,
      "outputs": []
    },
    {
      "cell_type": "markdown",
      "metadata": {
        "id": "A9wpZi68WpLu"
      },
      "source": [
        "Note that language models can use a lot of GPU, so you may need to decrease batchsize here."
      ]
    },
    {
      "cell_type": "code",
      "metadata": {
        "id": "QHZy_WZiWpLu"
      },
      "source": [
        "# bs=192\n",
        "bs=48\n",
        "# bs=24"
      ],
      "execution_count": null,
      "outputs": []
    },
    {
      "cell_type": "markdown",
      "metadata": {
        "id": "z38VOjWBWpLu"
      },
      "source": [
        "### Fix this line: should be `device(0)` instead of `device(2)`"
      ]
    },
    {
      "cell_type": "code",
      "metadata": {
        "id": "09g3gOTYWpLu"
      },
      "source": [
        "#torch.cuda.set_device(2)\n",
        "torch.cuda.set_device(0)"
      ],
      "execution_count": null,
      "outputs": []
    },
    {
      "cell_type": "markdown",
      "metadata": {
        "heading_collapsed": true,
        "id": "4nC_4MqXWpLv"
      },
      "source": [
        "## 1. Prepare the URLs.IMDb_SAMPLE data (only 800 review samples out of 100,000 reviews, URLs.IMDB ). Part I is not part of the final task of this notebook, but a toy example which explains the basic concepts and ideas. Part 2 is the real meat. In part 2, there are many toy cells which are NOT parts of the final task. You need to distinguish which are toy cells."
      ]
    },
    {
      "cell_type": "markdown",
      "metadata": {
        "hidden": true,
        "id": "XTwmVBiOWpLv"
      },
      "source": [
        "First let's download the dataset we are going to study. The `IMDb` [dataset](http://ai.stanford.edu/~amaas/data/sentiment/) has been curated by Andrew Maas et al. and contains a total of 100,000 reviews on IMDB. 25,000 of them are labelled as positive and negative for training, another 25,000 are labelled for testing (in both cases they are highly polarized). The remaning 50,000 is an additional unlabelled data (but we will find a use for it nonetheless).\n",
        "\n",
        "We'll begin with a sample we've prepared for you, so that things run quickly before going over the full dataset."
      ]
    },
    {
      "cell_type": "code",
      "metadata": {
        "hidden": true,
        "colab": {
          "base_uri": "https://localhost:8080/",
          "height": 52
        },
        "id": "pu14aE0jWpLv",
        "outputId": "ed312f6f-98a0-48f7-8f5b-3b38537f6b41"
      },
      "source": [
        "path = untar_data(URLs.IMDB_SAMPLE, dest='/content/data')\n",
        "path.ls()"
      ],
      "execution_count": null,
      "outputs": [
        {
          "output_type": "stream",
          "text": [
            "Downloading http://files.fast.ai/data/examples/imdb_sample.tgz\n"
          ],
          "name": "stdout"
        },
        {
          "output_type": "display_data",
          "data": {
            "text/html": [
              ""
            ],
            "text/plain": [
              "<IPython.core.display.HTML object>"
            ]
          },
          "metadata": {
            "tags": []
          }
        },
        {
          "output_type": "execute_result",
          "data": {
            "text/plain": [
              "[PosixPath('/content/data/imdb_sample/texts.csv')]"
            ]
          },
          "metadata": {
            "tags": []
          },
          "execution_count": 7
        }
      ]
    },
    {
      "cell_type": "markdown",
      "metadata": {
        "hidden": true,
        "id": "RlWYhToPWpLv"
      },
      "source": [
        "It only contains one csv file, let's have a look at it."
      ]
    },
    {
      "cell_type": "markdown",
      "metadata": {
        "hidden": true,
        "id": "qmGtjz3LWpLw"
      },
      "source": [
        "It contains one line per review, with the label ('negative' or 'positive'), the text and a flag to determine if it should be part of the validation set or the training set. If we ignore this flag, we can create a `DataBunch` containing this data in one line of code:"
      ]
    },
    {
      "cell_type": "markdown",
      "metadata": {
        "id": "T5XfmuCvWpLw"
      },
      "source": [
        "### Load and preprocess the data and form a `databunch`\n",
        "Add workaround for the bug in the `fastai Text API`"
      ]
    },
    {
      "cell_type": "code",
      "metadata": {
        "hidden": true,
        "colab": {
          "base_uri": "https://localhost:8080/",
          "height": 193
        },
        "id": "XiWRKC-hWpLw",
        "outputId": "99432b45-61bf-40f6-fc1f-cc9e458d2f2b"
      },
      "source": [
        "%%time\n",
        "\n",
        "# throws `BrokenProcessPool' Error sometimes. Keep trying `till it works!\n",
        "count = 0\n",
        "error = True\n",
        "while error:\n",
        "    try: \n",
        "        # Preprocessing steps\n",
        "        data_lm = TextDataBunch.from_csv(path, 'texts.csv')\n",
        "        error = False\n",
        "        print(f'failure count is {count}\\n')    \n",
        "    except: # catch *all* exceptions\n",
        "        # accumulate failure count\n",
        "        count = count + 1\n",
        "        print(f'failure count is {count}')"
      ],
      "execution_count": null,
      "outputs": [
        {
          "output_type": "display_data",
          "data": {
            "text/html": [
              ""
            ],
            "text/plain": [
              "<IPython.core.display.HTML object>"
            ]
          },
          "metadata": {
            "tags": []
          }
        },
        {
          "output_type": "stream",
          "text": [
            "/usr/local/lib/python3.7/dist-packages/fastai/core.py:302: VisibleDeprecationWarning: Creating an ndarray from ragged nested sequences (which is a list-or-tuple of lists-or-tuples-or ndarrays with different lengths or shapes) is deprecated. If you meant to do this, you must specify 'dtype=object' when creating the ndarray\n",
            "  return np.array(a, dtype=dtype, **kwargs)\n"
          ],
          "name": "stderr"
        },
        {
          "output_type": "display_data",
          "data": {
            "text/html": [
              ""
            ],
            "text/plain": [
              "<IPython.core.display.HTML object>"
            ]
          },
          "metadata": {
            "tags": []
          }
        },
        {
          "output_type": "stream",
          "text": [
            "failure count is 0\n",
            "\n",
            "CPU times: user 487 ms, sys: 94.8 ms, total: 582 ms\n",
            "Wall time: 36.3 s\n"
          ],
          "name": "stdout"
        },
        {
          "output_type": "stream",
          "text": [
            "/usr/local/lib/python3.7/dist-packages/numpy/core/_asarray.py:83: VisibleDeprecationWarning: Creating an ndarray from ragged nested sequences (which is a list-or-tuple of lists-or-tuples-or ndarrays with different lengths or shapes) is deprecated. If you meant to do this, you must specify 'dtype=object' when creating the ndarray\n",
            "  return array(a, dtype, copy=False, order=order)\n",
            "<string>:6: VisibleDeprecationWarning: Creating an ndarray from ragged nested sequences (which is a list-or-tuple of lists-or-tuples-or ndarrays with different lengths or shapes) is deprecated. If you meant to do this, you must specify 'dtype=object' when creating the ndarray\n"
          ],
          "name": "stderr"
        }
      ]
    },
    {
      "cell_type": "markdown",
      "metadata": {
        "hidden": true,
        "id": "0QImL4MOWpLw"
      },
      "source": [
        "By executing this line a process was launched that took a bit of time. Let's dig a bit into it. Images could be fed (almost) directly into a model because they're just a big array of pixel values that are floats between 0 and 1. A text is composed of words, and we can't apply mathematical functions to them directly. We first have to convert them to numbers. This is done in two differents steps: tokenization and numericalization. A `TextDataBunch` does all of that behind the scenes for you."
      ]
    },
    {
      "cell_type": "markdown",
      "metadata": {
        "heading_collapsed": true,
        "hidden": true,
        "id": "43LDWyAPWpLw"
      },
      "source": [
        "### Tokenization"
      ]
    },
    {
      "cell_type": "markdown",
      "metadata": {
        "hidden": true,
        "id": "ubqrB1HxWpLx"
      },
      "source": [
        "The first step of processing we make texts go through is to split the raw sentences into words, or more exactly tokens. The easiest way to do this would be to split the string on spaces, but we can be smarter:\n",
        "\n",
        "- we need to take care of punctuation\n",
        "- some words are contractions of two different words, like isn't or don't\n",
        "- we may need to clean some parts of our texts, if there's HTML code for instance\n",
        "\n",
        "To see what the tokenizer had done behind the scenes, let's have a look at a few texts in a batch."
      ]
    },
    {
      "cell_type": "markdown",
      "metadata": {
        "hidden": true,
        "id": "CNgDlzfjWpLx"
      },
      "source": [
        "The texts are truncated at 100 tokens for more readability. We can see that it did more than just split on space and punctuation symbols: \n",
        "- the \"'s\" are grouped together in one token\n",
        "- the contractions are separated like his: \"did\", \"n't\"\n",
        "- content has been cleaned for any HTML symbol and lower cased\n",
        "- there are several special tokens (all those that begin by xx), to replace unkown tokens (see below) or to introduce different text fields (here we only have one)."
      ]
    },
    {
      "cell_type": "markdown",
      "metadata": {
        "heading_collapsed": true,
        "hidden": true,
        "id": "vfWEB2d5WpLx"
      },
      "source": [
        "### Numericalization"
      ]
    },
    {
      "cell_type": "markdown",
      "metadata": {
        "hidden": true,
        "id": "4HQ0R3Q9WpLx"
      },
      "source": [
        "Once we have extracted tokens from our texts, we convert to integers by creating a list of all the words used. We only keep the ones that appear at list twice with a maximum vocabulary size of 60,000 (by default) and replace the ones that don't make the cut by the unknown token `UNK`.\n",
        "\n",
        "The correspondance from ids tokens is stored in the `vocab` attribute of our datasets, in a dictionary called `itos` (for int to string)."
      ]
    },
    {
      "cell_type": "code",
      "metadata": {
        "colab": {
          "base_uri": "https://localhost:8080/"
        },
        "id": "Ftb--l30cbXd",
        "outputId": "a01f7676-b457-4668-8651-5dadb6fdc0b3"
      },
      "source": [
        "len(data_lm.vocab.itos) # the of the vocab of  URLs.IMDb_SAMPLE"
      ],
      "execution_count": null,
      "outputs": [
        {
          "output_type": "execute_result",
          "data": {
            "text/plain": [
              "8928"
            ]
          },
          "metadata": {
            "tags": []
          },
          "execution_count": 9
        }
      ]
    },
    {
      "cell_type": "code",
      "metadata": {
        "colab": {
          "base_uri": "https://localhost:8080/"
        },
        "id": "G8pbROXBcnYM",
        "outputId": "5eac9b67-1e21-44d3-93be-71b5a6394d3b"
      },
      "source": [
        "type(data_lm.vocab.itos)"
      ],
      "execution_count": null,
      "outputs": [
        {
          "output_type": "execute_result",
          "data": {
            "text/plain": [
              "list"
            ]
          },
          "metadata": {
            "tags": []
          },
          "execution_count": 13
        }
      ]
    },
    {
      "cell_type": "code",
      "metadata": {
        "hidden": true,
        "id": "vW-p733sWpLy",
        "outputId": "94a67136-e736-4923-9aa1-d0df50eac9ac"
      },
      "source": [
        "data_lm.vocab.itos[:10]"
      ],
      "execution_count": null,
      "outputs": [
        {
          "output_type": "execute_result",
          "data": {
            "text/plain": [
              "['xxunk',\n",
              " 'xxpad',\n",
              " 'xxbos',\n",
              " 'xxeos',\n",
              " 'xxfld',\n",
              " 'xxmaj',\n",
              " 'xxup',\n",
              " 'xxrep',\n",
              " 'xxwrep',\n",
              " 'the']"
            ]
          },
          "metadata": {
            "tags": []
          },
          "execution_count": 7
        }
      ]
    },
    {
      "cell_type": "markdown",
      "metadata": {
        "hidden": true,
        "id": "3bod99J2WpLy"
      },
      "source": [
        "And if we look at what a what's in our datasets, we'll see the tokenized text as a representation:"
      ]
    },
    {
      "cell_type": "code",
      "metadata": {
        "colab": {
          "base_uri": "https://localhost:8080/"
        },
        "id": "BZ4wKNXpcyRb",
        "outputId": "5ec7efe5-087e-4521-efdc-c222d9085c66"
      },
      "source": [
        "type(data_lm.train_ds)"
      ],
      "execution_count": null,
      "outputs": [
        {
          "output_type": "execute_result",
          "data": {
            "text/plain": [
              "fastai.data_block.LabelList"
            ]
          },
          "metadata": {
            "tags": []
          },
          "execution_count": 14
        }
      ]
    },
    {
      "cell_type": "code",
      "metadata": {
        "colab": {
          "base_uri": "https://localhost:8080/"
        },
        "id": "uhwyUPmodkjg",
        "outputId": "67b95ef6-ec12-4af6-d6c3-0d49ba74a5b5"
      },
      "source": [
        "len(data_lm.train_ds)"
      ],
      "execution_count": null,
      "outputs": [
        {
          "output_type": "execute_result",
          "data": {
            "text/plain": [
              "799"
            ]
          },
          "metadata": {
            "tags": []
          },
          "execution_count": 10
        }
      ]
    },
    {
      "cell_type": "code",
      "metadata": {
        "colab": {
          "base_uri": "https://localhost:8080/"
        },
        "id": "iMu-3uxsdAbr",
        "outputId": "f3021a9d-7ae8-4fae-8b55-f6968e20f0d9"
      },
      "source": [
        "data_lm.train_ds[0]"
      ],
      "execution_count": null,
      "outputs": [
        {
          "output_type": "execute_result",
          "data": {
            "text/plain": [
              "(Text [   2    5  108   14 ...   16   82 6040   10], Category 0)"
            ]
          },
          "metadata": {
            "tags": []
          },
          "execution_count": 18
        }
      ]
    },
    {
      "cell_type": "code",
      "metadata": {
        "id": "wZhlotE3dhE6"
      },
      "source": [
        ""
      ],
      "execution_count": null,
      "outputs": []
    },
    {
      "cell_type": "code",
      "metadata": {
        "hidden": true,
        "id": "Wc36ve6sWpLy",
        "outputId": "f5335c00-b661-4c65-ed87-ab02e9309dd2"
      },
      "source": [
        "data_lm.train_ds[0][0]"
      ],
      "execution_count": null,
      "outputs": [
        {
          "output_type": "execute_result",
          "data": {
            "text/plain": [
              "Text xxbos xxmaj this movie is so bad , i knew how it ends right after this little girl killed the first person . xxmaj very bad acting very bad plot very bad movie \n",
              " \n",
              "  do yourself a favour and xxup don't watch it 1 / 10"
            ]
          },
          "metadata": {
            "tags": []
          },
          "execution_count": 8
        }
      ]
    },
    {
      "cell_type": "code",
      "metadata": {
        "colab": {
          "base_uri": "https://localhost:8080/"
        },
        "id": "54rEdXQyd5fA",
        "outputId": "fca3dd9b-a3ab-4558-975c-0decf67c254f"
      },
      "source": [
        "data_lm.train_ds[0][1]"
      ],
      "execution_count": null,
      "outputs": [
        {
          "output_type": "execute_result",
          "data": {
            "text/plain": [
              "Category 0"
            ]
          },
          "metadata": {
            "tags": []
          },
          "execution_count": 21
        }
      ]
    },
    {
      "cell_type": "markdown",
      "metadata": {
        "hidden": true,
        "id": "dYDYqxmHWpLy"
      },
      "source": [
        "But the underlying data is all numbers"
      ]
    },
    {
      "cell_type": "code",
      "metadata": {
        "hidden": true,
        "id": "YNnkfe7VWpLy",
        "outputId": "d69ce6d9-ed02-47f6-891d-392ab3b4d7c9"
      },
      "source": [
        "data_lm.train_ds[0][0].data[:10]"
      ],
      "execution_count": null,
      "outputs": [
        {
          "output_type": "execute_result",
          "data": {
            "text/plain": [
              "array([  2,   5,  21,  31,  16,  52, 107,  10,  19, 669], dtype=int64)"
            ]
          },
          "metadata": {
            "tags": []
          },
          "execution_count": 9
        }
      ]
    },
    {
      "cell_type": "markdown",
      "metadata": {
        "heading_collapsed": true,
        "hidden": true,
        "id": "U00LpR6yWpLy"
      },
      "source": [
        "### Alternative approach: with the `data block API`"
      ]
    },
    {
      "cell_type": "markdown",
      "metadata": {
        "hidden": true,
        "id": "kpkB2eQlWpLy"
      },
      "source": [
        "We can use the data block API with NLP and have a lot more flexibility than what the default factory methods offer. In the previous example for instance, the data was randomly split between train and validation instead of reading the third column of the csv.\n",
        "\n",
        "With the data block API though, we have to manually call the tokenize and numericalize steps. This allows more flexibility, and if you're not using the defaults from fastai, the various arguments to pass will appear in the step they're revelant, so it'll be more readable."
      ]
    },
    {
      "cell_type": "markdown",
      "metadata": {
        "id": "-wI1qWxmWpLz"
      },
      "source": [
        "### Load and preprocess the data and form a `datablock`\n",
        "Add workaround for the bug in the `fastai Text API`"
      ]
    },
    {
      "cell_type": "code",
      "metadata": {
        "hidden": true,
        "colab": {
          "base_uri": "https://localhost:8080/",
          "height": 193
        },
        "id": "pUZ_FePuWpLz",
        "outputId": "ec4f448f-9530-49ed-fd16-3d4ba09dde02"
      },
      "source": [
        "%%time\n",
        "\n",
        "# throws `BrokenProcessPool' Error sometimes. Keep trying `till it works!\n",
        "count = 0\n",
        "error = True\n",
        "while error:\n",
        "    try: \n",
        "        # Preprocessing steps\n",
        "        data = (TextList.from_csv(path, 'texts.csv', cols='text')\n",
        "                .split_from_df(col=2)\n",
        "                .label_from_df(cols=0)\n",
        "                .databunch())        \n",
        "        error = False\n",
        "        print(f'failure count is {count}\\n')    \n",
        "    except: # catch *all* exceptions\n",
        "        # accumulate failure count\n",
        "        count = count + 1\n",
        "        print(f'failure count is {count}')"
      ],
      "execution_count": null,
      "outputs": [
        {
          "output_type": "display_data",
          "data": {
            "text/html": [
              ""
            ],
            "text/plain": [
              "<IPython.core.display.HTML object>"
            ]
          },
          "metadata": {
            "tags": []
          }
        },
        {
          "output_type": "stream",
          "text": [
            "/usr/local/lib/python3.7/dist-packages/fastai/core.py:302: VisibleDeprecationWarning: Creating an ndarray from ragged nested sequences (which is a list-or-tuple of lists-or-tuples-or ndarrays with different lengths or shapes) is deprecated. If you meant to do this, you must specify 'dtype=object' when creating the ndarray\n",
            "  return np.array(a, dtype=dtype, **kwargs)\n"
          ],
          "name": "stderr"
        },
        {
          "output_type": "display_data",
          "data": {
            "text/html": [
              ""
            ],
            "text/plain": [
              "<IPython.core.display.HTML object>"
            ]
          },
          "metadata": {
            "tags": []
          }
        },
        {
          "output_type": "stream",
          "text": [
            "failure count is 0\n",
            "\n",
            "CPU times: user 427 ms, sys: 80.5 ms, total: 508 ms\n",
            "Wall time: 36.3 s\n"
          ],
          "name": "stdout"
        },
        {
          "output_type": "stream",
          "text": [
            "/usr/local/lib/python3.7/dist-packages/numpy/core/_asarray.py:83: VisibleDeprecationWarning: Creating an ndarray from ragged nested sequences (which is a list-or-tuple of lists-or-tuples-or ndarrays with different lengths or shapes) is deprecated. If you meant to do this, you must specify 'dtype=object' when creating the ndarray\n",
            "  return array(a, dtype, copy=False, order=order)\n",
            "<string>:6: VisibleDeprecationWarning: Creating an ndarray from ragged nested sequences (which is a list-or-tuple of lists-or-tuples-or ndarrays with different lengths or shapes) is deprecated. If you meant to do this, you must specify 'dtype=object' when creating the ndarray\n"
          ],
          "name": "stderr"
        }
      ]
    },
    {
      "cell_type": "code",
      "metadata": {
        "colab": {
          "base_uri": "https://localhost:8080/"
        },
        "id": "a9TE5-D9gYQO",
        "outputId": "76743697-59e0-491f-ca14-4bdaff5f66b4"
      },
      "source": [
        "len(data.items)"
      ],
      "execution_count": null,
      "outputs": [
        {
          "output_type": "execute_result",
          "data": {
            "text/plain": [
              "800"
            ]
          },
          "metadata": {
            "tags": []
          },
          "execution_count": 12
        }
      ]
    },
    {
      "cell_type": "markdown",
      "metadata": {
        "id": "CVQ7HoApWpLz"
      },
      "source": [
        "## 2. Transfer Learning <br>\n",
        "### We are going to create an `IMDb` language model starting with the pretrained weights from the `wikitext-103` language model."
      ]
    },
    {
      "cell_type": "markdown",
      "metadata": {
        "id": "dsBDlFoJWpLz"
      },
      "source": [
        "Now let's grab the full `IMDb` dataset for what follows."
      ]
    },
    {
      "cell_type": "code",
      "metadata": {
        "colab": {
          "base_uri": "https://localhost:8080/",
          "height": 156
        },
        "id": "g1fWronFWpLz",
        "outputId": "51537b52-60b5-42e5-fc65-72fbb6ff4f9c"
      },
      "source": [
        "path = untar_data(URLs.IMDB,dest='/content/data')\n",
        "path.ls()"
      ],
      "execution_count": null,
      "outputs": [
        {
          "output_type": "stream",
          "text": [
            "Downloading https://s3.amazonaws.com/fast-ai-nlp/imdb.tgz\n"
          ],
          "name": "stdout"
        },
        {
          "output_type": "display_data",
          "data": {
            "text/html": [
              ""
            ],
            "text/plain": [
              "<IPython.core.display.HTML object>"
            ]
          },
          "metadata": {
            "tags": []
          }
        },
        {
          "output_type": "execute_result",
          "data": {
            "text/plain": [
              "[PosixPath('/content/data/imdb/README'),\n",
              " PosixPath('/content/data/imdb/train'),\n",
              " PosixPath('/content/data/imdb/test'),\n",
              " PosixPath('/content/data/imdb/tmp_clas'),\n",
              " PosixPath('/content/data/imdb/tmp_lm'),\n",
              " PosixPath('/content/data/imdb/imdb.vocab'),\n",
              " PosixPath('/content/data/imdb/unsup')]"
            ]
          },
          "metadata": {
            "tags": []
          },
          "execution_count": 5
        }
      ]
    },
    {
      "cell_type": "code",
      "metadata": {
        "id": "BVUvQIWgWpLz",
        "colab": {
          "base_uri": "https://localhost:8080/"
        },
        "outputId": "b27fea6b-33b4-4097-8ef1-f01b74e59949"
      },
      "source": [
        "(path/'train').ls()"
      ],
      "execution_count": null,
      "outputs": [
        {
          "output_type": "execute_result",
          "data": {
            "text/plain": [
              "[PosixPath('/content/data/imdb/train/pos'),\n",
              " PosixPath('/content/data/imdb/train/labeledBow.feat'),\n",
              " PosixPath('/content/data/imdb/train/unsupBow.feat'),\n",
              " PosixPath('/content/data/imdb/train/neg')]"
            ]
          },
          "metadata": {
            "tags": []
          },
          "execution_count": 6
        }
      ]
    },
    {
      "cell_type": "markdown",
      "metadata": {
        "id": "k5LNaqgBWpL0"
      },
      "source": [
        "The reviews are in a training and test set following an imagenet structure. The only difference is that there is an `unsup` folder in `train` that contains the unlabelled data.\n",
        "\n",
        "We're not going to train a model that classifies the reviews from scratch. Like in computer vision, we'll use a model pretrained on a bigger dataset (a cleaned subset of wikipedia called [wikitext-103](https://s3.amazonaws.com/research.metamind.io/wikitext/wikitext-103-v1.zip)). That model has been trained to guess what the next word, its input being all the previous words. It has a recurrent structure and a hidden state that is updated each time it sees a new word. This hidden state thus contains information about the sentence up to that point.\n",
        "\n",
        "We are going to use that 'knowledge' of the English language to build our classifier, but first, like for computer vision, we need to fine-tune the pretrained model to our particular dataset. Because the English of the reviews left by people on IMDB isn't the same as the English of wikipedia, we'll need to adjust a little bit the parameters of our model. Plus there might be some words extremely common in that dataset that were barely present in wikipedia, and therefore might no be part of the vocabulary the model was trained on."
      ]
    },
    {
      "cell_type": "markdown",
      "metadata": {
        "heading_collapsed": true,
        "id": "K1u15sX-WpL0"
      },
      "source": [
        "### More about WikiText-103"
      ]
    },
    {
      "cell_type": "markdown",
      "metadata": {
        "hidden": true,
        "id": "CHAI_lwUWpL0"
      },
      "source": [
        "We will be using the `WikiText-103` dataset created by [Stephen Merity](https://smerity.com/) to pre-train a language model.\n",
        "\n",
        "To quote [Stephen's post](https://blog.einstein.ai/the-wikitext-long-term-dependency-language-modeling-dataset/):\n",
        "\n",
        "*The WikiText language modeling dataset is a collection of over 100 million tokens extracted from the set of verified Good and Featured articles on Wikipedia. The dataset is available under the Creative Commons Attribution-ShareAlike License.*\n",
        "\n",
        "*Compared to the preprocessed version of Penn Treebank (PTB), WikiText-2 is over 2 times larger and WikiText-103 is over 110 times larger. The WikiText dataset also features a far larger vocabulary and retains the original case, punctuation and numbers - all of which are removed in PTB. As it is composed of full articles, the dataset is well suited for models that can take advantage of long term dependencies.*"
      ]
    },
    {
      "cell_type": "markdown",
      "metadata": {
        "id": "CifM1kqYWpL0"
      },
      "source": [
        "[Download wikitext-103](https://s3.amazonaws.com/research.metamind.io/wikitext/wikitext-103-v1.zip). Unzip it into the `.fastai/data/` folder on your computer."
      ]
    },
    {
      "cell_type": "markdown",
      "metadata": {
        "heading_collapsed": true,
        "id": "90Mk2JCfWpL0"
      },
      "source": [
        "### 2A. Package the `IMDb` data into a language model `databunch`"
      ]
    },
    {
      "cell_type": "markdown",
      "metadata": {
        "hidden": true,
        "id": "xhxxa6jxWpL0"
      },
      "source": [
        "This is where the unlabelled data is going to be useful to us, as we can use it to fine-tune our model. Let's create our data object with the data block API (this takes a few minutes).\n",
        "\n",
        "We'll to use a special kind of `TextDataBunch` for the language model, that ignores the labels (that's why we put 0 everywhere), will shuffle the texts at each epoch before concatenating them all together (only for training; we don't shuffle for the validation set) and will send batches that read that text in order with targets that are the next word in the sentence.\n",
        "\n",
        "Add a `try-except` wrapper as a workaround for the bug in the `fastai Text API`"
      ]
    },
    {
      "cell_type": "code",
      "metadata": {
        "colab": {
          "base_uri": "https://localhost:8080/"
        },
        "id": "rK35gY7nAsSc",
        "outputId": "4386519c-2793-4a94-fcdd-1c350d744afa"
      },
      "source": [
        "path"
      ],
      "execution_count": null,
      "outputs": [
        {
          "output_type": "execute_result",
          "data": {
            "text/plain": [
              "PosixPath('/content/data/imdb')"
            ]
          },
          "metadata": {
            "tags": []
          },
          "execution_count": 14
        }
      ]
    },
    {
      "cell_type": "code",
      "metadata": {
        "hidden": true,
        "colab": {
          "base_uri": "https://localhost:8080/"
        },
        "id": "JUQf1xNgWpL1",
        "outputId": "3fec1f43-27b5-4771-a3c0-82b7e10813bc"
      },
      "source": [
        "%%time\n",
        "\n",
        "# throws `BrokenProcessPool` Error sometimes. Keep trying `till it works!\n",
        "count = 0\n",
        "error = True\n",
        "while error:\n",
        "    try: \n",
        "        # The 1st step: Preprocessing steps\n",
        "        data_lm_full = (TextList.from_folder(path)\n",
        "           #Inputs: all the text files in path\n",
        "            .filter_by_folder(include=['train', 'test', 'unsup']) \n",
        "           # notebook 3-logreg-nb-imbd used .split_by_folder instead of .filter_by_folder\n",
        "            # and this took less time to run. Can we do the same here?\n",
        "           #We may have other temp folders that contain text files so we only keep what's in train and test\n",
        "            .split_by_rand_pct(0.1, seed=42))\n",
        "           #We randomly split and keep 10% (10,000 reviews) for validation\n",
        "            #.label_for_lm()           \n",
        "           #We want to make a language model so we label accordingly\n",
        "            #.databunch(bs=bs, num_workers=1))\n",
        "        error = False\n",
        "        print(f'failure count is {count}\\n')    \n",
        "    except: # catch *all* exceptions\n",
        "        # accumulate failure count\n",
        "        count = count + 1\n",
        "        print(f'failure count is {count}')"
      ],
      "execution_count": null,
      "outputs": [
        {
          "output_type": "stream",
          "text": [
            "failure count is 0\n",
            "\n",
            "CPU times: user 1.59 s, sys: 48.5 ms, total: 1.64 s\n",
            "Wall time: 1.65 s\n"
          ],
          "name": "stdout"
        }
      ]
    },
    {
      "cell_type": "code",
      "metadata": {
        "colab": {
          "base_uri": "https://localhost:8080/"
        },
        "id": "andSamKqjF32",
        "outputId": "976cb61d-49f8-4e2c-befa-711e448d9d16"
      },
      "source": [
        "len(data_lm_full.vocab.itos)"
      ],
      "execution_count": null,
      "outputs": [
        {
          "output_type": "execute_result",
          "data": {
            "text/plain": [
              "60000"
            ]
          },
          "metadata": {
            "tags": []
          },
          "execution_count": 80
        }
      ]
    },
    {
      "cell_type": "code",
      "metadata": {
        "colab": {
          "base_uri": "https://localhost:8080/"
        },
        "id": "1I6HQdFYA876",
        "outputId": "9f468824-34bc-4209-bc4f-db9c0e7bac0a"
      },
      "source": [
        "len(data_lm_full.items)"
      ],
      "execution_count": null,
      "outputs": [
        {
          "output_type": "execute_result",
          "data": {
            "text/plain": [
              "90000"
            ]
          },
          "metadata": {
            "tags": []
          },
          "execution_count": 17
        }
      ]
    },
    {
      "cell_type": "code",
      "metadata": {
        "id": "3_JKFvLjBc4g"
      },
      "source": [
        "data_lm_full??"
      ],
      "execution_count": null,
      "outputs": []
    },
    {
      "cell_type": "code",
      "metadata": {
        "colab": {
          "base_uri": "https://localhost:8080/"
        },
        "id": "V_pz2HQICE_t",
        "outputId": "c3eeeefe-402a-41e8-c6c3-9830c5b8683e"
      },
      "source": [
        "data_lm_full.lists"
      ],
      "execution_count": null,
      "outputs": [
        {
          "output_type": "execute_result",
          "data": {
            "text/plain": [
              "[TextList (90000 items)\n",
              " /content/data/imdb/train/neg/2335_1.txt,/content/data/imdb/train/neg/4594_1.txt,/content/data/imdb/train/neg/12171_3.txt,/content/data/imdb/train/neg/7466_1.txt,/content/data/imdb/train/neg/5125_1.txt\n",
              " Path: /content/data/imdb, TextList (10000 items)\n",
              " /content/data/imdb/unsup/30750_0.txt,/content/data/imdb/unsup/30024_0.txt,/content/data/imdb/train/pos/2944_10.txt,/content/data/imdb/unsup/4680_0.txt,/content/data/imdb/unsup/16856_0.txt\n",
              " Path: /content/data/imdb]"
            ]
          },
          "metadata": {
            "tags": []
          },
          "execution_count": 19
        }
      ]
    },
    {
      "cell_type": "code",
      "metadata": {
        "colab": {
          "base_uri": "https://localhost:8080/"
        },
        "id": "GodQT3qCCNI_",
        "outputId": "5bde5903-aa8c-4e40-fcc5-9d2eaec0e6ad"
      },
      "source": [
        "data_lm_full.train"
      ],
      "execution_count": null,
      "outputs": [
        {
          "output_type": "execute_result",
          "data": {
            "text/plain": [
              "LabelList (90000 items)\n",
              "x: LMTextList\n",
              "xxbos a film so insecure the xxunk perhaps hoped to milk an original film noir classic title , \" xxmaj farewell xxmaj my xxmaj lovely \" , thinking the gullible would assume it a remake . xxmaj the characters are so foul and unappealing that it deserved its cold reception when first released . xxmaj time only adds to it its absurdity . xxmaj having none of the guile , cinematography , desperation or despair of classic noir it relied instead on a convoluted and senseless crime plot that would have easily resulted in several arrests within hours . xxmaj as if that were n't enough it threw in an utterly sexless attempt at erotica in which at least one of the participants had n't bothered to bathe in several days . xxmaj this only made this mess all the more painful to watch . xxmaj find a good classic forties or fifties film noir instead of wasting two hours on this failure .,xxbos i had numerous problems with this film . \n",
              " \n",
              "  xxmaj it contains some basic factual information concerning quantum mechanics , which is fine . xxmaj although quantum physics has been around for over 50 years , the film presents this information in a grandiose way that seems to be saying : \" xxmaj are n't you just blown away by this ! \" xxmaj well , not really . xxmaj these are n't earth shattering revelations anymore . xxmaj at any rate , i was already familiar with quantum theory , and the fact that particles have to be described by wave equations , etc . is not new . \n",
              " \n",
              "  xxmaj the main problem i have with this movie , however , is the way these people use quantum theory as a way of providing a scientific basis for mysticism and spiritualism . i do n't have any serious problem with mysticism and spiritualism , but quantum mechanics does n't really have anything to do with these things , and it should be kept separate . xxmaj the people they interviewed for this movie start with the ideas of quantum theory and then make the leap to say that simply by thinking about something you can alter the matter around you , hence we should think positively so as to have a positive impact on the world and make our lives better . xxmaj the reasoning is completely ridiculous , and the conclusions do not logically follow from quantum theory . xxmaj for every so called \" expert \" that they interviewed for this film , there are scores of theoretically physicists who would completely disagree . xxmaj they would point out , quite rightly , that the unpredictability of the subatomic world does not lend support to mystical notions about our spiritual connectedness . \n",
              " \n",
              "  xxmaj it disturbs me that people are going to see this film and completely eat it up because it leaves them with a nice positive feeling . xxmaj the main thrust of the film is based on a total misinterpretation of quantum theory , and it is as bad in its reasoning as any attempt to justify organized religion with similar pseudo - scientific arguments . \n",
              " \n",
              "  xxmaj avoid this film . \n",
              " \n",
              "  xxmaj oh yeah . xxmaj at one point , one of the \" experts \" says that since throughout history most of the assumptions people have made about the world turned out to be false , therefore the assumptions we currently hold about the world are also likely to be false . xxmaj huh ? xxmaj that totally does not follow . xxmaj and even if it did , i do n't see how that helps his argument . i mean , if his ideas ever became common assumptions then i guess we would have to assume that they are false too , based on his own reasoning .,xxbos xxmaj being a slasher film aficionado , i typically will settle in to watch every slash movie that passes over my retinas , which sometimes does more harm than good to my brain , i will say . xxmaj while channel surfing the other night , xxmaj sleepaway xxmaj camp xxup ii happened to cross paths with me . xxmaj of course , i wanted to check it out , as i had heard of the xxmaj sleepaway xxmaj camp franchise , but have never actually seen any of them ( for shame , i know ) . i will note that since i have not seen the original , my criticism should probably not be taken too seriously , because perhaps what i think is wrong with it is totally intentional by the franchise 's own design . \n",
              " \n",
              "  xxmaj now i 'm assuming that the franchise of xxmaj sleepaway xxmaj camp is , in itself , a joke on itself . xxmaj hell , even the name comes off as an intentional joke . xxmaj sleep away camp ? xxmaj it 's good fun . i can appreciate the film for wanting to just put together something for pure camp horror value , but that 's about as far as i can go . xxmaj the acting in this movie made the cast of the original xxmaj friday the 13th look like thespians doing a rendition of xxmaj macbeth . xxmaj campy requires bad acting , but come on . xxmaj pamela xxmaj springsteen as the evil out - of - touch - with - reality killer did a better job of killing off my interest than she did killing off the entire cast . xxmaj as far as comedy goes , there were a few times where i chuckled , but it was few and far between . \n",
              " \n",
              "  xxmaj ultimately , xxup sac xxup ii is pretty boring , and i really did want to sleep away the camp . xxmaj the deaths are so obviously staged and fake that you can barely appreciate them . xxmaj if you 're looking for a slasher film comedy with good camp , i recommend xxmaj club xxmaj dread . xxmaj if your channel surfing takes you across this one , check and see what else is on .,xxbos xxmaj wow . xxmaj some movies just leave me speechless . xxmaj this was undeniably one of those movies . xxmaj when i left the theatre , not a single word came to my mouth . xxmaj all i had was an incredible urge to slam my head against the theatre wall to help me forget about the last hour and a half . xxmaj unfortunately , it did n't work . xxmaj honestly , this movie has nothing to recommend . xxmaj the humor was at the first grade level , at best , the acting was overly silly , and the plot was astronomically far - fetched . i xxunk pledge never to see an other movie starring xxmaj chris xxmaj kattan or any other cast - member of xxup snl .,xxbos xxmaj as a youth pastor i heard good things about this movie . xxmaj then i watched it . xxmaj the acting was n't the best . xxmaj that 's forgivable . xxmaj it 's the message that 's not : xxmaj give xxmaj jesus your life and everything will change - you 'll tackle better , make amazing catches , stop fumbling , start making touchdown passes , and even make the playoffs . xxmaj all because xxmaj jesus magically turns horrible undersized weaklings into xxmaj all - xxmaj american athletes . i laughed out loud when a coach quoted scripture to explain to the kicker why he was missing field goals . xxmaj but wait , that 's not all . xxmaj you 'll get a brand new truck , a $ 6000 raise , and you and your wife 's struggle with infertility will suddenly end in pregnancy - twice . xxup then you 'll win the state championship because xxmaj god helps a weakling kick the winning field goal 12 yards further than he 's ever kicked before - and into the wind , no less - all because \" xxmaj god wanted him to make it . \" xxmaj then you 'll win the state championship again the next year . xxmaj none of this good stuff would have happened if the team had n't chosen to follow xxmaj jesus will all their hearts . \n",
              " \n",
              "  xxmaj here 's what i took away from the movie : xxmaj god can do anything he wants to do whenever he wants to do it - and it 's all about making our lives better , easier , and more enjoyable . xxmaj he chooses his favorite team and helps them win games . xxmaj which bible is this story based on ? i 'll bet xxmaj saint xxmaj stephen wished he 'd known the keys to such a safe life before he was stoned to death . xxmaj someone should have made this movie before 10 of the 11 apostles were killed for following xxmaj jesus . xxmaj it would have saved them all a lot of trouble .\n",
              "y: LMLabelList\n",
              ",,,,\n",
              "Path: /content/data/imdb"
            ]
          },
          "metadata": {
            "tags": []
          },
          "execution_count": 28
        }
      ]
    },
    {
      "cell_type": "code",
      "metadata": {
        "colab": {
          "base_uri": "https://localhost:8080/"
        },
        "id": "qIDiXiLXCTaU",
        "outputId": "f54b67d3-45d9-4c08-9e3f-c97388d56ba8"
      },
      "source": [
        "data_lm_full.valid"
      ],
      "execution_count": null,
      "outputs": [
        {
          "output_type": "execute_result",
          "data": {
            "text/plain": [
              "TextList (10000 items)\n",
              "/content/data/imdb/unsup/30750_0.txt,/content/data/imdb/unsup/30024_0.txt,/content/data/imdb/train/pos/2944_10.txt,/content/data/imdb/unsup/4680_0.txt,/content/data/imdb/unsup/16856_0.txt\n",
              "Path: /content/data/imdb"
            ]
          },
          "metadata": {
            "tags": []
          },
          "execution_count": 21
        }
      ]
    },
    {
      "cell_type": "markdown",
      "metadata": {
        "id": "UqQpYAL2WpL1"
      },
      "source": [
        "#### the last two steps for preparing the dataset for the neural net."
      ]
    },
    {
      "cell_type": "code",
      "metadata": {
        "colab": {
          "base_uri": "https://localhost:8080/",
          "height": 141
        },
        "id": "guyI7kAVWpL1",
        "outputId": "bbf3e661-c701-49b1-8f2b-42c98b00998b"
      },
      "source": [
        "%%time\n",
        "\n",
        "# throws `BrokenProcessPool' Error sometimes. Keep trying `till it works!\n",
        "count = 0\n",
        "error = True\n",
        "while error:\n",
        "    try: \n",
        "        # the 2nd step (labeling texts) and the 3rd step (batching for language model)\n",
        "        #     the these steps is the bottleneck (takes a long time)\n",
        "        data_lm = (data_lm_full.label_for_lm()           \n",
        "           #We want to make a language model so we label accordingly\n",
        "            .databunch(bs=bs, num_workers=1))\n",
        "        error = False\n",
        "        print(f'failure count is {count}\\n')    \n",
        "    except: # catch *all* exceptions\n",
        "        # accumulate failure count\n",
        "        count = count + 1\n",
        "        print(f'failure count is {count}')"
      ],
      "execution_count": null,
      "outputs": [
        {
          "output_type": "display_data",
          "data": {
            "text/html": [
              ""
            ],
            "text/plain": [
              "<IPython.core.display.HTML object>"
            ]
          },
          "metadata": {
            "tags": []
          }
        },
        {
          "output_type": "stream",
          "text": [
            "/usr/local/lib/python3.7/dist-packages/fastai/core.py:302: VisibleDeprecationWarning: Creating an ndarray from ragged nested sequences (which is a list-or-tuple of lists-or-tuples-or ndarrays with different lengths or shapes) is deprecated. If you meant to do this, you must specify 'dtype=object' when creating the ndarray\n",
            "  return np.array(a, dtype=dtype, **kwargs)\n"
          ],
          "name": "stderr"
        },
        {
          "output_type": "display_data",
          "data": {
            "text/html": [
              ""
            ],
            "text/plain": [
              "<IPython.core.display.HTML object>"
            ]
          },
          "metadata": {
            "tags": []
          }
        },
        {
          "output_type": "stream",
          "text": [
            "failure count is 0\n",
            "\n",
            "CPU times: user 17.3 s, sys: 3.34 s, total: 20.7 s\n",
            "Wall time: 2min 46s\n"
          ],
          "name": "stdout"
        }
      ]
    },
    {
      "cell_type": "code",
      "metadata": {
        "id": "0CVmN0Oobk47"
      },
      "source": [
        "data_lm_full.databunch??\n",
        "# Signature: data_lm_full.databunch(path: Union[pathlib.Path, str]=None, bs: int=64, val_bs: int=None, num_workers: int=2, dl_tfms: Union[Collection[Callable], NoneType]=None, device: torch.device=None, collate_fn: Callable=<function data_collate at 0x7f1593d83200>, no_check: bool=False, **kwargs) -> 'DataBunch'\n",
        "# Source:   \n",
        "#     def databunch(self, path:PathOrStr=None, bs:int=64, val_bs:int=None, num_workers:int=defaults.cpus,\n",
        "#                   dl_tfms:Optional[Collection[Callable]]=None, device:torch.device=None, collate_fn:Callable=data_collate,\n",
        "#                   no_check:bool=False, **kwargs)->'DataBunch':\n",
        "#         \"Create an `DataBunch` from self, `path` will override `self.path`, `kwargs` are passed to `DataBunch.create`.\"\n",
        "#         path = Path(ifnone(path, self.path))\n",
        "#         data = self.x._bunch.create(self.train, self.valid, test_ds=self.test, path=path, bs=bs, val_bs=val_bs,\n",
        "#                                     num_workers=num_workers, dl_tfms=dl_tfms, device=device, collate_fn=collate_fn, no_check=no_check, **kwargs)\n",
        "#         if getattr(self, 'normalize', False):#In case a normalization was serialized\n",
        "#             norm = self.normalize\n",
        "#             data.normalize((norm['mean'], norm['std']), do_x=norm['do_x'], do_y=norm['do_y'])\n",
        "#         data.label_list = self\n",
        "#         return data\n"
      ],
      "execution_count": null,
      "outputs": []
    },
    {
      "cell_type": "markdown",
      "metadata": {
        "id": "YRWxmlyfdVvi"
      },
      "source": [
        ""
      ]
    },
    {
      "cell_type": "code",
      "metadata": {
        "id": "LXyfXqPpcxWY"
      },
      "source": [
        "data_lm_full.x._bunch.create??\n",
        "# Signature: data_lm_full.x._bunch.create(cls, train_ds, valid_ds, test_ds=None, path: Union[pathlib.Path, str]='.', no_check: bool=False, bs=64, val_bs: int=None, num_workers: int=0, device: torch.device=None, collate_fn: Callable=<function data_collate at 0x7f1593d83200>, dl_tfms: Union[Collection[Callable], NoneType]=None, bptt: int=70, backwards: bool=False, **dl_kwargs) -> fastai.basic_data.DataBunch\n",
        "# Source:   \n",
        "#     @classmethod\n",
        "#     def create(cls, train_ds, valid_ds, test_ds=None, path:PathOrStr='.', no_check:bool=False, bs=64, val_bs:int=None,\n",
        "#                num_workers:int=0, device:torch.device=None, collate_fn:Callable=data_collate,\n",
        "#                dl_tfms:Optional[Collection[Callable]]=None, bptt:int=70, backwards:bool=False, **dl_kwargs) -> DataBunch:\n",
        "#         \"Create a `TextDataBunch` in `path` from the `datasets` for language modelling. Passes `**dl_kwargs` on to `DataLoader()`\"\n",
        "#         datasets = cls._init_ds(train_ds, valid_ds, test_ds)\n",
        "#         val_bs = ifnone(val_bs, bs)\n",
        "#         datasets = [LanguageModelPreLoader(ds, shuffle=(i==0), bs=(bs if i==0 else val_bs), bptt=bptt, backwards=backwards)\n",
        "#                     for i,ds in enumerate(datasets)]\n",
        "#         val_bs = bs\n",
        "#         dls = [DataLoader(d, b, shuffle=False, **dl_kwargs) for d,b in zip(datasets, (bs,val_bs,val_bs,val_bs)) if d is not None]\n",
        "#         return cls(*dls, path=path, device=device, dl_tfms=dl_tfms, collate_fn=collate_fn, no_check=no_check)\n",
        "# File:      /usr/local/lib/python3.7/dist-packages/fastai/text/data.py\n",
        "# Type:      method"
      ],
      "execution_count": null,
      "outputs": []
    },
    {
      "cell_type": "markdown",
      "metadata": {
        "id": "alDfFdCPdV-0"
      },
      "source": [
        ""
      ]
    },
    {
      "cell_type": "markdown",
      "metadata": {
        "id": "czg9PLk7eF11"
      },
      "source": [
        ""
      ]
    },
    {
      "cell_type": "code",
      "metadata": {
        "id": "4AdfdPRmbgvb"
      },
      "source": [
        ""
      ],
      "execution_count": null,
      "outputs": []
    },
    {
      "cell_type": "code",
      "metadata": {
        "id": "WFWxKr8jIecE"
      },
      "source": [
        "nn.Embedding??"
      ],
      "execution_count": null,
      "outputs": []
    },
    {
      "cell_type": "code",
      "metadata": {
        "hidden": true,
        "scrolled": true,
        "colab": {
          "base_uri": "https://localhost:8080/"
        },
        "id": "pZnR_hZDWpL1",
        "outputId": "9eec7fff-8c24-4689-ba02-36437042ab1b"
      },
      "source": [
        "len(data_lm.vocab.itos),len(data_lm.train_ds), len(data_lm.valid_ds)"
      ],
      "execution_count": null,
      "outputs": [
        {
          "output_type": "execute_result",
          "data": {
            "text/plain": [
              "(60000, 90000, 10000)"
            ]
          },
          "metadata": {
            "tags": []
          },
          "execution_count": 65
        }
      ]
    },
    {
      "cell_type": "code",
      "metadata": {
        "id": "rbZ99lbBdUcg"
      },
      "source": [
        ""
      ],
      "execution_count": null,
      "outputs": []
    },
    {
      "cell_type": "code",
      "metadata": {
        "hidden": true,
        "colab": {
          "base_uri": "https://localhost:8080/",
          "height": 98
        },
        "id": "ZP_uGJDrWpL1",
        "outputId": "12c95d07-8a1a-42fa-8f96-2fef5083c306"
      },
      "source": [
        "data_lm.show_batch(1)"
      ],
      "execution_count": null,
      "outputs": [
        {
          "output_type": "display_data",
          "data": {
            "text/html": [
              "<table border=\"1\" class=\"dataframe\">\n",
              "  <thead>\n",
              "    <tr style=\"text-align: right;\">\n",
              "      <th>idx</th>\n",
              "      <th>text</th>\n",
              "    </tr>\n",
              "  </thead>\n",
              "  <tbody>\n",
              "    <tr>\n",
              "      <td>0</td>\n",
              "      <td>davis ] is very well conveyed to the audience . i recommend this film to anyone who ever fell for another person and the other side tried to take advantage of him or her . i have read that xxmaj maugham was asked to make a recording of the novel for sale , but when he started to in the studio he began crying and could not finish more than</td>\n",
              "    </tr>\n",
              "  </tbody>\n",
              "</table>"
            ],
            "text/plain": [
              "<IPython.core.display.HTML object>"
            ]
          },
          "metadata": {
            "tags": []
          }
        }
      ]
    },
    {
      "cell_type": "code",
      "metadata": {
        "colab": {
          "base_uri": "https://localhost:8080/"
        },
        "id": "rzwS9TctTsJz",
        "outputId": "74f0d270-954d-4c72-8b92-71ce5a931da9"
      },
      "source": [
        "data_lm.train_ds[0]"
      ],
      "execution_count": null,
      "outputs": [
        {
          "output_type": "execute_result",
          "data": {
            "text/plain": [
              "(Text [  2  19 235  20 ...  17  46 242  10], EmptyLabel 0)"
            ]
          },
          "metadata": {
            "tags": []
          },
          "execution_count": 10
        }
      ]
    },
    {
      "cell_type": "code",
      "metadata": {
        "colab": {
          "base_uri": "https://localhost:8080/"
        },
        "id": "FVNgTWG8eWbp",
        "outputId": "bd8a3108-a4fb-4e9d-c33b-6e8b76c64642"
      },
      "source": [
        "x,y = data_lm.one_batch(DatasetType.Train)\n",
        "x,y"
      ],
      "execution_count": null,
      "outputs": [
        {
          "output_type": "execute_result",
          "data": {
            "text/plain": [
              "(tensor([[   13,   192,   434,  ..., 15054,     5,   184],\n",
              "         [    9,  8744,    21,  ...,  8838,    11,    53],\n",
              "         [32525,    37,   277,  ...,   505,    11,   606],\n",
              "         ...,\n",
              "         [   44,   859,   708,  ...,  2100,    28,     5],\n",
              "         [20128,    11, 23526,  ...,   552, 11017,    11],\n",
              "         [  120,   335,    17,  ...,  7371,    35,     5]]),\n",
              " tensor([[  192,   434,    12,  ...,     5,   184,     5],\n",
              "         [ 8744,    21,    26,  ...,    11,    53,   480],\n",
              "         [   37,   277,    48,  ...,    11,   606,    13],\n",
              "         ...,\n",
              "         [  859,   708,    15,  ...,    28,     5, 17459],\n",
              "         [   11, 23526,  5333,  ..., 11017,    11,  2515],\n",
              "         [  335,    17,     0,  ...,    35,     5,     9]]))"
            ]
          },
          "metadata": {
            "tags": []
          },
          "execution_count": 11
        }
      ]
    },
    {
      "cell_type": "markdown",
      "metadata": {
        "hidden": true,
        "id": "iqanZXA7WpL1"
      },
      "source": [
        "#### Save the `databunch` for next time."
      ]
    },
    {
      "cell_type": "code",
      "metadata": {
        "id": "zCEa6B60Xmjk"
      },
      "source": [
        "data_lm.save??\n"
      ],
      "execution_count": null,
      "outputs": []
    },
    {
      "cell_type": "code",
      "metadata": {
        "colab": {
          "base_uri": "https://localhost:8080/"
        },
        "id": "QjC_7uscX-1z",
        "outputId": "9d3c8941-5f4f-4dc5-8da0-209e4997ea2f"
      },
      "source": [
        "data_lm.path"
      ],
      "execution_count": null,
      "outputs": [
        {
          "output_type": "execute_result",
          "data": {
            "text/plain": [
              "PosixPath('/content/data/imdb')"
            ]
          },
          "metadata": {
            "tags": []
          },
          "execution_count": 12
        }
      ]
    },
    {
      "cell_type": "code",
      "metadata": {
        "id": "KwMIVTMDWpL2"
      },
      "source": [
        "data_lm.save('lm_databunch')"
      ],
      "execution_count": null,
      "outputs": []
    },
    {
      "cell_type": "markdown",
      "metadata": {
        "id": "X9FqMd43WpL2"
      },
      "source": [
        "#### Load the saved data"
      ]
    },
    {
      "cell_type": "code",
      "metadata": {
        "id": "X5Rg6T7NWpL2"
      },
      "source": [
        "data_lm = load_data(path, 'lm_databunch', bs=bs)"
      ],
      "execution_count": null,
      "outputs": []
    },
    {
      "cell_type": "code",
      "metadata": {
        "id": "jeZfA5YgVgo0"
      },
      "source": [
        "AWD_LSTM??"
      ],
      "execution_count": null,
      "outputs": []
    },
    {
      "cell_type": "code",
      "metadata": {
        "id": "rQr2V9H_Ypdv"
      },
      "source": [
        "language_model_learner??"
      ],
      "execution_count": null,
      "outputs": []
    },
    {
      "cell_type": "code",
      "metadata": {
        "id": "zIwsT4ytZpVu"
      },
      "source": [
        "LanguageLearner??\n",
        "# Init signature: LanguageLearner(*args, **kwargs)\n",
        "# Source:        \n",
        "# class LanguageLearner(RNNLearner):\n",
        "#     \"Subclass of RNNLearner for predictions.\"\n",
        "\n",
        "#     def predict(self, text:str, n_words:int=1, no_unk:bool=True, temperature:float=1., min_p:float=None, sep:str=' ',\n",
        "#                 decoder=decode_spec_tokens):\n",
        "#         \"Return `text` and the `n_words` that come after\"\n",
        "#         self.model.reset()\n",
        "#         xb,yb = self.data.one_item(text)\n",
        "#         new_idx = []\n",
        "#         for _ in range(n_words): #progress_bar(range(n_words), leave=False):\n",
        "#             res = self.pred_batch(batch=(xb,yb))[0][-1]\n",
        "#             #if len(new_idx) == 0: self.model[0].select_hidden([0])\n",
        "#             if no_unk: res[self.data.vocab.stoi[UNK]] = 0.\n",
        "#             if min_p is not None:\n",
        "#                 if (res >= min_p).float().sum() == 0:\n",
        "#                     warn(f\"There is no item with probability >= {min_p}, try a lower value.\")\n",
        "#                 else: res[res < min_p] = 0.\n",
        "#             if temperature != 1.: res.pow_(1 / temperature)\n",
        "#             idx = torch.multinomial(res, 1).item()\n",
        "#             new_idx.append(idx)\n",
        "#             xb = xb.new_tensor([idx])[None]\n",
        "#         return text + sep + sep.join(decoder(self.data.vocab.textify(new_idx, sep=None)))\n",
        "\n",
        "#     def beam_search(self, text:str, n_words:int, no_unk:bool=True, top_k:int=10, beam_sz:int=1000, temperature:float=1.,\n",
        "#                     sep:str=' ', decoder=decode_spec_tokens):\n",
        "#         \"Return the `n_words` that come after `text` using beam search.\"\n",
        "#         self.model.reset()\n",
        "#         self.model.eval()\n",
        "#         xb, yb = self.data.one_item(text)\n",
        "#         nodes = None\n",
        "#         nodes = xb.clone()\n",
        "#         scores = xb.new_zeros(1).float()\n",
        "#         with torch.no_grad():\n",
        "#             for k in progress_bar(range(n_words), leave=False):\n",
        "#                 out = F.log_softmax(self.model(xb)[0][:,-1], dim=-1)\n",
        "#                 if no_unk: out[:,self.data.vocab.stoi[UNK]] = -float('Inf')\n",
        "#                 values, indices = out.topk(top_k, dim=-1)\n",
        "#                 scores = (-values + scores[:,None]).view(-1)\n",
        "#                 indices_idx = torch.arange(0,nodes.size(0))[:,None].expand(nodes.size(0), top_k).contiguous().view(-1)\n",
        "#                 sort_idx = scores.argsort()[:beam_sz]\n",
        "#                 scores = scores[sort_idx]\n",
        "#                 nodes = torch.cat([nodes[:,None].expand(nodes.size(0),top_k,nodes.size(1)),\n",
        "#                                 indices[:,:,None].expand(nodes.size(0),top_k,1),], dim=2)\n",
        "#                 nodes = nodes.view(-1, nodes.size(2))[sort_idx]\n",
        "#                 self.model[0].select_hidden(indices_idx[sort_idx])\n",
        "#                 xb = nodes[:,-1][:,None]\n",
        "#         if temperature != 1.: scores.div_(temperature)\n",
        "#         node_idx = torch.multinomial(torch.exp(-scores), 1).item()\n",
        "#         return text + sep + sep.join(decoder(self.data.vocab.textify([i.item() for i in nodes[node_idx][1:] ], sep=None)))\n",
        "\n",
        "#     def show_results(self, ds_type=DatasetType.Valid, rows:int=5, max_len:int=20):\n",
        "#         from IPython.display import display, HTML\n",
        "#         \"Show `rows` result of predictions on `ds_type` dataset.\"\n",
        "#         ds = self.dl(ds_type).dataset\n",
        "#         x,y = self.data.one_batch(ds_type, detach=False, denorm=False)\n",
        "#         preds = self.pred_batch(batch=(x,y))\n",
        "#         y = y.view(*x.size())\n",
        "#         z = preds.view(*x.size(),-1).argmax(dim=2)\n",
        "#         xs = [ds.x.reconstruct(grab_idx(x, i)) for i in range(rows)]\n",
        "#         ys = [ds.x.reconstruct(grab_idx(y, i)) for i in range(rows)]\n",
        "#         zs = [ds.x.reconstruct(grab_idx(z, i)) for i in range(rows)]\n",
        "#         items,names = [],['text', 'target', 'pred']\n",
        "#         for i, (x,y,z) in enumerate(zip(xs,ys,zs)):\n",
        "#             txt_x = ' '.join(x.text.split(' ')[:max_len])\n",
        "#             txt_y = ' '.join(y.text.split(' ')[max_len-1:2*max_len-1])\n",
        "#             txt_z = ' '.join(z.text.split(' ')[max_len-1:2*max_len-1])\n",
        "#             items.append([txt_x, txt_y, txt_z])\n",
        "#         items = np.array(items)\n",
        "#         df = pd.DataFrame({n:items[:,i] for i,n in enumerate(names)}, columns=names)\n",
        "#         with pd.option_context('display.max_colwidth', pd_max_colwidth()):\n",
        "#             display(HTML(df.to_html(index=False)))\n",
        "# File:           /usr/local/lib/python3.7/dist-packages/fastai/text/learner.py\n",
        "# Type:           type"
      ],
      "execution_count": null,
      "outputs": []
    },
    {
      "cell_type": "code",
      "metadata": {
        "id": "XOLc0goSvNhJ"
      },
      "source": [
        "get_language_model??"
      ],
      "execution_count": null,
      "outputs": []
    },
    {
      "cell_type": "code",
      "metadata": {
        "id": "F5IEOAkzXBet"
      },
      "source": [
        ""
      ],
      "execution_count": null,
      "outputs": []
    },
    {
      "cell_type": "markdown",
      "metadata": {
        "id": "ZMg-vzHNWpL2"
      },
      "source": [
        "### 2B. The **Transfer Learning** step.\n",
        "#### This is where the magic happens!\n",
        "#### The `AWD_LSTM` object contains the pretrained weights and the neural net architecture of the `wikitext-103` language model. These will be downloaded the first time you execute the following line, and stored in `~/.fastai/models/` (or elsewhere if you specified different paths in your config file). \n",
        "\n",
        "We import these into the `language_model_learner` object for our `IMDb` language model as follows:"
      ]
    },
    {
      "cell_type": "code",
      "metadata": {
        "scrolled": true,
        "colab": {
          "base_uri": "https://localhost:8080/",
          "height": 35
        },
        "id": "uqgzBH9UWpL2",
        "outputId": "1d10ab68-42f3-4360-db27-84560eb7601c"
      },
      "source": [
        "learn_lm = language_model_learner(data_lm, AWD_LSTM, drop_mult=0.3) #pretained=true"
      ],
      "execution_count": null,
      "outputs": [
        {
          "output_type": "stream",
          "text": [
            "Downloading https://s3.amazonaws.com/fast-ai-modelzoo/wt103-fwd.tgz\n"
          ],
          "name": "stdout"
        },
        {
          "output_type": "display_data",
          "data": {
            "text/html": [
              ""
            ],
            "text/plain": [
              "<IPython.core.display.HTML object>"
            ]
          },
          "metadata": {
            "tags": []
          }
        }
      ]
    },
    {
      "cell_type": "code",
      "metadata": {
        "colab": {
          "base_uri": "https://localhost:8080/"
        },
        "id": "HtZlF7vMagJp",
        "outputId": "1c9423bb-3e14-4787-eca3-900c7ebcd68f"
      },
      "source": [
        "x,y = learn_lm .data.one_batch(DatasetType.Train)\n",
        "x,y"
      ],
      "execution_count": null,
      "outputs": [
        {
          "output_type": "execute_result",
          "data": {
            "text/plain": [
              "(tensor([[1699, 3908,   16,  ..., 1452,   70,   94],\n",
              "         [4352,  113, 8274,  ...,    9, 4043,   14],\n",
              "         [  22,   16,   78,  ..., 3633,   48,    5],\n",
              "         ...,\n",
              "         [ 148, 3422,   10,  ...,   11, 2087,   15],\n",
              "         [  38, 7145,   10,  ...,  115,   13,  192],\n",
              "         [  52,  647,   12,  ..., 4168,   35,  265]]),\n",
              " tensor([[ 3908,    16,    71,  ...,    70,    94,    13],\n",
              "         [  113,  8274,    10,  ...,  4043,    14,     9],\n",
              "         [   16,    78,   911,  ...,    48,     5, 32525],\n",
              "         ...,\n",
              "         [ 3422,    10,     5,  ...,  2087,    15,    44],\n",
              "         [ 7145,    10,     5,  ...,    13,   192, 20128],\n",
              "         [  647,    12,     9,  ...,    35,   265,   120]]))"
            ]
          },
          "metadata": {
            "tags": []
          },
          "execution_count": 16
        }
      ]
    },
    {
      "cell_type": "code",
      "metadata": {
        "colab": {
          "base_uri": "https://localhost:8080/"
        },
        "id": "i8VDzJOca-3M",
        "outputId": "eacc685a-f79d-483a-8303-80a7e9ff72e5"
      },
      "source": [
        "len(x)"
      ],
      "execution_count": null,
      "outputs": [
        {
          "output_type": "execute_result",
          "data": {
            "text/plain": [
              "48"
            ]
          },
          "metadata": {
            "tags": []
          },
          "execution_count": 54
        }
      ]
    },
    {
      "cell_type": "code",
      "metadata": {
        "colab": {
          "base_uri": "https://localhost:8080/"
        },
        "id": "2Gd1LKDFbEle",
        "outputId": "cce60d26-1929-4540-be14-ad859b71b9ea"
      },
      "source": [
        "len(x[0])"
      ],
      "execution_count": null,
      "outputs": [
        {
          "output_type": "execute_result",
          "data": {
            "text/plain": [
              "70"
            ]
          },
          "metadata": {
            "tags": []
          },
          "execution_count": 55
        }
      ]
    },
    {
      "cell_type": "markdown",
      "metadata": {
        "id": "YbfuhfDnWpL2"
      },
      "source": [
        "#### Get the `IMDb` language model `vocabulary`"
      ]
    },
    {
      "cell_type": "code",
      "metadata": {
        "id": "PYHrduZUWpL2"
      },
      "source": [
        "vocab = data_lm.vocab"
      ],
      "execution_count": null,
      "outputs": []
    },
    {
      "cell_type": "code",
      "metadata": {
        "id": "V3zwKZhMWpL2",
        "outputId": "b28c7e50-ff9b-46bf-e6d0-ad07a5d4efa6"
      },
      "source": [
        "vocab.stoi[\"stingray\"]"
      ],
      "execution_count": null,
      "outputs": [
        {
          "output_type": "execute_result",
          "data": {
            "text/plain": [
              "35639"
            ]
          },
          "metadata": {
            "tags": []
          },
          "execution_count": 21
        }
      ]
    },
    {
      "cell_type": "code",
      "metadata": {
        "id": "rjAYNrb1WpL3",
        "outputId": "045c370a-7144-4f2a-bbc8-14b44aeb67a9"
      },
      "source": [
        "vocab.itos[vocab.stoi[\"stingray\"]]"
      ],
      "execution_count": null,
      "outputs": [
        {
          "output_type": "execute_result",
          "data": {
            "text/plain": [
              "'stingray'"
            ]
          },
          "metadata": {
            "tags": []
          },
          "execution_count": 22
        }
      ]
    },
    {
      "cell_type": "code",
      "metadata": {
        "id": "3JpPNNMuWpL3",
        "outputId": "c267c747-f1ed-4218-fd95-a948e4fdfc8e"
      },
      "source": [
        "vocab.itos[vocab.stoi[\"mobula\"]]"
      ],
      "execution_count": null,
      "outputs": [
        {
          "output_type": "execute_result",
          "data": {
            "text/plain": [
              "'xxunk'"
            ]
          },
          "metadata": {
            "tags": []
          },
          "execution_count": 23
        }
      ]
    },
    {
      "cell_type": "code",
      "metadata": {
        "id": "OCyOtSDqWpL3"
      },
      "source": [
        "awd_lstm = learn_lm.model[0]"
      ],
      "execution_count": null,
      "outputs": []
    },
    {
      "cell_type": "markdown",
      "metadata": {
        "id": "aLdnjs6sWpL3"
      },
      "source": [
        "#### Get the `IMDb` language model `encoder`. Recall that the `encoder` translates tokens into numerical vectors in the space defined by the `IMDb` vocabulary."
      ]
    },
    {
      "cell_type": "code",
      "metadata": {
        "id": "CQ91uJ5PWoJB"
      },
      "source": [
        "AWD_LSTM??"
      ],
      "execution_count": null,
      "outputs": []
    },
    {
      "cell_type": "code",
      "metadata": {
        "id": "avhNGHk-WFei"
      },
      "source": [
        "# class AWD_LSTM(Module):\n",
        "#     \"AWD-LSTM/QRNN inspired by https://arxiv.org/abs/1708.02182.\"\n",
        "\n",
        "#     initrange=0.1\n",
        "\n",
        "#     def __init__(self, vocab_sz:int, emb_sz:int, n_hid:int, n_layers:int, pad_token:int=1, hidden_p:float=0.2,\n",
        "#                  input_p:float=0.6, embed_p:float=0.1, weight_p:float=0.5, qrnn:bool=False, bidir:bool=False):\n",
        "#         self.bs,self.qrnn,self.emb_sz,self.n_hid,self.n_layers = 1,qrnn,emb_sz,n_hid,n_layers\n",
        "#         self.n_dir = 2 if bidir else 1\n",
        "\n",
        "\n",
        "#         self.encoder = nn.Embedding(vocab_sz, emb_sz, padding_idx=pad_token)\n",
        "\n",
        "\n",
        "#         self.encoder_dp = EmbeddingDropout(self.encoder, embed_p)\n",
        "#         if self.qrnn:\n",
        "#             #Using QRNN requires an installation of cuda\n",
        "#             from .qrnn import QRNN\n",
        "#             self.rnns = [QRNN(emb_sz if l == 0 else n_hid, (n_hid if l != n_layers - 1 else emb_sz)//self.n_dir, 1,\n",
        "#                               save_prev_x=True, zoneout=0, window=2 if l == 0 else 1, output_gate=True, bidirectional=bidir) \n",
        "#                          for l in range(n_layers)]\n",
        "#             for rnn in self.rnns: \n",
        "#                 rnn.layers[0].linear = WeightDropout(rnn.layers[0].linear, weight_p, layer_names=['weight'])\n",
        "#         else:\n",
        "#             self.rnns = [nn.LSTM(emb_sz if l == 0 else n_hid, (n_hid if l != n_layers - 1 else emb_sz)//self.n_dir, 1,\n",
        "#                                  batch_first=True, bidirectional=bidir) for l in range(n_layers)]\n",
        "#             self.rnns = [WeightDropout(rnn, weight_p) for rnn in self.rnns]\n",
        "#         self.rnns = nn.ModuleList(self.rnns)\n",
        "#         self.encoder.weight.data.uniform_(-self.initrange, self.initrange)\n",
        "#         if self.encoder.padding_idx is not None:\n",
        "#                 self.encoder.weight.data[self.encoder.padding_idx] = 0.\n",
        "#         self.input_dp = RNNDropout(input_p)\n",
        "#         self.hidden_dps = nn.ModuleList([RNNDropout(hidden_p) for l in range(n_layers)])\n",
        "\n",
        "#     def forward(self, input:Tensor, from_embeddings:bool=False)->Tuple[List[Tensor],List[Tensor]]:\n",
        "#         if from_embeddings: bs,sl,es = input.size()\n",
        "#         else: bs,sl = input.size()\n",
        "#         if bs!=self.bs:\n",
        "#             self.bs=bs\n",
        "#             self.reset()\n",
        "#         raw_output = self.input_dp(input if from_embeddings else self.encoder_dp(input))\n",
        "#         new_hidden,raw_outputs,outputs = [],[],[]\n",
        "#         for l, (rnn,hid_dp) in enumerate(zip(self.rnns, self.hidden_dps)):\n",
        "#             raw_output, new_h = rnn(raw_output, self.hidden[l])\n",
        "#             new_hidden.append(new_h)\n",
        "#             raw_outputs.append(raw_output)\n",
        "#             if l != self.n_layers - 1: raw_output = hid_dp(raw_output)\n",
        "#             outputs.append(raw_output)\n",
        "#         self.hidden = to_detach(new_hidden, cpu=False)\n",
        "#         return raw_outputs, outputs\n",
        "        "
      ],
      "execution_count": null,
      "outputs": []
    },
    {
      "cell_type": "code",
      "metadata": {
        "colab": {
          "base_uri": "https://localhost:8080/"
        },
        "id": "s4eFVeKgW54W",
        "outputId": "0f299d67-9b43-42d0-815a-c62f7a7ea58a"
      },
      "source": [
        "#awd_lstm = learn_lm.model[0]\n",
        "awd_lstm.encoder"
      ],
      "execution_count": null,
      "outputs": [
        {
          "output_type": "execute_result",
          "data": {
            "text/plain": [
              "Embedding(60000, 400, padding_idx=1)"
            ]
          },
          "metadata": {
            "tags": []
          },
          "execution_count": 19
        }
      ]
    },
    {
      "cell_type": "code",
      "metadata": {
        "id": "K3RQkr5GWpL3"
      },
      "source": [
        "enc = learn_lm.model[0].encoder"
      ],
      "execution_count": null,
      "outputs": []
    },
    {
      "cell_type": "code",
      "metadata": {
        "colab": {
          "base_uri": "https://localhost:8080/"
        },
        "id": "a7NoZRdtWpL3",
        "outputId": "4093f40a-d667-4703-e700-c3c6af15cafa"
      },
      "source": [
        "enc.weight.size()  #Encoder (= Embedder) weight matrix"
      ],
      "execution_count": null,
      "outputs": [
        {
          "output_type": "execute_result",
          "data": {
            "text/plain": [
              "torch.Size([60000, 400])"
            ]
          },
          "metadata": {
            "tags": []
          },
          "execution_count": 21
        }
      ]
    },
    {
      "cell_type": "code",
      "metadata": {
        "colab": {
          "base_uri": "https://localhost:8080/"
        },
        "id": "GDckEzQafisk",
        "outputId": "d8238e2f-a34c-4983-a1ee-0481d21e0b50"
      },
      "source": [
        "enc.weight.shape"
      ],
      "execution_count": null,
      "outputs": [
        {
          "output_type": "execute_result",
          "data": {
            "text/plain": [
              "torch.Size([60000, 400])"
            ]
          },
          "metadata": {
            "tags": []
          },
          "execution_count": 22
        }
      ]
    },
    {
      "cell_type": "markdown",
      "metadata": {
        "heading_collapsed": true,
        "id": "QVKgpOaMWpL3"
      },
      "source": [
        "#### Difference in vocabulary between IMDB and Wikipedia language models"
      ]
    },
    {
      "cell_type": "markdown",
      "metadata": {
        "hidden": true,
        "id": "YRHuxr4zWpL4"
      },
      "source": [
        "We are going to load `wiki_itos` (the index-to-string list) from the `wikitext 103` language model.  We will compare the vocabularies of `wikitext-103` and `IMDB`.  It is to be expected that the two sets have some different vocabulary words, and that is no problem for transfer learning!"
      ]
    },
    {
      "cell_type": "code",
      "metadata": {
        "id": "v2JmI8aUqAXd"
      },
      "source": [
        "Config??"
      ],
      "execution_count": null,
      "outputs": []
    },
    {
      "cell_type": "code",
      "metadata": {
        "colab": {
          "base_uri": "https://localhost:8080/"
        },
        "id": "tFRHsaX5p6ml",
        "outputId": "e3c68058-2d87-4772-de59-a20e1978b302"
      },
      "source": [
        "Config()"
      ],
      "execution_count": null,
      "outputs": [
        {
          "output_type": "execute_result",
          "data": {
            "text/plain": [
              "<fastai.datasets.Config at 0x7f1e8f42a490>"
            ]
          },
          "metadata": {
            "tags": []
          },
          "execution_count": 24
        }
      ]
    },
    {
      "cell_type": "code",
      "metadata": {
        "colab": {
          "base_uri": "https://localhost:8080/"
        },
        "id": "t2X3bZphpuuf",
        "outputId": "39960ec7-5b5d-4399-af2e-119972146b40"
      },
      "source": [
        "Config().model_path()"
      ],
      "execution_count": null,
      "outputs": [
        {
          "output_type": "execute_result",
          "data": {
            "text/plain": [
              "PosixPath('/root/.fastai/models')"
            ]
          },
          "metadata": {
            "tags": []
          },
          "execution_count": 23
        }
      ]
    },
    {
      "cell_type": "code",
      "metadata": {
        "id": "hkwPaRYiWpL4"
      },
      "source": [
        "#wiki_itos = pickle.load(open(Config().model_path()/'wt103-1/itos_wt103.pkl', 'rb'))\n",
        "wiki_itos = pickle.load(open(Config().model_path()/'wt103-fwd/itos_wt103.pkl', 'rb'))"
      ],
      "execution_count": null,
      "outputs": []
    },
    {
      "cell_type": "code",
      "metadata": {
        "colab": {
          "base_uri": "https://localhost:8080/"
        },
        "id": "GYoP7Sh1hVAS",
        "outputId": "efec2ae1-71a3-4609-8bec-d6bf207e12dd"
      },
      "source": [
        "len(wiki_itos ) # the vocal size of the wikitext 103 language model"
      ],
      "execution_count": null,
      "outputs": [
        {
          "output_type": "execute_result",
          "data": {
            "text/plain": [
              "60000"
            ]
          },
          "metadata": {
            "tags": []
          },
          "execution_count": 79
        }
      ]
    },
    {
      "cell_type": "code",
      "metadata": {
        "id": "genuHUvvmsZI",
        "colab": {
          "base_uri": "https://localhost:8080/"
        },
        "outputId": "a04060b0-3ff4-44a6-9db6-b115c54ab685"
      },
      "source": [
        "len(data_lm.vocab.itos)"
      ],
      "execution_count": null,
      "outputs": [
        {
          "output_type": "execute_result",
          "data": {
            "text/plain": [
              "60000"
            ]
          },
          "metadata": {
            "tags": []
          },
          "execution_count": 81
        }
      ]
    },
    {
      "cell_type": "code",
      "metadata": {
        "colab": {
          "base_uri": "https://localhost:8080/"
        },
        "id": "fqvL20HMfvHc",
        "outputId": "1c484ea0-723d-4511-c29c-bce5d9ae0198"
      },
      "source": [
        "Config().model_path()"
      ],
      "execution_count": null,
      "outputs": [
        {
          "output_type": "execute_result",
          "data": {
            "text/plain": [
              "PosixPath('/root/.fastai/models')"
            ]
          },
          "metadata": {
            "tags": []
          },
          "execution_count": 73
        }
      ]
    },
    {
      "cell_type": "code",
      "metadata": {
        "scrolled": true,
        "colab": {
          "base_uri": "https://localhost:8080/"
        },
        "id": "oSk_hX3EWpL4",
        "outputId": "1fbae475-6d93-4d9f-8b11-216734d2a053"
      },
      "source": [
        "wiki_itos[:10]"
      ],
      "execution_count": null,
      "outputs": [
        {
          "output_type": "execute_result",
          "data": {
            "text/plain": [
              "['xxunk',\n",
              " 'xxpad',\n",
              " 'xxbos',\n",
              " 'xxeos',\n",
              " 'xxfld',\n",
              " 'xxmaj',\n",
              " 'xxup',\n",
              " 'xxrep',\n",
              " 'xxwrep',\n",
              " 'the']"
            ]
          },
          "metadata": {
            "tags": []
          },
          "execution_count": 74
        }
      ]
    },
    {
      "cell_type": "code",
      "metadata": {
        "hidden": true,
        "colab": {
          "base_uri": "https://localhost:8080/"
        },
        "id": "01rnPE3DWpL4",
        "outputId": "aa2f8195-1c21-4049-bdd2-4d2e1c8f2733"
      },
      "source": [
        "len(wiki_itos)"
      ],
      "execution_count": null,
      "outputs": [
        {
          "output_type": "execute_result",
          "data": {
            "text/plain": [
              "60000"
            ]
          },
          "metadata": {
            "tags": []
          },
          "execution_count": 75
        }
      ]
    },
    {
      "cell_type": "code",
      "metadata": {
        "hidden": true,
        "id": "qwCh-lXoWpL4",
        "outputId": "0a790bcb-34d7-44b2-8882-b124026f3e37"
      },
      "source": [
        "len(vocab.itos)"
      ],
      "execution_count": null,
      "outputs": [
        {
          "output_type": "execute_result",
          "data": {
            "text/plain": [
              "60000"
            ]
          },
          "metadata": {
            "tags": []
          },
          "execution_count": 30
        }
      ]
    },
    {
      "cell_type": "code",
      "metadata": {
        "hidden": true,
        "id": "fR58kCNRWpL4"
      },
      "source": [
        "i, unks = 0, []\n",
        "while len(unks) < 50:\n",
        "    if data_lm.vocab.itos[i] not in wiki_itos: unks.append((i,data_lm.vocab.itos[i]))\n",
        "    i += 1"
      ],
      "execution_count": null,
      "outputs": []
    },
    {
      "cell_type": "code",
      "metadata": {
        "id": "bs_sBmo7n5JD"
      },
      "source": [
        "i, unks = 0, []\n",
        "while i< len(data_lm.vocab.itos):\n",
        "    if data_lm.vocab.itos[i] not in wiki_itos: unks.append((i,data_lm.vocab.itos[i]))\n",
        "    i += 1"
      ],
      "execution_count": null,
      "outputs": []
    },
    {
      "cell_type": "code",
      "metadata": {
        "colab": {
          "base_uri": "https://localhost:8080/"
        },
        "id": "ztMWxk1agv-B",
        "outputId": "ebc74346-d9ad-43f1-d32a-4164b0c1c2ae"
      },
      "source": [
        "len(unks)"
      ],
      "execution_count": null,
      "outputs": [
        {
          "output_type": "execute_result",
          "data": {
            "text/plain": [
              "24218"
            ]
          },
          "metadata": {
            "tags": []
          },
          "execution_count": 28
        }
      ]
    },
    {
      "cell_type": "code",
      "metadata": {
        "colab": {
          "base_uri": "https://localhost:8080/"
        },
        "id": "qfFbYBY-gozK",
        "outputId": "dee18204-1ab0-4e7b-8cc5-e58ae5869a97"
      },
      "source": [
        "unks[24000:24218]"
      ],
      "execution_count": null,
      "outputs": [
        {
          "output_type": "execute_result",
          "data": {
            "text/plain": [
              "[(59710, '5yrs'),\n",
              " (59711, 'expeditiously'),\n",
              " (59713, 'acp'),\n",
              " (59714, 'egalitarianism'),\n",
              " (59715, 'meritocracy'),\n",
              " (59716, 'carachters'),\n",
              " (59717, 'procures'),\n",
              " (59718, 'obtrusively'),\n",
              " (59719, 'gandhiji'),\n",
              " (59720, 'ch4'),\n",
              " (59722, 'inexpressible'),\n",
              " (59723, 'mopeds'),\n",
              " (59726, 'technocrats'),\n",
              " (59727, 'hollywod'),\n",
              " (59728, 'clacking'),\n",
              " (59729, 'televise'),\n",
              " (59730, 'stepdaughters'),\n",
              " (59731, 'zizola'),\n",
              " (59732, 'mab'),\n",
              " (59733, 'sharyn'),\n",
              " (59734, 'stargazing'),\n",
              " (59735, 'dandyish'),\n",
              " (59736, 'post-911'),\n",
              " (59737, 'shags'),\n",
              " (59738, 'unobservant'),\n",
              " (59740, 'nogales'),\n",
              " (59741, 'drosselmeyer'),\n",
              " (59742, 'baryshnikov'),\n",
              " (59743, 'khala'),\n",
              " (59744, 'athletically'),\n",
              " (59745, 'koz'),\n",
              " (59748, 'morgues'),\n",
              " (59749, 'betuel'),\n",
              " (59750, 'copola'),\n",
              " (59751, 'bolivians'),\n",
              " (59752, 'languor'),\n",
              " (59753, 'flds'),\n",
              " (59754, 'lasciviously'),\n",
              " (59755, 'unglamourous'),\n",
              " (59759, 'pantsuit'),\n",
              " (59762, 'anette'),\n",
              " (59763, 'replicators'),\n",
              " (59765, '1.it'),\n",
              " (59766, 'vivaah'),\n",
              " (59767, 'backwoodsman'),\n",
              " (59768, 'maguires'),\n",
              " (59769, 'antipodes'),\n",
              " (59770, 'dingman'),\n",
              " (59771, 'unaffecting'),\n",
              " (59773, 'ragneks'),\n",
              " (59774, 'alahani'),\n",
              " (59775, 'signorelli'),\n",
              " (59776, 'massachusettes'),\n",
              " (59779, 'joesph'),\n",
              " (59780, 'gelling'),\n",
              " (59781, 'realisations'),\n",
              " (59782, 'tastier'),\n",
              " (59783, 'zameen'),\n",
              " (59784, 'aan'),\n",
              " (59785, 'phool'),\n",
              " (59786, 'daag'),\n",
              " (59787, 'manzil'),\n",
              " (59788, 'pulsates'),\n",
              " (59790, 'disavow'),\n",
              " (59791, 'inescourt'),\n",
              " (59792, 'scottland'),\n",
              " (59793, 'profligacy'),\n",
              " (59794, 'bandekar'),\n",
              " (59795, 'o_o'),\n",
              " (59796, 'lunkheads'),\n",
              " (59797, 'kebab'),\n",
              " (59798, 'tricksters'),\n",
              " (59801, 'persuasions'),\n",
              " (59802, 'freudians'),\n",
              " (59804, 'bhave'),\n",
              " (59805, 'kidmans'),\n",
              " (59806, 'money-'),\n",
              " (59807, 'couleur'),\n",
              " (59808, 'spazzy'),\n",
              " (59809, 'suicune'),\n",
              " (59810, 'prolix'),\n",
              " (59811, 'repenting'),\n",
              " (59812, 'portabello'),\n",
              " (59813, 'hankers'),\n",
              " (59815, 'throwaways'),\n",
              " (59817, 'padget'),\n",
              " (59818, 'tipp'),\n",
              " (59819, 'jetee'),\n",
              " (59821, 'kikuno'),\n",
              " (59822, 'choy'),\n",
              " (59823, 'percolating'),\n",
              " (59825, 'hahahah'),\n",
              " (59826, 'rintaro'),\n",
              " (59828, 'katsuhiro'),\n",
              " (59830, '-r'),\n",
              " (59832, 'ites'),\n",
              " (59833, 'js'),\n",
              " (59834, 'follet'),\n",
              " (59837, '12-minute'),\n",
              " (59838, 'gestating'),\n",
              " (59839, 'tosha'),\n",
              " (59840, 'etude'),\n",
              " (59841, 'horrible-'),\n",
              " (59842, 'zemen'),\n",
              " (59843, 'shows-'),\n",
              " (59845, 'wimpole'),\n",
              " (59846, 'voguing'),\n",
              " (59847, 'grandaddy'),\n",
              " (59848, 'viewing-'),\n",
              " (59849, 'probaly'),\n",
              " (59851, 'e.t.c'),\n",
              " (59852, 'lage'),\n",
              " (59853, 'skala'),\n",
              " (59854, 'juvie'),\n",
              " (59855, 'firebug'),\n",
              " (59857, 'goosebump'),\n",
              " (59859, 'physco'),\n",
              " (59860, 'vances'),\n",
              " (59861, 'misrepresent'),\n",
              " (59863, 'dollys'),\n",
              " (59864, 'saotome'),\n",
              " (59865, 'year´s'),\n",
              " (59866, 'particuarly'),\n",
              " (59869, 'bristling'),\n",
              " (59871, 'immorally'),\n",
              " (59873, 'similitude'),\n",
              " (59874, 'mid-1980'),\n",
              " (59875, 'cuppa'),\n",
              " (59876, 'thoes'),\n",
              " (59877, '400.00'),\n",
              " (59878, 'prepped'),\n",
              " (59879, 'unreasoning'),\n",
              " (59880, 'grandee'),\n",
              " (59881, 'broiling'),\n",
              " (59882, 'tyrannous'),\n",
              " (59883, '30-odd'),\n",
              " (59885, 'namak'),\n",
              " (59886, 'halal'),\n",
              " (59887, 'ranjeet'),\n",
              " (59888, 'appreciators'),\n",
              " (59889, 'demonically'),\n",
              " (59892, 'attention-'),\n",
              " (59893, 'kf'),\n",
              " (59895, 'contretemps'),\n",
              " (59897, 'hgtv'),\n",
              " (59899, 'keeped'),\n",
              " (59900, 'shovelling'),\n",
              " (59901, 'counterman'),\n",
              " (59902, 'plumped'),\n",
              " (59904, 'murderball'),\n",
              " (59905, 'porsches'),\n",
              " (59906, 'escargot'),\n",
              " (59909, '40-somethings'),\n",
              " (59910, 'hubley'),\n",
              " (59911, 'itallian'),\n",
              " (59912, 'cbn'),\n",
              " (59914, 'jeanson'),\n",
              " (59915, 'lollabrigida'),\n",
              " (59916, 'dingoes'),\n",
              " (59918, 'malfeasance'),\n",
              " (59919, 'endeth'),\n",
              " (59920, 'saturates'),\n",
              " (59921, 'bide'),\n",
              " (59923, 'bowe'),\n",
              " (59924, 'reawaken'),\n",
              " (59925, 'chorines'),\n",
              " (59926, 'skillet'),\n",
              " (59927, 'burrs'),\n",
              " (59928, 'parachutists'),\n",
              " (59929, 'idling'),\n",
              " (59931, 'right--'),\n",
              " (59932, 'convoyeurs'),\n",
              " (59933, 'mariage'),\n",
              " (59934, 'gladness'),\n",
              " (59936, 'amnesic'),\n",
              " (59938, 'sunjay'),\n",
              " (59939, 'kailin'),\n",
              " (59940, 'american-'),\n",
              " (59941, 'hodgins'),\n",
              " (59942, '1,000.00'),\n",
              " (59943, 'allwyn'),\n",
              " (59945, 'swindles'),\n",
              " (59948, '35yr'),\n",
              " (59949, 'flecked'),\n",
              " (59950, 'kappor'),\n",
              " (59952, 'logans'),\n",
              " (59953, 'lampidorrans'),\n",
              " (59955, 'discontentment'),\n",
              " (59956, 'robers'),\n",
              " (59957, 'pressberger'),\n",
              " (59958, 'badgering'),\n",
              " (59959, 'paydirt'),\n",
              " (59962, 'maar'),\n",
              " (59964, 'boerner'),\n",
              " (59965, 'imperiously'),\n",
              " (59966, 'rumbled'),\n",
              " (59967, 'tolkein'),\n",
              " (59968, 'imbroglio'),\n",
              " (59969, 'larocque'),\n",
              " (59971, 'bigscreen'),\n",
              " (59972, 'd*mn'),\n",
              " (59973, 'nekhron'),\n",
              " (59974, 'juliane'),\n",
              " (59975, 'diedrich'),\n",
              " (59976, 'gunny'),\n",
              " (59978, 'swanston'),\n",
              " (59979, 'naïf'),\n",
              " (59980, 'video-'),\n",
              " (59987, 'lefler'),\n",
              " (59989, 'cindi'),\n",
              " (59990, 'tanger'),\n",
              " (59991, 'drusse'),\n",
              " (59992, 'expect-'),\n",
              " (59993, 'profesor'),\n",
              " (59995, 'santorini'),\n",
              " (59996, 'crimen'),\n",
              " (59997, 'quickened'),\n",
              " (59999, 'ombudsman')]"
            ]
          },
          "metadata": {
            "tags": []
          },
          "execution_count": 31
        }
      ]
    },
    {
      "cell_type": "code",
      "metadata": {
        "hidden": true,
        "id": "-3OtowbyWpL4"
      },
      "source": [
        "wiki_words = set(wiki_itos)"
      ],
      "execution_count": null,
      "outputs": []
    },
    {
      "cell_type": "code",
      "metadata": {
        "id": "_Urb4AASq5A9",
        "colab": {
          "base_uri": "https://localhost:8080/"
        },
        "outputId": "7583133d-06f5-4a79-dcb6-b909b2f47a81"
      },
      "source": [
        "len(wiki_itos)"
      ],
      "execution_count": null,
      "outputs": [
        {
          "output_type": "execute_result",
          "data": {
            "text/plain": [
              "60000"
            ]
          },
          "metadata": {
            "tags": []
          },
          "execution_count": 101
        }
      ]
    },
    {
      "cell_type": "code",
      "metadata": {
        "hidden": true,
        "id": "K5G1mot-WpL4"
      },
      "source": [
        "imdb_words = set(vocab.itos)"
      ],
      "execution_count": null,
      "outputs": []
    },
    {
      "cell_type": "code",
      "metadata": {
        "id": "c3jvOd_Wq8hh",
        "colab": {
          "base_uri": "https://localhost:8080/"
        },
        "outputId": "7338c818-a964-4326-8207-b0e58ce41a86"
      },
      "source": [
        "len(wiki_words)"
      ],
      "execution_count": null,
      "outputs": [
        {
          "output_type": "execute_result",
          "data": {
            "text/plain": [
              "60000"
            ]
          },
          "metadata": {
            "tags": []
          },
          "execution_count": 102
        }
      ]
    },
    {
      "cell_type": "code",
      "metadata": {
        "hidden": true,
        "id": "QnaE_FL-WpL5"
      },
      "source": [
        "wiki_not_imbdb = wiki_words.difference(imdb_words)"
      ],
      "execution_count": null,
      "outputs": []
    },
    {
      "cell_type": "code",
      "metadata": {
        "id": "mTjUslFcrTKS",
        "colab": {
          "base_uri": "https://localhost:8080/"
        },
        "outputId": "4ed26cb0-289b-401f-e8a4-e010ae643068"
      },
      "source": [
        "len(wiki_not_imbdb)"
      ],
      "execution_count": null,
      "outputs": [
        {
          "output_type": "execute_result",
          "data": {
            "text/plain": [
              "24278"
            ]
          },
          "metadata": {
            "tags": []
          },
          "execution_count": 105
        }
      ]
    },
    {
      "cell_type": "code",
      "metadata": {
        "id": "mXkT1LgUnG51",
        "colab": {
          "base_uri": "https://localhost:8080/"
        },
        "outputId": "476ca0e5-e658-495b-d01d-724ac1358e77"
      },
      "source": [
        "wiki_not_imbdb"
      ],
      "execution_count": null,
      "outputs": [
        {
          "output_type": "execute_result",
          "data": {
            "text/plain": [
              "{'ascertained',\n",
              " 'densetsu',\n",
              " 'éireann',\n",
              " 'reprinted',\n",
              " 'deposition',\n",
              " 'mooney',\n",
              " 'bačka',\n",
              " 'keiser',\n",
              " '1.xxunk',\n",
              " 'leofric',\n",
              " 'cascioferro',\n",
              " 'easterly',\n",
              " 'langport',\n",
              " 'nait',\n",
              " 'histotroph',\n",
              " 'subcontractor',\n",
              " '20.4',\n",
              " 'bedingfield',\n",
              " '1255',\n",
              " 'horsfield',\n",
              " 'baffin',\n",
              " 'radioed',\n",
              " 'dakotan',\n",
              " 'eglinton',\n",
              " 'sonnet',\n",
              " 'earldom',\n",
              " 'dearborn',\n",
              " 'purana',\n",
              " 'exe',\n",
              " 'rnc',\n",
              " 'williamstown',\n",
              " 'nationalized',\n",
              " 'warnock',\n",
              " 'altricial',\n",
              " 'brimsek',\n",
              " 'partick',\n",
              " 'retraced',\n",
              " 'jochen',\n",
              " 'naha',\n",
              " 'slurry',\n",
              " '45-yard',\n",
              " 'yevon',\n",
              " '284',\n",
              " 'honorius',\n",
              " 'thích',\n",
              " 'márquez',\n",
              " 'perl',\n",
              " '532',\n",
              " 'bomar',\n",
              " '584',\n",
              " 'vetoes',\n",
              " 'outriggers',\n",
              " 'paiute',\n",
              " 'orgone',\n",
              " '51st',\n",
              " 'clearances',\n",
              " 'dengue',\n",
              " 'minesweepers',\n",
              " 'crosetti',\n",
              " 'sportswear',\n",
              " 'fledging',\n",
              " 'rahba',\n",
              " 'mitchells',\n",
              " 'sfts',\n",
              " 'texaco',\n",
              " 'widerøe',\n",
              " 'nightshade',\n",
              " 'sednaoui',\n",
              " 'elida',\n",
              " 'envoys',\n",
              " 'igneous',\n",
              " '430',\n",
              " 'chilton',\n",
              " '1,380',\n",
              " '1505',\n",
              " 'truces',\n",
              " 'olmsted',\n",
              " 'mandelson',\n",
              " 'volk',\n",
              " 'konietzko',\n",
              " 'gomułka',\n",
              " 'tessellation',\n",
              " 'samuelson',\n",
              " '1884',\n",
              " 'diamondback',\n",
              " '15-yard',\n",
              " 'khar',\n",
              " 'flensburg',\n",
              " 'takumi',\n",
              " 'ampezzo',\n",
              " 'unsustainable',\n",
              " 'outselling',\n",
              " 'narthex',\n",
              " 'bloomsbury',\n",
              " 'pacheco',\n",
              " 'lihou',\n",
              " 'labradors',\n",
              " 'replenished',\n",
              " '8.6',\n",
              " 'antennas',\n",
              " 'clinicians',\n",
              " 'josefson',\n",
              " 'schlesien',\n",
              " 'hieroglyphs',\n",
              " 'abdur',\n",
              " 'podcasts',\n",
              " 'libau',\n",
              " 'undertail',\n",
              " 'caterpillars',\n",
              " 'anthropogenic',\n",
              " 'bonniwell',\n",
              " 'reinhart',\n",
              " 'clotted',\n",
              " 'watermark',\n",
              " '1634',\n",
              " 'berrien',\n",
              " 'instituto',\n",
              " 'vulcanodon',\n",
              " 'kirill',\n",
              " '3,400',\n",
              " 'superkick',\n",
              " '380',\n",
              " 'echolocation',\n",
              " 'jovanović',\n",
              " 'stadt',\n",
              " 'andesite',\n",
              " 'aru',\n",
              " 'nantwich',\n",
              " 'hooke',\n",
              " 'ota',\n",
              " '1482',\n",
              " 'isley',\n",
              " 'ligaments',\n",
              " 'salih',\n",
              " 'proserpine',\n",
              " 'dalí',\n",
              " 'libertadores',\n",
              " 'brunswick',\n",
              " '19.1',\n",
              " 'lineups',\n",
              " 'ramblin',\n",
              " 'shrimps',\n",
              " 'saxbe',\n",
              " 'woomera',\n",
              " 'mcculloch',\n",
              " 'polities',\n",
              " 'kilometres',\n",
              " 'guilford',\n",
              " 'gaba',\n",
              " 'pauli',\n",
              " 'mollusc',\n",
              " 'aphid',\n",
              " 'abscess',\n",
              " 'larwood',\n",
              " 'ljotić',\n",
              " 'aggregates',\n",
              " 'medalist',\n",
              " 'porphyrogenitus',\n",
              " 'aqha',\n",
              " 'rongorongo',\n",
              " 'ubaidah',\n",
              " 'barbree',\n",
              " 'ramanujan',\n",
              " 'branford',\n",
              " 'steuart',\n",
              " 'mrnas',\n",
              " 'barnstaple',\n",
              " 'warwickshire',\n",
              " 'röhm',\n",
              " 'antibodies',\n",
              " 'mombasa',\n",
              " 'amphipods',\n",
              " 'chaired',\n",
              " '30pm',\n",
              " 'fresnel',\n",
              " 'adnan',\n",
              " 'm249',\n",
              " 'gefion',\n",
              " 'eardwulf',\n",
              " 'danja',\n",
              " 'murasaki',\n",
              " 'attu',\n",
              " '819',\n",
              " 'zooplankton',\n",
              " '1096',\n",
              " 'enumerated',\n",
              " 'rifling',\n",
              " 'dispersal',\n",
              " 'jurisdictions',\n",
              " 'minaret',\n",
              " 'cyclists',\n",
              " 'adriatico',\n",
              " 'lacrimal',\n",
              " '1332',\n",
              " 'dfb',\n",
              " 'statutes',\n",
              " 'reorganizing',\n",
              " 'keogh',\n",
              " 'dobruja',\n",
              " 'grinnell',\n",
              " 'melanoma',\n",
              " 'owego',\n",
              " 'winthrop',\n",
              " '1391',\n",
              " 'harveys',\n",
              " 'creeks',\n",
              " 'longhorn',\n",
              " 'amazone',\n",
              " 'vermillion',\n",
              " 'outcrop',\n",
              " 'lejeune',\n",
              " 'mackinac',\n",
              " '1714',\n",
              " 'utley',\n",
              " '1b',\n",
              " 'postern',\n",
              " '1149',\n",
              " 'dijk',\n",
              " 'charner',\n",
              " 'gyrus',\n",
              " 'boullion',\n",
              " 'kawasaki',\n",
              " 'acidosis',\n",
              " 'thorney',\n",
              " 'jubilate',\n",
              " 'lorient',\n",
              " 'laity',\n",
              " 'selfridge',\n",
              " 'ziff',\n",
              " 'northampton',\n",
              " 'averno',\n",
              " 'plaintiffs',\n",
              " 'acyl',\n",
              " 'goodenough',\n",
              " '238',\n",
              " 'domesticus',\n",
              " 'hummel',\n",
              " 'staffordshire',\n",
              " 'joystiq',\n",
              " 'frémont',\n",
              " 'adventist',\n",
              " 'jevđević',\n",
              " 'littleport',\n",
              " 'terang',\n",
              " 'chiffchaff',\n",
              " 'magoffin',\n",
              " 'didact',\n",
              " '1690s',\n",
              " 'thermosphere',\n",
              " '289',\n",
              " 'f2',\n",
              " 'maricopa',\n",
              " 'northgate',\n",
              " 'crombie',\n",
              " 'marash',\n",
              " 'maroons',\n",
              " 'svetoslav',\n",
              " '6d',\n",
              " 'flavian',\n",
              " 'ketl',\n",
              " 'eucalypts',\n",
              " 'subarachnoid',\n",
              " 'kesselring',\n",
              " '1713',\n",
              " 'genomics',\n",
              " '1590s',\n",
              " 'kamin',\n",
              " 'iu',\n",
              " 'equipping',\n",
              " 'wigan',\n",
              " 'linde',\n",
              " 'sheerness',\n",
              " 'oosterbeek',\n",
              " 'gardermoen',\n",
              " '1343',\n",
              " '1402',\n",
              " 'kinsler',\n",
              " 'hamdanid',\n",
              " 'midazolam',\n",
              " 'steinweg',\n",
              " 'shahrbaraz',\n",
              " 'cantilever',\n",
              " 'quoll',\n",
              " 'kumbakonam',\n",
              " 'trustees',\n",
              " 'communique',\n",
              " 'udin',\n",
              " 'samuelsson',\n",
              " 'convalescence',\n",
              " 'hideouts',\n",
              " 'courant',\n",
              " 'anuradhapura',\n",
              " '1672',\n",
              " 'vilayet',\n",
              " 'paleo',\n",
              " 'rfu',\n",
              " 'druckmann',\n",
              " 'iwate',\n",
              " 'tulu',\n",
              " 'godolphin',\n",
              " 'webisodes',\n",
              " 'dimorphic',\n",
              " 'coghill',\n",
              " 'halpert',\n",
              " '293',\n",
              " 'tasim',\n",
              " 'anastasius',\n",
              " 'crono',\n",
              " 'monasticism',\n",
              " '255',\n",
              " 'causeways',\n",
              " 'eday',\n",
              " 'inflight',\n",
              " 'dalles',\n",
              " 'sepsis',\n",
              " 'soulcalibur',\n",
              " 'evatt',\n",
              " '346',\n",
              " 'edgeley',\n",
              " 'reagent',\n",
              " 'ballo',\n",
              " 'rødkleiva',\n",
              " 'lannister',\n",
              " 'monarchist',\n",
              " 'sukumar',\n",
              " 'ponte',\n",
              " '1204',\n",
              " '332',\n",
              " 'christus',\n",
              " 'corrugated',\n",
              " 'hilaire',\n",
              " 'pendulous',\n",
              " 'authentication',\n",
              " 'nathanael',\n",
              " '1882',\n",
              " 'gord',\n",
              " 'lavelli',\n",
              " 'hiawatha',\n",
              " 'galle',\n",
              " 'remission',\n",
              " 'banishment',\n",
              " 'statton',\n",
              " 'barbadian',\n",
              " 'achaeans',\n",
              " 'harmonize',\n",
              " 'mid-2006',\n",
              " 'antónio',\n",
              " '0.999',\n",
              " '482',\n",
              " 'antipsychotics',\n",
              " 'wipeout',\n",
              " 'insolvency',\n",
              " 'contaminants',\n",
              " 'subarctic',\n",
              " 'bayer',\n",
              " '1792',\n",
              " 'assaf',\n",
              " 'takemitsu',\n",
              " 'gundersen',\n",
              " '1130',\n",
              " 'bence',\n",
              " 'theodoxus',\n",
              " 'tuvalu',\n",
              " 'gastropod',\n",
              " 'westside',\n",
              " 'northumberland',\n",
              " 'elmham',\n",
              " 'freemen',\n",
              " 'nasr',\n",
              " 'mucilage',\n",
              " 'xs',\n",
              " 'graceland',\n",
              " 'crosstown',\n",
              " 'pettit',\n",
              " 'chaco',\n",
              " 'wedges',\n",
              " 'timeouts',\n",
              " 'federalist',\n",
              " 'obsolescence',\n",
              " 'gittings',\n",
              " 'alban',\n",
              " 'anguilla',\n",
              " 'pdp-1',\n",
              " '28.8',\n",
              " 'castellan',\n",
              " 'w3c',\n",
              " 'komam',\n",
              " 'masjid',\n",
              " 'bioluminescence',\n",
              " 'dopa',\n",
              " 'braided',\n",
              " 'yamauchi',\n",
              " 'christman',\n",
              " 'computational',\n",
              " 'u-32',\n",
              " 'buckland',\n",
              " 'crystallized',\n",
              " 'stelmach',\n",
              " 'mineralized',\n",
              " 'usda',\n",
              " 'cicada',\n",
              " 'buffers',\n",
              " 'roscommon',\n",
              " 'tampere',\n",
              " 'halftime',\n",
              " 'bundesliga',\n",
              " 'lhasa',\n",
              " 'petiole',\n",
              " 'drvar',\n",
              " 'communicator',\n",
              " 'kikuta',\n",
              " 'conley',\n",
              " 'modernists',\n",
              " 'pickingill',\n",
              " 'drosophila',\n",
              " 'makeba',\n",
              " 'midline',\n",
              " 'altoona',\n",
              " 'diniz',\n",
              " 'concolor',\n",
              " 'biran',\n",
              " 'apps',\n",
              " 'tiers',\n",
              " 'immunological',\n",
              " 'leyton',\n",
              " 'redskins',\n",
              " 'recuperated',\n",
              " 'routledge',\n",
              " 'germaniawerft',\n",
              " 'estefan',\n",
              " 'fournier',\n",
              " 'michoacán',\n",
              " 'honeydew',\n",
              " 'indexed',\n",
              " 'tyrrell',\n",
              " 'dms',\n",
              " 'forage',\n",
              " '36.1',\n",
              " 'ratsiraka',\n",
              " 'skrepenak',\n",
              " 'dunvegan',\n",
              " 'lincolnshire',\n",
              " 'maunsell',\n",
              " 'lütjens',\n",
              " '26.7',\n",
              " 'vukovar',\n",
              " 'wapiti',\n",
              " 'jokhang',\n",
              " 'hauge',\n",
              " 'chargé',\n",
              " '62,000',\n",
              " 'brittan',\n",
              " 'schutzstaffel',\n",
              " '1up',\n",
              " 'chalcedon',\n",
              " 'finnegan',\n",
              " 'thistles',\n",
              " 'alexandru',\n",
              " 'blackcurrant',\n",
              " 'serrations',\n",
              " 'otters',\n",
              " 'fernandes',\n",
              " 'putsch',\n",
              " 'illegible',\n",
              " '715',\n",
              " 'yavuz',\n",
              " 'symbiote',\n",
              " 'habitability',\n",
              " 'kir',\n",
              " 'k-25',\n",
              " '319',\n",
              " 'gerais',\n",
              " 'tiberias',\n",
              " 'ventral',\n",
              " 'gama',\n",
              " 'reappointed',\n",
              " 'backfield',\n",
              " 'curie',\n",
              " 'jyllands',\n",
              " 'franconia',\n",
              " 'oxley',\n",
              " 'stromberg',\n",
              " 'berahino',\n",
              " 'nasir',\n",
              " 'pollutant',\n",
              " 'itcz',\n",
              " 'zavala',\n",
              " 'convergent',\n",
              " '400th',\n",
              " 'storyboards',\n",
              " 'tuđman',\n",
              " 'aceh',\n",
              " 'stent',\n",
              " 'debtor',\n",
              " 'mmorpg',\n",
              " 'okw',\n",
              " '1511',\n",
              " 'spearheading',\n",
              " 'tyrannosaurids',\n",
              " 'heathcote',\n",
              " 'tpg',\n",
              " 'prelates',\n",
              " 'cip',\n",
              " 'kroq',\n",
              " 'romanova',\n",
              " 'raritan',\n",
              " 'disuse',\n",
              " 'adil',\n",
              " 'gametrailers',\n",
              " '719',\n",
              " 'ghica',\n",
              " 'beneficiaries',\n",
              " 'coalitions',\n",
              " 'quisling',\n",
              " 'detentions',\n",
              " 'nc6',\n",
              " '34-yard',\n",
              " 'northcott',\n",
              " 'mardas',\n",
              " 'deliberative',\n",
              " 'racehorses',\n",
              " 'yakov',\n",
              " 'pygmaeus',\n",
              " 'capelle',\n",
              " '1660',\n",
              " 'cabrillo',\n",
              " 'concurs',\n",
              " '229',\n",
              " '1,150',\n",
              " 'dreamtime',\n",
              " '0.16',\n",
              " 'lifelines',\n",
              " 'dvi',\n",
              " 'barrios',\n",
              " '256',\n",
              " 'málaga',\n",
              " 'brummer',\n",
              " 'scaramanga',\n",
              " 'glottal',\n",
              " 'venizelos',\n",
              " 'bourdais',\n",
              " '4,300',\n",
              " 'pattinson',\n",
              " 'ramoji',\n",
              " 'isthmian',\n",
              " 'pannonian',\n",
              " 'carpentaria',\n",
              " '1071',\n",
              " 'szent',\n",
              " 'glyndebourne',\n",
              " 'karmas',\n",
              " 'unitarians',\n",
              " 'dred',\n",
              " 'alioramus',\n",
              " 'kadabra',\n",
              " '1468',\n",
              " 'greville',\n",
              " 'industrially',\n",
              " 'ph.d.',\n",
              " 'redistricting',\n",
              " 'bakar',\n",
              " 'confiscating',\n",
              " 'mourinho',\n",
              " 'alderson',\n",
              " 'follicle',\n",
              " 'székesfehérvár',\n",
              " 'urbain',\n",
              " 'bicycling',\n",
              " 'bouck',\n",
              " 'sastri',\n",
              " 'shortwave',\n",
              " 'terpstra',\n",
              " 'baines',\n",
              " 'rubies',\n",
              " '668',\n",
              " 'cotswold',\n",
              " 'attenuated',\n",
              " 'm-37',\n",
              " 'queensberry',\n",
              " 'huế',\n",
              " '48.5',\n",
              " 'mccudden',\n",
              " 'sahitya',\n",
              " 'contraceptives',\n",
              " 'jha',\n",
              " 'implementations',\n",
              " 'dangić',\n",
              " 'subfamilies',\n",
              " 'chidambaram',\n",
              " 'conferred',\n",
              " 'bhardwaj',\n",
              " 'dunfermline',\n",
              " 'dehydrogenase',\n",
              " 'cosey',\n",
              " 'metabolism',\n",
              " 'maserati',\n",
              " 'majora',\n",
              " 'darmstadtium',\n",
              " 'vosges',\n",
              " 'brändle',\n",
              " 'confiscations',\n",
              " 'tripathi',\n",
              " 'cbi',\n",
              " 'aronian',\n",
              " '22.1',\n",
              " '1279',\n",
              " 'tronstad',\n",
              " 'fjords',\n",
              " 'shanina',\n",
              " '24-yard',\n",
              " '14.2',\n",
              " 'whitbread',\n",
              " '822',\n",
              " 'colonsay',\n",
              " 'deccan',\n",
              " 'cichlids',\n",
              " 'manahi',\n",
              " 'paddlefish',\n",
              " 'receivers',\n",
              " 'aldiss',\n",
              " 'serif',\n",
              " 'conifers',\n",
              " 'mufti',\n",
              " 'subsets',\n",
              " '1121',\n",
              " 'guglielmo',\n",
              " 'elevations',\n",
              " 'jugal',\n",
              " 'deva',\n",
              " 'reggaetón',\n",
              " '340',\n",
              " 'gazetted',\n",
              " 'figgins',\n",
              " 'gorgosaurus',\n",
              " 'wete',\n",
              " 'polyhedra',\n",
              " 'mirna',\n",
              " 'tsonga',\n",
              " 'zona',\n",
              " 'imperatritsa',\n",
              " 'freetown',\n",
              " 'rutherfordium',\n",
              " 'yelü',\n",
              " 'amplifiers',\n",
              " '1536',\n",
              " 'iva',\n",
              " 'cædwalla',\n",
              " 'leonards',\n",
              " 'subsidized',\n",
              " 'sandstones',\n",
              " 'capel',\n",
              " 'gonsales',\n",
              " 'porting',\n",
              " 'lahars',\n",
              " 'hebel',\n",
              " 'abutment',\n",
              " 'architectures',\n",
              " 'honshu',\n",
              " 'lauria',\n",
              " 'gazan',\n",
              " 'monsoons',\n",
              " 'sturzkampfgeschwader',\n",
              " 'keyser',\n",
              " 'caregiving',\n",
              " 'vulgate',\n",
              " 'l1',\n",
              " 'ctw',\n",
              " 'hambleton',\n",
              " 'razorbacks',\n",
              " 'wonderwall',\n",
              " 'trang',\n",
              " 'hammerfest',\n",
              " 'allocations',\n",
              " 'szabó',\n",
              " '18.5',\n",
              " '560',\n",
              " 'bosporus',\n",
              " 'subsidies',\n",
              " 'bouvet',\n",
              " 'customization',\n",
              " 'gadfly',\n",
              " 'ratajkowski',\n",
              " 'delphi',\n",
              " 'republika',\n",
              " 'ub-6',\n",
              " 'shōjo',\n",
              " 'reciprocity',\n",
              " 'moxon',\n",
              " 'isostylis',\n",
              " 'toraja',\n",
              " 'μg',\n",
              " 'tms',\n",
              " 'gnr',\n",
              " 'oregonian',\n",
              " 'akershus',\n",
              " 'chevrons',\n",
              " 'raga',\n",
              " 'bobbili',\n",
              " 'multicolored',\n",
              " 'hardenbergh',\n",
              " 'opioid',\n",
              " 'thresher',\n",
              " 'chambersburg',\n",
              " 'andhra',\n",
              " 'shoreline',\n",
              " '2700',\n",
              " 'vénus',\n",
              " '1746',\n",
              " 'willson',\n",
              " 'shangani',\n",
              " 'sulhamstead',\n",
              " 'unconstitutional',\n",
              " 'hutchings',\n",
              " 'idries',\n",
              " 'wyre',\n",
              " 'defencemen',\n",
              " 'adena',\n",
              " 'ratanakiri',\n",
              " 'orographic',\n",
              " 'westfalen',\n",
              " 'kenyatta',\n",
              " 'pitman',\n",
              " 'municipalities',\n",
              " 'yamhad',\n",
              " 'topeka',\n",
              " 'pagasa',\n",
              " '1784',\n",
              " 'sleipnir',\n",
              " 'eichelberger',\n",
              " 'ringwork',\n",
              " 'lubricant',\n",
              " 'hmas',\n",
              " 'stoddart',\n",
              " 'turbocharged',\n",
              " 'petrov',\n",
              " 'phenolic',\n",
              " 'delian',\n",
              " 'usain',\n",
              " 'outfitting',\n",
              " 'under-20',\n",
              " 'autonomic',\n",
              " '810',\n",
              " 'marojejy',\n",
              " 'deakin',\n",
              " 'oni',\n",
              " 'alfreton',\n",
              " 'lowestoft',\n",
              " 'colchester',\n",
              " 'testers',\n",
              " 'fucked',\n",
              " 'middlesex',\n",
              " 'sirmium',\n",
              " 'massillon',\n",
              " 'reddit',\n",
              " '685',\n",
              " 'bülow',\n",
              " 'italiana',\n",
              " '979',\n",
              " 'reimer',\n",
              " 'panhandle',\n",
              " 'baseman',\n",
              " 'bodø',\n",
              " 'wilders',\n",
              " 'tailback',\n",
              " 'seedling',\n",
              " 'analgesic',\n",
              " '301',\n",
              " 'downsizing',\n",
              " 'chafin',\n",
              " '843',\n",
              " '≤',\n",
              " 'primaries',\n",
              " 'cgpm',\n",
              " 'vingtième',\n",
              " 'longchamp',\n",
              " '81,000',\n",
              " 'archadian',\n",
              " 'highbury',\n",
              " 'watertown',\n",
              " 'bachata',\n",
              " 'madero',\n",
              " 'littleton',\n",
              " 'freestylegames',\n",
              " '61st',\n",
              " 'württemberg',\n",
              " 'bidi',\n",
              " 'fes',\n",
              " 'totenkopf',\n",
              " 'bakhsh',\n",
              " 'shuichi',\n",
              " '1205',\n",
              " 'mwng',\n",
              " 'wellsboro',\n",
              " '0.56',\n",
              " 'irrigate',\n",
              " 'refractory',\n",
              " 'brough',\n",
              " 'fuca',\n",
              " '468',\n",
              " 'tama',\n",
              " 'mustafa',\n",
              " 'vayne',\n",
              " 'minkowski',\n",
              " 'timescales',\n",
              " 'symmetrically',\n",
              " 'botha',\n",
              " 'lôme',\n",
              " 'ahmose',\n",
              " 'bigeye',\n",
              " 'thelema',\n",
              " 'curricula',\n",
              " 'minear',\n",
              " 'yazid',\n",
              " 'máel',\n",
              " 'moderates',\n",
              " 'bhagavad',\n",
              " 'badrinath',\n",
              " '145,000',\n",
              " 'timur',\n",
              " 'hebner',\n",
              " 'loughner',\n",
              " 'stockpiles',\n",
              " 'dzong',\n",
              " 'anointing',\n",
              " 'percentile',\n",
              " 'dnieper',\n",
              " 'paes',\n",
              " 'cmg',\n",
              " 'astatine',\n",
              " 'hisd',\n",
              " '1126',\n",
              " 'herrerasaurus',\n",
              " '1,080',\n",
              " 'zyklon',\n",
              " 'curthose',\n",
              " 'wnwbl',\n",
              " 'strachey',\n",
              " 'schechter',\n",
              " '381',\n",
              " 'malouma',\n",
              " 'lockdown',\n",
              " 'balakirev',\n",
              " 'burge',\n",
              " 'phaneuf',\n",
              " 'romblon',\n",
              " 'newsgroup',\n",
              " 'porcini',\n",
              " 'ossetia',\n",
              " 'scribal',\n",
              " 'bogdan',\n",
              " 'mihai',\n",
              " 'cobalt',\n",
              " '1795',\n",
              " 'rot13',\n",
              " 'eruptive',\n",
              " 'karmal',\n",
              " 'broadsheet',\n",
              " 'andropov',\n",
              " 'hodson',\n",
              " 'axle',\n",
              " 'embalming',\n",
              " 'canopy',\n",
              " 'adjoint',\n",
              " 'aashto',\n",
              " 'inyo',\n",
              " 'lộc',\n",
              " 'freelancer',\n",
              " 'greenscreen',\n",
              " 'gcd',\n",
              " 'ima',\n",
              " 'modernisation',\n",
              " 'folkestone',\n",
              " 'harrods',\n",
              " 'illini',\n",
              " 'climbié',\n",
              " 'deinocheirus',\n",
              " 'bioware',\n",
              " 'sdk',\n",
              " 'cobbett',\n",
              " '501',\n",
              " 'guanine',\n",
              " 'adsit',\n",
              " 'sewanee',\n",
              " 'burk',\n",
              " 'mouldings',\n",
              " '22.6',\n",
              " 'telmatiaea',\n",
              " 'benitez',\n",
              " 'đôn',\n",
              " 'azalea',\n",
              " 'fusō',\n",
              " 'i-95',\n",
              " 'sandys',\n",
              " 'オブ',\n",
              " 'mobilization',\n",
              " 'interment',\n",
              " '1806',\n",
              " 'octavo',\n",
              " 'herkimer',\n",
              " 'akshardham',\n",
              " 'skald',\n",
              " 'leinart',\n",
              " 'albion',\n",
              " 'andaman',\n",
              " 'shaughnessy',\n",
              " 'mendeleev',\n",
              " 'mauna',\n",
              " 'æthelwig',\n",
              " '690',\n",
              " 'timoshenko',\n",
              " 'imbudo',\n",
              " 'diiie',\n",
              " 'ordinance',\n",
              " 'grosvenor',\n",
              " 'wallaby',\n",
              " 'gaiden',\n",
              " 'naturalised',\n",
              " 'bofors',\n",
              " 'arsenio',\n",
              " 'poj',\n",
              " 'collarbone',\n",
              " 'optionally',\n",
              " 'mccarron',\n",
              " 'brinkley',\n",
              " 'lindisfarne',\n",
              " 'kupa',\n",
              " '1736',\n",
              " '3,000,000',\n",
              " 'b.o',\n",
              " '1058',\n",
              " 'aquatics',\n",
              " '19s',\n",
              " 'ellefson',\n",
              " 'macroeconomic',\n",
              " 'stour',\n",
              " 'rijadi',\n",
              " 'verlag',\n",
              " 'oscillate',\n",
              " 'tirreno',\n",
              " 'sorenson',\n",
              " 'trimmer',\n",
              " 'parcels',\n",
              " 'marsin',\n",
              " 'hermansen',\n",
              " '7,400',\n",
              " '1599',\n",
              " 'paraphyletic',\n",
              " 'khurasani',\n",
              " 'skynyrd',\n",
              " '10.2307',\n",
              " 'qandil',\n",
              " 'tg',\n",
              " 'bayard',\n",
              " 'mosconi',\n",
              " 'peso',\n",
              " 'lysander',\n",
              " 'alavés',\n",
              " 'umbridge',\n",
              " 'putana',\n",
              " '279',\n",
              " 'bnp',\n",
              " 'repealing',\n",
              " '1081',\n",
              " 'ople',\n",
              " '1496',\n",
              " 'barristers',\n",
              " 'hentschel',\n",
              " 'westgate',\n",
              " 'flitch',\n",
              " 'barbours',\n",
              " 'pmid',\n",
              " 'mcbreen',\n",
              " 'oyly',\n",
              " 'molluscs',\n",
              " 'nadezhda',\n",
              " 'theropod',\n",
              " 'mosman',\n",
              " 'moebius',\n",
              " 'jessen',\n",
              " 'kitsis',\n",
              " 'centreville',\n",
              " 'westbury',\n",
              " 'côte',\n",
              " 'fenix',\n",
              " 'hatchling',\n",
              " 'frick',\n",
              " 'poplar',\n",
              " 'internationalism',\n",
              " 'milled',\n",
              " 'mashonaland',\n",
              " 'mesopotamian',\n",
              " 'sudirman',\n",
              " '1631',\n",
              " 'pend',\n",
              " 'consulship',\n",
              " 'tal',\n",
              " 'carnot',\n",
              " '1808',\n",
              " 'clades',\n",
              " 'lobed',\n",
              " ...}"
            ]
          },
          "metadata": {
            "tags": []
          },
          "execution_count": 88
        }
      ]
    },
    {
      "cell_type": "code",
      "metadata": {
        "hidden": true,
        "id": "Ww7TX8wuWpL5"
      },
      "source": [
        "imdb_not_wiki = imdb_words.difference(wiki_words)"
      ],
      "execution_count": null,
      "outputs": []
    },
    {
      "cell_type": "code",
      "metadata": {
        "id": "eb-G3xBVnfgJ",
        "colab": {
          "base_uri": "https://localhost:8080/"
        },
        "outputId": "b88888b2-6429-4cef-e9a2-3d3f0c796f46"
      },
      "source": [
        "len(imdb_not_wiki)"
      ],
      "execution_count": null,
      "outputs": [
        {
          "output_type": "execute_result",
          "data": {
            "text/plain": [
              "24278"
            ]
          },
          "metadata": {
            "tags": []
          },
          "execution_count": 108
        }
      ]
    },
    {
      "cell_type": "code",
      "metadata": {
        "id": "hc-CNZM-rv5z",
        "colab": {
          "base_uri": "https://localhost:8080/"
        },
        "outputId": "cebd4960-5415-41ea-8cdd-9a272333af5e"
      },
      "source": [
        "len(wiki_not_imbdb)"
      ],
      "execution_count": null,
      "outputs": [
        {
          "output_type": "execute_result",
          "data": {
            "text/plain": [
              "24278"
            ]
          },
          "metadata": {
            "tags": []
          },
          "execution_count": 109
        }
      ]
    },
    {
      "cell_type": "code",
      "metadata": {
        "hidden": true,
        "id": "GBR_iRuIWpL5"
      },
      "source": [
        "wiki_not_imdb_list = []\n",
        "\n",
        "for i in range(100):\n",
        "    word = wiki_not_imbdb.pop()\n",
        "    wiki_not_imdb_list.append(word)\n",
        "    wiki_not_imbdb.add(word)"
      ],
      "execution_count": null,
      "outputs": []
    },
    {
      "cell_type": "code",
      "metadata": {
        "id": "34GoAOuzqB_N",
        "colab": {
          "base_uri": "https://localhost:8080/"
        },
        "outputId": "5625d8b4-b4b7-4379-9aa8-da07f0e9f6b7"
      },
      "source": [
        "type( wiki_not_imbdb)"
      ],
      "execution_count": null,
      "outputs": [
        {
          "output_type": "execute_result",
          "data": {
            "text/plain": [
              "set"
            ]
          },
          "metadata": {
            "tags": []
          },
          "execution_count": 100
        }
      ]
    },
    {
      "cell_type": "code",
      "metadata": {
        "hidden": true,
        "scrolled": true,
        "colab": {
          "base_uri": "https://localhost:8080/"
        },
        "id": "vHYapU_ZWpL5",
        "outputId": "f5cfd9e4-b1cc-4b1b-a340-7a524814c70f"
      },
      "source": [
        "wiki_not_imdb_list[:15]"
      ],
      "execution_count": null,
      "outputs": [
        {
          "output_type": "execute_result",
          "data": {
            "text/plain": [
              "['ascertained',\n",
              " 'densetsu',\n",
              " 'éireann',\n",
              " 'reprinted',\n",
              " 'deposition',\n",
              " 'mooney',\n",
              " 'bačka',\n",
              " 'keiser',\n",
              " '1.xxunk',\n",
              " 'leofric',\n",
              " 'cascioferro',\n",
              " 'easterly',\n",
              " 'langport',\n",
              " 'nait',\n",
              " 'histotroph']"
            ]
          },
          "metadata": {
            "tags": []
          },
          "execution_count": 95
        }
      ]
    },
    {
      "cell_type": "code",
      "metadata": {
        "id": "NqFS5hV7oqgu",
        "colab": {
          "base_uri": "https://localhost:8080/"
        },
        "outputId": "0b3083f9-06c2-44b8-ce2a-da250bfab37d"
      },
      "source": [
        "len(wiki_not_imdb_list)"
      ],
      "execution_count": null,
      "outputs": [
        {
          "output_type": "execute_result",
          "data": {
            "text/plain": [
              "100"
            ]
          },
          "metadata": {
            "tags": []
          },
          "execution_count": 97
        }
      ]
    },
    {
      "cell_type": "code",
      "metadata": {
        "hidden": true,
        "id": "2aJ1ekG5WpL5"
      },
      "source": [
        "imdb_not_wiki_list = []\n",
        "\n",
        "for i in range(100):\n",
        "    word = imdb_not_wiki.pop()\n",
        "    imdb_not_wiki_list.append(word)\n",
        "    imdb_not_wiki.add(word)"
      ],
      "execution_count": null,
      "outputs": []
    },
    {
      "cell_type": "code",
      "metadata": {
        "id": "ypIgAEMToyKU",
        "colab": {
          "base_uri": "https://localhost:8080/"
        },
        "outputId": "63c2f573-853e-4275-8054-9c52b5d48e84"
      },
      "source": [
        "len(imdb_not_wiki_list)"
      ],
      "execution_count": null,
      "outputs": [
        {
          "output_type": "execute_result",
          "data": {
            "text/plain": [
              "100"
            ]
          },
          "metadata": {
            "tags": []
          },
          "execution_count": 99
        }
      ]
    },
    {
      "cell_type": "code",
      "metadata": {
        "hidden": true,
        "id": "CUvt1wTfWpL5",
        "outputId": "f997fe05-390a-4221-a0b3-4802d3f56a3a"
      },
      "source": [
        "imdb_not_wiki_list[:15]"
      ],
      "execution_count": null,
      "outputs": [
        {
          "output_type": "execute_result",
          "data": {
            "text/plain": [
              "['sceptic',\n",
              " 'paquin',\n",
              " 'louche',\n",
              " 'sodom',\n",
              " 'atlantean',\n",
              " 'kron',\n",
              " 'gourd',\n",
              " 'tolwyn',\n",
              " 'black-',\n",
              " 'catty',\n",
              " 'bandito',\n",
              " 'skulduggery',\n",
              " 'johnathon',\n",
              " 'fiendishly',\n",
              " 'malachi']"
            ]
          },
          "metadata": {
            "tags": []
          },
          "execution_count": 39
        }
      ]
    },
    {
      "cell_type": "markdown",
      "metadata": {
        "hidden": true,
        "id": "e2-ZkAkZWpL5"
      },
      "source": [
        "All words that appear in the `IMDB` vocab, but not the `wikitext-103` vocab, will be initialized to the same random vector in a model.  As the model trains, we will learn their weights."
      ]
    },
    {
      "cell_type": "code",
      "metadata": {
        "hidden": true,
        "id": "YSYHA-flWpL5",
        "outputId": "570bd2a8-5c6c-4aab-fa45-a2b458c9de53"
      },
      "source": [
        "vocab.stoi[\"modernisation\"]"
      ],
      "execution_count": null,
      "outputs": [
        {
          "output_type": "execute_result",
          "data": {
            "text/plain": [
              "0"
            ]
          },
          "metadata": {
            "tags": []
          },
          "execution_count": 40
        }
      ]
    },
    {
      "cell_type": "code",
      "metadata": {
        "hidden": true,
        "id": "GlT-ImevWpL6",
        "outputId": "925eac00-5c73-4ee5-849a-031e0a7c5997"
      },
      "source": [
        "\"modernisation\" in wiki_words"
      ],
      "execution_count": null,
      "outputs": [
        {
          "output_type": "execute_result",
          "data": {
            "text/plain": [
              "True"
            ]
          },
          "metadata": {
            "tags": []
          },
          "execution_count": 41
        }
      ]
    },
    {
      "cell_type": "code",
      "metadata": {
        "hidden": true,
        "id": "iIwRfw2YWpL6",
        "outputId": "a433ec84-5328-44f6-ec0b-350d7f053f75"
      },
      "source": [
        "vocab.stoi[\"30-something\"]"
      ],
      "execution_count": null,
      "outputs": [
        {
          "output_type": "execute_result",
          "data": {
            "text/plain": [
              "25365"
            ]
          },
          "metadata": {
            "tags": []
          },
          "execution_count": 42
        }
      ]
    },
    {
      "cell_type": "code",
      "metadata": {
        "hidden": true,
        "id": "ZbyYb3ONWpL6",
        "outputId": "52eb4d2b-ae29-4548-d046-d2ab7b84570e"
      },
      "source": [
        "\"30-something\" in wiki_words, \"30-something\" in imdb_words"
      ],
      "execution_count": null,
      "outputs": [
        {
          "output_type": "execute_result",
          "data": {
            "text/plain": [
              "(False, True)"
            ]
          },
          "metadata": {
            "tags": []
          },
          "execution_count": 43
        }
      ]
    },
    {
      "cell_type": "code",
      "metadata": {
        "hidden": true,
        "id": "9jrmJVxhWpL6",
        "outputId": "5f77789d-9f45-4df6-cc4a-53175ebbdfa2"
      },
      "source": [
        "vocab.stoi[\"linklater\"]"
      ],
      "execution_count": null,
      "outputs": [
        {
          "output_type": "execute_result",
          "data": {
            "text/plain": [
              "16735"
            ]
          },
          "metadata": {
            "tags": []
          },
          "execution_count": 44
        }
      ]
    },
    {
      "cell_type": "code",
      "metadata": {
        "hidden": true,
        "id": "lC7-eZeJWpL6",
        "outputId": "e65724ef-3f99-4229-cc20-164a0089949e"
      },
      "source": [
        "\"linklater\" in wiki_words, \"linklater\" in imdb_words"
      ],
      "execution_count": null,
      "outputs": [
        {
          "output_type": "execute_result",
          "data": {
            "text/plain": [
              "(False, True)"
            ]
          },
          "metadata": {
            "tags": []
          },
          "execution_count": 45
        }
      ]
    },
    {
      "cell_type": "code",
      "metadata": {
        "hidden": true,
        "scrolled": true,
        "id": "zs7Jch-4WpL6",
        "outputId": "803a0256-8322-4e5a-b933-b7ef7f8f02f6"
      },
      "source": [
        "\"house\" in wiki_words, \"house\" in imdb_words"
      ],
      "execution_count": null,
      "outputs": [
        {
          "output_type": "execute_result",
          "data": {
            "text/plain": [
              "(True, True)"
            ]
          },
          "metadata": {
            "tags": []
          },
          "execution_count": 46
        }
      ]
    },
    {
      "cell_type": "code",
      "metadata": {
        "hidden": true,
        "colab": {
          "base_uri": "https://localhost:8080/"
        },
        "id": "7WQAN5_6WpL7",
        "outputId": "08a6aa84-f86f-4cf9-bfdc-1018db8e4b42"
      },
      "source": [
        "np.allclose(enc.weight.cpu().detach().numpy()[vocab.stoi[\"30-something\"], :], \n",
        "            enc.weight.cpu().detach().numpy()[vocab.stoi[\"linklater\"], :])"
      ],
      "execution_count": null,
      "outputs": [
        {
          "output_type": "execute_result",
          "data": {
            "text/plain": [
              "True"
            ]
          },
          "metadata": {
            "tags": []
          },
          "execution_count": 36
        }
      ]
    },
    {
      "cell_type": "code",
      "metadata": {
        "id": "TYeS58Hx3W2Q"
      },
      "source": [
        "np.allclose??\n",
        "#Returns True if two arrays are element-wise equal within a tolerance."
      ],
      "execution_count": null,
      "outputs": []
    },
    {
      "cell_type": "code",
      "metadata": {
        "hidden": true,
        "id": "Ld3n8wJJWpL7"
      },
      "source": [
        "#np.allclose(enc.weight[vocab.stoi[\"30-something\"], :], \n",
        "#            enc.weight[vocab.stoi[\"house\"], :])"
      ],
      "execution_count": null,
      "outputs": []
    },
    {
      "cell_type": "code",
      "metadata": {
        "hidden": true,
        "id": "Zd_uKq4FWpL7"
      },
      "source": [
        "new_word_vec = enc.weight[vocab.stoi[\"linklater\"], :]"
      ],
      "execution_count": null,
      "outputs": []
    },
    {
      "cell_type": "markdown",
      "metadata": {
        "heading_collapsed": true,
        "id": "ktZkU-m_WpL7"
      },
      "source": [
        "#### Generating fake movie review-like text with the **untrained** `IMDb` language model"
      ]
    },
    {
      "cell_type": "code",
      "metadata": {
        "hidden": true,
        "id": "jIs3kPVtWpL7"
      },
      "source": [
        "TEXT = \"The color of the sky is\"\n",
        "N_WORDS = 40\n",
        "N_SENTENCES = 2"
      ],
      "execution_count": null,
      "outputs": []
    },
    {
      "cell_type": "code",
      "metadata": {
        "id": "4UUGy8sPvHj8"
      },
      "source": [
        "#learn_lm defined by learn_lm = language_model_learner(data_lm, AWD_LSTM, drop_mult=0.3)\n",
        "# is NOT yet trained by using IMDB data_lm. It is only trained by using wikipedia text.\n",
        "\n",
        "# Do the results of prediction of the current network learn_lm reveal that it is not yet trained on the IMDB texts?\n",
        "\n",
        "# cf. https://www.quora.com/What-is-the-temperature-parameter-in-deep-learning to see what is the role of the temperature parameter in predict method."
      ],
      "execution_count": null,
      "outputs": []
    },
    {
      "cell_type": "code",
      "metadata": {
        "hidden": true,
        "scrolled": false,
        "id": "tjJ2dWo4WpL7",
        "colab": {
          "base_uri": "https://localhost:8080/"
        },
        "outputId": "a352d02d-d542-413d-89e7-107e8eddca16"
      },
      "source": [
        "print(\"\\n\".join(learn_lm.predict(TEXT, N_WORDS, temperature=0.75) for _ in range(N_SENTENCES)))"
      ],
      "execution_count": null,
      "outputs": [
        {
          "output_type": "stream",
          "text": [
            "I hated this movie in North America and Europe . The stories are told in the form of English , a German word . The plot of\n",
            "I hated this movie is a film . The film was meant to be influenced by the American Horror Story . The film was based on the real -\n"
          ],
          "name": "stdout"
        }
      ]
    },
    {
      "cell_type": "code",
      "metadata": {
        "hidden": true,
        "id": "sKeik19BWpL7"
      },
      "source": [
        "#learn_lm.predict(TEXT, N_WORDS..)  return TEXT  and the `n_words` that come after\"\n",
        "TEXT = \"I hated this movie\"\n",
        "N_WORDS = 30\n",
        "N_SENTENCES = 2"
      ],
      "execution_count": null,
      "outputs": []
    },
    {
      "cell_type": "code",
      "metadata": {
        "hidden": true,
        "id": "XFCYfeLYWpL7",
        "colab": {
          "base_uri": "https://localhost:8080/"
        },
        "outputId": "c06df8ba-b3db-412c-ab1f-de7d954f3437"
      },
      "source": [
        "print(\"\\n\".join(learn_lm.predict(TEXT, N_WORDS, temperature=0.75) for _ in range(N_SENTENCES)))"
      ],
      "execution_count": null,
      "outputs": [
        {
          "output_type": "stream",
          "text": [
            "I hated this movie by Gilbert and Sullivan , and the film King of the Hill is in the Film Festival of New York .\n",
            "I hated this movie by King Kong and Queen of the Damned , and was also taken into the film industry . He wanted to make a film that\n"
          ],
          "name": "stdout"
        }
      ]
    },
    {
      "cell_type": "code",
      "metadata": {
        "hidden": true,
        "scrolled": true,
        "colab": {
          "base_uri": "https://localhost:8080/"
        },
        "id": "v5jeG3t5WpL8",
        "outputId": "097939d0-8e35-4f9e-baaa-4062fe83f11b"
      },
      "source": [
        "print(\"\\n\".join(learn_lm.predict(TEXT, N_WORDS, temperature=0.75) for _ in range(N_SENTENCES)))"
      ],
      "execution_count": null,
      "outputs": [
        {
          "output_type": "stream",
          "text": [
            "I hated this movie for so much it was about the Good Friday Night End , excluding the TV show House of Dolls , but it was\n",
            "I hated this movie as a whole . It was really a movie that was not really the sort of movie that i did . It was at this point that i\n"
          ],
          "name": "stdout"
        }
      ]
    },
    {
      "cell_type": "code",
      "metadata": {
        "id": "0M4sQwGBw4Fa"
      },
      "source": [
        "learn_lm.predict??"
      ],
      "execution_count": null,
      "outputs": []
    },
    {
      "cell_type": "code",
      "metadata": {
        "hidden": true,
        "id": "6r9b-KxuWpL8",
        "colab": {
          "base_uri": "https://localhost:8080/",
          "height": 191
        },
        "outputId": "33f9788c-dc13-4aac-cfc3-8fccddc705ec"
      },
      "source": [
        "doc(LanguageLearner.predict)"
      ],
      "execution_count": null,
      "outputs": [
        {
          "output_type": "display_data",
          "data": {
            "text/html": [
              "<h4 id=\"LanguageLearner.predict\" class=\"doc_header\"><code>predict</code><a href=\"https://github.com/fastai/fastai/blob/master/fastai/text/learner.py#L120\" class=\"source_link\" style=\"float:right\">[source]</a><a class=\"source_link\" data-toggle=\"collapse\" data-target=\"#LanguageLearner-predict-pytest\" style=\"float:right; padding-right:10px\">[test]</a></h4><blockquote><p><code>predict</code>(<strong><code>text</code></strong>:<code>str</code>, <strong><code>n_words</code></strong>:<code>int</code>=<strong><em><code>1</code></em></strong>, <strong><code>no_unk</code></strong>:<code>bool</code>=<strong><em><code>True</code></em></strong>, <strong><code>temperature</code></strong>:<code>float</code>=<strong><em><code>1.0</code></em></strong>, <strong><code>min_p</code></strong>:<code>float</code>=<strong><em><code>None</code></em></strong>, <strong><code>sep</code></strong>:<code>str</code>=<strong><em><code>' '</code></em></strong>, <strong><code>decoder</code></strong>=<strong><em><code>'decode_spec_tokens'</code></em></strong>)</p>\n",
              "</blockquote>\n",
              "<div class=\"collapse\" id=\"LanguageLearner-predict-pytest\"><div class=\"card card-body pytest_card\"><a type=\"button\" data-toggle=\"collapse\" data-target=\"#LanguageLearner-predict-pytest\" class=\"close\" aria-label=\"Close\"><span aria-hidden=\"true\">&times;</span></a><p>No tests found for <code>predict</code>. To contribute a test please refer to <a href=\"/dev/test.html\">this guide</a> and <a href=\"https://forums.fast.ai/t/improving-expanding-functional-tests/32929\">this discussion</a>.</p></div></div><p>Return <code>text</code> and the <code>n_words</code> that come after</p>\n",
              "<p><a href=\"https://docs.fast.ai/text.learner.html#LanguageLearner.predict\" target=\"_blank\" rel=\"noreferrer noopener\">Show in docs</a></p>\n"
            ],
            "text/plain": [
              "<IPython.core.display.HTML object>"
            ]
          },
          "metadata": {
            "tags": []
          }
        }
      ]
    },
    {
      "cell_type": "markdown",
      "metadata": {
        "hidden": true,
        "id": "fHRzDiqzWpL8"
      },
      "source": [
        "Lowering the `temperature` will make the texts less randomized."
      ]
    },
    {
      "cell_type": "code",
      "metadata": {
        "hidden": true,
        "scrolled": true,
        "colab": {
          "base_uri": "https://localhost:8080/"
        },
        "id": "piSxGrIUWpL8",
        "outputId": "619b5c02-b3ba-4f9d-ab80-79b9ac8d9227"
      },
      "source": [
        "print(\"\\n\".join(learn_lm.predict(TEXT, N_WORDS, temperature=0.10) for _ in range(N_SENTENCES)))"
      ],
      "execution_count": null,
      "outputs": [
        {
          "output_type": "stream",
          "text": [
            "I hated this movie by John Lennon , and he said , \" i ' m not sure what i ' m doing . It 's a bad thing . \"\n",
            "I hated this movie , and the film was released in the United States . The film was released in the United States on October 1 , 2001\n"
          ],
          "name": "stdout"
        }
      ]
    },
    {
      "cell_type": "code",
      "metadata": {
        "hidden": true,
        "id": "kc3l9K1_WpL8",
        "colab": {
          "base_uri": "https://localhost:8080/",
          "height": 191
        },
        "outputId": "306a39bd-8346-4200-cea7-0b4e9a3cc47a"
      },
      "source": [
        "doc(LanguageLearner.predict)"
      ],
      "execution_count": null,
      "outputs": [
        {
          "output_type": "display_data",
          "data": {
            "text/html": [
              "<h4 id=\"LanguageLearner.predict\" class=\"doc_header\"><code>predict</code><a href=\"https://github.com/fastai/fastai/blob/master/fastai/text/learner.py#L120\" class=\"source_link\" style=\"float:right\">[source]</a><a class=\"source_link\" data-toggle=\"collapse\" data-target=\"#LanguageLearner-predict-pytest\" style=\"float:right; padding-right:10px\">[test]</a></h4><blockquote><p><code>predict</code>(<strong><code>text</code></strong>:<code>str</code>, <strong><code>n_words</code></strong>:<code>int</code>=<strong><em><code>1</code></em></strong>, <strong><code>no_unk</code></strong>:<code>bool</code>=<strong><em><code>True</code></em></strong>, <strong><code>temperature</code></strong>:<code>float</code>=<strong><em><code>1.0</code></em></strong>, <strong><code>min_p</code></strong>:<code>float</code>=<strong><em><code>None</code></em></strong>, <strong><code>sep</code></strong>:<code>str</code>=<strong><em><code>' '</code></em></strong>, <strong><code>decoder</code></strong>=<strong><em><code>'decode_spec_tokens'</code></em></strong>)</p>\n",
              "</blockquote>\n",
              "<div class=\"collapse\" id=\"LanguageLearner-predict-pytest\"><div class=\"card card-body pytest_card\"><a type=\"button\" data-toggle=\"collapse\" data-target=\"#LanguageLearner-predict-pytest\" class=\"close\" aria-label=\"Close\"><span aria-hidden=\"true\">&times;</span></a><p>No tests found for <code>predict</code>. To contribute a test please refer to <a href=\"/dev/test.html\">this guide</a> and <a href=\"https://forums.fast.ai/t/improving-expanding-functional-tests/32929\">this discussion</a>.</p></div></div><p>Return <code>text</code> and the <code>n_words</code> that come after</p>\n",
              "<p><a href=\"https://docs.fast.ai/text.learner.html#LanguageLearner.predict\" target=\"_blank\" rel=\"noreferrer noopener\">Show in docs</a></p>\n"
            ],
            "text/plain": [
              "<IPython.core.display.HTML object>"
            ]
          },
          "metadata": {
            "tags": []
          }
        }
      ]
    },
    {
      "cell_type": "code",
      "metadata": {
        "hidden": true,
        "id": "Q_Z8098iWpL8",
        "outputId": "afc76321-b998-4d2a-b82e-d610608f11b7"
      },
      "source": [
        "print(\"\\n\".join(learn_lm.predict(TEXT, N_WORDS, temperature=0.10) for _ in range(N_SENTENCES)))"
      ],
      "execution_count": null,
      "outputs": [
        {
          "output_type": "stream",
          "text": [
            "I hated this movie by Michael Jackson , and he said he was \" a fan of the Academy Award for Best Picture \" . He said\n",
            "I hated this movie by John Lennon , and the film was released in the United States on November 11 , 1999 . The film was released on\n"
          ],
          "name": "stdout"
        }
      ]
    },
    {
      "cell_type": "markdown",
      "metadata": {
        "id": "mj4dB7eBWpL8"
      },
      "source": [
        "### 2C. Training (fine-tuning) the `IMDb` language model\n",
        "#### Starting with the `wikitext-103` pretrained weights, we'll fine-tune the model to \"learn\" the structure in the \"language\" of IMDb movie reviews."
      ]
    },
    {
      "cell_type": "markdown",
      "metadata": {
        "id": "ZueOwcGfWpL9"
      },
      "source": [
        "#### Choose an appropriate learning rate."
      ]
    },
    {
      "cell_type": "code",
      "metadata": {
        "colab": {
          "base_uri": "https://localhost:8080/",
          "height": 113
        },
        "id": "HcRmcue8WpL9",
        "outputId": "baa73e69-60c5-4cb7-b775-1302c5b223ba"
      },
      "source": [
        "learn_lm.lr_find()"
      ],
      "execution_count": null,
      "outputs": [
        {
          "output_type": "display_data",
          "data": {
            "text/html": [
              "\n",
              "    <div>\n",
              "        <style>\n",
              "            /* Turns off some styling */\n",
              "            progress {\n",
              "                /* gets rid of default border in Firefox and Opera. */\n",
              "                border: none;\n",
              "                /* Needs to be in here for Safari polyfill so background images work as expected. */\n",
              "                background-size: auto;\n",
              "            }\n",
              "            .progress-bar-interrupted, .progress-bar-interrupted::-webkit-progress-bar {\n",
              "                background: #F44336;\n",
              "            }\n",
              "        </style>\n",
              "      <progress value='0' class='' max='1' style='width:300px; height:20px; vertical-align: middle;'></progress>\n",
              "      0.00% [0/1 00:00<00:00]\n",
              "    </div>\n",
              "    \n",
              "<table border=\"1\" class=\"dataframe\">\n",
              "  <thead>\n",
              "    <tr style=\"text-align: left;\">\n",
              "      <th>epoch</th>\n",
              "      <th>train_loss</th>\n",
              "      <th>valid_loss</th>\n",
              "      <th>accuracy</th>\n",
              "      <th>time</th>\n",
              "    </tr>\n",
              "  </thead>\n",
              "  <tbody>\n",
              "  </tbody>\n",
              "</table><p>\n",
              "\n",
              "    <div>\n",
              "        <style>\n",
              "            /* Turns off some styling */\n",
              "            progress {\n",
              "                /* gets rid of default border in Firefox and Opera. */\n",
              "                border: none;\n",
              "                /* Needs to be in here for Safari polyfill so background images work as expected. */\n",
              "                background-size: auto;\n",
              "            }\n",
              "            .progress-bar-interrupted, .progress-bar-interrupted::-webkit-progress-bar {\n",
              "                background: #F44336;\n",
              "            }\n",
              "        </style>\n",
              "      <progress value='99' class='' max='8056' style='width:300px; height:20px; vertical-align: middle;'></progress>\n",
              "      1.23% [99/8056 00:35<47:03 12.0958]\n",
              "    </div>\n",
              "    "
            ],
            "text/plain": [
              "<IPython.core.display.HTML object>"
            ]
          },
          "metadata": {
            "tags": []
          }
        },
        {
          "output_type": "stream",
          "text": [
            "LR Finder is complete, type {learner_name}.recorder.plot() to see the graph.\n"
          ],
          "name": "stdout"
        }
      ]
    },
    {
      "cell_type": "code",
      "metadata": {
        "colab": {
          "base_uri": "https://localhost:8080/",
          "height": 279
        },
        "id": "OSP0Pg0bWpL9",
        "outputId": "a9a2b434-412f-43c1-a340-dd2bb1f96107"
      },
      "source": [
        "learn_lm.recorder.plot(skip_end=15)"
      ],
      "execution_count": null,
      "outputs": [
        {
          "output_type": "display_data",
          "data": {
            "image/png": "[encoded data removed]",
            "text/plain": [
              "<Figure size 432x288 with 1 Axes>"
            ]
          },
          "metadata": {
            "tags": [],
            "needs_background": "light"
          }
        }
      ]
    },
    {
      "cell_type": "code",
      "metadata": {
        "id": "BWENhB89WpL9"
      },
      "source": [
        "lr = 1e-3\n",
        "lr *= bs/48"
      ],
      "execution_count": null,
      "outputs": []
    },
    {
      "cell_type": "markdown",
      "metadata": {
        "id": "Dx_xqYbzWpL9"
      },
      "source": [
        "#### Use the mixed-precision option, if you have it, otherwise omit this step"
      ]
    },
    {
      "cell_type": "code",
      "metadata": {
        "colab": {
          "base_uri": "https://localhost:8080/"
        },
        "id": "-N6x5dxSWpL9",
        "outputId": "7fd6455c-d2a8-43bb-88d4-e2296cef2812"
      },
      "source": [
        "learn_lm.to_fp16()"
      ],
      "execution_count": null,
      "outputs": [
        {
          "output_type": "execute_result",
          "data": {
            "text/plain": [
              "LanguageLearner(data=TextLMDataBunch;\n",
              "\n",
              "Train: LabelList (90000 items)\n",
              "x: LMTextList\n",
              "xxbos a film so insecure the xxunk perhaps hoped to milk an original film noir classic title , \" xxmaj farewell xxmaj my xxmaj lovely \" , thinking the gullible would assume it a remake . xxmaj the characters are so foul and unappealing that it deserved its cold reception when first released . xxmaj time only adds to it its absurdity . xxmaj having none of the guile , cinematography , desperation or despair of classic noir it relied instead on a convoluted and senseless crime plot that would have easily resulted in several arrests within hours . xxmaj as if that were n't enough it threw in an utterly sexless attempt at erotica in which at least one of the participants had n't bothered to bathe in several days . xxmaj this only made this mess all the more painful to watch . xxmaj find a good classic forties or fifties film noir instead of wasting two hours on this failure .,xxbos i had numerous problems with this film . \n",
              " \n",
              "  xxmaj it contains some basic factual information concerning quantum mechanics , which is fine . xxmaj although quantum physics has been around for over 50 years , the film presents this information in a grandiose way that seems to be saying : \" xxmaj are n't you just blown away by this ! \" xxmaj well , not really . xxmaj these are n't earth shattering revelations anymore . xxmaj at any rate , i was already familiar with quantum theory , and the fact that particles have to be described by wave equations , etc . is not new . \n",
              " \n",
              "  xxmaj the main problem i have with this movie , however , is the way these people use quantum theory as a way of providing a scientific basis for mysticism and spiritualism . i do n't have any serious problem with mysticism and spiritualism , but quantum mechanics does n't really have anything to do with these things , and it should be kept separate . xxmaj the people they interviewed for this movie start with the ideas of quantum theory and then make the leap to say that simply by thinking about something you can alter the matter around you , hence we should think positively so as to have a positive impact on the world and make our lives better . xxmaj the reasoning is completely ridiculous , and the conclusions do not logically follow from quantum theory . xxmaj for every so called \" expert \" that they interviewed for this film , there are scores of theoretically physicists who would completely disagree . xxmaj they would point out , quite rightly , that the unpredictability of the subatomic world does not lend support to mystical notions about our spiritual connectedness . \n",
              " \n",
              "  xxmaj it disturbs me that people are going to see this film and completely eat it up because it leaves them with a nice positive feeling . xxmaj the main thrust of the film is based on a total misinterpretation of quantum theory , and it is as bad in its reasoning as any attempt to justify organized religion with similar pseudo - scientific arguments . \n",
              " \n",
              "  xxmaj avoid this film . \n",
              " \n",
              "  xxmaj oh yeah . xxmaj at one point , one of the \" experts \" says that since throughout history most of the assumptions people have made about the world turned out to be false , therefore the assumptions we currently hold about the world are also likely to be false . xxmaj huh ? xxmaj that totally does not follow . xxmaj and even if it did , i do n't see how that helps his argument . i mean , if his ideas ever became common assumptions then i guess we would have to assume that they are false too , based on his own reasoning .,xxbos xxmaj being a slasher film aficionado , i typically will settle in to watch every slash movie that passes over my retinas , which sometimes does more harm than good to my brain , i will say . xxmaj while channel surfing the other night , xxmaj sleepaway xxmaj camp xxup ii happened to cross paths with me . xxmaj of course , i wanted to check it out , as i had heard of the xxmaj sleepaway xxmaj camp franchise , but have never actually seen any of them ( for shame , i know ) . i will note that since i have not seen the original , my criticism should probably not be taken too seriously , because perhaps what i think is wrong with it is totally intentional by the franchise 's own design . \n",
              " \n",
              "  xxmaj now i 'm assuming that the franchise of xxmaj sleepaway xxmaj camp is , in itself , a joke on itself . xxmaj hell , even the name comes off as an intentional joke . xxmaj sleep away camp ? xxmaj it 's good fun . i can appreciate the film for wanting to just put together something for pure camp horror value , but that 's about as far as i can go . xxmaj the acting in this movie made the cast of the original xxmaj friday the 13th look like thespians doing a rendition of xxmaj macbeth . xxmaj campy requires bad acting , but come on . xxmaj pamela xxmaj springsteen as the evil out - of - touch - with - reality killer did a better job of killing off my interest than she did killing off the entire cast . xxmaj as far as comedy goes , there were a few times where i chuckled , but it was few and far between . \n",
              " \n",
              "  xxmaj ultimately , xxup sac xxup ii is pretty boring , and i really did want to sleep away the camp . xxmaj the deaths are so obviously staged and fake that you can barely appreciate them . xxmaj if you 're looking for a slasher film comedy with good camp , i recommend xxmaj club xxmaj dread . xxmaj if your channel surfing takes you across this one , check and see what else is on .,xxbos xxmaj wow . xxmaj some movies just leave me speechless . xxmaj this was undeniably one of those movies . xxmaj when i left the theatre , not a single word came to my mouth . xxmaj all i had was an incredible urge to slam my head against the theatre wall to help me forget about the last hour and a half . xxmaj unfortunately , it did n't work . xxmaj honestly , this movie has nothing to recommend . xxmaj the humor was at the first grade level , at best , the acting was overly silly , and the plot was astronomically far - fetched . i xxunk pledge never to see an other movie starring xxmaj chris xxmaj kattan or any other cast - member of xxup snl .,xxbos xxmaj as a youth pastor i heard good things about this movie . xxmaj then i watched it . xxmaj the acting was n't the best . xxmaj that 's forgivable . xxmaj it 's the message that 's not : xxmaj give xxmaj jesus your life and everything will change - you 'll tackle better , make amazing catches , stop fumbling , start making touchdown passes , and even make the playoffs . xxmaj all because xxmaj jesus magically turns horrible undersized weaklings into xxmaj all - xxmaj american athletes . i laughed out loud when a coach quoted scripture to explain to the kicker why he was missing field goals . xxmaj but wait , that 's not all . xxmaj you 'll get a brand new truck , a $ 6000 raise , and you and your wife 's struggle with infertility will suddenly end in pregnancy - twice . xxup then you 'll win the state championship because xxmaj god helps a weakling kick the winning field goal 12 yards further than he 's ever kicked before - and into the wind , no less - all because \" xxmaj god wanted him to make it . \" xxmaj then you 'll win the state championship again the next year . xxmaj none of this good stuff would have happened if the team had n't chosen to follow xxmaj jesus will all their hearts . \n",
              " \n",
              "  xxmaj here 's what i took away from the movie : xxmaj god can do anything he wants to do whenever he wants to do it - and it 's all about making our lives better , easier , and more enjoyable . xxmaj he chooses his favorite team and helps them win games . xxmaj which bible is this story based on ? i 'll bet xxmaj saint xxmaj stephen wished he 'd known the keys to such a safe life before he was stoned to death . xxmaj someone should have made this movie before 10 of the 11 apostles were killed for following xxmaj jesus . xxmaj it would have saved them all a lot of trouble .\n",
              "y: LMLabelList\n",
              ",,,,\n",
              "Path: /content/data/imdb;\n",
              "\n",
              "Valid: LabelList (10000 items)\n",
              "x: LMTextList\n",
              "xxbos xxmaj then this would be the last before last seduction , right ? xxmaj it will happen , i am positively sure . xxmaj but what about this movie ? xxmaj apparently it is bad if you have seen xxmaj the xxmaj last xxmaj seduction xxup period . i did not see that original and must say that i was pleasantly surprised by number xxup ii . i am convinced that it is in a entirely different vein , it is probably more a parody than a follow - up . i felt well entertained and often quite amused . \n",
              " \n",
              "  xxmaj is this a good bad movie ? xxmaj definitely ! xxmaj the action is supposed to take place mainly in xxmaj barcelona , xxmaj spain . xxmaj but the movie makers had to make do mainly with xxmaj cardiff , xxmaj wales , xxmaj great xxmaj britain . xxmaj so do not expect a presentation of the more glamorous parts of the capital of xxmaj xxunk in this movie , the place seems to be populated mainly by xxmaj brits here . xxmaj the storyline is a little sketchy , but where it is unconvincing it adds to the hilarious overall atmosphere . xxmaj and there really is quite some ( intentionally ) funny dialog , several good and quick verbal exchanges and a pretty elaborately laid out credit card scam angle which already is of a certain historical value . \n",
              " \n",
              "  xxmaj this certainly is a movie whose cast is above the material . xxmaj the majority of the actors and actresses are xxmaj british , and they know their trade . xxmaj the male lead is very convincing as sleazy wannabe gangster boss with a low xxup i.q. xxmaj joan xxmaj severance is pretty much the only xxmaj american in the cast , she puts the right amount of irony into her performance  and she really has extremely long legs . xxmaj there is also some great support by xxmaj spanish bit players ( the xxmaj spanish sounds at times a bit shaky , though  but what else can you expect in xxmaj cardiff ? ) . \n",
              " \n",
              "  xxmaj the xxmaj last xxmaj seduction xxup ii may also be pleasant to watch for feminists . xxmaj the two leading female parts order the macho guys around pretty much and are mostly on top . xxmaj the most funny scene for me was a simple extreme long shot of xxmaj severance and the male leading part walking down a street side by side . xxmaj the man is more than a full head shorter than his companion and although in full macho regalia he looks rumpled and thoroughly miserable . \n",
              " \n",
              "  xxmaj believe it or not  except for some unnecessary violence i can recommend this movie .,xxbos i discovered this movie via my xxunk for xxmaj jerry xxmaj goldsmith 's innovative ( for the period ) score ... highly recommended for its quintessential marriage of images and sounds ... \n",
              " \n",
              "  xxmaj the talent on view here , and the obvious xxunk its cast and crew have for this film ( evident in every frame ) make this a must see .,xxbos xxmaj this is hands down the greatest stand up show ever . i 've seen a lot of stand up shows , been to a lot of stand up shows , and watch xxmaj bet 's xxmaj comic xxmaj view , but i have never seen anyone who could match the skills of xxmaj murphy on this show . xxmaj the impressions are excellent , the skits are great , and the timing is perfect . xxmaj you can even tell the crowd gets really into . xxmaj when he did xxmaj raw a few years later it was also really good , but this is # 1 in my book . xxmaj also shows that at one time , particularly the early - to mid eighties , that xxmaj murphy was funny . xxmaj my favorite parts of the show is when he is retelling the family barbecue and \" xxmaj ice cream ! ! ! xxmaj xxunk xxrep 4 m ! ! xxmaj the ice cream man is coming xxrep 4 ! \" xxmaj another great part is where his mom is like xxmaj clint xxmaj eastwood .,xxbos xxmaj gregory 's xxmaj girl is a forerunner of films like xxmaj napoleon xxmaj dynamite and 40 xxmaj year xxmaj old xxmaj virgin and subtle like the former , not obvious like the latter . xxmaj if you were ever an innocent adolescent and can recall your first infatuation with a girl with a wry smile , then this will make you laugh at yourself and cry at the same time - what more can you ask from a film ? i can still remember the cinema , the seat , the friends i first saw this film with - myself xxmaj british and a friend xxmaj xxunk , both weeping with laughter as we recognised ourselves in that gawky xxmaj scottish lad , and his hilarious younger sister . xxmaj bill xxmaj forsyth went on to the film \" xxmaj local xxmaj hero \" , which is also right up there with the greats in my scoring . xxmaj he made films about real people and all our idiosyncrasies , and made me feel and enjoy at the same time . xxmaj favourite scene follows favourite scene - when xxmaj gregory walks in front of a car , his father is the driving instructor , when xxmaj gregory lies on the ground with \" not \" xxmaj gregory 's xxmaj girl , held onto the surface of the earth by \" the mysterious force of gravity \" , the boys out taking photos of a nurse undressing using so many elephants at xxup xxunk , xxmaj gregory spraying deodorant onto his shirt , his friend the expert chef , etc . i guess many xxmaj americans find the xxmaj scottish language incomprehensible - so put on the subtitles ! i can understand and enjoy xxmaj napoleon - you can enjoy xxmaj gregory !,xxbos xxmaj based on the story of xxmaj boss xxmaj tom xxmaj xxunk of xxmaj kansas xxmaj city who ruled the roost there succeeding brother xxmaj jim from xxmaj world xxmaj war i until the outbreak of xxmaj world xxmaj war xxup ii , xxmaj john xxmaj payne delivers a riveting portrayal of a political boss back in the day when these guys were at their heights running our nation 's cities . xxmaj mostly , but not all were xxmaj democrats who rounded up and registered the foreign ethnic populations and got them to vote for the party slate . xxmaj in the days before social welfare became a responsibility of government , these bosses while they enriched themselves also fed a lot of hungry people , giving them food and fuel for a winter . xxmaj tom xxmaj xxunk was no exception there . \n",
              " \n",
              "  xxmaj when talking about some of the facts of the xxmaj xxunk machine operation , the screenplay by xxmaj dalton xxmaj trumbo under the pseudonym xxmaj ben xxup l. xxmaj parry sticks pretty close to the facts . xxmaj in fact xxmaj xxunk did do the things described in the film to a country club that high hatted him . xxmaj the romantic angle however of xxmaj payne being in love with xxmaj doe xxmaj avedon who married best friend xxmaj william xxmaj bishop and then marrying plain xxmaj jane xxmaj gloria xxunk in a moment of drunken weakness is a complete fabrication . xxmaj in fact xxmaj xxunk 's private life as far as we know was a model of xxunk and he and his wife raised several children , unlike here where he 's shown to be a man alone even keeping his wife at room 's length away . \n",
              " \n",
              "  xxmaj the character of xxmaj joe xxmaj flynn , later xxmaj captain xxmaj xxunk on mchale 's xxmaj navy is xxmaj harry xxmaj truman who was a county judge ( commissioner ) for xxmaj jackson xxmaj county , xxmaj missouri and later xxmaj united xxmaj states xxmaj senator . xxmaj truman himself was honest , but he also winked and nodded at the corruption of others and some of the cronies he put into office as president embarrassed him no end . \n",
              " \n",
              "  xxmaj ward xxmaj boss xxmaj roy xxmaj roberts , xxmaj payne 's brother is xxmaj james xxmaj xxunk and it is true he ran a good chunk of xxmaj kansas xxmaj city from his saloon . xxmaj it 's also quite true that xxmaj xxunk did make a deal with organized crime there who did open speakeasies in xxmaj kansas xxmaj city like every place else in the xxup usa . xxmaj the famous xxmaj kansas xxmaj city massacre did have a bad effect on his public image although not as immediately influential in bringing him down as shown in xxmaj the xxmaj boss . \n",
              " \n",
              "  xxmaj the xxmaj boss is a no frills uncompromising look at the soft underbelly of corruption in xxmaj america back in the day . xxmaj it 's a well acted drama with xxmaj john xxmaj payne in one of his best dramatic performances .\n",
              "y: LMLabelList\n",
              ",,,,\n",
              "Path: /content/data/imdb;\n",
              "\n",
              "Test: None, model=SequentialRNN(\n",
              "  (0): AWD_LSTM(\n",
              "    (encoder): Embedding(60000, 400, padding_idx=1)\n",
              "    (encoder_dp): EmbeddingDropout(\n",
              "      (emb): Embedding(60000, 400, padding_idx=1)\n",
              "    )\n",
              "    (rnns): ModuleList(\n",
              "      (0): WeightDropout(\n",
              "        (module): LSTM(400, 1152, batch_first=True)\n",
              "      )\n",
              "      (1): WeightDropout(\n",
              "        (module): LSTM(1152, 1152, batch_first=True)\n",
              "      )\n",
              "      (2): WeightDropout(\n",
              "        (module): LSTM(1152, 400, batch_first=True)\n",
              "      )\n",
              "    )\n",
              "    (input_dp): RNNDropout()\n",
              "    (hidden_dps): ModuleList(\n",
              "      (0): RNNDropout()\n",
              "      (1): RNNDropout()\n",
              "      (2): RNNDropout()\n",
              "    )\n",
              "  )\n",
              "  (1): LinearDecoder(\n",
              "    (decoder): Linear(in_features=400, out_features=60000, bias=True)\n",
              "    (output_dp): RNNDropout()\n",
              "  )\n",
              "), opt_func=functools.partial(<class 'torch.optim.adam.Adam'>, betas=(0.9, 0.99)), loss_func=FlattenedLoss of CrossEntropyLoss(), metrics=[<function accuracy at 0x7f158c62f440>], true_wd=True, bn_wd=True, wd=0.01, train_bn=True, path=PosixPath('/content/data/imdb'), model_dir='models', callback_fns=[functools.partial(<class 'fastai.basic_train.Recorder'>, add_time=True, silent=False)], callbacks=[RNNTrainer\n",
              "learn: ...\n",
              "alpha: 2.0\n",
              "beta: 1.0, MixedPrecision\n",
              "learn: ...\n",
              "loss_scale: 65536\n",
              "max_noskip: 1000\n",
              "dynamic: True\n",
              "clip: None\n",
              "flat_master: False\n",
              "max_scale: 16777216\n",
              "loss_fp32: True], layer_groups=[Sequential(\n",
              "  (0): WeightDropout(\n",
              "    (module): LSTM(400, 1152, batch_first=True)\n",
              "  )\n",
              "  (1): RNNDropout()\n",
              "), Sequential(\n",
              "  (0): WeightDropout(\n",
              "    (module): LSTM(1152, 1152, batch_first=True)\n",
              "  )\n",
              "  (1): RNNDropout()\n",
              "), Sequential(\n",
              "  (0): WeightDropout(\n",
              "    (module): LSTM(1152, 400, batch_first=True)\n",
              "  )\n",
              "  (1): RNNDropout()\n",
              "), Sequential(\n",
              "  (0): Embedding(60000, 400, padding_idx=1)\n",
              "  (1): EmbeddingDropout(\n",
              "    (emb): Embedding(60000, 400, padding_idx=1)\n",
              "  )\n",
              "  (2): LinearDecoder(\n",
              "    (decoder): Linear(in_features=400, out_features=60000, bias=True)\n",
              "    (output_dp): RNNDropout()\n",
              "  )\n",
              ")], add_time=True, silent=False)"
            ]
          },
          "metadata": {
            "tags": []
          },
          "execution_count": 123
        }
      ]
    },
    {
      "cell_type": "markdown",
      "metadata": {
        "id": "-MuOkG_4WpL9"
      },
      "source": [
        "#### The first step in fine-tuning is to train only the last layer of the model. \n",
        "This takes about a half-hour on an NVIDIA RTX-2070 GPU"
      ]
    },
    {
      "cell_type": "code",
      "metadata": {
        "colab": {
          "base_uri": "https://localhost:8080/",
          "height": 81
        },
        "id": "pGvnToLWWpL9",
        "outputId": "35c02c1f-6991-4359-b35d-a2f00de0abfd"
      },
      "source": [
        "learn_lm.fit_one_cycle(1, lr*10, moms=(0.8,0.7))"
      ],
      "execution_count": null,
      "outputs": [
        {
          "output_type": "display_data",
          "data": {
            "text/html": [
              "<table border=\"1\" class=\"dataframe\">\n",
              "  <thead>\n",
              "    <tr style=\"text-align: left;\">\n",
              "      <th>epoch</th>\n",
              "      <th>train_loss</th>\n",
              "      <th>valid_loss</th>\n",
              "      <th>accuracy</th>\n",
              "      <th>time</th>\n",
              "    </tr>\n",
              "  </thead>\n",
              "  <tbody>\n",
              "    <tr>\n",
              "      <td>0</td>\n",
              "      <td>4.159915</td>\n",
              "      <td>4.332541</td>\n",
              "      <td>0.271429</td>\n",
              "      <td>47:43</td>\n",
              "    </tr>\n",
              "  </tbody>\n",
              "</table>"
            ],
            "text/plain": [
              "<IPython.core.display.HTML object>"
            ]
          },
          "metadata": {
            "tags": []
          }
        }
      ]
    },
    {
      "cell_type": "markdown",
      "metadata": {
        "id": "gGMOdzpiWpL-"
      },
      "source": [
        "Since this is relatively slow to train, we will save our weights:"
      ]
    },
    {
      "cell_type": "code",
      "metadata": {
        "id": "bOCPvoISWpL-"
      },
      "source": [
        "learn_lm.save('fit_1')"
      ],
      "execution_count": null,
      "outputs": []
    },
    {
      "cell_type": "code",
      "metadata": {
        "colab": {
          "base_uri": "https://localhost:8080/"
        },
        "id": "OgLlzOVHWpL-",
        "outputId": "bbc90faf-645b-4fbe-d877-a4e58ed4d81a"
      },
      "source": [
        "learn_lm.load('fit_1')"
      ],
      "execution_count": null,
      "outputs": [
        {
          "output_type": "execute_result",
          "data": {
            "text/plain": [
              "LanguageLearner(data=TextLMDataBunch;\n",
              "\n",
              "Train: LabelList (90000 items)\n",
              "x: LMTextList\n",
              "xxbos i saw this film again and noticed how close it is to the novel if we ignore the part about xxmaj cary 's [ xxmaj leslie xxmaj howard ] childhood . xxmaj considering that \n",
              " \n",
              "  at the time not much can be shown on the screen , [ not that there is much in the novel ] the obsession of the character with xxmaj mildred [ xxmaj bette xxmaj davis ] is very well conveyed to the audience . i recommend this film to anyone who ever fell for another person and the other side tried to take advantage of him or her . i have read that xxmaj maugham was asked to make a recording of the novel for sale , but when he started to in the studio he began crying and could not finish more than a few lines and whole project was chucked . xxmaj one can tell the novel is written from the heart and the film is a good \n",
              " \n",
              "  adaptation of a part of it at least .,xxbos xxmaj ah , noir . xxmaj my favourite genre . xxmaj otto xxmaj preminger 's follow - up to \" xxmaj laura \" is a film noir set in a postwar xxmaj new xxmaj york , where corruption and violence run rampant . xxmaj it stars xxmaj dana xxmaj andrews as xxmaj sergeant xxmaj mark xxmaj dixon , a detective whose brutal tactics have landed him in hot water with his superiors . \n",
              " \n",
              "  xxmaj when he accidentally kills a murder suspect , xxmaj dixon tries to pin the blame on crime boss xxmaj tommy xxmaj xxunk . xxmaj dixon is close to achieving his goal when he becomes involved with the dead man 's wife , the beautiful xxmaj morgan xxmaj taylor . xxmaj of course , in typical noir fashion , things quickly go down hill . \n",
              " \n",
              "  xxmaj while the film does nothing interesting camera or narrative wise , it does have a constant tone of dread and gloom . xxmaj like most great noirs , it is also wonderfully paced , sucking the viewer in right from the start . \n",
              " \n",
              "  xxmaj still , like most of xxmaj preminger 's workmanlike films , it 's not something i 'd watch again . xxmaj it lacks the verbal wit of xxmaj wilder , the visual flamboyance of xxmaj hitchcock or the spatial experimentation of xxmaj welles . xxmaj like xxmaj lang 's later work , \" xxmaj sidewalk \" feels very much a \" clone \" of what a noir should be , instead of something really artistically genuine . \n",
              " \n",
              "  xxmaj thematically the film is nothing special . xxmaj it 's about a cop who finds himself slowly becoming a criminal . xxmaj in one scene xxmaj dixon explains that his father himself was a small time crook , the film flirting with the notion of predestination , but this one scene is as far as xxmaj otto goes , or dares to take his ideas . \n",
              " \n",
              "  xxmaj the camera work is likewise disappointing . xxmaj there 's no intelligence in xxmaj otto 's camera . xxmaj no effort is made to assign the camera to anything . xxmaj it does n't play with space or architecture or xxunk the step - by - step police procedural . xxmaj it 's just tripod set ups with the occasional dolly in and out . xxmaj meaningless , though most people do n't care about these things . \n",
              " \n",
              "  xxmaj there is , however , one good shot where our hero is trapped in a car full of gangsters ( noir cage ) which itself enters a vehicle - lift ( another cage ) and is taken up into the chief gangster 's lair . xxmaj like xxmaj lynch 's \" xxmaj blue xxmaj velvet \" , xxmaj otto xxunk the film , constantly likens \" upstairs \" to hell . xxmaj this works well , but the set design fails to reinforce it . \n",
              " \n",
              "  7 / 10 - xxmaj otto seems content to follow the xxmaj hawksian mould of what a noir is , rather than toy with the possibilities of where noir can go . xxmaj like \" xxmaj detour \" , \" xxmaj night in the xxmaj city \" , \" xxmaj scarlet xxmaj street \" , \" xxmaj in a xxmaj lonely xxmaj place \" , \" xxmaj act of xxmaj violence \" , \" xxmaj xxunk \" and \" xxmaj johnny xxmaj eager \" , \" xxmaj where the xxmaj sidewalk xxmaj ends \" is one of those well made second tier film noirs . xxmaj it 's competent and engaging , but lacks that extra special magic .,xxbos i was drawn to xxup dan xxup in xxup real xxup life from the excellent reviews and the thirst for a xxmaj dramedy that was well written - thank you xxmaj peter xxmaj hedges - and because when xxmaj steve xxmaj carell stars in the film , you know an audience is going to find like in xxup little xxup miss xxup sunshine , a performance that is very entertaining and rewarding . xxup dan xxup in xxup real xxup life delivered that promise . \n",
              " \n",
              "  xxmaj the film is so real to many families world wide that have lost a member and yet have gone on with their lives in search of something that will give them the magic back before their loss . xxmaj with xxmaj steve xxmaj carell and the wondrous xxmaj juliette xxmaj binoche , their relationship was so beautifully done and written that their scenes were so real to their characters and to their journeys . xxmaj the cast , sets and story made xxup dan xxup in xxup real xxup life one to remember as we head into the holidays ahead .,xxbos xxmaj it 's very sly for all of the 60 's look to the movie . xxmaj the humor is quite gentle , but it grew on me much more than i expected . xxmaj the cast is first - rate and they appear to be having a wonderful time . xxmaj ustinov wanders through the film muttering some quite funny things under his breath , and it 's all very inconsequential ; i 'll buy the movie as soon as it comes out on xxup dvd . xxmaj the plot is that xxmaj ustinov as an embezzler released from prison posing as a computer whiz and embezzling money from an xxmaj american company with an office in xxmaj london . xxmaj maggie xxmaj smith is his secretary for a while , and watching her get fired from many different jobs is part of the fun . xxmaj bob xxmaj newhart is his usual deadpan self , and xxmaj karl xxmaj malden has fun as the dense and sleazy executive running the xxmaj london office . xxmaj the ending is funny and nicely cynical .,xxbos xxmaj clint xxmaj eastwood has definitely produced better movies than this , but this one does not embarrass him . xxmaj dirty xxmaj harry catches everyone 's attention and unless one wants to watch romance , there is no reason why you wo n't like him . xxmaj he is cool because he is dirty , is great because he kills without much thinking , is perfect because he gets the bullet right through your heart and a hero because he does n't care . \n",
              " \n",
              "  xxmaj from what i have seen in movies in which xxmaj eastwood acts , the character of the lead role always captivates the audience . xxmaj in xxmaj white xxmaj hunter xxmaj black heart , he is the crazy director , in \" in the xxmaj line of xxmaj fire \" he is the \" xxmaj old ' un \" while here is the \" almost \" jobless with his job , that is to say he makes work for himself , does n't care one damn about his superiors who practically send him out for a vacation . \n",
              " \n",
              "  xxmaj based on a rape victim , this movie is promising for all the \" no non - sense \" movie watchers . xxmaj the movie has nothing that goes away from he central plot . xxmaj however , what makes it slightly inferior to the better movies of xxmaj eastwood is that though the character of the lead role is captivating the plot is not , as it is far too obvious from the beginning . xxmaj it is not a movie that is going to make you sit at a place without moving . xxmaj also , there are too many people far dirtier than xxmaj dirty harry .\n",
              "y: LMLabelList\n",
              ",,,,\n",
              "Path: /content/data/imdb;\n",
              "\n",
              "Valid: LabelList (10000 items)\n",
              "x: LMTextList\n",
              "xxbos xxmaj this movie gives teenagers and pre - teens a bad name , we are not all giggly little school girls who prance around and act all ' grown up ' xxmaj its so childish , and is a complete and utter embarrassment . xxmaj throughout the film i was cringing in my seat and praying for it to end . \n",
              " \n",
              "  xxmaj various films like ' mean girls ' and ' xxunk ' were genius and i felt ' xxmaj angus thongs and perfect snogging ' was n't up to that level at all . xxmaj georgia is portrayed as a little brat , and each character has no depth whatsoever , who cares what happens ! xxmaj the acting was awful , they simply could n't , and compared to ' bend it like beckham , also directed by xxmaj gurinder xxmaj chadha this is an utter failure . \n",
              " \n",
              "  xxmaj keira knightly was brilliant and so was xxmaj parminder xxmaj nagra , but in this film there seems to be no talent whatsoever . \n",
              " \n",
              "  xxmaj overall i was very disappointed and compared to the books there seemed no connection between them at all , save your money and your time , and watch dark night it ' xxunk xxup :d,xxbos xxmaj the story line goes thusly : \n",
              " \n",
              "  xxmaj abroad ! the term itself has a kind of honey - money reminding effect ! xxmaj indian men are ready to wash dishes and be a waiter , drive cabs , sweep the xxmaj airport premises to keep it clean \n",
              " all this just to be in a foreign land as they get paid in dollars - which when converted to xxmaj indian currency makes him a rich and sought after groom in xxmaj india . \n",
              " \n",
              "  xxmaj indian parents , of daughters especially , forget everything else when they see that a man is having a bank balance good enough to support their daughter for the rest of her life ! xxmaj this happens probably in the following circumstances : 1 . parents are illiterate and do not believe / understand / know that literacy can help . xxmaj so they never educated their daughter as its an age old adage that a woman is but a machine to continue with the progeny of whichever family she weds  be it xxmaj xxunk or xxmaj xxunk ! 2 . xxmaj both parents along with children are foreign crazy \n",
              " xxunk habits die hard  or maybe genetically transmitted . xxmaj have you noticed dear xxmaj indians \n",
              " . whenever there is a movie showing struggle for independence , it is usually shown that one or two xxmaj british officers are commanding and giving orders to their xxunk the xxmaj indian subordinates  working as soldiers  and in fact they are the ones  xxmaj indians ie , who used to charge the freedom fighters ( xxup ff ) with xxunk and even gunned them xxunk please do not give me examples of 2 - 3 such soldiers out of 500 - 1000 soldiers working as spies to the xxup ff  i am talking about majority  xxmaj might is right \n",
              " ? xxmaj is'nt it ?  here i would in fact like to appreciate the xxmaj british officers to train the otherwise sluggish xxmaj indians and made them work \n",
              " for them of course ! what motivation they must have had .. by the virtue of which they counseled their xxmaj indian soldiers ( ie . working under their wing )  to kill the xxmaj indian xxup ff . \n",
              " \n",
              "  3 . xxmaj now dear xxmaj indian they must have also got married \n",
              " .what does one do after marriage  but of course ! no points for that \n",
              " xxunk give birth to a baby ! - the reason why people get married in the first place !  to make a woman complete !  she .. it seems is incomplete without the experience of a baby crying at midnight for milk or nappy change \n",
              " - anyways suffice to say that even their generation has grown  and probably they are the ones who indulge in all the things which cause general ruckus and unrest in the country  like  boozing , mid - night partying , womanizing  collecting wine , wealth and woman in their database  not bothering about anything else  just following the drain culture and copying the foreigners in every possible way \n",
              " xxunk taught to them by their forefathers ! xxmaj select few might not be so .. the ones who used to be spies to the xxup ff \n",
              "  4 . xxmaj continuing with the circumstances which cause the xxmaj indian parents we d their daughters with foreign based men \n",
              " .. in spite of several told and untold miseries such marriages bring about !  xxmaj basically lack of knowledge and education and also probably lots of greed for money  which can buy one new expensive dresses and jewelry \n",
              " another set of necessities required to make a woman complete \n",
              " or look good enough in order to turn on the husband who will eventually part with his secretions ( refer movie \" xxmaj look who is talking too \" title sequence - where the xxunk is shown in 3-d animation \n",
              " made the xxunk look like devils \n",
              " traveling through the xxunk tube & later only one succeed in invading the wall of the xxunk ) and give the greatest opportunity to a xxmaj woman  motherhood ! .. to be later kicked by them , as shown in xxmaj xxunk \n",
              "  xxmaj anyways story of xxmaj aa ab xxunk xxunk  xxmaj so the hero wants to make quick easy money  gets hooked on to a rich girl  who has shown a lot of her skin , cleavage xxunk who xxunk and drinks  dances with other boys and treat him as dirt  but greed keeps him clinging to her . \n",
              " \n",
              "  xxmaj in the meanwhile xxmaj aishwarya ( heroine ) also lands up in foreign  she had also come to try her luck in marriage  the only vital reason of human birth , meets him and falls in love with him ! xxmaj he turns her down as is has a better deal in hand  a rich , well endowed , beautiful , seductress looking woman for whom all men yearn ! xxmaj ash , in order to win his heart tries to look voluptuous and seductress by wearing skimpy outfits as suggested to her by xxmaj indian cab drivers , and others of their category , but it does not work ... she sings thusly : dear dear turn around your sight  your heart is here  where else are you looking ! \n",
              " its night there  its only here ( with me ) that 's broad daylight ) xxmaj heart broken she joins as a nurse to a multi billionaire who is xxmaj xxunk 's ( hero 's ) actual father actually  had xxunk his mother and later had settled down in foreign and was living happily ever after with wife and child . xxmaj his mother , who was a pure , chaste , innocent & religious xxmaj indian woman kept the child  which she had conceived out of wedlock ( a momentary lapse had made her forget totally about chastity , purity , innocence and religion btw . ) .,xxbos xxmaj do n't get me wrong , xxmaj dan xxmaj jansen was a great speed skater . xxmaj if there was one guy who deserved his gold medal at the xxmaj olympics it was xxmaj dan . \n",
              " \n",
              "  xxmaj but how can it be possible that xxmaj bill xxmaj corcoran has made such a bad movie about the incredible xxmaj dan xxmaj jansen story , because the real xxmaj dan xxmaj jansen story is truly incredible ! xxmaj especially when you look at this movie through the eyes of a sportsman everything is wrong , the way xxmaj matt xxmaj xxunk and the other actors skate , their technique , the dimensions of the xxunk oval , it is all wrong ! \n",
              " \n",
              "  xxmaj shame on you , xxmaj bill xxmaj corcoran , xxmaj dan xxmaj jansen deserves better , a lot better ! \n",
              " \n",
              "  1 out of 10,xxbos xxmaj do n't answer that ! xxmaj obviously what sunk this movie was the tiny budget and the utter amateurishness of the writer / director . xxmaj the plot reads like a ninth grade school boy 's attempts to reproduce xxmaj robert xxup e. xxmaj howard or xxup h.p. xxmaj lovecraft - some weird melange about a lost city and a sacrificial cult and an exiled loner and a chase into the lost wastelands of xxmaj xxunk ... er , or at least rural xxmaj canada . \n",
              " \n",
              "  xxmaj anyway , there are actually elements of a decent movie in here ... they just get torpedoed by bad choices in almost every scene . xxmaj the movie does give a sense of the isolation and loneliness of the land . \" xxmaj zap \" is something of a lunk , but he is an agreeable lunk , and makes a believable ' xxmaj everyman ' character , even if he is something less than magnetic or inspiring . xxmaj the guy playing the villain seems to have modeled himself after the xxmaj tall xxmaj man from \" xxmaj phantasm \" ( not a bad choice , really ) , but instead of having the xxmaj tall xxmaj man 's menacing xxunk , he seems to be choking on a xxunk of phlegm . \n",
              " \n",
              "  xxmaj in fact , given a real budget and a real director and some decent film stock , the 3 main actors might have been able to pull off something that did n't resemble xxmaj amateur xxmaj night at the local community theater ... but these poor fellows are completely over their heads . i 'll say this for them , they gave it a good try . \n",
              " \n",
              "  xxmaj oh , and the soundtrack : it 's one guy with a synthesizer . xxmaj and it manages to be incredibly ambitious xxup and irritating . xxmaj the composer shifts and changes moods dozens of times , sometimes within the same scene , varying wildly from \" xxmaj beethoven 's xxmaj fifth with xxunk \" to \" xxmaj video xxmaj poker xxmaj music \" ( from xxmaj mike xxmaj nelson 's xxup mst3 k coverage ) in an attempt to drum up some excitement . xxmaj but it actually turns out to be one of the film 's biggest problems . xxmaj it 's like having a xxunk band provide background music for your dinner party - no matter how many xxunk and riffs and themes they play , it 's still xxunk music , and you wish they 'd shut up and let some actual instruments play ... or even allow some restful silence . \n",
              " \n",
              "  xxmaj and just when i thought i was going to be able to at least accept this movie on its own terms without giggling hysterically at every new scene , along comes a character channeling xxmaj yosemite xxmaj sam . xxmaj yosemite xxmaj sam is a great xxmaj warner xxmaj brothers cartoon character , but for xxmaj god 's sake , what is he doing in this movie ? ? ? \n",
              " \n",
              "  xxup xxunk , as silly and amateurish as this movie is , no way does it deserve to be this deep into the xxmaj bottom 100 . xxmaj it 's a very earnest little number that tries to be \" about \" something ; and while the actors are unskilled and badly directed , they do n't ham it up or chew the scenery , and they come across as sympathetic and xxunk 's more than you can say about ' xxmaj hobgoblins ' or ' xxmaj space xxmaj mutiny ' ) .,xxbos xxmaj alright , this film was n't the best in the world . xxmaj in fact , it probably ranks in the bottom half . xxmaj most of the film was n't very good or inspiring but the bit that caught my eye was the sequence near the end were xxmaj wind and xxmaj fung were battling it out in the rain . xxmaj that was probably the best bit . xxmaj some good xxmaj hong - xxmaj kong xxmaj wire works but no xxmaj crouching xxmaj tiger xxmaj hidden xxmaj dragon .\n",
              "y: LMLabelList\n",
              ",,,,\n",
              "Path: /content/data/imdb;\n",
              "\n",
              "Test: None, model=SequentialRNN(\n",
              "  (0): AWD_LSTM(\n",
              "    (encoder): Embedding(60000, 400, padding_idx=1)\n",
              "    (encoder_dp): EmbeddingDropout(\n",
              "      (emb): Embedding(60000, 400, padding_idx=1)\n",
              "    )\n",
              "    (rnns): ModuleList(\n",
              "      (0): WeightDropout(\n",
              "        (module): LSTM(400, 1152, batch_first=True)\n",
              "      )\n",
              "      (1): WeightDropout(\n",
              "        (module): LSTM(1152, 1152, batch_first=True)\n",
              "      )\n",
              "      (2): WeightDropout(\n",
              "        (module): LSTM(1152, 400, batch_first=True)\n",
              "      )\n",
              "    )\n",
              "    (input_dp): RNNDropout()\n",
              "    (hidden_dps): ModuleList(\n",
              "      (0): RNNDropout()\n",
              "      (1): RNNDropout()\n",
              "      (2): RNNDropout()\n",
              "    )\n",
              "  )\n",
              "  (1): LinearDecoder(\n",
              "    (decoder): Linear(in_features=400, out_features=60000, bias=True)\n",
              "    (output_dp): RNNDropout()\n",
              "  )\n",
              "), opt_func=functools.partial(<class 'torch.optim.adam.Adam'>, betas=(0.9, 0.99)), loss_func=FlattenedLoss of CrossEntropyLoss(), metrics=[<function accuracy at 0x7f1eec529e60>], true_wd=True, bn_wd=True, wd=0.01, train_bn=True, path=PosixPath('/content/data/imdb'), model_dir='models', callback_fns=[functools.partial(<class 'fastai.basic_train.Recorder'>, add_time=True, silent=False)], callbacks=[RNNTrainer\n",
              "learn: ...\n",
              "alpha: 2.0\n",
              "beta: 1.0], layer_groups=[Sequential(\n",
              "  (0): WeightDropout(\n",
              "    (module): LSTM(400, 1152, batch_first=True)\n",
              "  )\n",
              "  (1): RNNDropout()\n",
              "), Sequential(\n",
              "  (0): WeightDropout(\n",
              "    (module): LSTM(1152, 1152, batch_first=True)\n",
              "  )\n",
              "  (1): RNNDropout()\n",
              "), Sequential(\n",
              "  (0): WeightDropout(\n",
              "    (module): LSTM(1152, 400, batch_first=True)\n",
              "  )\n",
              "  (1): RNNDropout()\n",
              "), Sequential(\n",
              "  (0): Embedding(60000, 400, padding_idx=1)\n",
              "  (1): EmbeddingDropout(\n",
              "    (emb): Embedding(60000, 400, padding_idx=1)\n",
              "  )\n",
              "  (2): LinearDecoder(\n",
              "    (decoder): Linear(in_features=400, out_features=60000, bias=True)\n",
              "    (output_dp): RNNDropout()\n",
              "  )\n",
              ")], add_time=True, silent=False)"
            ]
          },
          "metadata": {
            "tags": []
          },
          "execution_count": 62
        }
      ]
    },
    {
      "cell_type": "markdown",
      "metadata": {
        "id": "J6CA9xANWpL-"
      },
      "source": [
        "#### To complete the fine-tuning, we unfreeze all the weights and retrain\n",
        "Adopting the `wikitext-103` weights as initial values, our neural network will adjust them via optimization, finding new values that are specialized to the \"language\" of `IMDb` movie reviews."
      ]
    },
    {
      "cell_type": "code",
      "metadata": {
        "id": "5FWAkozpWpL-"
      },
      "source": [
        "learn_lm.unfreeze()"
      ],
      "execution_count": null,
      "outputs": []
    },
    {
      "cell_type": "markdown",
      "metadata": {
        "id": "FIu2mtkrWpL-"
      },
      "source": [
        "Fine tuning the model takes ~30 minutes per epoch on an NVIDIA RTX-2070 GPU, with bs=48<br>\n",
        "Note the relatively low value of accuracy, which did not improve significantly beyond `epoch 4`."
      ]
    },
    {
      "cell_type": "code",
      "metadata": {
        "scrolled": false,
        "colab": {
          "base_uri": "https://localhost:8080/",
          "height": 158
        },
        "id": "_nqaQuApWpL-",
        "outputId": "6d352ee4-f4da-4131-cfda-a628a795be6b"
      },
      "source": [
        "learn_lm.fit_one_cycle(10, lr, moms=(0.8,0.7))"
      ],
      "execution_count": null,
      "outputs": [
        {
          "output_type": "display_data",
          "data": {
            "text/html": [
              "\n",
              "    <div>\n",
              "        <style>\n",
              "            /* Turns off some styling */\n",
              "            progress {\n",
              "                /* gets rid of default border in Firefox and Opera. */\n",
              "                border: none;\n",
              "                /* Needs to be in here for Safari polyfill so background images work as expected. */\n",
              "                background-size: auto;\n",
              "            }\n",
              "            .progress-bar-interrupted, .progress-bar-interrupted::-webkit-progress-bar {\n",
              "                background: #F44336;\n",
              "            }\n",
              "        </style>\n",
              "      <progress value='2' class='' max='10' style='width:300px; height:20px; vertical-align: middle;'></progress>\n",
              "      20.00% [2/10 1:48:20<7:13:21]\n",
              "    </div>\n",
              "    \n",
              "<table border=\"1\" class=\"dataframe\">\n",
              "  <thead>\n",
              "    <tr style=\"text-align: left;\">\n",
              "      <th>epoch</th>\n",
              "      <th>train_loss</th>\n",
              "      <th>valid_loss</th>\n",
              "      <th>accuracy</th>\n",
              "      <th>time</th>\n",
              "    </tr>\n",
              "  </thead>\n",
              "  <tbody>\n",
              "    <tr>\n",
              "      <td>0</td>\n",
              "      <td>3.851619</td>\n",
              "      <td>4.051130</td>\n",
              "      <td>0.285714</td>\n",
              "      <td>54:11</td>\n",
              "    </tr>\n",
              "    <tr>\n",
              "      <td>1</td>\n",
              "      <td>3.826834</td>\n",
              "      <td>4.013128</td>\n",
              "      <td>0.300000</td>\n",
              "      <td>54:08</td>\n",
              "    </tr>\n",
              "  </tbody>\n",
              "</table><p>\n",
              "\n",
              "    <div>\n",
              "        <style>\n",
              "            /* Turns off some styling */\n",
              "            progress {\n",
              "                /* gets rid of default border in Firefox and Opera. */\n",
              "                border: none;\n",
              "                /* Needs to be in here for Safari polyfill so background images work as expected. */\n",
              "                background-size: auto;\n",
              "            }\n",
              "            .progress-bar-interrupted, .progress-bar-interrupted::-webkit-progress-bar {\n",
              "                background: #F44336;\n",
              "            }\n",
              "        </style>\n",
              "      <progress value='1709' class='' max='8056' style='width:300px; height:20px; vertical-align: middle;'></progress>\n",
              "      21.21% [1709/8056 11:29<42:39 3.7674]\n",
              "    </div>\n",
              "    "
            ],
            "text/plain": [
              "<IPython.core.display.HTML object>"
            ]
          },
          "metadata": {
            "tags": []
          }
        }
      ]
    },
    {
      "cell_type": "markdown",
      "metadata": {
        "id": "1_c5GM_hWpL-"
      },
      "source": [
        "#### Save the fine-tuned **language model** and the **encoder**\n",
        "We have to save not just the `fine-tuned` **IMDb language model** but also its **encoder**. The **language model** is the part that tries to guess the next word. The **encoder** is the part that's responsible for creating and updating the hidden state. \n",
        "\n",
        "In the next part we will build a **sentiment classifier** for the IMDb movie reviews. To do this we will need the **encoder** from the **IMDb language model** that we built."
      ]
    },
    {
      "cell_type": "code",
      "metadata": {
        "id": "vSFiGgrIWpL_"
      },
      "source": [
        "learn_lm.save('fine_tuned')"
      ],
      "execution_count": null,
      "outputs": []
    },
    {
      "cell_type": "code",
      "metadata": {
        "id": "bHYWHFudWpL_"
      },
      "source": [
        "learn_lm.save_encoder('fine_tuned_enc')"
      ],
      "execution_count": null,
      "outputs": []
    },
    {
      "cell_type": "markdown",
      "metadata": {
        "heading_collapsed": true,
        "id": "gA7WKhwxWpL_"
      },
      "source": [
        "#### Load the saved **model** and its **encoder**"
      ]
    },
    {
      "cell_type": "code",
      "metadata": {
        "hidden": true,
        "id": "D4IorgzsWpL_",
        "outputId": "4becb877-1384-434d-c364-2e11fe4d58f4"
      },
      "source": [
        "learn_lm.load('fine_tuned')"
      ],
      "execution_count": null,
      "outputs": [
        {
          "output_type": "execute_result",
          "data": {
            "text/plain": [
              "LanguageLearner(data=TextLMDataBunch;\n",
              "\n",
              "Train: LabelList (90000 items)\n",
              "x: LMTextList\n",
              "  xxwrep 18 xxbos xxmaj once again xxmaj mr. xxmaj costner has dragged out a movie for far longer than necessary . xxmaj aside from the terrific sea rescue sequences , of which there are very few i just did not care about any of the characters . xxmaj most of us have ghosts in the closet , and xxmaj costner 's character are realized early on , and then forgotten until much later , by which time i did not care . xxmaj the character we should really care about is a very cocky , overconfident xxmaj ashton xxmaj kutcher . xxmaj the problem is he comes off as kid who thinks he 's better than anyone else around him and shows no signs of a cluttered closet . xxmaj his only obstacle appears to be winning over xxmaj costner . xxmaj finally when we are well past the half way point of this stinker , xxmaj costner tells us all about xxmaj kutcher 's ghosts . xxmaj we are told why xxmaj kutcher is driven to be the best with no prior inkling or foreshadowing . xxmaj no magic here , it was all i could do to keep from turning it off an hour in .,  xxwrep 18 xxbos xxmaj this is an example of why the majority of action films are the same . xxmaj generic and boring , there 's really nothing worth watching here . a complete waste of the then barely - tapped talents of xxmaj ice - t and xxmaj ice xxmaj cube , who 've each proven many times over that they are capable of acting , and acting well . xxmaj do n't bother with this one , go see xxmaj new xxmaj jack xxmaj city , xxmaj ricochet or watch xxmaj new xxmaj york xxmaj undercover for xxmaj ice - t , or xxmaj boyz n the xxmaj hood , xxmaj higher xxmaj learning or xxmaj friday for xxmaj ice xxmaj cube and see the real deal . xxmaj ice - t 's horribly cliched dialogue alone makes this film grate at the teeth , and i 'm still wondering what the heck xxmaj bill xxmaj paxton was doing in this film ? xxmaj and why the heck does he always play the exact same character ? xxmaj from xxmaj aliens onward , every film i 've seen with xxmaj bill xxmaj paxton has him playing the exact same irritating character , and at least in xxmaj aliens his character died , which made it somewhat gratifying ... \n",
              " \n",
              "  xxmaj overall , this is second - rate action trash . xxmaj there are countless better films to see , and if you really want to see this one , watch xxmaj judgement xxmaj night , which is practically a carbon copy but has better acting and a better script . xxmaj the only thing that made this at all worth watching was a decent hand on the camera - the cinematography was almost refreshing , which comes close to making up for the horrible film itself - but not quite . 4 / 10 .,  xxwrep 18 xxbos xxmaj first of all i hate those moronic rappers , who could'nt act if they had a gun pressed against their foreheads . xxmaj all they do is curse and shoot each other and acting like xxunk version of gangsters . \n",
              " \n",
              "  xxmaj the movie does n't take more than five minutes to explain what is going on before we 're already at the warehouse xxmaj there is not a single sympathetic character in this movie , except for the homeless guy , who is also the only one with half a brain . \n",
              " \n",
              "  xxmaj bill xxmaj paxton and xxmaj william xxmaj sadler are both hill billies and xxmaj xxunk character is just as much a villain as the gangsters . i did'nt like him right from the start . \n",
              " \n",
              "  xxmaj the movie is filled with pointless violence and xxmaj walter xxmaj hills specialty : people falling through windows with glass flying everywhere . xxmaj there is pretty much no plot and it is a big problem when you root for no - one . xxmaj everybody dies , except from xxmaj paxton and the homeless guy and everybody get what they deserve . \n",
              " \n",
              "  xxmaj the only two black people that can act is the homeless guy and the junkie but they 're actors by profession , not annoying ugly brain dead rappers . \n",
              " \n",
              "  xxmaj stay away from this crap and watch 48 hours 1 and 2 instead . xxmaj at lest they have characters you care about , a sense of humor and nothing but real actors in the cast .,  xxwrep 18 xxbos xxmaj not even the xxmaj beatles could write songs everyone liked , and although xxmaj walter xxmaj hill is no mop - top he 's second to none when it comes to thought provoking action movies . xxmaj the nineties came and social platforms were changing in music and film , the emergence of the xxmaj rapper turned movie star was in full swing , the acting took a back seat to each man 's overpowering regional accent and transparent acting . xxmaj this was one of the many ice - t movies i saw as a kid and loved , only to watch them later and cringe . xxmaj bill xxmaj paxton and xxmaj william xxmaj sadler are firemen with basic lives until a burning building tenant about to go up in flames hands over a map with gold implications . i hand it to xxmaj walter for quickly and neatly setting up the main characters and location . xxmaj but i fault everyone involved for turning out xxmaj lame - o performances . xxmaj ice - t and cube must have been red hot at this time , and while i 've enjoyed both their careers as rappers , in my opinion they fell flat in this movie . xxmaj it 's about ninety minutes of one guy ridiculously turning his back on the other guy to the point you find yourself locked in multiple states of disbelief . xxmaj now this is a movie , its not a documentary so i wo nt waste my time recounting all the stupid plot twists in this movie , but there were many , and they led nowhere . i got the feeling watching this that everyone on set was xxunk of confused and just playing things off the cuff . xxmaj there are two things i still enjoy about it , one involves a scene with a needle and the other is xxmaj sadler 's huge 45 pistol . xxmaj bottom line this movie is like domino 's pizza . xxmaj yeah ill eat it if i 'm hungry and i do n't feel like cooking , xxmaj but i 'm well aware it tastes like crap . 3 stars , meh .,  xxwrep 18 xxbos xxmaj brass pictures ( movies is not a fitting word for them ) really are somewhat brassy . xxmaj their alluring visual qualities are reminiscent of expensive high class xxup tv commercials . xxmaj but unfortunately xxmaj brass pictures are feature films with the pretense of wanting to entertain viewers for over two hours ! xxmaj in this they fail miserably , their undeniable , but rather soft and flabby than steamy , erotic qualities non withstanding . \n",
              " \n",
              "  xxmaj senso ' 45 is a remake of a film by xxmaj luchino xxmaj visconti with the same title and xxmaj alida xxmaj valli and xxmaj farley xxmaj granger in the lead . xxmaj the original tells a story of senseless love and lust in and around xxmaj venice during the xxmaj italian wars of independence . xxmaj brass moved the action from the 19th into the 20th century , 1945 to be exact , so there are xxmaj mussolini murals , men in black shirts , xxmaj german uniforms or the tattered garb of the partisans . xxmaj but it is just window dressing , the historic context is completely negligible . \n",
              " \n",
              "  xxmaj anna xxmaj xxunk plays the attractive aristocratic woman who falls for the amoral xxup ss guy who always puts on too much lipstick . xxmaj she is an attractive , versatile , well trained xxmaj italian actress and clearly above the material . xxmaj her wide range of facial expressions ( xxunk boredom , loathing , delight , fear , hate ... and ecstasy ) are the best reason to watch this picture and worth two stars . xxmaj she endures this basically trashy stuff with an astonishing amount of dignity . i wish some really good parts come along for her . xxmaj she really deserves it .\n",
              "y: LMLabelList\n",
              ",,,,\n",
              "Path: C:\\Users\\cross-entropy\\.fastai\\data\\imdb;\n",
              "\n",
              "Valid: LabelList (10000 items)\n",
              "x: LMTextList\n",
              "xxbos xxup cavite is an example of ultimate independent film , with a very short budget , a very simple concept , an exotic locale , a minimal cast , and a hand - held camera . \n",
              " \n",
              "  xxmaj the story is simple : xxmaj adam ( xxmaj ian xxmaj gamazon ) is called home to the xxmaj phillipines because of a family crisis . xxmaj instead of his family picking him up , he finds himself forced to follow instructions of a man claiming to have his family . xxmaj there 's no clear reason for the abduction , or what makes xxmaj adam a target ; all xxmaj adam really knows is that his every move is watched , and the kidnappers have no regard for their victims . \n",
              " \n",
              "  xxmaj as xxmaj adam follows the obscure instructions , and the obstacles in his way , the audience ca n't help but be caught up in his plight . xxmaj the hand held camera and jumpy editing style enhances the sense of desperation and time . xxmaj the scenes of urban xxmaj phillipines , particular the markets and the squatter holdings are a vivid cacophony . \n",
              " \n",
              "  xxmaj co - directors and xxmaj co - writers xxmaj neill xxmaj xxunk xxmaj xxunk and xxmaj ian xxmaj gamazon have done an outstanding job of making the most out of limited means . xxmaj the economy of the film makes it both intimate and discomfiting , as xxmaj adam is an everyman who only wants his family safe and instead is completely at the whim of an omniscient tormentor . \n",
              " \n",
              "  xxup cavite is an absolute must for anyone who has an interest in film , as storytelling , in it 's structure , and as an art form .,xxbos xxmaj decades ago , a crate filled with weapons grade plutonium crashes on an island and soaks into the ground . xxmaj today , a team of military men are sent to track down a notorious terrorist ( of ambiguous national origin ) and they track him to this polluted island . xxmaj when their raft is destroyed , the team must spend the night on shore , but soon discover that the plutonium has done something awful to the island -- it has called forth hundreds of bloodthirsty velociraptors . \n",
              " \n",
              "  xxmaj let me start this with a lesson : do n't lend a movie to your friend before you 've seen it , especially if you are supposed to be reviewing it for the internet 's finest horror movie site . xxmaj it took me almost a year to get this film back , and the person who borrowed it still had not watched it ( though we ended up seeing it together ) . xxmaj and a second , more important , lesson : when you do watch this , keep your expectations as low as humanly possible . xxmaj because this film ranks among the worst i 've ever seen . \n",
              " \n",
              "  xxmaj my acting in 8th grade was more convincing than the seasoned actors who appear in this film ( xxmaj lorenzo xxmaj lamas , xxmaj stephen xxmaj bauer ) . xxmaj line delivery is very fake , and the words themselves are poorly scripted . xxmaj the opening words come from a man checking out his gun 's scope : \" xxmaj boom . xxmaj dead bad guys . \" xxmaj yes , that 's pure genius at work . xxmaj the only conversation with any depth has two main characters explaining their histories . xxmaj but it , too , seems unnatural and a poor attempt to provide character background and to fill time . xxmaj we did n't need to know anything about their histories , so why bore us with it ? xxmaj and if you think the conversations are bad , you ai n't seen nothing yet . \n",
              " \n",
              "  xxmaj the lighting is atrocious . i generally do n't notice lighting , but my friend ( a former film school student ) was practically vomiting in rage at the way more often than not shadows fell on the actors ' faces and the light would be in the background , focused on nothing in particular . xxmaj most lighting looks like a spotlight in a dim room , and many of the scenes involve a deep , subterranean cavern -- which you 'd then expect to be poorly lit , but had lights coming from all sorts of random angles . xxmaj do n't ask me why . \n",
              " \n",
              "  xxmaj the plot was pretty bad . xxmaj some films can take the idea of military men chasing a terrorist and make a convincing film out of it . xxmaj cat and mouse stories are riveting . xxmaj well , not here . xxmaj the terrorist is really not even part of the story , just an excuse to go to the island . xxmaj and the raptors ? xxmaj and the allosaurus ? xxmaj sure , they came from the plutonium that soaked into the ground . xxmaj but if that makes sense to you , please explain it to me because i have no clue how radiation brings dinosaurs back from millions of years of extinction . \n",
              " \n",
              "  xxmaj by far the worst part of \" xxmaj raptor xxmaj island \" is the animation of the raptors . xxmaj that 's right -- the selling point of the film is the worst aspect . xxmaj the animation is n't just bad , it 's subpar . i ca n't even express the hilarity of cartoons this cheesy . xxmaj and when they get shot ? xxmaj red splats like one would see in an old video game . xxmaj even the airplane , helicopter and xxmaj navy ship are cartoons ... how hard is it to get a model plane ? xxmaj please do n't see \" xxmaj raptor xxmaj island \" unless you need a good laugh or want to get sickeningly drunk . xxmaj sure , you probably want to see it before you see \" xxmaj raptor xxmaj island 2 \" ( which seems to be getting better reviews ) . xxmaj but just avoiding it entirely is your best bet . xxmaj the closest thing i can compare it to is \" xxmaj pinata : xxmaj survival xxmaj island \" , and unfortunately this film makes the pinata look good by comparison . xxmaj you have been warned .,xxbos xxmaj this is one creepy underrated xxmaj gem with chilling performances and a fantastic xxunk xxmaj all the characters are great , and the story was awesome , plus i thought the ending was really xxunk xxmaj the plot was great , and it never bored me , plus while the child actors were bad , they gave me the xxunk xxmaj this happened to be on the space channel a while ago , so i decided to check it out and tape it , i read some good reviews from fellow horror fans , i must say i agree with them , it 's very creepy , and suspenseful , plus xxmaj strother xxmaj martin , was fantastic in his role , as the xxmaj satan worshiper . xxmaj it has tons of creepy atmosphere , and it keeps you guessing throughout , plus all the characters were very likable , and you really start to root for xxmaj ben and his xxunk xxmaj it has plenty of disturbing moments , and the film really shocked me at times , plus , it 's extremely well made on a low xxunk xxmaj this is one creepy underrated gem , with chilling performances and a fantastic finale ! , i highly recommend this one!. xxmaj the xxmaj direction is very good!. xxmaj bernard mceveety does a very good job here , with great camera work , creating a lot of creepy atmosphere , and keeping the film at a very fast pace!. xxmaj ther is a little bit of blood and gore . xxmaj we get a severed leg , lots of bloody corpses , bloody slit throat , slicing and dicing , decapitation , and an impaling . xxmaj the xxmaj acting is xxunk xxmaj strother xxmaj martin is fantastic here ! as the xxmaj satan worshiper , he is extremely creepy , very convincing , was quite chilling , was extremely intense , seemed to be enjoying himself , and just did a fantastic job xxunk xxmaj charles xxmaj bateman is great as the xxmaj dad , he was very caring , very likable , and gave a good show ! , i liked him lots . xxup l.q. xxmaj jones is awesome as the xxmaj sheriff , he was funny , on top of things , looked very young , had a cool character , and just did an awesome job xxunk xxmaj ahna xxmaj capri is good as the girlfriend and did what she had to do pretty well . xxmaj charles xxmaj robinson overacted to the extreme as the xxmaj priest and did n't convince me one bit ! , and that laugh of his was especially bad . xxmaj geri xxmaj reischl is actually decent as the daughter , she was somewhat likable , and only got on my nerves a couple times , i rather liked her . xxmaj alvy xxmaj moore was goofy , but very likable in his role as xxmaj tobey i dug him!. xxmaj rest of the cast do good . xxmaj overall i highly recommend it!. * * * 1 / 2 out of 5,xxbos xxmaj aside from the gross factual inaccuracies of this movie ( ie king xxmaj richard having a son and that son replacing xxmaj john on the throne ) this movie was a sweet love tale full of adventure . i 'm sure that this movie will appeal to the younger generation of girls and boys .,xxbos xxmaj the special effects again are superb but this is xxmaj finding xxmaj nemo in reverse i.e the parents get taken away and xxmaj pi ( xxmaj nemo ) is left behind , if you have n't seen xxmaj finding xxmaj nemo you will like it . \n",
              " \n",
              "  xxmaj it becomes very clear at the beginning of the film what the plot is and takes a long time to reach the end ! \n",
              " \n",
              "  xxmaj there 's is nothing new or nail biting in this one and there is no humour at all , which is very disappointing . \n",
              " \n",
              "  xxmaj all in all very disappointing as a follow up movie to xxmaj shark xxmaj tale which there really are no similarities with it should have been called xxmaj finding xxmaj nemo 2 xxrep 56 !\n",
              "y: LMLabelList\n",
              ",,,,\n",
              "Path: C:\\Users\\cross-entropy\\.fastai\\data\\imdb;\n",
              "\n",
              "Test: None, model=SequentialRNN(\n",
              "  (0): AWD_LSTM(\n",
              "    (encoder): Embedding(60000, 400, padding_idx=1)\n",
              "    (encoder_dp): EmbeddingDropout(\n",
              "      (emb): Embedding(60000, 400, padding_idx=1)\n",
              "    )\n",
              "    (rnns): ModuleList(\n",
              "      (0): WeightDropout(\n",
              "        (module): LSTM(400, 1152, batch_first=True)\n",
              "      )\n",
              "      (1): WeightDropout(\n",
              "        (module): LSTM(1152, 1152, batch_first=True)\n",
              "      )\n",
              "      (2): WeightDropout(\n",
              "        (module): LSTM(1152, 400, batch_first=True)\n",
              "      )\n",
              "    )\n",
              "    (input_dp): RNNDropout()\n",
              "    (hidden_dps): ModuleList(\n",
              "      (0): RNNDropout()\n",
              "      (1): RNNDropout()\n",
              "      (2): RNNDropout()\n",
              "    )\n",
              "  )\n",
              "  (1): LinearDecoder(\n",
              "    (decoder): Linear(in_features=400, out_features=60000, bias=True)\n",
              "    (output_dp): RNNDropout()\n",
              "  )\n",
              "), opt_func=functools.partial(<class 'torch.optim.adam.Adam'>, betas=(0.9, 0.99)), loss_func=FlattenedLoss of CrossEntropyLoss(), metrics=[<function accuracy at 0x00000236A8585048>], true_wd=True, bn_wd=True, wd=0.01, train_bn=True, path=WindowsPath('C:/Users/cross-entropy/.fastai/data/imdb'), model_dir='models', callback_fns=[functools.partial(<class 'fastai.basic_train.Recorder'>, add_time=True, silent=False)], callbacks=[RNNTrainer\n",
              "learn: ...\n",
              "alpha: 2.0\n",
              "beta: 1.0, MixedPrecision\n",
              "learn: ...\n",
              "loss_scale: 2097152.0\n",
              "max_noskip: 1000\n",
              "dynamic: True\n",
              "clip: None\n",
              "flat_master: False\n",
              "max_scale: 16777216\n",
              "loss_fp32: True], layer_groups=[Sequential(\n",
              "  (0): WeightDropout(\n",
              "    (module): LSTM(400, 1152, batch_first=True)\n",
              "  )\n",
              "  (1): RNNDropout()\n",
              "), Sequential(\n",
              "  (0): WeightDropout(\n",
              "    (module): LSTM(1152, 1152, batch_first=True)\n",
              "  )\n",
              "  (1): RNNDropout()\n",
              "), Sequential(\n",
              "  (0): WeightDropout(\n",
              "    (module): LSTM(1152, 400, batch_first=True)\n",
              "  )\n",
              "  (1): RNNDropout()\n",
              "), Sequential(\n",
              "  (0): Embedding(60000, 400, padding_idx=1)\n",
              "  (1): EmbeddingDropout(\n",
              "    (emb): Embedding(60000, 400, padding_idx=1)\n",
              "  )\n",
              "  (2): LinearDecoder(\n",
              "    (decoder): Linear(in_features=400, out_features=60000, bias=True)\n",
              "    (output_dp): RNNDropout()\n",
              "  )\n",
              ")], add_time=True, silent=False)"
            ]
          },
          "metadata": {
            "tags": []
          },
          "execution_count": 70
        }
      ]
    },
    {
      "cell_type": "markdown",
      "metadata": {
        "hidden": true,
        "id": "fUV7BKEAWpL_"
      },
      "source": [
        "Now that we've trained our model, different representations have been learned for the words that were in `IMDb` but not `wikitext-103` (remember that at the beginning we had initialized them all to the same thing):"
      ]
    },
    {
      "cell_type": "code",
      "metadata": {
        "hidden": true,
        "id": "9UDCooZXWpL_"
      },
      "source": [
        "enc = learn_lm.model[0].encoder"
      ],
      "execution_count": null,
      "outputs": []
    },
    {
      "cell_type": "code",
      "metadata": {
        "hidden": true,
        "id": "8TU4nxbYWpL_",
        "outputId": "0bff5c0c-0bda-4941-eed7-62f9cc3a2a77"
      },
      "source": [
        "np.allclose(enc.weight[vocab.stoi[\"30-something\"], :], \n",
        "            enc.weight[vocab.stoi[\"linklater\"], :])"
      ],
      "execution_count": null,
      "outputs": [
        {
          "output_type": "execute_result",
          "data": {
            "text/plain": [
              "False"
            ]
          },
          "metadata": {
            "tags": []
          },
          "execution_count": 72
        }
      ]
    },
    {
      "cell_type": "code",
      "metadata": {
        "hidden": true,
        "id": "T3zyUmGJWpMA",
        "outputId": "fff3e084-0e3a-474f-8256-7eef5eefcc32"
      },
      "source": [
        "np.allclose(enc.weight[vocab.stoi[\"30-something\"], :], new_word_vec)"
      ],
      "execution_count": null,
      "outputs": [
        {
          "output_type": "execute_result",
          "data": {
            "text/plain": [
              "False"
            ]
          },
          "metadata": {
            "tags": []
          },
          "execution_count": 73
        }
      ]
    },
    {
      "cell_type": "markdown",
      "metadata": {
        "heading_collapsed": true,
        "id": "7PjbA4bqWpMA"
      },
      "source": [
        "#### Generate movie review-like text, with the **fine-tuned** ` IMDb` language model\n",
        "Compare these texts to the ones generated with the **untrained** `IMDb model` in part **2A**. Do they seem qualitatively better?"
      ]
    },
    {
      "cell_type": "markdown",
      "metadata": {
        "hidden": true,
        "id": "U_HbHUd0WpMA"
      },
      "source": [
        "How good is our fine-tuned IMDb language model? Well let's try to see what it predicts when given a phrase that might appear in a movie review."
      ]
    },
    {
      "cell_type": "code",
      "metadata": {
        "hidden": true,
        "id": "XVjXy6sVWpMA"
      },
      "source": [
        "TEXT = \"i liked this movie because\"\n",
        "N_WORDS = 40\n",
        "N_SENTENCES = 2"
      ],
      "execution_count": null,
      "outputs": []
    },
    {
      "cell_type": "code",
      "metadata": {
        "hidden": true,
        "id": "D4TTm9SUWpMA",
        "outputId": "4850b863-634d-4f02-a8eb-3792338b8a05"
      },
      "source": [
        "print(\"\\n\".join(learn_lm.predict(TEXT, N_WORDS, temperature=0.75) for _ in range(N_SENTENCES)))"
      ],
      "execution_count": null,
      "outputs": [
        {
          "output_type": "stream",
          "text": [
            "i liked this movie because it gave a new perspective on the subject . The story of how to kill a dog was actually a good concept that i found to be very funny . The whole movie is shot with a sense\n",
            "i liked this movie because it was fun to see Fred Macmurray - a good actor - and this movie had a good cast like Gene Hackman , Gene Hackman , Catherine o'hara , William Hurt\n"
          ],
          "name": "stdout"
        }
      ]
    },
    {
      "cell_type": "code",
      "metadata": {
        "hidden": true,
        "id": "RSEUODjMWpMA"
      },
      "source": [
        "TEXT = \"This movie was\"\n",
        "N_WORDS = 30\n",
        "N_SENTENCES = 2"
      ],
      "execution_count": null,
      "outputs": []
    },
    {
      "cell_type": "code",
      "metadata": {
        "hidden": true,
        "id": "bun6UTwQWpMA",
        "outputId": "f1250f73-c2a6-4b00-850c-4f8e390f0f1d"
      },
      "source": [
        "print(\"\\n\".join(learn_lm.predict(TEXT, N_WORDS, temperature=0.75) for _ in range(N_SENTENCES)))"
      ],
      "execution_count": null,
      "outputs": [
        {
          "output_type": "stream",
          "text": [
            "This movie was just awful . i mean , they had a lot of money , i mean , they wanted to make money with a $ 35 million budget . And\n",
            "This movie was very pleasant to watch , but it was just too dull . It took us a few minutes to catch the Mexican guy , but he seemed to\n"
          ],
          "name": "stdout"
        }
      ]
    },
    {
      "cell_type": "code",
      "metadata": {
        "hidden": true,
        "id": "p0YVymEeWpMA"
      },
      "source": [
        "TEXT = \"I hated this movie\"\n",
        "N_WORDS = 40\n",
        "N_SENTENCES = 2"
      ],
      "execution_count": null,
      "outputs": []
    },
    {
      "cell_type": "code",
      "metadata": {
        "hidden": true,
        "id": "RPfvD6YgWpMB",
        "outputId": "cfc6b4fa-12d2-4bbf-aae3-c7609480e7af"
      },
      "source": [
        "print(\"\\n\".join(learn_lm.predict(TEXT, N_WORDS, temperature=0.75) for _ in range(N_SENTENCES)))"
      ],
      "execution_count": null,
      "outputs": [
        {
          "output_type": "stream",
          "text": [
            "I hated this movie , if only it ever made it to DVD . If you are planning to see this : 1 ) i would recommend that you buy this movie instead of the movie . 2 . It is\n",
            "I hated this movie . It was a little too distant from the book , but the acting was good and the at least some scenes were funny . The story line was pretty good , but it was n't the best\n"
          ],
          "name": "stdout"
        }
      ]
    },
    {
      "cell_type": "markdown",
      "metadata": {
        "heading_collapsed": true,
        "id": "ccTUuzDWWpMB"
      },
      "source": [
        "#### Risks of language models"
      ]
    },
    {
      "cell_type": "markdown",
      "metadata": {
        "hidden": true,
        "id": "UJDg8msZWpMB"
      },
      "source": [
        "We will talk about ethical concerns raised by very accurate language models in lesson 7, but here are a few brief notes:\n",
        "\n",
        "In reference to [OpenAI's GPT-2](https://www.theverge.com/2019/2/14/18224704/ai-machine-learning-language-models-read-write-openai-gpt2): Jeremy Howard said, *I’ve been trying to warn people about this for a while. We have the technology to totally fill Twitter, email, and the web up with reasonable-sounding, context-appropriate prose, which would drown out all other speech and be impossible to filter.*\n",
        "\n",
        "For a small example, consider when completely incorrect (but reasonable sounding) ML generated answers were [posted to StackOverflow](https://meta.stackoverflow.com/questions/384596/completely-incorrect-machine-learning-generated-answers?stw=2):\n",
        "\n",
        "<img src=\"https://github.com/fastai/course-nlp/blob/master/images/robot-overflow.png?raw=1\" alt=\"Roboflow\" style=\"width: 80%\"/>"
      ]
    },
    {
      "cell_type": "markdown",
      "metadata": {
        "hidden": true,
        "id": "6LQiGfisWpMB"
      },
      "source": [
        "<img src=\"https://github.com/fastai/course-nlp/blob/master/images/husain-tweet.png?raw=1\" alt=\"Roboflow\" style=\"width: 60%\"/>"
      ]
    },
    {
      "cell_type": "markdown",
      "metadata": {
        "id": "7pXrzmNyWpMB"
      },
      "source": [
        "## 3. Building an `IMDb Sentiment Classifier`\n",
        "#### We'll now use **transfer learning** to create a `classifier`, again starting from the pretrained weights of the `wikitext-103` language model.  We'll also need the `IMDb language model` **encoder** that we saved previously. "
      ]
    },
    {
      "cell_type": "markdown",
      "metadata": {
        "id": "6fhIRuY6WpMB"
      },
      "source": [
        "### 3A. Load and preprocess the data, and form a `databunch`\n",
        "Using fastai's flexible API, we will now create a different kind of `databunch` object, one that is suitable for a **classifier** rather than a for **language model** (as we did in **2A**). This time we'll keep the labels for the `IMDb` movie reviews data. \n",
        "\n",
        "Add the `try-except` wrapper workaround for the bug in the `fastai Text API`\n",
        "\n",
        "Here the batch size is decreased from 48 to 8, to avoid a `CUDA out of memory error`; your hardware may be able to handle a larger batch, in which case training will likely be faster.\n",
        "\n",
        "Again, this takes a bit of time."
      ]
    },
    {
      "cell_type": "code",
      "metadata": {
        "id": "bRL5PN6ZWpMB"
      },
      "source": [
        "bs=8"
      ],
      "execution_count": null,
      "outputs": []
    },
    {
      "cell_type": "code",
      "metadata": {
        "hidden": true,
        "id": "tq_Jee1bWpMB",
        "outputId": "fd816cfd-4431-4f4d-d0c3-8c54eb7bbcb8"
      },
      "source": [
        "%%time\n",
        "\n",
        "# throws `BrokenProcessPool' Error sometimes. Keep trying `till it works!\n",
        "#    the progress bar has to complete three consecutive steps. Why three? \n",
        "#    fails nearly 100 times, and doesn't respond to interrupt\n",
        "count = 0\n",
        "error = True\n",
        "while error:\n",
        "    try: \n",
        "        # Preprocessing steps\n",
        "        data_clas = (TextList.from_folder(path, vocab=data_lm.vocab)\n",
        "             #grab all the text files in path\n",
        "             .split_by_folder(valid='test')\n",
        "             #split by train and valid folder (that only keeps 'train' and 'test' so no need to filter)\n",
        "             .label_from_folder(classes=['neg', 'pos']))\n",
        "             #label them all with their folders\n",
        "             #.databunch(bs=bs, num_workers=1))\n",
        "        error = False\n",
        "        print(f'failure count is {count}\\n')   \n",
        "        \n",
        "    except: # catch *all* exceptions\n",
        "        # accumulate failure count\n",
        "        count = count + 1\n",
        "        print(f'failure count is {count}')"
      ],
      "execution_count": null,
      "outputs": [
        {
          "output_type": "stream",
          "text": [
            "failure count is 5\n",
            "\n",
            "Wall time: 9min 15s\n"
          ],
          "name": "stdout"
        }
      ]
    },
    {
      "cell_type": "markdown",
      "metadata": {
        "id": "SM-d9ZrlWpMC"
      },
      "source": [
        "#### Form the preprocessed data into a `databunch`"
      ]
    },
    {
      "cell_type": "code",
      "metadata": {
        "id": "yZvcYnFAWpMC"
      },
      "source": [
        "data_clas = data_clas.databunch(bs=bs, num_workers=1)"
      ],
      "execution_count": null,
      "outputs": []
    },
    {
      "cell_type": "markdown",
      "metadata": {
        "id": "4tqIx7KkWpMC"
      },
      "source": [
        "#### Save the databunch (since it took so long to make) and load it"
      ]
    },
    {
      "cell_type": "code",
      "metadata": {
        "id": "jcsj8mKUWpMC"
      },
      "source": [
        "data_clas.save('imdb_textlist_class')"
      ],
      "execution_count": null,
      "outputs": []
    },
    {
      "cell_type": "code",
      "metadata": {
        "id": "-6OvrPa-WpMC"
      },
      "source": [
        "data_clas = load_data(path, 'imdb_textlist_class', bs=bs, num_workers=1)"
      ],
      "execution_count": null,
      "outputs": []
    },
    {
      "cell_type": "code",
      "metadata": {
        "id": "_va3683sWpMC",
        "outputId": "fc493789-6308-4f24-a489-ac994c003c04"
      },
      "source": [
        "data_clas.show_batch()"
      ],
      "execution_count": null,
      "outputs": [
        {
          "output_type": "display_data",
          "data": {
            "text/html": [
              "<table border=\"1\" class=\"dataframe\">\n",
              "  <thead>\n",
              "    <tr style=\"text-align: right;\">\n",
              "      <th>text</th>\n",
              "      <th>target</th>\n",
              "    </tr>\n",
              "  </thead>\n",
              "  <tbody>\n",
              "    <tr>\n",
              "      <td>xxbos xxmaj match 1 : xxmaj tag xxmaj team xxmaj table xxmaj match xxmaj bubba xxmaj ray and xxmaj spike xxmaj dudley vs xxmaj eddie xxmaj guerrero and xxmaj chris xxmaj benoit xxmaj bubba xxmaj ray and xxmaj spike xxmaj dudley started things off with a xxmaj tag xxmaj team xxmaj table xxmaj match against xxmaj eddie xxmaj guerrero and xxmaj chris xxmaj benoit . xxmaj according to the rules</td>\n",
              "      <td>pos</td>\n",
              "    </tr>\n",
              "    <tr>\n",
              "      <td>xxbos xxmaj some have praised _ xxunk _ as a xxmaj disney adventure for adults . i do n't think so -- at least not for thinking adults . \\n \\n  xxmaj this script suggests a beginning as a live - action movie , that struck someone as the type of crap you can not sell to adults anymore . xxmaj the \" crack staff \" of many older</td>\n",
              "      <td>neg</td>\n",
              "    </tr>\n",
              "    <tr>\n",
              "      <td>xxbos xxmaj this movie was recently released on xxup dvd in the xxup us and i finally got the chance to see this hard - to - find gem . xxmaj it even came with original theatrical previews of other xxmaj italian horror classics like \" xxup xxunk \" and \" xxup beyond xxup the xxup darkness \" . xxmaj unfortunately , the previews were the best thing about this</td>\n",
              "      <td>neg</td>\n",
              "    </tr>\n",
              "    <tr>\n",
              "      <td>xxbos xxmaj there are many adaptations of xxmaj charlotte xxmaj brontë 's classic novel \" xxmaj jane xxmaj eyre \" , and taking into consideration the numerous reviews written about them there is also a lively discussion on which of them is the best . xxmaj the short film adaptations all suffer from the fact that it is simply not possible to cram the whole plot of the novel into</td>\n",
              "      <td>pos</td>\n",
              "    </tr>\n",
              "    <tr>\n",
              "      <td>xxbos xxmaj title : xxmaj zombie 3 ( 1988 ) \\n \\n  xxmaj directors : xxmaj mostly xxmaj lucio xxmaj fulci , but also xxmaj claudio xxmaj fragasso and xxmaj bruno xxmaj mattei \\n \\n  xxmaj cast : xxmaj xxunk xxunk , xxmaj massimo xxmaj xxunk , xxmaj beatrice xxmaj ring , xxmaj deran xxmaj xxunk \\n \\n  xxmaj review : \\n \\n  xxmaj to review</td>\n",
              "      <td>neg</td>\n",
              "    </tr>\n",
              "  </tbody>\n",
              "</table>"
            ],
            "text/plain": [
              "<IPython.core.display.HTML object>"
            ]
          },
          "metadata": {
            "tags": []
          }
        }
      ]
    },
    {
      "cell_type": "markdown",
      "metadata": {
        "id": "PRT1EuBpWpMC"
      },
      "source": [
        "### 3B. Create a model to **classify** the `IMDb` reviews, and load the **encoder** we saved before.\n",
        "#### Freeze the weights for all but the last layer and find a good value for the learning rate. "
      ]
    },
    {
      "cell_type": "code",
      "metadata": {
        "id": "1PmelbpTWpMD"
      },
      "source": [
        "learn_c = text_classifier_learner(data_clas, AWD_LSTM, drop_mult=0.3).to_fp16()\n",
        "learn_c.load_encoder('fine_tuned_enc')\n",
        "learn_c.freeze()"
      ],
      "execution_count": null,
      "outputs": []
    },
    {
      "cell_type": "code",
      "metadata": {
        "id": "yZQXBu-gWpMD",
        "outputId": "367a51af-44de-43eb-8539-a8752479f056"
      },
      "source": [
        "learn_c.lr_find()"
      ],
      "execution_count": null,
      "outputs": [
        {
          "output_type": "display_data",
          "data": {
            "text/html": [
              ""
            ],
            "text/plain": [
              "<IPython.core.display.HTML object>"
            ]
          },
          "metadata": {
            "tags": []
          }
        },
        {
          "output_type": "stream",
          "text": [
            "LR Finder is complete, type {learner_name}.recorder.plot() to see the graph.\n"
          ],
          "name": "stdout"
        }
      ]
    },
    {
      "cell_type": "code",
      "metadata": {
        "id": "WCMswBLKWpMD",
        "outputId": "c2a56697-1d39-4591-d503-f22a854dd234"
      },
      "source": [
        "learn_c.recorder.plot()"
      ],
      "execution_count": null,
      "outputs": [
        {
          "output_type": "display_data",
          "data": {
            "image/png": "[encoded data removed]",
            "text/plain": [
              "<Figure size 432x288 with 1 Axes>"
            ]
          },
          "metadata": {
            "tags": [],
            "needs_background": "light"
          }
        }
      ]
    },
    {
      "cell_type": "markdown",
      "metadata": {
        "id": "whTFJYxUWpMD"
      },
      "source": [
        "### 3C. Training and fine-tuning the `IMDb sentiment classifier`"
      ]
    },
    {
      "cell_type": "markdown",
      "metadata": {
        "id": "e1d1QHTcWpMD"
      },
      "source": [
        "#### Train for one cycle, save intermediate result"
      ]
    },
    {
      "cell_type": "code",
      "metadata": {
        "scrolled": false,
        "id": "Nwr1jvDDWpMD",
        "outputId": "cdebb549-aeb5-4957-acfd-f3d02d871689"
      },
      "source": [
        "learn_c.fit_one_cycle(1, 2e-2, moms=(0.8,0.7))"
      ],
      "execution_count": null,
      "outputs": [
        {
          "output_type": "display_data",
          "data": {
            "text/html": [
              "<table border=\"1\" class=\"dataframe\">\n",
              "  <thead>\n",
              "    <tr style=\"text-align: left;\">\n",
              "      <th>epoch</th>\n",
              "      <th>train_loss</th>\n",
              "      <th>valid_loss</th>\n",
              "      <th>accuracy</th>\n",
              "      <th>time</th>\n",
              "    </tr>\n",
              "  </thead>\n",
              "  <tbody>\n",
              "    <tr>\n",
              "      <td>0</td>\n",
              "      <td>0.287057</td>\n",
              "      <td>0.202339</td>\n",
              "      <td>0.932720</td>\n",
              "      <td>06:29</td>\n",
              "    </tr>\n",
              "  </tbody>\n",
              "</table>"
            ],
            "text/plain": [
              "<IPython.core.display.HTML object>"
            ]
          },
          "metadata": {
            "tags": []
          }
        }
      ]
    },
    {
      "cell_type": "code",
      "metadata": {
        "id": "QUPLLbsmWpMD"
      },
      "source": [
        "learn_c.save('first')"
      ],
      "execution_count": null,
      "outputs": []
    },
    {
      "cell_type": "code",
      "metadata": {
        "id": "yL7D1t2NWpMD"
      },
      "source": [
        "learn_c.load('first');"
      ],
      "execution_count": null,
      "outputs": []
    },
    {
      "cell_type": "markdown",
      "metadata": {
        "id": "0n8wUgHOWpME"
      },
      "source": [
        "#### Unfreeze last two layers and train for one cycle, save intermediate result."
      ]
    },
    {
      "cell_type": "code",
      "metadata": {
        "id": "E5mh2-_oWpME",
        "outputId": "611aa9de-1b16-4eee-9921-ad149879c70d"
      },
      "source": [
        "learn_c.freeze_to(-2)\n",
        "learn_c.fit_one_cycle(1, slice(1e-2/(2.6**4),1e-2), moms=(0.8,0.7))"
      ],
      "execution_count": null,
      "outputs": [
        {
          "output_type": "display_data",
          "data": {
            "text/html": [
              "<table border=\"1\" class=\"dataframe\">\n",
              "  <thead>\n",
              "    <tr style=\"text-align: left;\">\n",
              "      <th>epoch</th>\n",
              "      <th>train_loss</th>\n",
              "      <th>valid_loss</th>\n",
              "      <th>accuracy</th>\n",
              "      <th>time</th>\n",
              "    </tr>\n",
              "  </thead>\n",
              "  <tbody>\n",
              "    <tr>\n",
              "      <td>0</td>\n",
              "      <td>0.253536</td>\n",
              "      <td>0.164451</td>\n",
              "      <td>0.943320</td>\n",
              "      <td>07:25</td>\n",
              "    </tr>\n",
              "  </tbody>\n",
              "</table>"
            ],
            "text/plain": [
              "<IPython.core.display.HTML object>"
            ]
          },
          "metadata": {
            "tags": []
          }
        }
      ]
    },
    {
      "cell_type": "code",
      "metadata": {
        "id": "0i1bux7jWpME"
      },
      "source": [
        "learn_c.save('2nd')"
      ],
      "execution_count": null,
      "outputs": []
    },
    {
      "cell_type": "markdown",
      "metadata": {
        "id": "3ClE4L0oWpME"
      },
      "source": [
        "#### Unfreeze the last three layers, and train for one cycle, and save intermediate result.\n",
        "At this point we've already beaten the 2017 (pre-transfer learning) state of the art!"
      ]
    },
    {
      "cell_type": "code",
      "metadata": {
        "id": "j3_Oxbg2WpME",
        "outputId": "d8bb1346-6839-49ab-f773-c312bab4acdc"
      },
      "source": [
        "learn_c.freeze_to(-3)\n",
        "learn_c.fit_one_cycle(1, slice(5e-3/(2.6**4),5e-3), moms=(0.8,0.7))"
      ],
      "execution_count": null,
      "outputs": [
        {
          "output_type": "display_data",
          "data": {
            "text/html": [
              "<table border=\"1\" class=\"dataframe\">\n",
              "  <thead>\n",
              "    <tr style=\"text-align: left;\">\n",
              "      <th>epoch</th>\n",
              "      <th>train_loss</th>\n",
              "      <th>valid_loss</th>\n",
              "      <th>accuracy</th>\n",
              "      <th>time</th>\n",
              "    </tr>\n",
              "  </thead>\n",
              "  <tbody>\n",
              "    <tr>\n",
              "      <td>0</td>\n",
              "      <td>0.207790</td>\n",
              "      <td>0.151074</td>\n",
              "      <td>0.947320</td>\n",
              "      <td>09:21</td>\n",
              "    </tr>\n",
              "  </tbody>\n",
              "</table>"
            ],
            "text/plain": [
              "<IPython.core.display.HTML object>"
            ]
          },
          "metadata": {
            "tags": []
          }
        }
      ]
    },
    {
      "cell_type": "code",
      "metadata": {
        "id": "Ea-YQtZrWpME"
      },
      "source": [
        "learn_c.save('3rd')"
      ],
      "execution_count": null,
      "outputs": []
    },
    {
      "cell_type": "code",
      "metadata": {
        "id": "Es2eEHysWpME",
        "outputId": "3b01cd64-47fa-476b-ba09-1a42b35e3fe8"
      },
      "source": [
        "learn_c.load('3rd')"
      ],
      "execution_count": null,
      "outputs": [
        {
          "output_type": "execute_result",
          "data": {
            "text/plain": [
              "RNNLearner(data=TextClasDataBunch;\n",
              "\n",
              "Train: LabelList (25000 items)\n",
              "x: TextList\n",
              "xxbos xxmaj story of a man who has unnatural feelings for a pig . xxmaj starts out with a opening scene that is a terrific example of absurd comedy . a formal orchestra audience is turned into an insane , violent mob by the crazy xxunk of it 's singers . xxmaj unfortunately it stays absurd the xxup whole time with no general narrative eventually making it just too off putting . xxmaj even those from the era should be turned off . xxmaj the cryptic dialogue would make xxmaj shakespeare seem easy to a third grader . xxmaj on a technical level it 's better than you might think with some good cinematography by future great xxmaj vilmos xxmaj zsigmond . xxmaj future stars xxmaj sally xxmaj kirkland and xxmaj frederic xxmaj forrest can be seen briefly .,xxbos xxmaj airport ' 77 starts as a brand new luxury 747 plane is loaded up with valuable paintings & such belonging to rich businessman xxmaj philip xxmaj stevens ( xxmaj james xxmaj stewart ) who is flying them & a bunch of xxup vip 's to his estate in preparation of it being opened to the public as a museum , also on board is xxmaj stevens daughter xxmaj julie ( xxmaj kathleen xxmaj quinlan ) & her son . xxmaj the luxury jetliner takes off as planned but mid - air the plane is hi - jacked by the co - pilot xxmaj chambers ( xxmaj robert xxmaj foxworth ) & his two accomplice 's xxmaj banker ( xxmaj monte xxmaj markham ) & xxmaj wilson ( xxmaj michael xxmaj pataki ) who knock the passengers & crew out with sleeping gas , they plan to steal the valuable cargo & land on a disused plane strip on an isolated island but while making his descent xxmaj chambers almost hits an oil rig in the xxmaj ocean & loses control of the plane sending it crashing into the sea where it sinks to the bottom right bang in the middle of the xxmaj bermuda xxmaj triangle . xxmaj with air in short supply , water leaking in & having flown over 200 miles off course the problems mount for the survivor 's as they await help with time fast running out ... \n",
              " \n",
              "  xxmaj also known under the slightly different tile xxmaj airport 1977 this second sequel to the smash - hit disaster thriller xxmaj airport ( 1970 ) was directed by xxmaj jerry xxmaj jameson & while once again like it 's predecessors i ca n't say xxmaj airport ' 77 is any sort of forgotten classic it is entertaining although not necessarily for the right reasons . xxmaj out of the three xxmaj airport films i have seen so far i actually liked this one the best , just . xxmaj it has my favourite plot of the three with a nice mid - air hi - jacking & then the crashing ( did n't he see the oil rig ? ) & sinking of the 747 ( maybe the makers were trying to cross the original xxmaj airport with another popular disaster flick of the period xxmaj the xxmaj poseidon xxmaj adventure ( 1972 ) ) & submerged is where it stays until the end with a stark dilemma facing those trapped inside , either suffocate when the air runs out or drown as the 747 floods or if any of the doors are opened & it 's a decent idea that could have made for a great little disaster flick but bad unsympathetic character 's , dull dialogue , lethargic set - pieces & a real lack of danger or suspense or tension means this is a missed opportunity . xxmaj while the rather sluggish plot keeps one entertained for 108 odd minutes not that much happens after the plane sinks & there 's not as much urgency as i thought there should have been . xxmaj even when the xxmaj navy become involved things do n't pick up that much with a few shots of huge ships & helicopters flying about but there 's just something lacking here . xxmaj george xxmaj kennedy as the jinxed airline worker xxmaj joe xxmaj patroni is back but only gets a couple of scenes & barely even says anything preferring to just look worried in the background . \n",
              " \n",
              "  xxmaj the home video & theatrical version of xxmaj airport ' 77 run 108 minutes while the xxup us xxup tv versions add an extra hour of footage including a new opening credits sequence , many more scenes with xxmaj george xxmaj kennedy as xxmaj patroni , flashbacks to flesh out character 's , longer rescue scenes & the discovery or another couple of dead bodies including the navigator . xxmaj while i would like to see this extra footage i am not sure i could sit through a near three hour cut of xxmaj airport ' 77 . xxmaj as expected the film has dated badly with horrible fashions & interior design choices , i will say no more other than the toy plane model effects are n't great either . xxmaj along with the other two xxmaj airport sequels this takes pride of place in the xxmaj razzie xxmaj award 's xxmaj hall of xxmaj shame although i can think of lots of worse films than this so i reckon that 's a little harsh . xxmaj the action scenes are a little dull unfortunately , the pace is slow & not much excitement or tension is generated which is a shame as i reckon this could have been a pretty good film if made properly . \n",
              " \n",
              "  xxmaj the production values are alright if nothing spectacular . xxmaj the acting is n't great , two time xxmaj oscar winner xxmaj jack xxmaj lemmon has said since it was a mistake to star in this , one time xxmaj oscar winner xxmaj james xxmaj stewart looks old & frail , also one time xxmaj oscar winner xxmaj lee xxmaj grant looks drunk while xxmaj sir xxmaj christopher xxmaj lee is given little to do & there are plenty of other familiar faces to look out for too . \n",
              " \n",
              "  xxmaj airport ' 77 is the most disaster orientated of the three xxmaj airport films so far & i liked the ideas behind it even if they were a bit silly , the production & bland direction does n't help though & a film about a sunken plane just should n't be this boring or lethargic . xxmaj followed by xxmaj the xxmaj concorde ... xxmaj airport ' 79 ( 1979 ) .,xxbos xxmaj this film lacked something i could n't put my finger on at first : charisma on the part of the leading actress . xxmaj this inevitably translated to lack of chemistry when she shared the screen with her leading man . xxmaj even the romantic scenes came across as being merely the actors at play . xxmaj it could very well have been the director who miscalculated what he needed from the actors . i just do n't know . \n",
              " \n",
              "  xxmaj but could it have been the screenplay ? xxmaj just exactly who was the chef in love with ? xxmaj he seemed more enamored of his culinary skills and restaurant , and ultimately of himself and his youthful exploits , than of anybody or anything else . xxmaj he never convinced me he was in love with the princess . \n",
              " \n",
              "  i was disappointed in this movie . xxmaj but , do n't forget it was nominated for an xxmaj oscar , so judge for yourself .,xxbos xxmaj sorry everyone , , , i know this is supposed to be an \" art \" film , , but wow , they should have handed out guns at the screening so people could blow their brains out and not watch . xxmaj although the scene design and photographic direction was excellent , this story is too painful to watch . xxmaj the absence of a sound track was brutal . xxmaj the l xxrep 4 o xxrep 5 n g shots were too long . xxmaj how long can you watch two people just sitting there and talking ? xxmaj especially when the dialogue is two people complaining . i really had a hard time just getting through this film . xxmaj the performances were excellent , but how much of that dark , sombre , uninspired , stuff can you take ? xxmaj the only thing i liked was xxmaj maureen xxmaj stapleton and her red dress and dancing scene . xxmaj otherwise this was a ripoff of xxmaj bergman . xxmaj and i 'm no fan f his either . i think anyone who says they enjoyed 1 1 / 2 hours of this is , , well , lying .,xxbos xxmaj when i was little my parents took me along to the theater to see xxmaj interiors . xxmaj it was one of many movies i watched with my parents , but this was the only one we walked out of . xxmaj since then i had never seen xxmaj interiors until just recently , and i could have lived out the rest of my life without it . xxmaj what a pretentious , ponderous , and painfully boring piece of 70 's wine and cheese tripe . xxmaj woody xxmaj allen is one of my favorite directors but xxmaj interiors is by far the worst piece of crap of his career . xxmaj in the unmistakable style of xxmaj ingmar xxmaj berman , xxmaj allen gives us a dark , angular , muted , insight in to the lives of a family wrought by the psychological damage caused by divorce , estrangement , career , love , non - love , xxunk , whatever . xxmaj the film , intentionally , has no comic relief , no music , and is drenched in shadowy pathos . xxmaj this film style can be best defined as expressionist in nature , using an improvisational method of dialogue to illicit a \" more pronounced depth of meaning and truth \" . xxmaj but xxmaj woody xxmaj allen is no xxmaj ingmar xxmaj bergman . xxmaj the film is painfully slow and dull . xxmaj but beyond that , i simply had no connection with or sympathy for any of the characters . xxmaj instead i felt only contempt for this parade of shuffling , whining , nicotine stained , martyrs in a perpetual quest for identity . xxmaj amid a backdrop of cosmopolitan affluence and baked xxmaj brie intelligentsia the story looms like a fart in the room . xxmaj everyone speaks in affected platitudes and elevated language between cigarettes . xxmaj everyone is \" lost \" and \" struggling \" , desperate to find direction or understanding or whatever and it just goes on and on to the point where you just want to slap all of them . xxmaj it 's never about resolution , it 's only about interminable introspective babble . xxmaj it is nothing more than a psychological drama taken to an extreme beyond the audience 's ability to connect . xxmaj woody xxmaj allen chose to make characters so immersed in themselves we feel left out . xxmaj and for that reason i found this movie painfully self indulgent and spiritually draining . i see what he was going for but his insistence on promoting his message through xxmaj prozac prose and distorted film techniques jettisons it past the point of relevance . i highly recommend this one if you 're feeling a little too happy and need something to remind you of death . xxmaj otherwise , let 's just pretend this film never happened .\n",
              "y: CategoryList\n",
              "neg,neg,neg,neg,neg\n",
              "Path: C:\\Users\\cross-entropy\\.fastai\\data\\imdb;\n",
              "\n",
              "Valid: LabelList (25000 items)\n",
              "x: TextList\n",
              "xxbos xxmaj once again xxmaj mr. xxmaj costner has dragged out a movie for far longer than necessary . xxmaj aside from the terrific sea rescue sequences , of which there are very few i just did not care about any of the characters . xxmaj most of us have ghosts in the closet , and xxmaj costner 's character are realized early on , and then forgotten until much later , by which time i did not care . xxmaj the character we should really care about is a very cocky , overconfident xxmaj ashton xxmaj kutcher . xxmaj the problem is he comes off as kid who thinks he 's better than anyone else around him and shows no signs of a cluttered closet . xxmaj his only obstacle appears to be winning over xxmaj costner . xxmaj finally when we are well past the half way point of this stinker , xxmaj costner tells us all about xxmaj kutcher 's ghosts . xxmaj we are told why xxmaj kutcher is driven to be the best with no prior inkling or foreshadowing . xxmaj no magic here , it was all i could do to keep from turning it off an hour in .,xxbos xxmaj this is an example of why the majority of action films are the same . xxmaj generic and boring , there 's really nothing worth watching here . a complete waste of the then barely - tapped talents of xxmaj ice - t and xxmaj ice xxmaj cube , who 've each proven many times over that they are capable of acting , and acting well . xxmaj do n't bother with this one , go see xxmaj new xxmaj jack xxmaj city , xxmaj ricochet or watch xxmaj new xxmaj york xxmaj undercover for xxmaj ice - t , or xxmaj boyz n the xxmaj hood , xxmaj higher xxmaj learning or xxmaj friday for xxmaj ice xxmaj cube and see the real deal . xxmaj ice - t 's horribly cliched dialogue alone makes this film grate at the teeth , and i 'm still wondering what the heck xxmaj bill xxmaj paxton was doing in this film ? xxmaj and why the heck does he always play the exact same character ? xxmaj from xxmaj aliens onward , every film i 've seen with xxmaj bill xxmaj paxton has him playing the exact same irritating character , and at least in xxmaj aliens his character died , which made it somewhat gratifying ... \n",
              " \n",
              "  xxmaj overall , this is second - rate action trash . xxmaj there are countless better films to see , and if you really want to see this one , watch xxmaj judgement xxmaj night , which is practically a carbon copy but has better acting and a better script . xxmaj the only thing that made this at all worth watching was a decent hand on the camera - the cinematography was almost refreshing , which comes close to making up for the horrible film itself - but not quite . 4 / 10 .,xxbos xxmaj first of all i hate those moronic rappers , who could'nt act if they had a gun pressed against their foreheads . xxmaj all they do is curse and shoot each other and acting like xxunk version of gangsters . \n",
              " \n",
              "  xxmaj the movie does n't take more than five minutes to explain what is going on before we 're already at the warehouse xxmaj there is not a single sympathetic character in this movie , except for the homeless guy , who is also the only one with half a brain . \n",
              " \n",
              "  xxmaj bill xxmaj paxton and xxmaj william xxmaj sadler are both hill billies and xxmaj xxunk character is just as much a villain as the gangsters . i did'nt like him right from the start . \n",
              " \n",
              "  xxmaj the movie is filled with pointless violence and xxmaj walter xxmaj hills specialty : people falling through windows with glass flying everywhere . xxmaj there is pretty much no plot and it is a big problem when you root for no - one . xxmaj everybody dies , except from xxmaj paxton and the homeless guy and everybody get what they deserve . \n",
              " \n",
              "  xxmaj the only two black people that can act is the homeless guy and the junkie but they 're actors by profession , not annoying ugly brain dead rappers . \n",
              " \n",
              "  xxmaj stay away from this crap and watch 48 hours 1 and 2 instead . xxmaj at lest they have characters you care about , a sense of humor and nothing but real actors in the cast .,xxbos xxmaj not even the xxmaj beatles could write songs everyone liked , and although xxmaj walter xxmaj hill is no mop - top he 's second to none when it comes to thought provoking action movies . xxmaj the nineties came and social platforms were changing in music and film , the emergence of the xxmaj rapper turned movie star was in full swing , the acting took a back seat to each man 's overpowering regional accent and transparent acting . xxmaj this was one of the many ice - t movies i saw as a kid and loved , only to watch them later and cringe . xxmaj bill xxmaj paxton and xxmaj william xxmaj sadler are firemen with basic lives until a burning building tenant about to go up in flames hands over a map with gold implications . i hand it to xxmaj walter for quickly and neatly setting up the main characters and location . xxmaj but i fault everyone involved for turning out xxmaj lame - o performances . xxmaj ice - t and cube must have been red hot at this time , and while i 've enjoyed both their careers as rappers , in my opinion they fell flat in this movie . xxmaj it 's about ninety minutes of one guy ridiculously turning his back on the other guy to the point you find yourself locked in multiple states of disbelief . xxmaj now this is a movie , its not a documentary so i wo nt waste my time recounting all the stupid plot twists in this movie , but there were many , and they led nowhere . i got the feeling watching this that everyone on set was xxunk of confused and just playing things off the cuff . xxmaj there are two things i still enjoy about it , one involves a scene with a needle and the other is xxmaj sadler 's huge 45 pistol . xxmaj bottom line this movie is like domino 's pizza . xxmaj yeah ill eat it if i 'm hungry and i do n't feel like cooking , xxmaj but i 'm well aware it tastes like crap . 3 stars , meh .,xxbos xxmaj brass pictures ( movies is not a fitting word for them ) really are somewhat brassy . xxmaj their alluring visual qualities are reminiscent of expensive high class xxup tv commercials . xxmaj but unfortunately xxmaj brass pictures are feature films with the pretense of wanting to entertain viewers for over two hours ! xxmaj in this they fail miserably , their undeniable , but rather soft and flabby than steamy , erotic qualities non withstanding . \n",
              " \n",
              "  xxmaj senso ' 45 is a remake of a film by xxmaj luchino xxmaj visconti with the same title and xxmaj alida xxmaj valli and xxmaj farley xxmaj granger in the lead . xxmaj the original tells a story of senseless love and lust in and around xxmaj venice during the xxmaj italian wars of independence . xxmaj brass moved the action from the 19th into the 20th century , 1945 to be exact , so there are xxmaj mussolini murals , men in black shirts , xxmaj german uniforms or the tattered garb of the partisans . xxmaj but it is just window dressing , the historic context is completely negligible . \n",
              " \n",
              "  xxmaj anna xxmaj xxunk plays the attractive aristocratic woman who falls for the amoral xxup ss guy who always puts on too much lipstick . xxmaj she is an attractive , versatile , well trained xxmaj italian actress and clearly above the material . xxmaj her wide range of facial expressions ( xxunk boredom , loathing , delight , fear , hate ... and ecstasy ) are the best reason to watch this picture and worth two stars . xxmaj she endures this basically trashy stuff with an astonishing amount of dignity . i wish some really good parts come along for her . xxmaj she really deserves it .\n",
              "y: CategoryList\n",
              "neg,neg,neg,neg,neg\n",
              "Path: C:\\Users\\cross-entropy\\.fastai\\data\\imdb;\n",
              "\n",
              "Test: None, model=SequentialRNN(\n",
              "  (0): MultiBatchEncoder(\n",
              "    (module): AWD_LSTM(\n",
              "      (encoder): Embedding(60000, 400, padding_idx=1)\n",
              "      (encoder_dp): EmbeddingDropout(\n",
              "        (emb): Embedding(60000, 400, padding_idx=1)\n",
              "      )\n",
              "      (rnns): ModuleList(\n",
              "        (0): WeightDropout(\n",
              "          (module): LSTM(400, 1152, batch_first=True)\n",
              "        )\n",
              "        (1): WeightDropout(\n",
              "          (module): LSTM(1152, 1152, batch_first=True)\n",
              "        )\n",
              "        (2): WeightDropout(\n",
              "          (module): LSTM(1152, 400, batch_first=True)\n",
              "        )\n",
              "      )\n",
              "      (input_dp): RNNDropout()\n",
              "      (hidden_dps): ModuleList(\n",
              "        (0): RNNDropout()\n",
              "        (1): RNNDropout()\n",
              "        (2): RNNDropout()\n",
              "      )\n",
              "    )\n",
              "  )\n",
              "  (1): PoolingLinearClassifier(\n",
              "    (layers): Sequential(\n",
              "      (0): BatchNorm1d(1200, eps=1e-05, momentum=0.1, affine=True, track_running_stats=True)\n",
              "      (1): Dropout(p=0.12, inplace=False)\n",
              "      (2): Linear(in_features=1200, out_features=50, bias=True)\n",
              "      (3): ReLU(inplace=True)\n",
              "      (4): BatchNorm1d(50, eps=1e-05, momentum=0.1, affine=True, track_running_stats=True)\n",
              "      (5): Dropout(p=0.1, inplace=False)\n",
              "      (6): Linear(in_features=50, out_features=2, bias=True)\n",
              "    )\n",
              "  )\n",
              "), opt_func=functools.partial(<class 'torch.optim.adam.Adam'>, betas=(0.9, 0.99)), loss_func=FlattenedLoss of CrossEntropyLoss(), metrics=[<function accuracy at 0x000001BC017E0F28>], true_wd=True, bn_wd=True, wd=0.01, train_bn=True, path=WindowsPath('C:/Users/cross-entropy/.fastai/data/imdb'), model_dir='models', callback_fns=[functools.partial(<class 'fastai.basic_train.Recorder'>, add_time=True, silent=False)], callbacks=[RNNTrainer\n",
              "learn: ...\n",
              "alpha: 2.0\n",
              "beta: 1.0, MixedPrecision\n",
              "learn: ...\n",
              "loss_scale: 65536\n",
              "max_noskip: 1000\n",
              "dynamic: True\n",
              "clip: None\n",
              "flat_master: False\n",
              "max_scale: 16777216\n",
              "loss_fp32: True], layer_groups=[Sequential(\n",
              "  (0): Embedding(60000, 400, padding_idx=1)\n",
              "  (1): EmbeddingDropout(\n",
              "    (emb): Embedding(60000, 400, padding_idx=1)\n",
              "  )\n",
              "), Sequential(\n",
              "  (0): WeightDropout(\n",
              "    (module): LSTM(400, 1152, batch_first=True)\n",
              "  )\n",
              "  (1): RNNDropout()\n",
              "), Sequential(\n",
              "  (0): WeightDropout(\n",
              "    (module): LSTM(1152, 1152, batch_first=True)\n",
              "  )\n",
              "  (1): RNNDropout()\n",
              "), Sequential(\n",
              "  (0): WeightDropout(\n",
              "    (module): LSTM(1152, 400, batch_first=True)\n",
              "  )\n",
              "  (1): RNNDropout()\n",
              "), Sequential(\n",
              "  (0): PoolingLinearClassifier(\n",
              "    (layers): Sequential(\n",
              "      (0): BatchNorm1d(1200, eps=1e-05, momentum=0.1, affine=True, track_running_stats=True)\n",
              "      (1): Dropout(p=0.12, inplace=False)\n",
              "      (2): Linear(in_features=1200, out_features=50, bias=True)\n",
              "      (3): ReLU(inplace=True)\n",
              "      (4): BatchNorm1d(50, eps=1e-05, momentum=0.1, affine=True, track_running_stats=True)\n",
              "      (5): Dropout(p=0.1, inplace=False)\n",
              "      (6): Linear(in_features=50, out_features=2, bias=True)\n",
              "    )\n",
              "  )\n",
              ")], add_time=True, silent=False)"
            ]
          },
          "metadata": {
            "tags": []
          },
          "execution_count": 10
        }
      ]
    },
    {
      "cell_type": "markdown",
      "metadata": {
        "id": "hoDJrmW5WpMF"
      },
      "source": [
        "#### Unfreeze all the layers, train for two cycles, and save the result."
      ]
    },
    {
      "cell_type": "markdown",
      "metadata": {
        "id": "0T-9VV9nWpMF"
      },
      "source": [
        "Note: at this step I encountered a `CUDA error: unspecified launch failure`. This is a known (and unsolved) problem with PyTorch when using an LSTM. https://github.com/pytorch/pytorch/issues/27837\n",
        "\n",
        "Nothing to do but try again... and it worked on the second try."
      ]
    },
    {
      "cell_type": "code",
      "metadata": {
        "id": "sVXX9NtGWpMF",
        "outputId": "c0e75f65-00bb-452c-947c-25030fa1eff3"
      },
      "source": [
        "learn_c.unfreeze()\n",
        "learn_c.fit_one_cycle(2, slice(1e-3/(2.6**4),1e-3), moms=(0.8,0.7))"
      ],
      "execution_count": null,
      "outputs": [
        {
          "output_type": "display_data",
          "data": {
            "text/html": [
              "<table border=\"1\" class=\"dataframe\">\n",
              "  <thead>\n",
              "    <tr style=\"text-align: left;\">\n",
              "      <th>epoch</th>\n",
              "      <th>train_loss</th>\n",
              "      <th>valid_loss</th>\n",
              "      <th>accuracy</th>\n",
              "      <th>time</th>\n",
              "    </tr>\n",
              "  </thead>\n",
              "  <tbody>\n",
              "    <tr>\n",
              "      <td>0</td>\n",
              "      <td>0.205716</td>\n",
              "      <td>0.144805</td>\n",
              "      <td>0.948720</td>\n",
              "      <td>12:00</td>\n",
              "    </tr>\n",
              "    <tr>\n",
              "      <td>1</td>\n",
              "      <td>0.132235</td>\n",
              "      <td>0.142493</td>\n",
              "      <td>0.949320</td>\n",
              "      <td>12:01</td>\n",
              "    </tr>\n",
              "  </tbody>\n",
              "</table>"
            ],
            "text/plain": [
              "<IPython.core.display.HTML object>"
            ]
          },
          "metadata": {
            "tags": []
          }
        }
      ]
    },
    {
      "cell_type": "markdown",
      "metadata": {
        "id": "pTImDNubWpMF"
      },
      "source": [
        "The state of the art for this dataset in 2017 was 94.1%, and we have crushed it!!!"
      ]
    },
    {
      "cell_type": "markdown",
      "metadata": {
        "id": "tVLTNm3JWpMF"
      },
      "source": [
        "#### Save the IMDb classifer model"
      ]
    },
    {
      "cell_type": "code",
      "metadata": {
        "id": "vss1Wfb_WpMF"
      },
      "source": [
        "learn_c.save('clas')"
      ],
      "execution_count": null,
      "outputs": []
    },
    {
      "cell_type": "markdown",
      "metadata": {
        "id": "F7rDiRtXWpMF"
      },
      "source": [
        "#### Let's look at a few examples, just to check that the classifier is working as we think it should. \n",
        "The three outputs of the model predition are the label (`pos` or `neg`) and the class probability estimates for `neg` and `pos`, which meausure the model's confidence in it's prediction. As we'd expect, the model is extremely confident that the first review is `pos` and quite confident that the second review is `neg`. So it passes the test with flying colors. "
      ]
    },
    {
      "cell_type": "code",
      "metadata": {
        "id": "sumKirnCWpMF",
        "outputId": "e98eca64-2d1e-400e-b005-ff302f1dbdbb"
      },
      "source": [
        "learn_c.predict(\"I really loved that movie, it was awesome!\")"
      ],
      "execution_count": null,
      "outputs": [
        {
          "output_type": "stream",
          "text": [
            "C:\\Users\\cross-entropy\\Anaconda3\\envs\\fastai\\lib\\site-packages\\fastai\\torch_core.py:83: UserWarning: Tensor is int32: upgrading to int64; for better performance use int64 input\n",
            "  warn('Tensor is int32: upgrading to int64; for better performance use int64 input')\n"
          ],
          "name": "stderr"
        },
        {
          "output_type": "execute_result",
          "data": {
            "text/plain": [
              "(Category pos, tensor(1), tensor([0.0161, 0.9839]))"
            ]
          },
          "metadata": {
            "tags": []
          },
          "execution_count": 13
        }
      ]
    },
    {
      "cell_type": "code",
      "metadata": {
        "id": "qjikII5EWpMG",
        "outputId": "f4e538d8-b861-4e36-e0c1-4cc63f1f7fb7"
      },
      "source": [
        "learn_c.predict(\"I didn't really love that movie, and I didn't think it was awesome.\")"
      ],
      "execution_count": null,
      "outputs": [
        {
          "output_type": "stream",
          "text": [
            "C:\\Users\\cross-entropy\\Anaconda3\\envs\\fastai\\lib\\site-packages\\fastai\\torch_core.py:83: UserWarning: Tensor is int32: upgrading to int64; for better performance use int64 input\n",
            "  warn('Tensor is int32: upgrading to int64; for better performance use int64 input')\n"
          ],
          "name": "stderr"
        },
        {
          "output_type": "execute_result",
          "data": {
            "text/plain": [
              "(Category neg, tensor(0), tensor([0.9698, 0.0302]))"
            ]
          },
          "metadata": {
            "tags": []
          },
          "execution_count": 14
        }
      ]
    },
    {
      "cell_type": "markdown",
      "metadata": {
        "id": "_HXU4mcJWpMG"
      },
      "source": [
        "#### Now that we've built the model, here is the part where you get to have some fun!! Take the model for a spin, try out your own examples!!"
      ]
    },
    {
      "cell_type": "markdown",
      "metadata": {
        "heading_collapsed": true,
        "id": "gmKY6f5AWpMG"
      },
      "source": [
        "## Appendix: Language Model Zoo"
      ]
    },
    {
      "cell_type": "markdown",
      "metadata": {
        "hidden": true,
        "id": "UXT5qc0KWpMG"
      },
      "source": [
        "fast.ai alumni have applied ULMFit to dozens of different languages, and have beat the SOTA in Thai, Polish, German, Indonesian, Hindi, & Malay.\n",
        "\n",
        "They share tips and best practices in [this forum thread](https://forums.fast.ai/t/language-model-zoo-gorilla/14623) in case you are interested in getting involved!\n",
        "\n",
        "<img src=\"https://github.com/fastai/course-nlp/blob/master/images/language_model_zoo.png?raw=1\" alt=\"language model zoo\" style=\"width: 80%\"/>"
      ]
    },
    {
      "cell_type": "code",
      "metadata": {
        "hidden": true,
        "id": "y1z8Np8eWpMG"
      },
      "source": [
        ""
      ],
      "execution_count": null,
      "outputs": []
    }
  ]
}