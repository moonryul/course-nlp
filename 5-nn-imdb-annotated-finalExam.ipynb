{
  "nbformat": 4,
  "nbformat_minor": 0,
  "metadata": {
    "kernelspec": {
      "display_name": "Python 3",
      "language": "python",
      "name": "python3"
    },
    "language_info": {
      "codemirror_mode": {
        "name": "ipython",
        "version": 3
      },
      "file_extension": ".py",
      "mimetype": "text/x-python",
      "name": "python",
      "nbconvert_exporter": "python",
      "pygments_lexer": "ipython3",
      "version": "3.7.3"
    },
    "colab": {
      "name": "5-nn-imdb.ipynb",
      "provenance": []
    },
    "accelerator": "GPU"
  },
  "cells": [
    {
      "cell_type": "markdown",
      "metadata": {
        "id": "uUrigbbUe3Re"
      },
      "source": [
        "#In this exam, I will test if you understand what is going on in this notebook for text classification. \n",
        "\n",
        "#Q1.\n",
        "Explain what is word embedding? Use keywords such as \"continuous\", \"vector space\", and \"similarity\".\n",
        "\n",
        "#Q2.\n",
        "Refer to the following article. Explain the difference between the word embedding technique based on language models and the standard word embedding techniques such as word2ved and Glove. Use keywords such as \"context\", \"shallow\", \"deep\".\n",
        "\n",
        "\n",
        "https://humboldt-wi.github.io/blog/research/information_systems_1819/group4_ulmfit/#forwardpass \n",
        "\n"
      ]
    },
    {
      "cell_type": "markdown",
      "metadata": {
        "id": "HOtnZ3Q9WpLq"
      },
      "source": [
        "This lesson was adapted from the end of [lesson 3](https://course.fast.ai/videos/?lesson=3) and beginning of [lesson 4](https://course.fast.ai/videos/?lesson=4) of the latest fast.ai Practical Deep Learning for Coders course.  We will cover all the material you need here in this notebook, so no need to have taken the Deep Learning course.  Even if you have taken the DL class, we will go slower and get into more detail here!"
      ]
    },
    {
      "cell_type": "markdown",
      "metadata": {
        "id": "q1qhL-2NWpLr"
      },
      "source": [
        "# Transfer Learning for Natural Language Modeling\n",
        "### Contructing a Language Model and a Sentiment Classifier for IMDB movie reviews"
      ]
    },
    {
      "cell_type": "markdown",
      "metadata": {
        "id": "o0ssTspaWpLs"
      },
      "source": [
        "\n",
        "\n",
        "Transfer learning has been widely used with great success in computer vision for several years, but only in the last year or so has it been successfully applied to NLP (beginning with ULMFit, which we will use here, which was built upon by BERT and GPT-2).\n",
        "\n",
        "As Sebastian Ruder wrote in [The Gradient](https://thegradient.pub/) last summer, [NLP's ImageNet moment has arrived](https://thegradient.pub/nlp-imagenet/).\n",
        "\n",
        "We will first build a language model for IMDB movie reviews.  Next we will build a sentiment classifier, which will predict whether a review is negative or positive, based on its text. For both of these tasks, we will use **transfer learning**. Starting with the pre-trained weights from the `wikitext-103` language model, we will tune these weights to specialize to the language of `IMDb` movie reviews. "
      ]
    },
    {
      "cell_type": "markdown",
      "metadata": {
        "heading_collapsed": true,
        "id": "3hKRSenMWpLs"
      },
      "source": [
        "## Language Models"
      ]
    },
    {
      "cell_type": "markdown",
      "metadata": {
        "hidden": true,
        "id": "081mp5ePWpLs"
      },
      "source": [
        "Language modeling can be a fun creative form. Research scientist [Janelle Shane blogs](https://aiweirdness.com/) & [tweets](https://twitter.com/JanelleCShane) about her creative AI explorations, which often involve text.  For instance, see her:\n",
        "\n",
        "- [Why did the neural network cross the road?](https://aiweirdness.com/post/174691534037/why-did-the-neural-network-cross-the-road)\n",
        "- [Try these neural network-generated recipes at your own risk.](https://aiweirdness.com/post/163878889437/try-these-neural-network-generated-recipes-at-your)\n",
        "- [D&D character bios - now making slightly more sense](https://aiweirdness.com/post/183471928977/dd-character-bios-now-making-slightly-more)"
      ]
    },
    {
      "cell_type": "markdown",
      "metadata": {
        "id": "ZEefC5-6WpLs"
      },
      "source": [
        "## Using a GPU"
      ]
    },
    {
      "cell_type": "markdown",
      "metadata": {
        "id": "2blcmwHZWpLt"
      },
      "source": [
        "You will need to have the fastai library installed for this lesson, and you will want to use a GPU to train your neural net.  If you don't have a GPU you can use in your computer (currently, only Nvidia GPUs are fully supported by the main deep learning libraries), no worries!  There are a number of cloud options you can consider:\n",
        "\n",
        "[GPU Cloud Options](https://course.fast.ai/#using-a-gpu)\n",
        "\n",
        "**Reminder: If you are using a cloud GPU, always be sure to shut it down when you are done!!! Otherwise, you could end up with an expensive bill!**"
      ]
    },
    {
      "cell_type": "code",
      "metadata": {
        "id": "7GU9GRRGWpLt"
      },
      "source": [
        "%reload_ext autoreload\n",
        "%autoreload 2\n",
        "\n",
        "%matplotlib inline"
      ],
      "execution_count": 14,
      "outputs": []
    },
    {
      "cell_type": "markdown",
      "metadata": {
        "id": "3PJVesdxYN7K"
      },
      "source": [
        "https://medium.com/@mukesh.kumar43585/model-checkpoint-google-colab-and-drive-as-persistent-storage-for-long-training-runs-e35ffa0c33d9"
      ]
    },
    {
      "cell_type": "code",
      "metadata": {
        "id": "EJpPOBi6WpLt"
      },
      "source": [
        "from fastai import *\n",
        "from fastai.text import *\n",
        "from scipy.spatial.distance import cosine as dist"
      ],
      "execution_count": 15,
      "outputs": []
    },
    {
      "cell_type": "markdown",
      "metadata": {
        "id": "A9wpZi68WpLu"
      },
      "source": [
        "Note that language models can use a lot of GPU, so you may need to decrease batchsize here."
      ]
    },
    {
      "cell_type": "markdown",
      "metadata": {
        "id": "SIrzlsyj-tYU"
      },
      "source": [
        "#Q3.\n",
        "In the following cell, what does bs refer to ? Suppose that you have a vocabulary whose number of words are 600000. How many batches will you have?\n",
        "\n",
        "\n",
        "References:\n",
        "\n",
        "https://forums.fast.ai/t/batch-and-bptt-in-language-model-data-matrix/8487\n",
        "\n",
        "https://forums.fast.ai/t/understanding-bptt-batchsize-and-what-is-getting-fed-into-the-forward-function-per-mini-batch/9028/11\n",
        "\n",
        "\n",
        "https://forums.fast.ai/t/bptt-intuitions/15417\n",
        "\n"
      ]
    },
    {
      "cell_type": "code",
      "metadata": {
        "id": "1FI_7SYg-rx9"
      },
      "source": [
        ""
      ],
      "execution_count": 15,
      "outputs": []
    },
    {
      "cell_type": "code",
      "metadata": {
        "id": "QHZy_WZiWpLu"
      },
      "source": [
        "# bs=192\n",
        "bs=48\n",
        "# bs=24"
      ],
      "execution_count": null,
      "outputs": []
    },
    {
      "cell_type": "markdown",
      "metadata": {
        "id": "z38VOjWBWpLu"
      },
      "source": [
        "### Fix this line: should be `device(0)` instead of `device(2)`"
      ]
    },
    {
      "cell_type": "code",
      "metadata": {
        "id": "09g3gOTYWpLu"
      },
      "source": [
        "#torch.cuda.set_device(2)\n",
        "torch.cuda.set_device(0)"
      ],
      "execution_count": null,
      "outputs": []
    },
    {
      "cell_type": "markdown",
      "metadata": {
        "heading_collapsed": true,
        "id": "4nC_4MqXWpLv"
      },
      "source": [
        "## 1. Prepare the URLs.IMDb_SAMPLE data (only 800 review samples out of 100,000 reviews, URLs.IMDB ). Part I is not part of the final task of this notebook, but a toy example which explains the basic concepts and ideas. Part 2 is the real meat. In part 2, there are many toy cells which are NOT parts of the final task. You need to distinguish which are toy cells."
      ]
    },
    {
      "cell_type": "markdown",
      "metadata": {
        "hidden": true,
        "id": "XTwmVBiOWpLv"
      },
      "source": [
        "First let's download the dataset we are going to study. The `IMDb` [dataset](http://ai.stanford.edu/~amaas/data/sentiment/) has been curated by Andrew Maas et al. and contains a total of 100,000 reviews on IMDB. 25,000 of them are labelled as positive and negative for training, another 25,000 are labelled for testing (in both cases they are highly polarized). The remaning 50,000 is an additional unlabelled data (but we will find a use for it nonetheless).\n",
        "\n",
        "We'll begin with a sample we've prepared for you, so that things run quickly before going over the full dataset."
      ]
    },
    {
      "cell_type": "code",
      "metadata": {
        "hidden": true,
        "colab": {
          "base_uri": "https://localhost:8080/",
          "height": 52
        },
        "id": "pu14aE0jWpLv",
        "outputId": "ed312f6f-98a0-48f7-8f5b-3b38537f6b41"
      },
      "source": [
        "path = untar_data(URLs.IMDB_SAMPLE, dest='/content/data')\n",
        "path.ls()"
      ],
      "execution_count": null,
      "outputs": [
        {
          "output_type": "stream",
          "text": [
            "Downloading http://files.fast.ai/data/examples/imdb_sample.tgz\n"
          ],
          "name": "stdout"
        },
        {
          "output_type": "display_data",
          "data": {
            "text/html": [
              ""
            ],
            "text/plain": [
              "<IPython.core.display.HTML object>"
            ]
          },
          "metadata": {
            "tags": []
          }
        },
        {
          "output_type": "execute_result",
          "data": {
            "text/plain": [
              "[PosixPath('/content/data/imdb_sample/texts.csv')]"
            ]
          },
          "metadata": {
            "tags": []
          },
          "execution_count": 7
        }
      ]
    },
    {
      "cell_type": "markdown",
      "metadata": {
        "hidden": true,
        "id": "RlWYhToPWpLv"
      },
      "source": [
        "It only contains one csv file, let's have a look at it."
      ]
    },
    {
      "cell_type": "markdown",
      "metadata": {
        "hidden": true,
        "id": "qmGtjz3LWpLw"
      },
      "source": [
        "It contains one line per review, with the label ('negative' or 'positive'), the text and a flag to determine if it should be part of the validation set or the training set. If we ignore this flag, we can create a `DataBunch` containing this data in one line of code:"
      ]
    },
    {
      "cell_type": "markdown",
      "metadata": {
        "id": "T5XfmuCvWpLw"
      },
      "source": [
        "### Load and preprocess the data and form a `databunch`\n",
        "Add workaround for the bug in the `fastai Text API`"
      ]
    },
    {
      "cell_type": "code",
      "metadata": {
        "hidden": true,
        "colab": {
          "base_uri": "https://localhost:8080/",
          "height": 193
        },
        "id": "XiWRKC-hWpLw",
        "outputId": "99432b45-61bf-40f6-fc1f-cc9e458d2f2b"
      },
      "source": [
        "%%time\n",
        "\n",
        "# throws `BrokenProcessPool' Error sometimes. Keep trying `till it works!\n",
        "count = 0\n",
        "error = True\n",
        "while error:\n",
        "    try: \n",
        "        # Preprocessing steps\n",
        "        data_lm = TextDataBunch.from_csv(path, 'texts.csv')\n",
        "        error = False\n",
        "        print(f'failure count is {count}\\n')    \n",
        "    except: # catch *all* exceptions\n",
        "        # accumulate failure count\n",
        "        count = count + 1\n",
        "        print(f'failure count is {count}')"
      ],
      "execution_count": null,
      "outputs": [
        {
          "output_type": "display_data",
          "data": {
            "text/html": [
              ""
            ],
            "text/plain": [
              "<IPython.core.display.HTML object>"
            ]
          },
          "metadata": {
            "tags": []
          }
        },
        {
          "output_type": "stream",
          "text": [
            "/usr/local/lib/python3.7/dist-packages/fastai/core.py:302: VisibleDeprecationWarning: Creating an ndarray from ragged nested sequences (which is a list-or-tuple of lists-or-tuples-or ndarrays with different lengths or shapes) is deprecated. If you meant to do this, you must specify 'dtype=object' when creating the ndarray\n",
            "  return np.array(a, dtype=dtype, **kwargs)\n"
          ],
          "name": "stderr"
        },
        {
          "output_type": "display_data",
          "data": {
            "text/html": [
              ""
            ],
            "text/plain": [
              "<IPython.core.display.HTML object>"
            ]
          },
          "metadata": {
            "tags": []
          }
        },
        {
          "output_type": "stream",
          "text": [
            "failure count is 0\n",
            "\n",
            "CPU times: user 487 ms, sys: 94.8 ms, total: 582 ms\n",
            "Wall time: 36.3 s\n"
          ],
          "name": "stdout"
        },
        {
          "output_type": "stream",
          "text": [
            "/usr/local/lib/python3.7/dist-packages/numpy/core/_asarray.py:83: VisibleDeprecationWarning: Creating an ndarray from ragged nested sequences (which is a list-or-tuple of lists-or-tuples-or ndarrays with different lengths or shapes) is deprecated. If you meant to do this, you must specify 'dtype=object' when creating the ndarray\n",
            "  return array(a, dtype, copy=False, order=order)\n",
            "<string>:6: VisibleDeprecationWarning: Creating an ndarray from ragged nested sequences (which is a list-or-tuple of lists-or-tuples-or ndarrays with different lengths or shapes) is deprecated. If you meant to do this, you must specify 'dtype=object' when creating the ndarray\n"
          ],
          "name": "stderr"
        }
      ]
    },
    {
      "cell_type": "markdown",
      "metadata": {
        "hidden": true,
        "id": "0QImL4MOWpLw"
      },
      "source": [
        "By executing this line a process was launched that took a bit of time. Let's dig a bit into it. Images could be fed (almost) directly into a model because they're just a big array of pixel values that are floats between 0 and 1. A text is composed of words, and we can't apply mathematical functions to them directly. We first have to convert them to numbers. This is done in two differents steps: tokenization and numericalization. A `TextDataBunch` does all of that behind the scenes for you."
      ]
    },
    {
      "cell_type": "markdown",
      "metadata": {
        "heading_collapsed": true,
        "hidden": true,
        "id": "43LDWyAPWpLw"
      },
      "source": [
        "### Tokenization"
      ]
    },
    {
      "cell_type": "markdown",
      "metadata": {
        "hidden": true,
        "id": "ubqrB1HxWpLx"
      },
      "source": [
        "The first step of processing we make texts go through is to split the raw sentences into words, or more exactly tokens. The easiest way to do this would be to split the string on spaces, but we can be smarter:\n",
        "\n",
        "- we need to take care of punctuation\n",
        "- some words are contractions of two different words, like isn't or don't\n",
        "- we may need to clean some parts of our texts, if there's HTML code for instance\n",
        "\n",
        "To see what the tokenizer had done behind the scenes, let's have a look at a few texts in a batch."
      ]
    },
    {
      "cell_type": "markdown",
      "metadata": {
        "hidden": true,
        "id": "CNgDlzfjWpLx"
      },
      "source": [
        "The texts are truncated at 100 tokens for more readability. We can see that it did more than just split on space and punctuation symbols: \n",
        "- the \"'s\" are grouped together in one token\n",
        "- the contractions are separated like his: \"did\", \"n't\"\n",
        "- content has been cleaned for any HTML symbol and lower cased\n",
        "- there are several special tokens (all those that begin by xx), to replace unkown tokens (see below) or to introduce different text fields (here we only have one)."
      ]
    },
    {
      "cell_type": "markdown",
      "metadata": {
        "heading_collapsed": true,
        "hidden": true,
        "id": "vfWEB2d5WpLx"
      },
      "source": [
        "### Numericalization"
      ]
    },
    {
      "cell_type": "markdown",
      "metadata": {
        "hidden": true,
        "id": "4HQ0R3Q9WpLx"
      },
      "source": [
        "Once we have extracted tokens from our texts, we convert to integers by creating a list of all the words used. We only keep the ones that appear at list twice with a maximum vocabulary size of 60,000 (by default) and replace the ones that don't make the cut by the unknown token `UNK`.\n",
        "\n",
        "The correspondance from ids tokens is stored in the `vocab` attribute of our datasets, in a dictionary called `itos` (for int to string)."
      ]
    },
    {
      "cell_type": "code",
      "metadata": {
        "colab": {
          "base_uri": "https://localhost:8080/"
        },
        "id": "Ftb--l30cbXd",
        "outputId": "a01f7676-b457-4668-8651-5dadb6fdc0b3"
      },
      "source": [
        "len(data_lm.vocab.itos) # the of the vocab of  URLs.IMDb_SAMPLE"
      ],
      "execution_count": null,
      "outputs": [
        {
          "output_type": "execute_result",
          "data": {
            "text/plain": [
              "8928"
            ]
          },
          "metadata": {
            "tags": []
          },
          "execution_count": 9
        }
      ]
    },
    {
      "cell_type": "code",
      "metadata": {
        "colab": {
          "base_uri": "https://localhost:8080/"
        },
        "id": "G8pbROXBcnYM",
        "outputId": "5eac9b67-1e21-44d3-93be-71b5a6394d3b"
      },
      "source": [
        "type(data_lm.vocab.itos)"
      ],
      "execution_count": null,
      "outputs": [
        {
          "output_type": "execute_result",
          "data": {
            "text/plain": [
              "list"
            ]
          },
          "metadata": {
            "tags": []
          },
          "execution_count": 13
        }
      ]
    },
    {
      "cell_type": "code",
      "metadata": {
        "hidden": true,
        "id": "vW-p733sWpLy",
        "outputId": "94a67136-e736-4923-9aa1-d0df50eac9ac"
      },
      "source": [
        "data_lm.vocab.itos[:10]"
      ],
      "execution_count": null,
      "outputs": [
        {
          "output_type": "execute_result",
          "data": {
            "text/plain": [
              "['xxunk',\n",
              " 'xxpad',\n",
              " 'xxbos',\n",
              " 'xxeos',\n",
              " 'xxfld',\n",
              " 'xxmaj',\n",
              " 'xxup',\n",
              " 'xxrep',\n",
              " 'xxwrep',\n",
              " 'the']"
            ]
          },
          "metadata": {
            "tags": []
          },
          "execution_count": 7
        }
      ]
    },
    {
      "cell_type": "markdown",
      "metadata": {
        "hidden": true,
        "id": "3bod99J2WpLy"
      },
      "source": [
        "And if we look at what a what's in our datasets, we'll see the tokenized text as a representation:"
      ]
    },
    {
      "cell_type": "code",
      "metadata": {
        "colab": {
          "base_uri": "https://localhost:8080/"
        },
        "id": "BZ4wKNXpcyRb",
        "outputId": "5ec7efe5-087e-4521-efdc-c222d9085c66"
      },
      "source": [
        "type(data_lm.train_ds)"
      ],
      "execution_count": null,
      "outputs": [
        {
          "output_type": "execute_result",
          "data": {
            "text/plain": [
              "fastai.data_block.LabelList"
            ]
          },
          "metadata": {
            "tags": []
          },
          "execution_count": 14
        }
      ]
    },
    {
      "cell_type": "code",
      "metadata": {
        "colab": {
          "base_uri": "https://localhost:8080/"
        },
        "id": "uhwyUPmodkjg",
        "outputId": "67b95ef6-ec12-4af6-d6c3-0d49ba74a5b5"
      },
      "source": [
        "len(data_lm.train_ds)"
      ],
      "execution_count": null,
      "outputs": [
        {
          "output_type": "execute_result",
          "data": {
            "text/plain": [
              "799"
            ]
          },
          "metadata": {
            "tags": []
          },
          "execution_count": 10
        }
      ]
    },
    {
      "cell_type": "code",
      "metadata": {
        "colab": {
          "base_uri": "https://localhost:8080/"
        },
        "id": "iMu-3uxsdAbr",
        "outputId": "f3021a9d-7ae8-4fae-8b55-f6968e20f0d9"
      },
      "source": [
        "data_lm.train_ds[0]"
      ],
      "execution_count": null,
      "outputs": [
        {
          "output_type": "execute_result",
          "data": {
            "text/plain": [
              "(Text [   2    5  108   14 ...   16   82 6040   10], Category 0)"
            ]
          },
          "metadata": {
            "tags": []
          },
          "execution_count": 18
        }
      ]
    },
    {
      "cell_type": "code",
      "metadata": {
        "id": "wZhlotE3dhE6"
      },
      "source": [
        ""
      ],
      "execution_count": null,
      "outputs": []
    },
    {
      "cell_type": "code",
      "metadata": {
        "hidden": true,
        "id": "Wc36ve6sWpLy",
        "outputId": "f5335c00-b661-4c65-ed87-ab02e9309dd2"
      },
      "source": [
        "data_lm.train_ds[0][0]"
      ],
      "execution_count": null,
      "outputs": [
        {
          "output_type": "execute_result",
          "data": {
            "text/plain": [
              "Text xxbos xxmaj this movie is so bad , i knew how it ends right after this little girl killed the first person . xxmaj very bad acting very bad plot very bad movie \n",
              " \n",
              "  do yourself a favour and xxup don't watch it 1 / 10"
            ]
          },
          "metadata": {
            "tags": []
          },
          "execution_count": 8
        }
      ]
    },
    {
      "cell_type": "code",
      "metadata": {
        "colab": {
          "base_uri": "https://localhost:8080/"
        },
        "id": "54rEdXQyd5fA",
        "outputId": "fca3dd9b-a3ab-4558-975c-0decf67c254f"
      },
      "source": [
        "data_lm.train_ds[0][1]"
      ],
      "execution_count": null,
      "outputs": [
        {
          "output_type": "execute_result",
          "data": {
            "text/plain": [
              "Category 0"
            ]
          },
          "metadata": {
            "tags": []
          },
          "execution_count": 21
        }
      ]
    },
    {
      "cell_type": "markdown",
      "metadata": {
        "hidden": true,
        "id": "dYDYqxmHWpLy"
      },
      "source": [
        "But the underlying data is all numbers"
      ]
    },
    {
      "cell_type": "code",
      "metadata": {
        "hidden": true,
        "id": "YNnkfe7VWpLy",
        "outputId": "d69ce6d9-ed02-47f6-891d-392ab3b4d7c9"
      },
      "source": [
        "data_lm.train_ds[0][0].data[:10]"
      ],
      "execution_count": null,
      "outputs": [
        {
          "output_type": "execute_result",
          "data": {
            "text/plain": [
              "array([  2,   5,  21,  31,  16,  52, 107,  10,  19, 669], dtype=int64)"
            ]
          },
          "metadata": {
            "tags": []
          },
          "execution_count": 9
        }
      ]
    },
    {
      "cell_type": "markdown",
      "metadata": {
        "heading_collapsed": true,
        "hidden": true,
        "id": "U00LpR6yWpLy"
      },
      "source": [
        "### Alternative approach: with the `data block API`"
      ]
    },
    {
      "cell_type": "markdown",
      "metadata": {
        "hidden": true,
        "id": "kpkB2eQlWpLy"
      },
      "source": [
        "We can use the data block API with NLP and have a lot more flexibility than what the default factory methods offer. In the previous example for instance, the data was randomly split between train and validation instead of reading the third column of the csv.\n",
        "\n",
        "With the data block API though, we have to manually call the tokenize and numericalize steps. This allows more flexibility, and if you're not using the defaults from fastai, the various arguments to pass will appear in the step they're revelant, so it'll be more readable."
      ]
    },
    {
      "cell_type": "markdown",
      "metadata": {
        "id": "-wI1qWxmWpLz"
      },
      "source": [
        "### Load and preprocess the data and form a `datablock`\n",
        "Add workaround for the bug in the `fastai Text API`"
      ]
    },
    {
      "cell_type": "code",
      "metadata": {
        "hidden": true,
        "colab": {
          "base_uri": "https://localhost:8080/",
          "height": 193
        },
        "id": "pUZ_FePuWpLz",
        "outputId": "ec4f448f-9530-49ed-fd16-3d4ba09dde02"
      },
      "source": [
        "%%time\n",
        "\n",
        "# throws `BrokenProcessPool' Error sometimes. Keep trying `till it works!\n",
        "count = 0\n",
        "error = True\n",
        "while error:\n",
        "    try: \n",
        "        # Preprocessing steps\n",
        "        data = (TextList.from_csv(path, 'texts.csv', cols='text')\n",
        "                .split_from_df(col=2)\n",
        "                .label_from_df(cols=0)\n",
        "                .databunch())        \n",
        "        error = False\n",
        "        print(f'failure count is {count}\\n')    \n",
        "    except: # catch *all* exceptions\n",
        "        # accumulate failure count\n",
        "        count = count + 1\n",
        "        print(f'failure count is {count}')"
      ],
      "execution_count": null,
      "outputs": [
        {
          "output_type": "display_data",
          "data": {
            "text/html": [
              ""
            ],
            "text/plain": [
              "<IPython.core.display.HTML object>"
            ]
          },
          "metadata": {
            "tags": []
          }
        },
        {
          "output_type": "stream",
          "text": [
            "/usr/local/lib/python3.7/dist-packages/fastai/core.py:302: VisibleDeprecationWarning: Creating an ndarray from ragged nested sequences (which is a list-or-tuple of lists-or-tuples-or ndarrays with different lengths or shapes) is deprecated. If you meant to do this, you must specify 'dtype=object' when creating the ndarray\n",
            "  return np.array(a, dtype=dtype, **kwargs)\n"
          ],
          "name": "stderr"
        },
        {
          "output_type": "display_data",
          "data": {
            "text/html": [
              ""
            ],
            "text/plain": [
              "<IPython.core.display.HTML object>"
            ]
          },
          "metadata": {
            "tags": []
          }
        },
        {
          "output_type": "stream",
          "text": [
            "failure count is 0\n",
            "\n",
            "CPU times: user 427 ms, sys: 80.5 ms, total: 508 ms\n",
            "Wall time: 36.3 s\n"
          ],
          "name": "stdout"
        },
        {
          "output_type": "stream",
          "text": [
            "/usr/local/lib/python3.7/dist-packages/numpy/core/_asarray.py:83: VisibleDeprecationWarning: Creating an ndarray from ragged nested sequences (which is a list-or-tuple of lists-or-tuples-or ndarrays with different lengths or shapes) is deprecated. If you meant to do this, you must specify 'dtype=object' when creating the ndarray\n",
            "  return array(a, dtype, copy=False, order=order)\n",
            "<string>:6: VisibleDeprecationWarning: Creating an ndarray from ragged nested sequences (which is a list-or-tuple of lists-or-tuples-or ndarrays with different lengths or shapes) is deprecated. If you meant to do this, you must specify 'dtype=object' when creating the ndarray\n"
          ],
          "name": "stderr"
        }
      ]
    },
    {
      "cell_type": "code",
      "metadata": {
        "colab": {
          "base_uri": "https://localhost:8080/"
        },
        "id": "a9TE5-D9gYQO",
        "outputId": "76743697-59e0-491f-ca14-4bdaff5f66b4"
      },
      "source": [
        "len(data.items)"
      ],
      "execution_count": null,
      "outputs": [
        {
          "output_type": "execute_result",
          "data": {
            "text/plain": [
              "800"
            ]
          },
          "metadata": {
            "tags": []
          },
          "execution_count": 12
        }
      ]
    },
    {
      "cell_type": "markdown",
      "metadata": {
        "id": "CVQ7HoApWpLz"
      },
      "source": [
        "## 2. Transfer Learning <br>\n",
        "### We are going to create an `IMDb` language model starting with the pretrained weights from the `wikitext-103` language model."
      ]
    },
    {
      "cell_type": "markdown",
      "metadata": {
        "id": "dsBDlFoJWpLz"
      },
      "source": [
        "Now let's grab the full `IMDb` dataset for what follows."
      ]
    },
    {
      "cell_type": "code",
      "metadata": {
        "colab": {
          "base_uri": "https://localhost:8080/"
        },
        "id": "g1fWronFWpLz",
        "outputId": "e692035d-6b36-49e5-cddc-23b21eab598e"
      },
      "source": [
        "path = untar_data(URLs.IMDB,dest='/content/data')\n",
        "path.ls()"
      ],
      "execution_count": 16,
      "outputs": [
        {
          "output_type": "execute_result",
          "data": {
            "text/plain": [
              "[PosixPath('/content/data/imdb/imdb.vocab'),\n",
              " PosixPath('/content/data/imdb/README'),\n",
              " PosixPath('/content/data/imdb/train'),\n",
              " PosixPath('/content/data/imdb/unsup'),\n",
              " PosixPath('/content/data/imdb/test'),\n",
              " PosixPath('/content/data/imdb/tmp_lm'),\n",
              " PosixPath('/content/data/imdb/tmp_clas')]"
            ]
          },
          "metadata": {
            "tags": []
          },
          "execution_count": 16
        }
      ]
    },
    {
      "cell_type": "code",
      "metadata": {
        "id": "BVUvQIWgWpLz",
        "colab": {
          "base_uri": "https://localhost:8080/"
        },
        "outputId": "b27fea6b-33b4-4097-8ef1-f01b74e59949"
      },
      "source": [
        "(path/'train').ls()"
      ],
      "execution_count": null,
      "outputs": [
        {
          "output_type": "execute_result",
          "data": {
            "text/plain": [
              "[PosixPath('/content/data/imdb/train/pos'),\n",
              " PosixPath('/content/data/imdb/train/labeledBow.feat'),\n",
              " PosixPath('/content/data/imdb/train/unsupBow.feat'),\n",
              " PosixPath('/content/data/imdb/train/neg')]"
            ]
          },
          "metadata": {
            "tags": []
          },
          "execution_count": 6
        }
      ]
    },
    {
      "cell_type": "markdown",
      "metadata": {
        "id": "k5LNaqgBWpL0"
      },
      "source": [
        "The reviews are in a training and test set following an imagenet structure. The only difference is that there is an `unsup` folder in `train` that contains the unlabelled data.\n",
        "\n",
        "We're not going to train a model that classifies the reviews from scratch. Like in computer vision, we'll use a model pretrained on a bigger dataset (a cleaned subset of wikipedia called [wikitext-103](https://s3.amazonaws.com/research.metamind.io/wikitext/wikitext-103-v1.zip)). That model has been trained to guess what the next word, its input being all the previous words. It has a recurrent structure and a hidden state that is updated each time it sees a new word. This hidden state thus contains information about the sentence up to that point.\n",
        "\n",
        "We are going to use that 'knowledge' of the English language to build our classifier, but first, like for computer vision, we need to fine-tune the pretrained model to our particular dataset. Because the English of the reviews left by people on IMDB isn't the same as the English of wikipedia, we'll need to adjust a little bit the parameters of our model. Plus there might be some words extremely common in that dataset that were barely present in wikipedia, and therefore might no be part of the vocabulary the model was trained on."
      ]
    },
    {
      "cell_type": "markdown",
      "metadata": {
        "heading_collapsed": true,
        "id": "K1u15sX-WpL0"
      },
      "source": [
        "### More about WikiText-103"
      ]
    },
    {
      "cell_type": "markdown",
      "metadata": {
        "hidden": true,
        "id": "CHAI_lwUWpL0"
      },
      "source": [
        "We will be using the `WikiText-103` dataset created by [Stephen Merity](https://smerity.com/) to pre-train a language model.\n",
        "\n",
        "To quote [Stephen's post](https://blog.einstein.ai/the-wikitext-long-term-dependency-language-modeling-dataset/):\n",
        "\n",
        "*The WikiText language modeling dataset is a collection of over 100 million tokens extracted from the set of verified Good and Featured articles on Wikipedia. The dataset is available under the Creative Commons Attribution-ShareAlike License.*\n",
        "\n",
        "*Compared to the preprocessed version of Penn Treebank (PTB), WikiText-2 is over 2 times larger and WikiText-103 is over 110 times larger. The WikiText dataset also features a far larger vocabulary and retains the original case, punctuation and numbers - all of which are removed in PTB. As it is composed of full articles, the dataset is well suited for models that can take advantage of long term dependencies.*"
      ]
    },
    {
      "cell_type": "markdown",
      "metadata": {
        "id": "CifM1kqYWpL0"
      },
      "source": [
        "[Download wikitext-103](https://s3.amazonaws.com/research.metamind.io/wikitext/wikitext-103-v1.zip). Unzip it into the `.fastai/data/` folder on your computer."
      ]
    },
    {
      "cell_type": "markdown",
      "metadata": {
        "heading_collapsed": true,
        "id": "90Mk2JCfWpL0"
      },
      "source": [
        "### 2A. Package the `IMDb` data into a language model `databunch`"
      ]
    },
    {
      "cell_type": "markdown",
      "metadata": {
        "hidden": true,
        "id": "xhxxa6jxWpL0"
      },
      "source": [
        "This is where the unlabelled data is going to be useful to us, as we can use it to fine-tune our model. Let's create our data object with the data block API (this takes a few minutes).\n",
        "\n",
        "We'll to use a special kind of `TextDataBunch` for the language model, that ignores the labels (that's why we put 0 everywhere), will shuffle the texts at each epoch before concatenating them all together (only for training; we don't shuffle for the validation set) and will send batches that read that text in order with targets that are the next word in the sentence.\n",
        "\n",
        "Add a `try-except` wrapper as a workaround for the bug in the `fastai Text API`"
      ]
    },
    {
      "cell_type": "code",
      "metadata": {
        "colab": {
          "base_uri": "https://localhost:8080/"
        },
        "id": "rK35gY7nAsSc",
        "outputId": "4386519c-2793-4a94-fcdd-1c350d744afa"
      },
      "source": [
        "path"
      ],
      "execution_count": null,
      "outputs": [
        {
          "output_type": "execute_result",
          "data": {
            "text/plain": [
              "PosixPath('/content/data/imdb')"
            ]
          },
          "metadata": {
            "tags": []
          },
          "execution_count": 14
        }
      ]
    },
    {
      "cell_type": "code",
      "metadata": {
        "hidden": true,
        "colab": {
          "base_uri": "https://localhost:8080/"
        },
        "id": "JUQf1xNgWpL1",
        "outputId": "262f0b5f-14e1-40db-f2fe-ca8c59021031"
      },
      "source": [
        "%%time\n",
        "\n",
        "# throws `BrokenProcessPool` Error sometimes. Keep trying `till it works!\n",
        "count = 0\n",
        "error = True\n",
        "while error:\n",
        "    try: \n",
        "        # The 1st step: Preprocessing steps\n",
        "        data_lm_full = (TextList.from_folder(path)\n",
        "           #Inputs: all the text files in path\n",
        "            .filter_by_folder(include=['train', 'test', 'unsup']) \n",
        "           # notebook 3-logreg-nb-imbd used .split_by_folder instead of .filter_by_folder\n",
        "            # and this took less time to run. Can we do the same here?\n",
        "           #We may have other temp folders that contain text files so we only keep what's in train and test\n",
        "            .split_by_rand_pct(0.1, seed=42))\n",
        "           #We randomly split and keep 10% (10,000 reviews) for validation\n",
        "            #.label_for_lm()           \n",
        "           #We want to make a language model so we label accordingly\n",
        "            #.databunch(bs=bs, num_workers=1))\n",
        "        error = False\n",
        "        print(f'failure count is {count}\\n')    \n",
        "    except: # catch *all* exceptions\n",
        "        # accumulate failure count\n",
        "        count = count + 1\n",
        "        print(f'failure count is {count}')"
      ],
      "execution_count": 17,
      "outputs": [
        {
          "output_type": "stream",
          "text": [
            "failure count is 0\n",
            "\n",
            "CPU times: user 1.49 s, sys: 43.4 ms, total: 1.53 s\n",
            "Wall time: 1.53 s\n"
          ],
          "name": "stdout"
        }
      ]
    },
    {
      "cell_type": "code",
      "metadata": {
        "colab": {
          "base_uri": "https://localhost:8080/"
        },
        "id": "andSamKqjF32",
        "outputId": "976cb61d-49f8-4e2c-befa-711e448d9d16"
      },
      "source": [
        "len(data_lm_full.vocab.itos)"
      ],
      "execution_count": null,
      "outputs": [
        {
          "output_type": "execute_result",
          "data": {
            "text/plain": [
              "60000"
            ]
          },
          "metadata": {
            "tags": []
          },
          "execution_count": 80
        }
      ]
    },
    {
      "cell_type": "code",
      "metadata": {
        "colab": {
          "base_uri": "https://localhost:8080/"
        },
        "id": "1I6HQdFYA876",
        "outputId": "9f468824-34bc-4209-bc4f-db9c0e7bac0a"
      },
      "source": [
        "len(data_lm_full.items)"
      ],
      "execution_count": null,
      "outputs": [
        {
          "output_type": "execute_result",
          "data": {
            "text/plain": [
              "90000"
            ]
          },
          "metadata": {
            "tags": []
          },
          "execution_count": 17
        }
      ]
    },
    {
      "cell_type": "code",
      "metadata": {
        "id": "3_JKFvLjBc4g"
      },
      "source": [
        "data_lm_full??"
      ],
      "execution_count": null,
      "outputs": []
    },
    {
      "cell_type": "code",
      "metadata": {
        "colab": {
          "base_uri": "https://localhost:8080/"
        },
        "id": "V_pz2HQICE_t",
        "outputId": "c3eeeefe-402a-41e8-c6c3-9830c5b8683e"
      },
      "source": [
        "data_lm_full.lists"
      ],
      "execution_count": null,
      "outputs": [
        {
          "output_type": "execute_result",
          "data": {
            "text/plain": [
              "[TextList (90000 items)\n",
              " /content/data/imdb/train/neg/2335_1.txt,/content/data/imdb/train/neg/4594_1.txt,/content/data/imdb/train/neg/12171_3.txt,/content/data/imdb/train/neg/7466_1.txt,/content/data/imdb/train/neg/5125_1.txt\n",
              " Path: /content/data/imdb, TextList (10000 items)\n",
              " /content/data/imdb/unsup/30750_0.txt,/content/data/imdb/unsup/30024_0.txt,/content/data/imdb/train/pos/2944_10.txt,/content/data/imdb/unsup/4680_0.txt,/content/data/imdb/unsup/16856_0.txt\n",
              " Path: /content/data/imdb]"
            ]
          },
          "metadata": {
            "tags": []
          },
          "execution_count": 19
        }
      ]
    },
    {
      "cell_type": "code",
      "metadata": {
        "colab": {
          "base_uri": "https://localhost:8080/"
        },
        "id": "GodQT3qCCNI_",
        "outputId": "5bde5903-aa8c-4e40-fcc5-9d2eaec0e6ad"
      },
      "source": [
        "data_lm_full.train"
      ],
      "execution_count": null,
      "outputs": [
        {
          "output_type": "execute_result",
          "data": {
            "text/plain": [
              "LabelList (90000 items)\n",
              "x: LMTextList\n",
              "xxbos a film so insecure the xxunk perhaps hoped to milk an original film noir classic title , \" xxmaj farewell xxmaj my xxmaj lovely \" , thinking the gullible would assume it a remake . xxmaj the characters are so foul and unappealing that it deserved its cold reception when first released . xxmaj time only adds to it its absurdity . xxmaj having none of the guile , cinematography , desperation or despair of classic noir it relied instead on a convoluted and senseless crime plot that would have easily resulted in several arrests within hours . xxmaj as if that were n't enough it threw in an utterly sexless attempt at erotica in which at least one of the participants had n't bothered to bathe in several days . xxmaj this only made this mess all the more painful to watch . xxmaj find a good classic forties or fifties film noir instead of wasting two hours on this failure .,xxbos i had numerous problems with this film . \n",
              " \n",
              "  xxmaj it contains some basic factual information concerning quantum mechanics , which is fine . xxmaj although quantum physics has been around for over 50 years , the film presents this information in a grandiose way that seems to be saying : \" xxmaj are n't you just blown away by this ! \" xxmaj well , not really . xxmaj these are n't earth shattering revelations anymore . xxmaj at any rate , i was already familiar with quantum theory , and the fact that particles have to be described by wave equations , etc . is not new . \n",
              " \n",
              "  xxmaj the main problem i have with this movie , however , is the way these people use quantum theory as a way of providing a scientific basis for mysticism and spiritualism . i do n't have any serious problem with mysticism and spiritualism , but quantum mechanics does n't really have anything to do with these things , and it should be kept separate . xxmaj the people they interviewed for this movie start with the ideas of quantum theory and then make the leap to say that simply by thinking about something you can alter the matter around you , hence we should think positively so as to have a positive impact on the world and make our lives better . xxmaj the reasoning is completely ridiculous , and the conclusions do not logically follow from quantum theory . xxmaj for every so called \" expert \" that they interviewed for this film , there are scores of theoretically physicists who would completely disagree . xxmaj they would point out , quite rightly , that the unpredictability of the subatomic world does not lend support to mystical notions about our spiritual connectedness . \n",
              " \n",
              "  xxmaj it disturbs me that people are going to see this film and completely eat it up because it leaves them with a nice positive feeling . xxmaj the main thrust of the film is based on a total misinterpretation of quantum theory , and it is as bad in its reasoning as any attempt to justify organized religion with similar pseudo - scientific arguments . \n",
              " \n",
              "  xxmaj avoid this film . \n",
              " \n",
              "  xxmaj oh yeah . xxmaj at one point , one of the \" experts \" says that since throughout history most of the assumptions people have made about the world turned out to be false , therefore the assumptions we currently hold about the world are also likely to be false . xxmaj huh ? xxmaj that totally does not follow . xxmaj and even if it did , i do n't see how that helps his argument . i mean , if his ideas ever became common assumptions then i guess we would have to assume that they are false too , based on his own reasoning .,xxbos xxmaj being a slasher film aficionado , i typically will settle in to watch every slash movie that passes over my retinas , which sometimes does more harm than good to my brain , i will say . xxmaj while channel surfing the other night , xxmaj sleepaway xxmaj camp xxup ii happened to cross paths with me . xxmaj of course , i wanted to check it out , as i had heard of the xxmaj sleepaway xxmaj camp franchise , but have never actually seen any of them ( for shame , i know ) . i will note that since i have not seen the original , my criticism should probably not be taken too seriously , because perhaps what i think is wrong with it is totally intentional by the franchise 's own design . \n",
              " \n",
              "  xxmaj now i 'm assuming that the franchise of xxmaj sleepaway xxmaj camp is , in itself , a joke on itself . xxmaj hell , even the name comes off as an intentional joke . xxmaj sleep away camp ? xxmaj it 's good fun . i can appreciate the film for wanting to just put together something for pure camp horror value , but that 's about as far as i can go . xxmaj the acting in this movie made the cast of the original xxmaj friday the 13th look like thespians doing a rendition of xxmaj macbeth . xxmaj campy requires bad acting , but come on . xxmaj pamela xxmaj springsteen as the evil out - of - touch - with - reality killer did a better job of killing off my interest than she did killing off the entire cast . xxmaj as far as comedy goes , there were a few times where i chuckled , but it was few and far between . \n",
              " \n",
              "  xxmaj ultimately , xxup sac xxup ii is pretty boring , and i really did want to sleep away the camp . xxmaj the deaths are so obviously staged and fake that you can barely appreciate them . xxmaj if you 're looking for a slasher film comedy with good camp , i recommend xxmaj club xxmaj dread . xxmaj if your channel surfing takes you across this one , check and see what else is on .,xxbos xxmaj wow . xxmaj some movies just leave me speechless . xxmaj this was undeniably one of those movies . xxmaj when i left the theatre , not a single word came to my mouth . xxmaj all i had was an incredible urge to slam my head against the theatre wall to help me forget about the last hour and a half . xxmaj unfortunately , it did n't work . xxmaj honestly , this movie has nothing to recommend . xxmaj the humor was at the first grade level , at best , the acting was overly silly , and the plot was astronomically far - fetched . i xxunk pledge never to see an other movie starring xxmaj chris xxmaj kattan or any other cast - member of xxup snl .,xxbos xxmaj as a youth pastor i heard good things about this movie . xxmaj then i watched it . xxmaj the acting was n't the best . xxmaj that 's forgivable . xxmaj it 's the message that 's not : xxmaj give xxmaj jesus your life and everything will change - you 'll tackle better , make amazing catches , stop fumbling , start making touchdown passes , and even make the playoffs . xxmaj all because xxmaj jesus magically turns horrible undersized weaklings into xxmaj all - xxmaj american athletes . i laughed out loud when a coach quoted scripture to explain to the kicker why he was missing field goals . xxmaj but wait , that 's not all . xxmaj you 'll get a brand new truck , a $ 6000 raise , and you and your wife 's struggle with infertility will suddenly end in pregnancy - twice . xxup then you 'll win the state championship because xxmaj god helps a weakling kick the winning field goal 12 yards further than he 's ever kicked before - and into the wind , no less - all because \" xxmaj god wanted him to make it . \" xxmaj then you 'll win the state championship again the next year . xxmaj none of this good stuff would have happened if the team had n't chosen to follow xxmaj jesus will all their hearts . \n",
              " \n",
              "  xxmaj here 's what i took away from the movie : xxmaj god can do anything he wants to do whenever he wants to do it - and it 's all about making our lives better , easier , and more enjoyable . xxmaj he chooses his favorite team and helps them win games . xxmaj which bible is this story based on ? i 'll bet xxmaj saint xxmaj stephen wished he 'd known the keys to such a safe life before he was stoned to death . xxmaj someone should have made this movie before 10 of the 11 apostles were killed for following xxmaj jesus . xxmaj it would have saved them all a lot of trouble .\n",
              "y: LMLabelList\n",
              ",,,,\n",
              "Path: /content/data/imdb"
            ]
          },
          "metadata": {
            "tags": []
          },
          "execution_count": 28
        }
      ]
    },
    {
      "cell_type": "code",
      "metadata": {
        "colab": {
          "base_uri": "https://localhost:8080/"
        },
        "id": "qIDiXiLXCTaU",
        "outputId": "f54b67d3-45d9-4c08-9e3f-c97388d56ba8"
      },
      "source": [
        "data_lm_full.valid"
      ],
      "execution_count": null,
      "outputs": [
        {
          "output_type": "execute_result",
          "data": {
            "text/plain": [
              "TextList (10000 items)\n",
              "/content/data/imdb/unsup/30750_0.txt,/content/data/imdb/unsup/30024_0.txt,/content/data/imdb/train/pos/2944_10.txt,/content/data/imdb/unsup/4680_0.txt,/content/data/imdb/unsup/16856_0.txt\n",
              "Path: /content/data/imdb"
            ]
          },
          "metadata": {
            "tags": []
          },
          "execution_count": 21
        }
      ]
    },
    {
      "cell_type": "markdown",
      "metadata": {
        "id": "UqQpYAL2WpL1"
      },
      "source": [
        "#### the last two steps for preparing the dataset for the neural net."
      ]
    },
    {
      "cell_type": "code",
      "metadata": {
        "colab": {
          "base_uri": "https://localhost:8080/",
          "height": 139
        },
        "id": "guyI7kAVWpL1",
        "outputId": "7d97bb2c-b032-4fa5-c75e-b92213ec8698"
      },
      "source": [
        "%%time\n",
        "\n",
        "# throws `BrokenProcessPool' Error sometimes. Keep trying `till it works!\n",
        "count = 0\n",
        "error = True\n",
        "while error:\n",
        "    try: \n",
        "        # the 2nd step (labeling texts) and the 3rd step (batching for language model)\n",
        "        #     the these steps is the bottleneck (takes a long time)\n",
        "        data_lm = (data_lm_full.label_for_lm()           \n",
        "           #We want to make a language model so we label accordingly\n",
        "            .databunch(bs=bs, num_workers=1))\n",
        "        error = False\n",
        "        print(f'failure count is {count}\\n')    \n",
        "    except: # catch *all* exceptions\n",
        "        # accumulate failure count\n",
        "        count = count + 1\n",
        "        print(f'failure count is {count}')"
      ],
      "execution_count": 18,
      "outputs": [
        {
          "output_type": "display_data",
          "data": {
            "text/html": [
              ""
            ],
            "text/plain": [
              "<IPython.core.display.HTML object>"
            ]
          },
          "metadata": {
            "tags": []
          }
        },
        {
          "output_type": "stream",
          "text": [
            "/usr/local/lib/python3.7/dist-packages/fastai/core.py:302: VisibleDeprecationWarning: Creating an ndarray from ragged nested sequences (which is a list-or-tuple of lists-or-tuples-or ndarrays with different lengths or shapes) is deprecated. If you meant to do this, you must specify 'dtype=object' when creating the ndarray\n",
            "  return np.array(a, dtype=dtype, **kwargs)\n"
          ],
          "name": "stderr"
        },
        {
          "output_type": "display_data",
          "data": {
            "text/html": [
              ""
            ],
            "text/plain": [
              "<IPython.core.display.HTML object>"
            ]
          },
          "metadata": {
            "tags": []
          }
        },
        {
          "output_type": "stream",
          "text": [
            "failure count is 0\n",
            "\n",
            "CPU times: user 16.6 s, sys: 3.42 s, total: 20 s\n",
            "Wall time: 2min 38s\n"
          ],
          "name": "stdout"
        }
      ]
    },
    {
      "cell_type": "code",
      "metadata": {
        "hidden": true,
        "scrolled": true,
        "colab": {
          "base_uri": "https://localhost:8080/"
        },
        "id": "pZnR_hZDWpL1",
        "outputId": "102ada70-ae5e-4b83-cf2e-4dcdcc1464b1"
      },
      "source": [
        "len(data_lm.vocab.itos),len(data_lm.train_ds), len(data_lm.valid_ds)"
      ],
      "execution_count": 19,
      "outputs": [
        {
          "output_type": "execute_result",
          "data": {
            "text/plain": [
              "(60000, 90000, 10000)"
            ]
          },
          "metadata": {
            "tags": []
          },
          "execution_count": 19
        }
      ]
    },
    {
      "cell_type": "code",
      "metadata": {
        "id": "rbZ99lbBdUcg"
      },
      "source": [
        ""
      ],
      "execution_count": null,
      "outputs": []
    },
    {
      "cell_type": "code",
      "metadata": {
        "hidden": true,
        "colab": {
          "base_uri": "https://localhost:8080/",
          "height": 97
        },
        "id": "ZP_uGJDrWpL1",
        "outputId": "a850490e-9b56-45f0-b7ac-28742fa0ac1d"
      },
      "source": [
        "data_lm.show_batch(1)"
      ],
      "execution_count": 20,
      "outputs": [
        {
          "output_type": "display_data",
          "data": {
            "text/html": [
              "<table border=\"1\" class=\"dataframe\">\n",
              "  <thead>\n",
              "    <tr style=\"text-align: right;\">\n",
              "      <th>idx</th>\n",
              "      <th>text</th>\n",
              "    </tr>\n",
              "  </thead>\n",
              "  <tbody>\n",
              "    <tr>\n",
              "      <td>0</td>\n",
              "      <td>movie is a mile a minute . xxmaj it 's basically a big excuse to have fun , and i 'm sure that you will . xxmaj bullied freshmen ? xxmaj check . a dorky music teacher ( xxmaj paul xxmaj bartel , also from \" xxmaj eating xxmaj raoul \" * ) ? xxmaj check . xxmaj exploding mice ? xxmaj xxunk . \\n \\n  xxmaj anyway ,</td>\n",
              "    </tr>\n",
              "  </tbody>\n",
              "</table>"
            ],
            "text/plain": [
              "<IPython.core.display.HTML object>"
            ]
          },
          "metadata": {
            "tags": []
          }
        }
      ]
    },
    {
      "cell_type": "code",
      "metadata": {
        "colab": {
          "base_uri": "https://localhost:8080/"
        },
        "id": "FVNgTWG8eWbp",
        "outputId": "9451c8d2-14f6-4d41-c551-3d43f2387ec2"
      },
      "source": [
        "x,y = data_lm.one_batch(DatasetType.Train)\n",
        "x"
      ],
      "execution_count": 24,
      "outputs": [
        {
          "output_type": "execute_result",
          "data": {
            "text/plain": [
              "tensor([[   22,     5, 13575,  ...,    12,    14,   287],\n",
              "        [ 5999,  2948,    24,  ...,     9,   111,  6088],\n",
              "        [ 2308,    11,    12,  ...,   174,    11,    17],\n",
              "        ...,\n",
              "        [   88,    36,    47,  ...,  9426,    10,     5],\n",
              "        [   63,     5,  1631,  ...,    47,    42,    99],\n",
              "        [   94,    50,  2127,  ...,   862,    11,    50]])"
            ]
          },
          "metadata": {
            "tags": []
          },
          "execution_count": 24
        }
      ]
    },
    {
      "cell_type": "code",
      "metadata": {
        "id": "Kq8IGxveBanZ",
        "outputId": "850510b7-4ff6-40bf-8f55-6713d25a7370",
        "colab": {
          "base_uri": "https://localhost:8080/"
        }
      },
      "source": [
        "y"
      ],
      "execution_count": 23,
      "outputs": [
        {
          "output_type": "execute_result",
          "data": {
            "text/plain": [
              "tensor([[  455,    14,   540,  ...,   162,    27,    22],\n",
              "        [    5,   347,    14,  ...,     9, 25733,  5999],\n",
              "        [32341,     5,  1228,  ...,     9,   239,  2308],\n",
              "        ...,\n",
              "        [   73,    13,  8943,  ...,    11,   155,    88],\n",
              "        [    5,    12,   116,  ...,     9,   502,    63],\n",
              "        [  125,   186,    10,  ...,     5, 36217,    94]])"
            ]
          },
          "metadata": {
            "tags": []
          },
          "execution_count": 23
        }
      ]
    },
    {
      "cell_type": "markdown",
      "metadata": {
        "id": "X9FqMd43WpL2"
      },
      "source": [
        "#### Load the saved data"
      ]
    },
    {
      "cell_type": "code",
      "metadata": {
        "id": "X5Rg6T7NWpL2"
      },
      "source": [
        "data_lm = load_data(path, 'lm_databunch', bs=bs)"
      ],
      "execution_count": 38,
      "outputs": []
    },
    {
      "cell_type": "code",
      "metadata": {
        "id": "jeZfA5YgVgo0"
      },
      "source": [
        "AWD_LSTM??"
      ],
      "execution_count": 39,
      "outputs": []
    },
    {
      "cell_type": "code",
      "metadata": {
        "id": "rQr2V9H_Ypdv"
      },
      "source": [
        "language_model_learner??"
      ],
      "execution_count": 40,
      "outputs": []
    },
    {
      "cell_type": "code",
      "metadata": {
        "id": "zIwsT4ytZpVu"
      },
      "source": [
        "LanguageLearner??\n",
        "# Init signature: LanguageLearner(*args, **kwargs)\n",
        "# Source:        \n",
        "# class LanguageLearner(RNNLearner):\n",
        "#     \"Subclass of RNNLearner for predictions.\"\n",
        "\n",
        "#     def predict(self, text:str, n_words:int=1, no_unk:bool=True, temperature:float=1., min_p:float=None, sep:str=' ',\n",
        "#                 decoder=decode_spec_tokens):\n",
        "#         \"Return `text` and the `n_words` that come after\"\n",
        "#         self.model.reset()\n",
        "#         xb,yb = self.data.one_item(text)\n",
        "#         new_idx = []\n",
        "#         for _ in range(n_words): #progress_bar(range(n_words), leave=False):\n",
        "#             res = self.pred_batch(batch=(xb,yb))[0][-1]\n",
        "#             #if len(new_idx) == 0: self.model[0].select_hidden([0])\n",
        "#             if no_unk: res[self.data.vocab.stoi[UNK]] = 0.\n",
        "#             if min_p is not None:\n",
        "#                 if (res >= min_p).float().sum() == 0:\n",
        "#                     warn(f\"There is no item with probability >= {min_p}, try a lower value.\")\n",
        "#                 else: res[res < min_p] = 0.\n",
        "#             if temperature != 1.: res.pow_(1 / temperature)\n",
        "#             idx = torch.multinomial(res, 1).item()\n",
        "#             new_idx.append(idx)\n",
        "#             xb = xb.new_tensor([idx])[None]\n",
        "#         return text + sep + sep.join(decoder(self.data.vocab.textify(new_idx, sep=None)))\n",
        "\n",
        "#     def beam_search(self, text:str, n_words:int, no_unk:bool=True, top_k:int=10, beam_sz:int=1000, temperature:float=1.,\n",
        "#                     sep:str=' ', decoder=decode_spec_tokens):\n",
        "#         \"Return the `n_words` that come after `text` using beam search.\"\n",
        "#         self.model.reset()\n",
        "#         self.model.eval()\n",
        "#         xb, yb = self.data.one_item(text)\n",
        "#         nodes = None\n",
        "#         nodes = xb.clone()\n",
        "#         scores = xb.new_zeros(1).float()\n",
        "#         with torch.no_grad():\n",
        "#             for k in progress_bar(range(n_words), leave=False):\n",
        "#                 out = F.log_softmax(self.model(xb)[0][:,-1], dim=-1)\n",
        "#                 if no_unk: out[:,self.data.vocab.stoi[UNK]] = -float('Inf')\n",
        "#                 values, indices = out.topk(top_k, dim=-1)\n",
        "#                 scores = (-values + scores[:,None]).view(-1)\n",
        "#                 indices_idx = torch.arange(0,nodes.size(0))[:,None].expand(nodes.size(0), top_k).contiguous().view(-1)\n",
        "#                 sort_idx = scores.argsort()[:beam_sz]\n",
        "#                 scores = scores[sort_idx]\n",
        "#                 nodes = torch.cat([nodes[:,None].expand(nodes.size(0),top_k,nodes.size(1)),\n",
        "#                                 indices[:,:,None].expand(nodes.size(0),top_k,1),], dim=2)\n",
        "#                 nodes = nodes.view(-1, nodes.size(2))[sort_idx]\n",
        "#                 self.model[0].select_hidden(indices_idx[sort_idx])\n",
        "#                 xb = nodes[:,-1][:,None]\n",
        "#         if temperature != 1.: scores.div_(temperature)\n",
        "#         node_idx = torch.multinomial(torch.exp(-scores), 1).item()\n",
        "#         return text + sep + sep.join(decoder(self.data.vocab.textify([i.item() for i in nodes[node_idx][1:] ], sep=None)))\n",
        "\n",
        "#     def show_results(self, ds_type=DatasetType.Valid, rows:int=5, max_len:int=20):\n",
        "#         from IPython.display import display, HTML\n",
        "#         \"Show `rows` result of predictions on `ds_type` dataset.\"\n",
        "#         ds = self.dl(ds_type).dataset\n",
        "#         x,y = self.data.one_batch(ds_type, detach=False, denorm=False)\n",
        "#         preds = self.pred_batch(batch=(x,y))\n",
        "#         y = y.view(*x.size())\n",
        "#         z = preds.view(*x.size(),-1).argmax(dim=2)\n",
        "#         xs = [ds.x.reconstruct(grab_idx(x, i)) for i in range(rows)]\n",
        "#         ys = [ds.x.reconstruct(grab_idx(y, i)) for i in range(rows)]\n",
        "#         zs = [ds.x.reconstruct(grab_idx(z, i)) for i in range(rows)]\n",
        "#         items,names = [],['text', 'target', 'pred']\n",
        "#         for i, (x,y,z) in enumerate(zip(xs,ys,zs)):\n",
        "#             txt_x = ' '.join(x.text.split(' ')[:max_len])\n",
        "#             txt_y = ' '.join(y.text.split(' ')[max_len-1:2*max_len-1])\n",
        "#             txt_z = ' '.join(z.text.split(' ')[max_len-1:2*max_len-1])\n",
        "#             items.append([txt_x, txt_y, txt_z])\n",
        "#         items = np.array(items)\n",
        "#         df = pd.DataFrame({n:items[:,i] for i,n in enumerate(names)}, columns=names)\n",
        "#         with pd.option_context('display.max_colwidth', pd_max_colwidth()):\n",
        "#             display(HTML(df.to_html(index=False)))\n",
        "# File:           /usr/local/lib/python3.7/dist-packages/fastai/text/learner.py\n",
        "# Type:           type"
      ],
      "execution_count": 41,
      "outputs": []
    },
    {
      "cell_type": "code",
      "metadata": {
        "id": "XOLc0goSvNhJ"
      },
      "source": [
        "get_language_model??"
      ],
      "execution_count": 42,
      "outputs": []
    },
    {
      "cell_type": "code",
      "metadata": {
        "id": "F5IEOAkzXBet"
      },
      "source": [
        ""
      ],
      "execution_count": 42,
      "outputs": []
    },
    {
      "cell_type": "markdown",
      "metadata": {
        "hidden": true,
        "id": "iqanZXA7WpL1"
      },
      "source": [
        "#### Save the `databunch` for next time."
      ]
    },
    {
      "cell_type": "code",
      "metadata": {
        "id": "zCEa6B60Xmjk"
      },
      "source": [
        "data_lm.save??\n"
      ],
      "execution_count": 35,
      "outputs": []
    },
    {
      "cell_type": "code",
      "metadata": {
        "colab": {
          "base_uri": "https://localhost:8080/"
        },
        "id": "QjC_7uscX-1z",
        "outputId": "82327f7f-3466-43ee-ca1b-a6c523d649eb"
      },
      "source": [
        "data_lm.path"
      ],
      "execution_count": 36,
      "outputs": [
        {
          "output_type": "execute_result",
          "data": {
            "text/plain": [
              "PosixPath('/content/data/imdb')"
            ]
          },
          "metadata": {
            "tags": []
          },
          "execution_count": 36
        }
      ]
    },
    {
      "cell_type": "code",
      "metadata": {
        "id": "KwMIVTMDWpL2"
      },
      "source": [
        "data_lm.save('lm_databunch')"
      ],
      "execution_count": 37,
      "outputs": []
    },
    {
      "cell_type": "markdown",
      "metadata": {
        "id": "ZMg-vzHNWpL2"
      },
      "source": [
        "### 2B. The **Transfer Learning** step.\n",
        "#### This is where the magic happens!\n",
        "#### The `AWD_LSTM` object contains the pretrained weights and the neural net architecture of the `wikitext-103` language model. These will be downloaded the first time you execute the following line, and stored in `~/.fastai/models/` (or elsewhere if you specified different paths in your config file). \n",
        "\n",
        "We import these into the `language_model_learner` object for our `IMDb` language model as follows:"
      ]
    },
    {
      "cell_type": "markdown",
      "metadata": {
        "id": "utqWqhWlDl_h"
      },
      "source": [
        "#Q4.\n",
        "In the following statement, what does AWD_LSTM refer to? What does data_lm refer to? When the following statement is executed, learn_lm is trained by using data_lm? "
      ]
    },
    {
      "cell_type": "code",
      "metadata": {
        "scrolled": true,
        "id": "uqgzBH9UWpL2"
      },
      "source": [
        "learn_lm = language_model_learner(data_lm, AWD_LSTM, drop_mult=0.3) #pretained=true"
      ],
      "execution_count": 43,
      "outputs": []
    },
    {
      "cell_type": "code",
      "metadata": {
        "colab": {
          "base_uri": "https://localhost:8080/"
        },
        "id": "HtZlF7vMagJp",
        "outputId": "baef76a0-1873-4dd1-8a83-2be5914622be"
      },
      "source": [
        "x,y = learn_lm .data.one_batch(DatasetType.Train)\n",
        "x,y"
      ],
      "execution_count": 44,
      "outputs": [
        {
          "output_type": "execute_result",
          "data": {
            "text/plain": [
              "(tensor([[   30,    16,    13,  ...,    11,    20,    16],\n",
              "         [  691,    12,    16,  ...,   267,    30,    12],\n",
              "         [  287,    18,     9,  ...,     5,  1383,    23],\n",
              "         ...,\n",
              "         [    9,   308,  4538,  ...,    65,    13,  1779],\n",
              "         [   13, 34362,    10,  ...,     9,  1176,    23],\n",
              "         [ 2556,    24,   238,  ...,    60,    17,    24]]),\n",
              " tensor([[   16,    13,  4139,  ...,    20,    16,     9],\n",
              "         [   12,    16,   577,  ...,    30,    12,    63],\n",
              "         [   18,     9,   674,  ...,  1383,    23,     5],\n",
              "         ...,\n",
              "         [  308,  4538, 16613,  ...,    13,  1779,  1278],\n",
              "         [34362,    10,     5,  ...,  1176,    23,    10],\n",
              "         [   24,   238,    31,  ...,    17,    24,   225]]))"
            ]
          },
          "metadata": {
            "tags": []
          },
          "execution_count": 44
        }
      ]
    },
    {
      "cell_type": "markdown",
      "metadata": {
        "id": "CVHIKY5DA0oM"
      },
      "source": [
        "#Q5.\n",
        "print the length of x; Print x[0] and x[47]. Print the length of x[0] and x[47].\n",
        "Based on the printed values, is the length of x the same as the value of some variable? If so, which variable? Why do you think that the length of x is the same as the value of the variable. What does the length of x[0] refer to? It is not defined by you but by the system.\n"
      ]
    },
    {
      "cell_type": "markdown",
      "metadata": {
        "id": "LASnytpeDeDJ"
      },
      "source": [
        ""
      ]
    },
    {
      "cell_type": "markdown",
      "metadata": {
        "id": "E8QByCNiEJF2"
      },
      "source": [
        "#Q6.\n",
        "Print the model (neural net) of learn_lm object. Except for Dropout layers, how many layers are there in the net?\n",
        "\n",
        "What does number 60000 refer to? What does number 400 refer to?\n",
        "What does Embedding layer, the first layer of the net,  do in the network?\n",
        "\n",
        "Why is the size of the input vector of the Embedding layer the same as the size of the output vector of the network?"
      ]
    },
    {
      "cell_type": "code",
      "metadata": {
        "id": "zz_yeKqqDf4x",
        "outputId": "ed76eb26-b34b-4aa4-98e1-edb9d6d28524",
        "colab": {
          "base_uri": "https://localhost:8080/"
        }
      },
      "source": [
        "learn_lm.model"
      ],
      "execution_count": 70,
      "outputs": [
        {
          "output_type": "execute_result",
          "data": {
            "text/plain": [
              "SequentialRNN(\n",
              "  (0): AWD_LSTM(\n",
              "    (encoder): Embedding(60000, 400, padding_idx=1)\n",
              "    (encoder_dp): EmbeddingDropout(\n",
              "      (emb): Embedding(60000, 400, padding_idx=1)\n",
              "    )\n",
              "    (rnns): ModuleList(\n",
              "      (0): WeightDropout(\n",
              "        (module): LSTM(400, 1152, batch_first=True)\n",
              "      )\n",
              "      (1): WeightDropout(\n",
              "        (module): LSTM(1152, 1152, batch_first=True)\n",
              "      )\n",
              "      (2): WeightDropout(\n",
              "        (module): LSTM(1152, 400, batch_first=True)\n",
              "      )\n",
              "    )\n",
              "    (input_dp): RNNDropout()\n",
              "    (hidden_dps): ModuleList(\n",
              "      (0): RNNDropout()\n",
              "      (1): RNNDropout()\n",
              "      (2): RNNDropout()\n",
              "    )\n",
              "  )\n",
              "  (1): LinearDecoder(\n",
              "    (decoder): Linear(in_features=400, out_features=60000, bias=True)\n",
              "    (output_dp): RNNDropout()\n",
              "  )\n",
              ")"
            ]
          },
          "metadata": {
            "tags": []
          },
          "execution_count": 70
        }
      ]
    },
    {
      "cell_type": "markdown",
      "metadata": {
        "id": "HJXkw97FGuae"
      },
      "source": [
        "#Q7.\n",
        "What would be the shape of the weight matrix of the Embedding layer in our neural net?\n",
        "\n",
        "We can say that the ith row of the weight matrix of the Embedding layer is the same as the word vector of the ith token. Explain why this is so."
      ]
    },
    {
      "cell_type": "markdown",
      "metadata": {
        "id": "YbfuhfDnWpL2"
      },
      "source": [
        "#### Get the `IMDb` language model `vocabulary`"
      ]
    },
    {
      "cell_type": "code",
      "metadata": {
        "id": "PYHrduZUWpL2"
      },
      "source": [
        "vocab = data_lm.vocab"
      ],
      "execution_count": 47,
      "outputs": []
    },
    {
      "cell_type": "code",
      "metadata": {
        "id": "V3zwKZhMWpL2",
        "colab": {
          "base_uri": "https://localhost:8080/"
        },
        "outputId": "14754817-7fec-4daf-bdb3-5b6fdf194b2a"
      },
      "source": [
        "vocab.stoi[\"stingray\"]"
      ],
      "execution_count": 48,
      "outputs": [
        {
          "output_type": "execute_result",
          "data": {
            "text/plain": [
              "37224"
            ]
          },
          "metadata": {
            "tags": []
          },
          "execution_count": 48
        }
      ]
    },
    {
      "cell_type": "code",
      "metadata": {
        "id": "rjAYNrb1WpL3",
        "colab": {
          "base_uri": "https://localhost:8080/",
          "height": 35
        },
        "outputId": "4e9a1486-fc53-4dc9-b1ff-59db0f3051ef"
      },
      "source": [
        "vocab.itos[vocab.stoi[\"stingray\"]]"
      ],
      "execution_count": 49,
      "outputs": [
        {
          "output_type": "execute_result",
          "data": {
            "application/vnd.google.colaboratory.intrinsic+json": {
              "type": "string"
            },
            "text/plain": [
              "'stingray'"
            ]
          },
          "metadata": {
            "tags": []
          },
          "execution_count": 49
        }
      ]
    },
    {
      "cell_type": "code",
      "metadata": {
        "id": "3JpPNNMuWpL3",
        "colab": {
          "base_uri": "https://localhost:8080/",
          "height": 35
        },
        "outputId": "769cd950-b56f-4b58-92d9-0d4e2ec5e927"
      },
      "source": [
        "vocab.itos[vocab.stoi[\"mobula\"]]"
      ],
      "execution_count": 50,
      "outputs": [
        {
          "output_type": "execute_result",
          "data": {
            "application/vnd.google.colaboratory.intrinsic+json": {
              "type": "string"
            },
            "text/plain": [
              "'xxunk'"
            ]
          },
          "metadata": {
            "tags": []
          },
          "execution_count": 50
        }
      ]
    },
    {
      "cell_type": "code",
      "metadata": {
        "id": "OCyOtSDqWpL3"
      },
      "source": [
        "awd_lstm = learn_lm.model[0]"
      ],
      "execution_count": 51,
      "outputs": []
    },
    {
      "cell_type": "markdown",
      "metadata": {
        "id": "aLdnjs6sWpL3"
      },
      "source": [
        "#### Get the `IMDb` language model `encoder`. Recall that the `encoder` translates tokens into numerical vectors in the space defined by the `IMDb` vocabulary."
      ]
    },
    {
      "cell_type": "code",
      "metadata": {
        "id": "CQ91uJ5PWoJB"
      },
      "source": [
        "AWD_LSTM??"
      ],
      "execution_count": 52,
      "outputs": []
    },
    {
      "cell_type": "code",
      "metadata": {
        "id": "avhNGHk-WFei"
      },
      "source": [
        "# class AWD_LSTM(Module):\n",
        "#     \"AWD-LSTM/QRNN inspired by https://arxiv.org/abs/1708.02182.\"\n",
        "\n",
        "#     initrange=0.1\n",
        "\n",
        "#     def __init__(self, vocab_sz:int, emb_sz:int, n_hid:int, n_layers:int, pad_token:int=1, hidden_p:float=0.2,\n",
        "#                  input_p:float=0.6, embed_p:float=0.1, weight_p:float=0.5, qrnn:bool=False, bidir:bool=False):\n",
        "#         self.bs,self.qrnn,self.emb_sz,self.n_hid,self.n_layers = 1,qrnn,emb_sz,n_hid,n_layers\n",
        "#         self.n_dir = 2 if bidir else 1\n",
        "\n",
        "\n",
        "#         self.encoder = nn.Embedding(vocab_sz, emb_sz, padding_idx=pad_token)\n",
        "\n",
        "\n",
        "#         self.encoder_dp = EmbeddingDropout(self.encoder, embed_p)\n",
        "#         if self.qrnn:\n",
        "#             #Using QRNN requires an installation of cuda\n",
        "#             from .qrnn import QRNN\n",
        "#             self.rnns = [QRNN(emb_sz if l == 0 else n_hid, (n_hid if l != n_layers - 1 else emb_sz)//self.n_dir, 1,\n",
        "#                               save_prev_x=True, zoneout=0, window=2 if l == 0 else 1, output_gate=True, bidirectional=bidir) \n",
        "#                          for l in range(n_layers)]\n",
        "#             for rnn in self.rnns: \n",
        "#                 rnn.layers[0].linear = WeightDropout(rnn.layers[0].linear, weight_p, layer_names=['weight'])\n",
        "#         else:\n",
        "#             self.rnns = [nn.LSTM(emb_sz if l == 0 else n_hid, (n_hid if l != n_layers - 1 else emb_sz)//self.n_dir, 1,\n",
        "#                                  batch_first=True, bidirectional=bidir) for l in range(n_layers)]\n",
        "#             self.rnns = [WeightDropout(rnn, weight_p) for rnn in self.rnns]\n",
        "#         self.rnns = nn.ModuleList(self.rnns)\n",
        "#         self.encoder.weight.data.uniform_(-self.initrange, self.initrange)\n",
        "#         if self.encoder.padding_idx is not None:\n",
        "#                 self.encoder.weight.data[self.encoder.padding_idx] = 0.\n",
        "#         self.input_dp = RNNDropout(input_p)\n",
        "#         self.hidden_dps = nn.ModuleList([RNNDropout(hidden_p) for l in range(n_layers)])\n",
        "\n",
        "#     def forward(self, input:Tensor, from_embeddings:bool=False)->Tuple[List[Tensor],List[Tensor]]:\n",
        "#         if from_embeddings: bs,sl,es = input.size()\n",
        "#         else: bs,sl = input.size()\n",
        "#         if bs!=self.bs:\n",
        "#             self.bs=bs\n",
        "#             self.reset()\n",
        "#         raw_output = self.input_dp(input if from_embeddings else self.encoder_dp(input))\n",
        "#         new_hidden,raw_outputs,outputs = [],[],[]\n",
        "#         for l, (rnn,hid_dp) in enumerate(zip(self.rnns, self.hidden_dps)):\n",
        "#             raw_output, new_h = rnn(raw_output, self.hidden[l])\n",
        "#             new_hidden.append(new_h)\n",
        "#             raw_outputs.append(raw_output)\n",
        "#             if l != self.n_layers - 1: raw_output = hid_dp(raw_output)\n",
        "#             outputs.append(raw_output)\n",
        "#         self.hidden = to_detach(new_hidden, cpu=False)\n",
        "#         return raw_outputs, outputs\n",
        "        "
      ],
      "execution_count": 53,
      "outputs": []
    },
    {
      "cell_type": "code",
      "metadata": {
        "colab": {
          "base_uri": "https://localhost:8080/"
        },
        "id": "s4eFVeKgW54W",
        "outputId": "31a9cbc5-b036-4928-9fc6-1b0d4bf2d4e6"
      },
      "source": [
        "#awd_lstm = learn_lm.model[0]\n",
        "awd_lstm.encoder"
      ],
      "execution_count": 54,
      "outputs": [
        {
          "output_type": "execute_result",
          "data": {
            "text/plain": [
              "Embedding(60000, 400, padding_idx=1)"
            ]
          },
          "metadata": {
            "tags": []
          },
          "execution_count": 54
        }
      ]
    },
    {
      "cell_type": "code",
      "metadata": {
        "id": "K3RQkr5GWpL3"
      },
      "source": [
        "enc = learn_lm.model[0].encoder"
      ],
      "execution_count": 55,
      "outputs": []
    },
    {
      "cell_type": "code",
      "metadata": {
        "colab": {
          "base_uri": "https://localhost:8080/"
        },
        "id": "a7NoZRdtWpL3",
        "outputId": "d69eba4e-d4e2-43f3-a92f-9801e3c3a9ee"
      },
      "source": [
        "enc.weight.size()  #Encoder (= Embedder) weight matrix"
      ],
      "execution_count": 56,
      "outputs": [
        {
          "output_type": "execute_result",
          "data": {
            "text/plain": [
              "torch.Size([60000, 400])"
            ]
          },
          "metadata": {
            "tags": []
          },
          "execution_count": 56
        }
      ]
    },
    {
      "cell_type": "code",
      "metadata": {
        "colab": {
          "base_uri": "https://localhost:8080/"
        },
        "id": "GDckEzQafisk",
        "outputId": "c29b71a6-fd61-457e-b4ea-61838a850a80"
      },
      "source": [
        "enc.weight.shape"
      ],
      "execution_count": 57,
      "outputs": [
        {
          "output_type": "execute_result",
          "data": {
            "text/plain": [
              "torch.Size([60000, 400])"
            ]
          },
          "metadata": {
            "tags": []
          },
          "execution_count": 57
        }
      ]
    },
    {
      "cell_type": "markdown",
      "metadata": {
        "heading_collapsed": true,
        "id": "QVKgpOaMWpL3"
      },
      "source": [
        "#### Difference in vocabulary between IMDB and Wikipedia language models"
      ]
    },
    {
      "cell_type": "markdown",
      "metadata": {
        "hidden": true,
        "id": "YRHuxr4zWpL4"
      },
      "source": [
        "We are going to load `wiki_itos` (the index-to-string list) from the `wikitext 103` language model.  We will compare the vocabularies of `wikitext-103` and `IMDB`.  It is to be expected that the two sets have some different vocabulary words, and that is no problem for transfer learning!"
      ]
    },
    {
      "cell_type": "code",
      "metadata": {
        "id": "v2JmI8aUqAXd"
      },
      "source": [
        "Config??"
      ],
      "execution_count": 58,
      "outputs": []
    },
    {
      "cell_type": "code",
      "metadata": {
        "colab": {
          "base_uri": "https://localhost:8080/"
        },
        "id": "tFRHsaX5p6ml",
        "outputId": "24c499aa-f093-45e8-88f7-949c5b11ba8c"
      },
      "source": [
        "Config()"
      ],
      "execution_count": 59,
      "outputs": [
        {
          "output_type": "execute_result",
          "data": {
            "text/plain": [
              "<fastai.datasets.Config at 0x7f6433a65850>"
            ]
          },
          "metadata": {
            "tags": []
          },
          "execution_count": 59
        }
      ]
    },
    {
      "cell_type": "code",
      "metadata": {
        "colab": {
          "base_uri": "https://localhost:8080/"
        },
        "id": "t2X3bZphpuuf",
        "outputId": "089cd654-d01c-476b-b76d-f2a0a2599a80"
      },
      "source": [
        "Config().model_path()"
      ],
      "execution_count": 60,
      "outputs": [
        {
          "output_type": "execute_result",
          "data": {
            "text/plain": [
              "PosixPath('/root/.fastai/models')"
            ]
          },
          "metadata": {
            "tags": []
          },
          "execution_count": 60
        }
      ]
    },
    {
      "cell_type": "code",
      "metadata": {
        "id": "hkwPaRYiWpL4"
      },
      "source": [
        "#wiki_itos = pickle.load(open(Config().model_path()/'wt103-1/itos_wt103.pkl', 'rb'))\n",
        "wiki_itos = pickle.load(open(Config().model_path()/'wt103-fwd/itos_wt103.pkl', 'rb'))"
      ],
      "execution_count": 71,
      "outputs": []
    },
    {
      "cell_type": "code",
      "metadata": {
        "colab": {
          "base_uri": "https://localhost:8080/"
        },
        "id": "GYoP7Sh1hVAS",
        "outputId": "3c9c2d20-822c-4965-c413-13896052bf3f"
      },
      "source": [
        "len(wiki_itos ) # the vocal size of the wikitext 103 language model"
      ],
      "execution_count": 62,
      "outputs": [
        {
          "output_type": "execute_result",
          "data": {
            "text/plain": [
              "60000"
            ]
          },
          "metadata": {
            "tags": []
          },
          "execution_count": 62
        }
      ]
    },
    {
      "cell_type": "code",
      "metadata": {
        "id": "genuHUvvmsZI",
        "colab": {
          "base_uri": "https://localhost:8080/"
        },
        "outputId": "65f20e6b-f115-490b-9725-39da487a818c"
      },
      "source": [
        "len(data_lm.vocab.itos)"
      ],
      "execution_count": 63,
      "outputs": [
        {
          "output_type": "execute_result",
          "data": {
            "text/plain": [
              "60000"
            ]
          },
          "metadata": {
            "tags": []
          },
          "execution_count": 63
        }
      ]
    },
    {
      "cell_type": "code",
      "metadata": {
        "colab": {
          "base_uri": "https://localhost:8080/"
        },
        "id": "fqvL20HMfvHc",
        "outputId": "eddcf5f7-1bc6-4ece-c238-37e688f1df4c"
      },
      "source": [
        "Config().model_path()"
      ],
      "execution_count": 64,
      "outputs": [
        {
          "output_type": "execute_result",
          "data": {
            "text/plain": [
              "PosixPath('/root/.fastai/models')"
            ]
          },
          "metadata": {
            "tags": []
          },
          "execution_count": 64
        }
      ]
    },
    {
      "cell_type": "code",
      "metadata": {
        "scrolled": true,
        "colab": {
          "base_uri": "https://localhost:8080/"
        },
        "id": "oSk_hX3EWpL4",
        "outputId": "3b3d65eb-beb7-4887-bb0b-ffdd9011793b"
      },
      "source": [
        "wiki_itos[:10]"
      ],
      "execution_count": 65,
      "outputs": [
        {
          "output_type": "execute_result",
          "data": {
            "text/plain": [
              "['xxunk',\n",
              " 'xxpad',\n",
              " 'xxbos',\n",
              " 'xxeos',\n",
              " 'xxfld',\n",
              " 'xxmaj',\n",
              " 'xxup',\n",
              " 'xxrep',\n",
              " 'xxwrep',\n",
              " 'the']"
            ]
          },
          "metadata": {
            "tags": []
          },
          "execution_count": 65
        }
      ]
    },
    {
      "cell_type": "code",
      "metadata": {
        "hidden": true,
        "colab": {
          "base_uri": "https://localhost:8080/"
        },
        "id": "01rnPE3DWpL4",
        "outputId": "26ef5387-a6cd-40e1-dbe6-9bcd7944e715"
      },
      "source": [
        "len(wiki_itos)"
      ],
      "execution_count": 66,
      "outputs": [
        {
          "output_type": "execute_result",
          "data": {
            "text/plain": [
              "60000"
            ]
          },
          "metadata": {
            "tags": []
          },
          "execution_count": 66
        }
      ]
    },
    {
      "cell_type": "code",
      "metadata": {
        "hidden": true,
        "id": "qwCh-lXoWpL4",
        "colab": {
          "base_uri": "https://localhost:8080/"
        },
        "outputId": "50b207a5-30f3-4522-9234-60a35b6fe58c"
      },
      "source": [
        "len(vocab.itos)"
      ],
      "execution_count": 67,
      "outputs": [
        {
          "output_type": "execute_result",
          "data": {
            "text/plain": [
              "60000"
            ]
          },
          "metadata": {
            "tags": []
          },
          "execution_count": 67
        }
      ]
    },
    {
      "cell_type": "code",
      "metadata": {
        "hidden": true,
        "id": "fR58kCNRWpL4"
      },
      "source": [
        "i, unks = 0, []\n",
        "while len(unks) < 50:\n",
        "    if data_lm.vocab.itos[i] not in wiki_itos: unks.append((i,data_lm.vocab.itos[i]))\n",
        "    i += 1"
      ],
      "execution_count": 68,
      "outputs": []
    },
    {
      "cell_type": "code",
      "metadata": {
        "id": "bs_sBmo7n5JD"
      },
      "source": [
        "i, unks = 0, []\n",
        "while i< len(data_lm.vocab.itos):\n",
        "    if data_lm.vocab.itos[i] not in wiki_itos: unks.append((i,data_lm.vocab.itos[i]))\n",
        "    i += 1"
      ],
      "execution_count": null,
      "outputs": []
    },
    {
      "cell_type": "code",
      "metadata": {
        "id": "ztMWxk1agv-B"
      },
      "source": [
        "len(unks)"
      ],
      "execution_count": null,
      "outputs": []
    },
    {
      "cell_type": "code",
      "metadata": {
        "id": "qfFbYBY-gozK"
      },
      "source": [
        "unks[24000:24218]"
      ],
      "execution_count": null,
      "outputs": []
    },
    {
      "cell_type": "code",
      "metadata": {
        "hidden": true,
        "id": "-3OtowbyWpL4"
      },
      "source": [
        "wiki_words = set(wiki_itos)"
      ],
      "execution_count": null,
      "outputs": []
    },
    {
      "cell_type": "code",
      "metadata": {
        "id": "_Urb4AASq5A9"
      },
      "source": [
        "len(wiki_itos)"
      ],
      "execution_count": null,
      "outputs": []
    },
    {
      "cell_type": "code",
      "metadata": {
        "hidden": true,
        "id": "K5G1mot-WpL4"
      },
      "source": [
        "imdb_words = set(vocab.itos)"
      ],
      "execution_count": null,
      "outputs": []
    },
    {
      "cell_type": "code",
      "metadata": {
        "id": "c3jvOd_Wq8hh"
      },
      "source": [
        "len(wiki_words)"
      ],
      "execution_count": null,
      "outputs": []
    },
    {
      "cell_type": "code",
      "metadata": {
        "hidden": true,
        "id": "QnaE_FL-WpL5"
      },
      "source": [
        "wiki_not_imbdb = wiki_words.difference(imdb_words)"
      ],
      "execution_count": null,
      "outputs": []
    },
    {
      "cell_type": "code",
      "metadata": {
        "id": "mTjUslFcrTKS"
      },
      "source": [
        "len(wiki_not_imbdb)"
      ],
      "execution_count": null,
      "outputs": []
    },
    {
      "cell_type": "code",
      "metadata": {
        "id": "mXkT1LgUnG51"
      },
      "source": [
        "wiki_not_imbdb"
      ],
      "execution_count": null,
      "outputs": []
    },
    {
      "cell_type": "code",
      "metadata": {
        "hidden": true,
        "id": "Ww7TX8wuWpL5"
      },
      "source": [
        "imdb_not_wiki = imdb_words.difference(wiki_words)"
      ],
      "execution_count": null,
      "outputs": []
    },
    {
      "cell_type": "code",
      "metadata": {
        "id": "eb-G3xBVnfgJ"
      },
      "source": [
        "len(imdb_not_wiki)"
      ],
      "execution_count": null,
      "outputs": []
    },
    {
      "cell_type": "code",
      "metadata": {
        "id": "hc-CNZM-rv5z"
      },
      "source": [
        "len(wiki_not_imbdb)"
      ],
      "execution_count": null,
      "outputs": []
    },
    {
      "cell_type": "code",
      "metadata": {
        "hidden": true,
        "id": "GBR_iRuIWpL5"
      },
      "source": [
        "wiki_not_imdb_list = []\n",
        "\n",
        "for i in range(100):\n",
        "    word = wiki_not_imbdb.pop()\n",
        "    wiki_not_imdb_list.append(word)\n",
        "    wiki_not_imbdb.add(word)"
      ],
      "execution_count": null,
      "outputs": []
    },
    {
      "cell_type": "code",
      "metadata": {
        "id": "34GoAOuzqB_N"
      },
      "source": [
        "type( wiki_not_imbdb)"
      ],
      "execution_count": null,
      "outputs": []
    },
    {
      "cell_type": "code",
      "metadata": {
        "hidden": true,
        "scrolled": true,
        "id": "vHYapU_ZWpL5"
      },
      "source": [
        "wiki_not_imdb_list[:15]"
      ],
      "execution_count": null,
      "outputs": []
    },
    {
      "cell_type": "code",
      "metadata": {
        "id": "NqFS5hV7oqgu"
      },
      "source": [
        "len(wiki_not_imdb_list)"
      ],
      "execution_count": null,
      "outputs": []
    },
    {
      "cell_type": "code",
      "metadata": {
        "hidden": true,
        "id": "2aJ1ekG5WpL5"
      },
      "source": [
        "imdb_not_wiki_list = []\n",
        "\n",
        "for i in range(100):\n",
        "    word = imdb_not_wiki.pop()\n",
        "    imdb_not_wiki_list.append(word)\n",
        "    imdb_not_wiki.add(word)"
      ],
      "execution_count": null,
      "outputs": []
    },
    {
      "cell_type": "code",
      "metadata": {
        "id": "ypIgAEMToyKU"
      },
      "source": [
        "len(imdb_not_wiki_list)"
      ],
      "execution_count": null,
      "outputs": []
    },
    {
      "cell_type": "code",
      "metadata": {
        "hidden": true,
        "id": "CUvt1wTfWpL5"
      },
      "source": [
        "imdb_not_wiki_list[:15]"
      ],
      "execution_count": null,
      "outputs": []
    },
    {
      "cell_type": "markdown",
      "metadata": {
        "hidden": true,
        "id": "e2-ZkAkZWpL5"
      },
      "source": [
        "All words that appear in the `IMDB` vocab, but not the `wikitext-103` vocab, will be initialized to the same random vector in a model.  As the model trains, we will learn their weights."
      ]
    },
    {
      "cell_type": "code",
      "metadata": {
        "hidden": true,
        "id": "YSYHA-flWpL5"
      },
      "source": [
        "vocab.stoi[\"modernisation\"]"
      ],
      "execution_count": null,
      "outputs": []
    },
    {
      "cell_type": "code",
      "metadata": {
        "hidden": true,
        "id": "GlT-ImevWpL6"
      },
      "source": [
        "\"modernisation\" in wiki_words"
      ],
      "execution_count": null,
      "outputs": []
    },
    {
      "cell_type": "code",
      "metadata": {
        "hidden": true,
        "id": "iIwRfw2YWpL6"
      },
      "source": [
        "vocab.stoi[\"30-something\"]"
      ],
      "execution_count": null,
      "outputs": []
    },
    {
      "cell_type": "code",
      "metadata": {
        "hidden": true,
        "id": "ZbyYb3ONWpL6"
      },
      "source": [
        "\"30-something\" in wiki_words, \"30-something\" in imdb_words"
      ],
      "execution_count": null,
      "outputs": []
    },
    {
      "cell_type": "code",
      "metadata": {
        "hidden": true,
        "id": "9jrmJVxhWpL6"
      },
      "source": [
        "vocab.stoi[\"linklater\"]"
      ],
      "execution_count": null,
      "outputs": []
    },
    {
      "cell_type": "code",
      "metadata": {
        "hidden": true,
        "id": "lC7-eZeJWpL6"
      },
      "source": [
        "\"linklater\" in wiki_words, \"linklater\" in imdb_words"
      ],
      "execution_count": null,
      "outputs": []
    },
    {
      "cell_type": "code",
      "metadata": {
        "hidden": true,
        "scrolled": true,
        "id": "zs7Jch-4WpL6"
      },
      "source": [
        "\"house\" in wiki_words, \"house\" in imdb_words"
      ],
      "execution_count": null,
      "outputs": []
    },
    {
      "cell_type": "code",
      "metadata": {
        "hidden": true,
        "id": "7WQAN5_6WpL7"
      },
      "source": [
        "np.allclose(enc.weight.cpu().detach().numpy()[vocab.stoi[\"30-something\"], :], \n",
        "            enc.weight.cpu().detach().numpy()[vocab.stoi[\"linklater\"], :])"
      ],
      "execution_count": null,
      "outputs": []
    },
    {
      "cell_type": "code",
      "metadata": {
        "id": "TYeS58Hx3W2Q"
      },
      "source": [
        "np.allclose??\n",
        "#Returns True if two arrays are element-wise equal within a tolerance."
      ],
      "execution_count": null,
      "outputs": []
    },
    {
      "cell_type": "code",
      "metadata": {
        "hidden": true,
        "id": "Ld3n8wJJWpL7"
      },
      "source": [
        "#np.allclose(enc.weight[vocab.stoi[\"30-something\"], :], \n",
        "#            enc.weight[vocab.stoi[\"house\"], :])"
      ],
      "execution_count": null,
      "outputs": []
    },
    {
      "cell_type": "code",
      "metadata": {
        "hidden": true,
        "id": "Zd_uKq4FWpL7"
      },
      "source": [
        "new_word_vec = enc.weight[vocab.stoi[\"linklater\"], :]"
      ],
      "execution_count": null,
      "outputs": []
    },
    {
      "cell_type": "markdown",
      "metadata": {
        "heading_collapsed": true,
        "id": "ktZkU-m_WpL7"
      },
      "source": [
        "#### Generating fake movie review-like text with the **untrained** `IMDb` language model"
      ]
    },
    {
      "cell_type": "code",
      "metadata": {
        "hidden": true,
        "id": "jIs3kPVtWpL7"
      },
      "source": [
        "TEXT = \"The color of the sky is\"\n",
        "N_WORDS = 40\n",
        "N_SENTENCES = 2"
      ],
      "execution_count": 72,
      "outputs": []
    },
    {
      "cell_type": "code",
      "metadata": {
        "hidden": true,
        "scrolled": false,
        "id": "tjJ2dWo4WpL7",
        "colab": {
          "base_uri": "https://localhost:8080/"
        },
        "outputId": "44455f86-64da-4741-9c75-560b5d3b8f66"
      },
      "source": [
        "print(\"\\n\".join(learn_lm.predict(TEXT, N_WORDS, temperature=0.75) for _ in range(N_SENTENCES)))"
      ],
      "execution_count": 73,
      "outputs": [
        {
          "output_type": "stream",
          "text": [
            "The color of the sky is a mixture of dark and dark color , and the color is used by many different artists , including Richard Daley and Michael Jackson . It is also the name of the fictional world of\n",
            "The color of the sky is shaped by a frame in the Sky Color Sky , a dark strip of blue , flat , or green . In order to keep away the sky 's skies , computer - generated imagery (\n"
          ],
          "name": "stdout"
        }
      ]
    },
    {
      "cell_type": "code",
      "metadata": {
        "hidden": true,
        "id": "sKeik19BWpL7"
      },
      "source": [
        "#learn_lm.predict(TEXT, N_WORDS..)  return TEXT  and the `n_words` that come after\"\n",
        "TEXT = \"I hated this movie\"\n",
        "N_WORDS = 30\n",
        "N_SENTENCES = 2"
      ],
      "execution_count": 74,
      "outputs": []
    },
    {
      "cell_type": "code",
      "metadata": {
        "hidden": true,
        "id": "XFCYfeLYWpL7",
        "colab": {
          "base_uri": "https://localhost:8080/"
        },
        "outputId": "e4184339-f4ac-4b3a-8140-5143db3be8dc"
      },
      "source": [
        "print(\"\\n\".join(learn_lm.predict(TEXT, N_WORDS, temperature=0.75) for _ in range(N_SENTENCES)))"
      ],
      "execution_count": 75,
      "outputs": [
        {
          "output_type": "stream",
          "text": [
            "I hated this movie . This was the first time in the history of what he called \" a straightforward pop culture \" . He was subsequently given the nickname \"\n",
            "I hated this movie and would not do it in his lifetime , but it was not a success . He certainly felt that it was a combination of a problem , a\n"
          ],
          "name": "stdout"
        }
      ]
    },
    {
      "cell_type": "markdown",
      "metadata": {
        "id": "CcgMNRpGFg7x"
      },
      "source": [
        "#Q7.\n",
        "Do you think that the next words predicted after \"I hated this movie?\" sounds reasonable? If not, why do you think it is not?"
      ]
    },
    {
      "cell_type": "code",
      "metadata": {
        "hidden": true,
        "scrolled": true,
        "colab": {
          "base_uri": "https://localhost:8080/"
        },
        "id": "v5jeG3t5WpL8",
        "outputId": "dfc67136-e679-42e5-e6c6-801b3c21f624"
      },
      "source": [
        "print(\"\\n\".join(learn_lm.predict(TEXT, N_WORDS, temperature=0.75) for _ in range(N_SENTENCES)))"
      ],
      "execution_count": 76,
      "outputs": [
        {
          "output_type": "stream",
          "text": [
            "I hated this movie as a film , as it was a film which was \" very scary \" . He commented that the \" evil \" character of the film made him\n",
            "I hated this movie : \" i was always doing a little like it . It was really a kind of entertainment . \" The film featured a \" good moment \"\n"
          ],
          "name": "stdout"
        }
      ]
    },
    {
      "cell_type": "code",
      "metadata": {
        "id": "0M4sQwGBw4Fa"
      },
      "source": [
        "learn_lm.predict??"
      ],
      "execution_count": null,
      "outputs": []
    },
    {
      "cell_type": "code",
      "metadata": {
        "hidden": true,
        "id": "6r9b-KxuWpL8"
      },
      "source": [
        "doc(LanguageLearner.predict)"
      ],
      "execution_count": null,
      "outputs": []
    },
    {
      "cell_type": "markdown",
      "metadata": {
        "id": "LDgtrpT8GKJi"
      },
      "source": [
        "#Q8.\n",
        "what happens to the prediction when you decrease the value of temperature parameter in learn_lm.predict?"
      ]
    },
    {
      "cell_type": "markdown",
      "metadata": {
        "hidden": true,
        "id": "fHRzDiqzWpL8"
      },
      "source": [
        "Lowering the `temperature` will make the texts less randomized."
      ]
    },
    {
      "cell_type": "code",
      "metadata": {
        "hidden": true,
        "scrolled": true,
        "colab": {
          "base_uri": "https://localhost:8080/"
        },
        "id": "piSxGrIUWpL8",
        "outputId": "089e9eb7-a7ee-4bb3-ee94-372d8810bcc1"
      },
      "source": [
        "print(\"\\n\".join(learn_lm.predict(TEXT, N_WORDS, temperature=0.10) for _ in range(N_SENTENCES)))"
      ],
      "execution_count": 77,
      "outputs": [
        {
          "output_type": "stream",
          "text": [
            "I hated this movie by James Cameron , Jr . , The King of Limbs , and The King of Limbs . He said\n",
            "I hated this movie by John Lennon , and he said , \" i ' m not sure what i ' m doing . It 's a bad thing . \"\n"
          ],
          "name": "stdout"
        }
      ]
    },
    {
      "cell_type": "code",
      "metadata": {
        "hidden": true,
        "id": "kc3l9K1_WpL8"
      },
      "source": [
        "doc(LanguageLearner.predict)"
      ],
      "execution_count": null,
      "outputs": []
    },
    {
      "cell_type": "code",
      "metadata": {
        "hidden": true,
        "id": "Q_Z8098iWpL8"
      },
      "source": [
        "print(\"\\n\".join(learn_lm.predict(TEXT, N_WORDS, temperature=0.10) for _ in range(N_SENTENCES)))"
      ],
      "execution_count": null,
      "outputs": []
    },
    {
      "cell_type": "markdown",
      "metadata": {
        "id": "mj4dB7eBWpL8"
      },
      "source": [
        "### 2C. Training (fine-tuning) the `IMDb` language model\n",
        "#### Starting with the `wikitext-103` pretrained weights, we'll fine-tune the model to \"learn\" the structure in the \"language\" of IMDb movie reviews."
      ]
    },
    {
      "cell_type": "markdown",
      "metadata": {
        "id": "ZueOwcGfWpL9"
      },
      "source": [
        "#### Choose an appropriate learning rate."
      ]
    },
    {
      "cell_type": "code",
      "metadata": {
        "colab": {
          "base_uri": "https://localhost:8080/",
          "height": 112
        },
        "id": "HcRmcue8WpL9",
        "outputId": "65d8208d-c564-4d1b-8e68-7b527b142725"
      },
      "source": [
        "learn_lm.lr_find()"
      ],
      "execution_count": 78,
      "outputs": [
        {
          "output_type": "display_data",
          "data": {
            "text/html": [
              "\n",
              "    <div>\n",
              "        <style>\n",
              "            /* Turns off some styling */\n",
              "            progress {\n",
              "                /* gets rid of default border in Firefox and Opera. */\n",
              "                border: none;\n",
              "                /* Needs to be in here for Safari polyfill so background images work as expected. */\n",
              "                background-size: auto;\n",
              "            }\n",
              "            .progress-bar-interrupted, .progress-bar-interrupted::-webkit-progress-bar {\n",
              "                background: #F44336;\n",
              "            }\n",
              "        </style>\n",
              "      <progress value='0' class='' max='1' style='width:300px; height:20px; vertical-align: middle;'></progress>\n",
              "      0.00% [0/1 00:00<00:00]\n",
              "    </div>\n",
              "    \n",
              "<table border=\"1\" class=\"dataframe\">\n",
              "  <thead>\n",
              "    <tr style=\"text-align: left;\">\n",
              "      <th>epoch</th>\n",
              "      <th>train_loss</th>\n",
              "      <th>valid_loss</th>\n",
              "      <th>accuracy</th>\n",
              "      <th>time</th>\n",
              "    </tr>\n",
              "  </thead>\n",
              "  <tbody>\n",
              "  </tbody>\n",
              "</table><p>\n",
              "\n",
              "    <div>\n",
              "        <style>\n",
              "            /* Turns off some styling */\n",
              "            progress {\n",
              "                /* gets rid of default border in Firefox and Opera. */\n",
              "                border: none;\n",
              "                /* Needs to be in here for Safari polyfill so background images work as expected. */\n",
              "                background-size: auto;\n",
              "            }\n",
              "            .progress-bar-interrupted, .progress-bar-interrupted::-webkit-progress-bar {\n",
              "                background: #F44336;\n",
              "            }\n",
              "        </style>\n",
              "      <progress value='99' class='' max='8060' style='width:300px; height:20px; vertical-align: middle;'></progress>\n",
              "      1.23% [99/8060 00:31<41:42 11.5857]\n",
              "    </div>\n",
              "    "
            ],
            "text/plain": [
              "<IPython.core.display.HTML object>"
            ]
          },
          "metadata": {
            "tags": []
          }
        },
        {
          "output_type": "stream",
          "text": [
            "LR Finder is complete, type {learner_name}.recorder.plot() to see the graph.\n"
          ],
          "name": "stdout"
        }
      ]
    },
    {
      "cell_type": "code",
      "metadata": {
        "colab": {
          "base_uri": "https://localhost:8080/",
          "height": 279
        },
        "id": "OSP0Pg0bWpL9",
        "outputId": "a32e78d6-4fb2-4edc-9649-36fd9b9a0e88"
      },
      "source": [
        "learn_lm.recorder.plot(skip_end=15)"
      ],
      "execution_count": 79,
      "outputs": [
        {
          "output_type": "display_data",
          "data": {
            "image/png": "[encoded data removed]",
            "text/plain": [
              "<Figure size 432x288 with 1 Axes>"
            ]
          },
          "metadata": {
            "tags": [],
            "needs_background": "light"
          }
        }
      ]
    },
    {
      "cell_type": "code",
      "metadata": {
        "id": "BWENhB89WpL9"
      },
      "source": [
        "lr = 1e-3\n",
        "lr *= bs/48"
      ],
      "execution_count": 80,
      "outputs": []
    },
    {
      "cell_type": "markdown",
      "metadata": {
        "id": "Dx_xqYbzWpL9"
      },
      "source": [
        "#### Use the mixed-precision option, if you have it, otherwise omit this step"
      ]
    },
    {
      "cell_type": "code",
      "metadata": {
        "id": "-N6x5dxSWpL9"
      },
      "source": [
        "learn_lm.to_fp16()"
      ],
      "execution_count": null,
      "outputs": []
    },
    {
      "cell_type": "markdown",
      "metadata": {
        "id": "-MuOkG_4WpL9"
      },
      "source": [
        "#### The first step in fine-tuning is to train only the last layer of the model. \n",
        "This takes about a half-hour on an NVIDIA RTX-2070 GPU"
      ]
    },
    {
      "cell_type": "code",
      "metadata": {
        "colab": {
          "base_uri": "https://localhost:8080/",
          "height": 95
        },
        "id": "pGvnToLWWpL9",
        "outputId": "535fd78f-a158-4bd8-dda2-b67cebd44d89"
      },
      "source": [
        "learn_lm.fit_one_cycle(1, lr*10, moms=(0.8,0.7))"
      ],
      "execution_count": null,
      "outputs": [
        {
          "output_type": "display_data",
          "data": {
            "text/html": [
              "\n",
              "    <div>\n",
              "        <style>\n",
              "            /* Turns off some styling */\n",
              "            progress {\n",
              "                /* gets rid of default border in Firefox and Opera. */\n",
              "                border: none;\n",
              "                /* Needs to be in here for Safari polyfill so background images work as expected. */\n",
              "                background-size: auto;\n",
              "            }\n",
              "            .progress-bar-interrupted, .progress-bar-interrupted::-webkit-progress-bar {\n",
              "                background: #F44336;\n",
              "            }\n",
              "        </style>\n",
              "      <progress value='0' class='' max='1' style='width:300px; height:20px; vertical-align: middle;'></progress>\n",
              "      0.00% [0/1 00:00<00:00]\n",
              "    </div>\n",
              "    \n",
              "<table border=\"1\" class=\"dataframe\">\n",
              "  <thead>\n",
              "    <tr style=\"text-align: left;\">\n",
              "      <th>epoch</th>\n",
              "      <th>train_loss</th>\n",
              "      <th>valid_loss</th>\n",
              "      <th>accuracy</th>\n",
              "      <th>time</th>\n",
              "    </tr>\n",
              "  </thead>\n",
              "  <tbody>\n",
              "  </tbody>\n",
              "</table><p>\n",
              "\n",
              "    <div>\n",
              "        <style>\n",
              "            /* Turns off some styling */\n",
              "            progress {\n",
              "                /* gets rid of default border in Firefox and Opera. */\n",
              "                border: none;\n",
              "                /* Needs to be in here for Safari polyfill so background images work as expected. */\n",
              "                background-size: auto;\n",
              "            }\n",
              "            .progress-bar-interrupted, .progress-bar-interrupted::-webkit-progress-bar {\n",
              "                background: #F44336;\n",
              "            }\n",
              "        </style>\n",
              "      <progress value='150' class='' max='8060' style='width:300px; height:20px; vertical-align: middle;'></progress>\n",
              "      1.86% [150/8060 00:47<42:05 4.5567]\n",
              "    </div>\n",
              "    "
            ],
            "text/plain": [
              "<IPython.core.display.HTML object>"
            ]
          },
          "metadata": {
            "tags": []
          }
        }
      ]
    },
    {
      "cell_type": "markdown",
      "metadata": {
        "id": "gGMOdzpiWpL-"
      },
      "source": [
        "Since this is relatively slow to train, we will save our weights:"
      ]
    },
    {
      "cell_type": "code",
      "metadata": {
        "id": "bOCPvoISWpL-"
      },
      "source": [
        "learn_lm.save('fit_1')"
      ],
      "execution_count": null,
      "outputs": []
    },
    {
      "cell_type": "code",
      "metadata": {
        "id": "OgLlzOVHWpL-"
      },
      "source": [
        "learn_lm.load('fit_1')"
      ],
      "execution_count": null,
      "outputs": []
    },
    {
      "cell_type": "markdown",
      "metadata": {
        "id": "J6CA9xANWpL-"
      },
      "source": [
        "#### To complete the fine-tuning, we unfreeze all the weights and retrain\n",
        "Adopting the `wikitext-103` weights as initial values, our neural network will adjust them via optimization, finding new values that are specialized to the \"language\" of `IMDb` movie reviews."
      ]
    },
    {
      "cell_type": "code",
      "metadata": {
        "id": "5FWAkozpWpL-"
      },
      "source": [
        "learn_lm.unfreeze()"
      ],
      "execution_count": null,
      "outputs": []
    },
    {
      "cell_type": "markdown",
      "metadata": {
        "id": "FIu2mtkrWpL-"
      },
      "source": [
        "Fine tuning the model takes ~30 minutes per epoch on an NVIDIA RTX-2070 GPU, with bs=48<br>\n",
        "Note the relatively low value of accuracy, which did not improve significantly beyond `epoch 4`."
      ]
    },
    {
      "cell_type": "code",
      "metadata": {
        "scrolled": false,
        "id": "_nqaQuApWpL-"
      },
      "source": [
        "learn_lm.fit_one_cycle(10, lr, moms=(0.8,0.7))"
      ],
      "execution_count": null,
      "outputs": []
    },
    {
      "cell_type": "markdown",
      "metadata": {
        "id": "1_c5GM_hWpL-"
      },
      "source": [
        "#### Save the fine-tuned **language model** and the **encoder**\n",
        "We have to save not just the `fine-tuned` **IMDb language model** but also its **encoder**. The **language model** is the part that tries to guess the next word. The **encoder** is the part that's responsible for creating and updating the hidden state. \n",
        "\n",
        "In the next part we will build a **sentiment classifier** for the IMDb movie reviews. To do this we will need the **encoder** from the **IMDb language model** that we built."
      ]
    },
    {
      "cell_type": "code",
      "metadata": {
        "id": "vSFiGgrIWpL_"
      },
      "source": [
        "learn_lm.save('fine_tuned')"
      ],
      "execution_count": null,
      "outputs": []
    },
    {
      "cell_type": "code",
      "metadata": {
        "id": "bHYWHFudWpL_"
      },
      "source": [
        "learn_lm.save_encoder('fine_tuned_enc')"
      ],
      "execution_count": null,
      "outputs": []
    },
    {
      "cell_type": "markdown",
      "metadata": {
        "heading_collapsed": true,
        "id": "gA7WKhwxWpL_"
      },
      "source": [
        "#### Load the saved **model** and its **encoder**"
      ]
    },
    {
      "cell_type": "code",
      "metadata": {
        "hidden": true,
        "id": "D4IorgzsWpL_"
      },
      "source": [
        "learn_lm.load('fine_tuned')"
      ],
      "execution_count": null,
      "outputs": []
    },
    {
      "cell_type": "markdown",
      "metadata": {
        "hidden": true,
        "id": "fUV7BKEAWpL_"
      },
      "source": [
        "Now that we've trained our model, different representations have been learned for the words that were in `IMDb` but not `wikitext-103` (remember that at the beginning we had initialized them all to the same thing):"
      ]
    },
    {
      "cell_type": "code",
      "metadata": {
        "hidden": true,
        "id": "9UDCooZXWpL_"
      },
      "source": [
        "enc = learn_lm.model[0].encoder"
      ],
      "execution_count": null,
      "outputs": []
    },
    {
      "cell_type": "code",
      "metadata": {
        "hidden": true,
        "id": "8TU4nxbYWpL_"
      },
      "source": [
        "np.allclose(enc.weight[vocab.stoi[\"30-something\"], :], \n",
        "            enc.weight[vocab.stoi[\"linklater\"], :])"
      ],
      "execution_count": null,
      "outputs": []
    },
    {
      "cell_type": "code",
      "metadata": {
        "hidden": true,
        "id": "T3zyUmGJWpMA"
      },
      "source": [
        "np.allclose(enc.weight[vocab.stoi[\"30-something\"], :], new_word_vec)"
      ],
      "execution_count": null,
      "outputs": []
    },
    {
      "cell_type": "markdown",
      "metadata": {
        "heading_collapsed": true,
        "id": "7PjbA4bqWpMA"
      },
      "source": [
        "#### Generate movie review-like text, with the **fine-tuned** ` IMDb` language model\n",
        "Compare these texts to the ones generated with the **untrained** `IMDb model` in part **2A**. Do they seem qualitatively better?"
      ]
    },
    {
      "cell_type": "markdown",
      "metadata": {
        "hidden": true,
        "id": "U_HbHUd0WpMA"
      },
      "source": [
        "How good is our fine-tuned IMDb language model? Well let's try to see what it predicts when given a phrase that might appear in a movie review."
      ]
    },
    {
      "cell_type": "code",
      "metadata": {
        "hidden": true,
        "id": "XVjXy6sVWpMA"
      },
      "source": [
        "TEXT = \"i liked this movie because\"\n",
        "N_WORDS = 40\n",
        "N_SENTENCES = 2"
      ],
      "execution_count": null,
      "outputs": []
    },
    {
      "cell_type": "code",
      "metadata": {
        "hidden": true,
        "id": "D4TTm9SUWpMA"
      },
      "source": [
        "print(\"\\n\".join(learn_lm.predict(TEXT, N_WORDS, temperature=0.75) for _ in range(N_SENTENCES)))"
      ],
      "execution_count": null,
      "outputs": []
    },
    {
      "cell_type": "code",
      "metadata": {
        "hidden": true,
        "id": "RSEUODjMWpMA"
      },
      "source": [
        "TEXT = \"This movie was\"\n",
        "N_WORDS = 30\n",
        "N_SENTENCES = 2"
      ],
      "execution_count": null,
      "outputs": []
    },
    {
      "cell_type": "code",
      "metadata": {
        "hidden": true,
        "id": "bun6UTwQWpMA"
      },
      "source": [
        "print(\"\\n\".join(learn_lm.predict(TEXT, N_WORDS, temperature=0.75) for _ in range(N_SENTENCES)))"
      ],
      "execution_count": null,
      "outputs": []
    },
    {
      "cell_type": "code",
      "metadata": {
        "hidden": true,
        "id": "p0YVymEeWpMA"
      },
      "source": [
        "TEXT = \"I hated this movie\"\n",
        "N_WORDS = 40\n",
        "N_SENTENCES = 2"
      ],
      "execution_count": null,
      "outputs": []
    },
    {
      "cell_type": "code",
      "metadata": {
        "hidden": true,
        "id": "RPfvD6YgWpMB"
      },
      "source": [
        "print(\"\\n\".join(learn_lm.predict(TEXT, N_WORDS, temperature=0.75) for _ in range(N_SENTENCES)))"
      ],
      "execution_count": null,
      "outputs": []
    },
    {
      "cell_type": "markdown",
      "metadata": {
        "heading_collapsed": true,
        "id": "ccTUuzDWWpMB"
      },
      "source": [
        "#### Risks of language models"
      ]
    },
    {
      "cell_type": "markdown",
      "metadata": {
        "hidden": true,
        "id": "UJDg8msZWpMB"
      },
      "source": [
        "We will talk about ethical concerns raised by very accurate language models in lesson 7, but here are a few brief notes:\n",
        "\n",
        "In reference to [OpenAI's GPT-2](https://www.theverge.com/2019/2/14/18224704/ai-machine-learning-language-models-read-write-openai-gpt2): Jeremy Howard said, *I’ve been trying to warn people about this for a while. We have the technology to totally fill Twitter, email, and the web up with reasonable-sounding, context-appropriate prose, which would drown out all other speech and be impossible to filter.*\n",
        "\n",
        "For a small example, consider when completely incorrect (but reasonable sounding) ML generated answers were [posted to StackOverflow](https://meta.stackoverflow.com/questions/384596/completely-incorrect-machine-learning-generated-answers?stw=2):\n",
        "\n",
        "<img src=\"https://github.com/fastai/course-nlp/blob/master/images/robot-overflow.png?raw=1\" alt=\"Roboflow\" style=\"width: 80%\"/>"
      ]
    },
    {
      "cell_type": "markdown",
      "metadata": {
        "hidden": true,
        "id": "6LQiGfisWpMB"
      },
      "source": [
        "<img src=\"https://github.com/fastai/course-nlp/blob/master/images/husain-tweet.png?raw=1\" alt=\"Roboflow\" style=\"width: 60%\"/>"
      ]
    },
    {
      "cell_type": "markdown",
      "metadata": {
        "id": "7pXrzmNyWpMB"
      },
      "source": [
        "## 3. Building an `IMDb Sentiment Classifier`\n",
        "#### We'll now use **transfer learning** to create a `classifier`, again starting from the pretrained weights of the `wikitext-103` language model.  We'll also need the `IMDb language model` **encoder** that we saved previously. "
      ]
    },
    {
      "cell_type": "markdown",
      "metadata": {
        "id": "6fhIRuY6WpMB"
      },
      "source": [
        "### 3A. Load and preprocess the data, and form a `databunch`\n",
        "Using fastai's flexible API, we will now create a different kind of `databunch` object, one that is suitable for a **classifier** rather than a for **language model** (as we did in **2A**). This time we'll keep the labels for the `IMDb` movie reviews data. \n",
        "\n",
        "Add the `try-except` wrapper workaround for the bug in the `fastai Text API`\n",
        "\n",
        "Here the batch size is decreased from 48 to 8, to avoid a `CUDA out of memory error`; your hardware may be able to handle a larger batch, in which case training will likely be faster.\n",
        "\n",
        "Again, this takes a bit of time."
      ]
    },
    {
      "cell_type": "code",
      "metadata": {
        "id": "bRL5PN6ZWpMB"
      },
      "source": [
        "bs=8"
      ],
      "execution_count": null,
      "outputs": []
    },
    {
      "cell_type": "code",
      "metadata": {
        "hidden": true,
        "id": "tq_Jee1bWpMB"
      },
      "source": [
        "%%time\n",
        "\n",
        "# throws `BrokenProcessPool' Error sometimes. Keep trying `till it works!\n",
        "#    the progress bar has to complete three consecutive steps. Why three? \n",
        "#    fails nearly 100 times, and doesn't respond to interrupt\n",
        "count = 0\n",
        "error = True\n",
        "while error:\n",
        "    try: \n",
        "        # Preprocessing steps\n",
        "        data_clas = (TextList.from_folder(path, vocab=data_lm.vocab)\n",
        "             #grab all the text files in path\n",
        "             .split_by_folder(valid='test')\n",
        "             #split by train and valid folder (that only keeps 'train' and 'test' so no need to filter)\n",
        "             .label_from_folder(classes=['neg', 'pos']))\n",
        "             #label them all with their folders\n",
        "             #.databunch(bs=bs, num_workers=1))\n",
        "        error = False\n",
        "        print(f'failure count is {count}\\n')   \n",
        "        \n",
        "    except: # catch *all* exceptions\n",
        "        # accumulate failure count\n",
        "        count = count + 1\n",
        "        print(f'failure count is {count}')"
      ],
      "execution_count": null,
      "outputs": []
    },
    {
      "cell_type": "markdown",
      "metadata": {
        "id": "SM-d9ZrlWpMC"
      },
      "source": [
        "#### Form the preprocessed data into a `databunch`"
      ]
    },
    {
      "cell_type": "code",
      "metadata": {
        "id": "yZvcYnFAWpMC"
      },
      "source": [
        "data_clas = data_clas.databunch(bs=bs, num_workers=1)"
      ],
      "execution_count": null,
      "outputs": []
    },
    {
      "cell_type": "markdown",
      "metadata": {
        "id": "4tqIx7KkWpMC"
      },
      "source": [
        "#### Save the databunch (since it took so long to make) and load it"
      ]
    },
    {
      "cell_type": "code",
      "metadata": {
        "id": "jcsj8mKUWpMC"
      },
      "source": [
        "data_clas.save('imdb_textlist_class')"
      ],
      "execution_count": null,
      "outputs": []
    },
    {
      "cell_type": "code",
      "metadata": {
        "id": "-6OvrPa-WpMC"
      },
      "source": [
        "data_clas = load_data(path, 'imdb_textlist_class', bs=bs, num_workers=1)"
      ],
      "execution_count": null,
      "outputs": []
    },
    {
      "cell_type": "code",
      "metadata": {
        "id": "_va3683sWpMC"
      },
      "source": [
        "data_clas.show_batch()"
      ],
      "execution_count": null,
      "outputs": []
    },
    {
      "cell_type": "markdown",
      "metadata": {
        "id": "PRT1EuBpWpMC"
      },
      "source": [
        "### 3B. Create a model to **classify** the `IMDb` reviews, and load the **encoder** we saved before.\n",
        "#### Freeze the weights for all but the last layer and find a good value for the learning rate. "
      ]
    },
    {
      "cell_type": "code",
      "metadata": {
        "id": "1PmelbpTWpMD"
      },
      "source": [
        "learn_c = text_classifier_learner(data_clas, AWD_LSTM, drop_mult=0.3).to_fp16()\n",
        "learn_c.load_encoder('fine_tuned_enc')\n",
        "learn_c.freeze()"
      ],
      "execution_count": null,
      "outputs": []
    },
    {
      "cell_type": "code",
      "metadata": {
        "id": "yZQXBu-gWpMD"
      },
      "source": [
        "learn_c.lr_find()"
      ],
      "execution_count": null,
      "outputs": []
    },
    {
      "cell_type": "code",
      "metadata": {
        "id": "WCMswBLKWpMD"
      },
      "source": [
        "learn_c.recorder.plot()"
      ],
      "execution_count": null,
      "outputs": []
    },
    {
      "cell_type": "markdown",
      "metadata": {
        "id": "whTFJYxUWpMD"
      },
      "source": [
        "### 3C. Training and fine-tuning the `IMDb sentiment classifier`"
      ]
    },
    {
      "cell_type": "markdown",
      "metadata": {
        "id": "e1d1QHTcWpMD"
      },
      "source": [
        "#### Train for one cycle, save intermediate result"
      ]
    },
    {
      "cell_type": "code",
      "metadata": {
        "scrolled": false,
        "id": "Nwr1jvDDWpMD"
      },
      "source": [
        "learn_c.fit_one_cycle(1, 2e-2, moms=(0.8,0.7))"
      ],
      "execution_count": null,
      "outputs": []
    },
    {
      "cell_type": "code",
      "metadata": {
        "id": "QUPLLbsmWpMD"
      },
      "source": [
        "learn_c.save('first')"
      ],
      "execution_count": null,
      "outputs": []
    },
    {
      "cell_type": "code",
      "metadata": {
        "id": "yL7D1t2NWpMD"
      },
      "source": [
        "learn_c.load('first');"
      ],
      "execution_count": null,
      "outputs": []
    },
    {
      "cell_type": "markdown",
      "metadata": {
        "id": "0n8wUgHOWpME"
      },
      "source": [
        "#### Unfreeze last two layers and train for one cycle, save intermediate result."
      ]
    },
    {
      "cell_type": "code",
      "metadata": {
        "id": "E5mh2-_oWpME"
      },
      "source": [
        "learn_c.freeze_to(-2)\n",
        "learn_c.fit_one_cycle(1, slice(1e-2/(2.6**4),1e-2), moms=(0.8,0.7))"
      ],
      "execution_count": null,
      "outputs": []
    },
    {
      "cell_type": "code",
      "metadata": {
        "id": "0i1bux7jWpME"
      },
      "source": [
        "learn_c.save('2nd')"
      ],
      "execution_count": null,
      "outputs": []
    },
    {
      "cell_type": "markdown",
      "metadata": {
        "id": "3ClE4L0oWpME"
      },
      "source": [
        "#### Unfreeze the last three layers, and train for one cycle, and save intermediate result.\n",
        "At this point we've already beaten the 2017 (pre-transfer learning) state of the art!"
      ]
    },
    {
      "cell_type": "code",
      "metadata": {
        "id": "j3_Oxbg2WpME"
      },
      "source": [
        "learn_c.freeze_to(-3)\n",
        "learn_c.fit_one_cycle(1, slice(5e-3/(2.6**4),5e-3), moms=(0.8,0.7))"
      ],
      "execution_count": null,
      "outputs": []
    },
    {
      "cell_type": "code",
      "metadata": {
        "id": "Ea-YQtZrWpME"
      },
      "source": [
        "learn_c.save('3rd')"
      ],
      "execution_count": null,
      "outputs": []
    },
    {
      "cell_type": "code",
      "metadata": {
        "id": "Es2eEHysWpME"
      },
      "source": [
        "learn_c.load('3rd')"
      ],
      "execution_count": null,
      "outputs": []
    },
    {
      "cell_type": "markdown",
      "metadata": {
        "id": "hoDJrmW5WpMF"
      },
      "source": [
        "#### Unfreeze all the layers, train for two cycles, and save the result."
      ]
    },
    {
      "cell_type": "markdown",
      "metadata": {
        "id": "0T-9VV9nWpMF"
      },
      "source": [
        "Note: at this step I encountered a `CUDA error: unspecified launch failure`. This is a known (and unsolved) problem with PyTorch when using an LSTM. https://github.com/pytorch/pytorch/issues/27837\n",
        "\n",
        "Nothing to do but try again... and it worked on the second try."
      ]
    },
    {
      "cell_type": "code",
      "metadata": {
        "id": "sVXX9NtGWpMF"
      },
      "source": [
        "learn_c.unfreeze()\n",
        "learn_c.fit_one_cycle(2, slice(1e-3/(2.6**4),1e-3), moms=(0.8,0.7))"
      ],
      "execution_count": null,
      "outputs": []
    },
    {
      "cell_type": "markdown",
      "metadata": {
        "id": "pTImDNubWpMF"
      },
      "source": [
        "The state of the art for this dataset in 2017 was 94.1%, and we have crushed it!!!"
      ]
    },
    {
      "cell_type": "markdown",
      "metadata": {
        "id": "tVLTNm3JWpMF"
      },
      "source": [
        "#### Save the IMDb classifer model"
      ]
    },
    {
      "cell_type": "code",
      "metadata": {
        "id": "vss1Wfb_WpMF"
      },
      "source": [
        "learn_c.save('clas')"
      ],
      "execution_count": null,
      "outputs": []
    },
    {
      "cell_type": "markdown",
      "metadata": {
        "id": "F7rDiRtXWpMF"
      },
      "source": [
        "#### Let's look at a few examples, just to check that the classifier is working as we think it should. \n",
        "The three outputs of the model predition are the label (`pos` or `neg`) and the class probability estimates for `neg` and `pos`, which meausure the model's confidence in it's prediction. As we'd expect, the model is extremely confident that the first review is `pos` and quite confident that the second review is `neg`. So it passes the test with flying colors. "
      ]
    },
    {
      "cell_type": "code",
      "metadata": {
        "id": "sumKirnCWpMF"
      },
      "source": [
        "learn_c.predict(\"I really loved that movie, it was awesome!\")"
      ],
      "execution_count": null,
      "outputs": []
    },
    {
      "cell_type": "code",
      "metadata": {
        "id": "qjikII5EWpMG"
      },
      "source": [
        "learn_c.predict(\"I didn't really love that movie, and I didn't think it was awesome.\")"
      ],
      "execution_count": null,
      "outputs": []
    },
    {
      "cell_type": "markdown",
      "metadata": {
        "id": "_HXU4mcJWpMG"
      },
      "source": [
        "#### Now that we've built the model, here is the part where you get to have some fun!! Take the model for a spin, try out your own examples!!"
      ]
    },
    {
      "cell_type": "markdown",
      "metadata": {
        "heading_collapsed": true,
        "id": "gmKY6f5AWpMG"
      },
      "source": [
        "## Appendix: Language Model Zoo"
      ]
    },
    {
      "cell_type": "markdown",
      "metadata": {
        "hidden": true,
        "id": "UXT5qc0KWpMG"
      },
      "source": [
        "fast.ai alumni have applied ULMFit to dozens of different languages, and have beat the SOTA in Thai, Polish, German, Indonesian, Hindi, & Malay.\n",
        "\n",
        "They share tips and best practices in [this forum thread](https://forums.fast.ai/t/language-model-zoo-gorilla/14623) in case you are interested in getting involved!\n",
        "\n",
        "<img src=\"https://github.com/fastai/course-nlp/blob/master/images/language_model_zoo.png?raw=1\" alt=\"language model zoo\" style=\"width: 80%\"/>"
      ]
    },
    {
      "cell_type": "code",
      "metadata": {
        "hidden": true,
        "id": "y1z8Np8eWpMG"
      },
      "source": [
        ""
      ],
      "execution_count": null,
      "outputs": []
    }
  ]
}