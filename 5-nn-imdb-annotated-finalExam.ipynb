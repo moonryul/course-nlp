{
  "nbformat": 4,
  "nbformat_minor": 0,
  "metadata": {
    "kernelspec": {
      "display_name": "Python 3",
      "language": "python",
      "name": "python3"
    },
    "language_info": {
      "codemirror_mode": {
        "name": "ipython",
        "version": 3
      },
      "file_extension": ".py",
      "mimetype": "text/x-python",
      "name": "python",
      "nbconvert_exporter": "python",
      "pygments_lexer": "ipython3",
      "version": "3.7.3"
    },
    "colab": {
      "name": "5-nn-imdb.ipynb",
      "provenance": []
    },
    "accelerator": "GPU"
  },
  "cells": [
    {
      "cell_type": "markdown",
      "metadata": {
        "id": "uUrigbbUe3Re"
      },
      "source": [
        "#Final Exam: Machine Learning Programming\n",
        "\n",
        "In this exam, I will test if you understand what is going on in this notebook for text classification. \n",
        "\n",
        "#Q1.\n",
        "Explain what is word embedding? Use keywords such as \"discrete\", \"continuous\", \"vector space\", and \"similarity\".\n",
        "\n",
        "#Q2.\n",
        "Refer to the following article. Explain the difference between the word embedding technique based on language models and the standard word embedding techniques such as word2ved and Glove. Use keywords such as \"context\", \"shallow\", \"deep\".\n",
        "\n",
        "\n",
        "https://humboldt-wi.github.io/blog/research/information_systems_1819/group4_ulmfit/#forwardpass \n",
        "\n"
      ]
    },
    {
      "cell_type": "markdown",
      "metadata": {
        "id": "HOtnZ3Q9WpLq"
      },
      "source": [
        "This lesson was adapted from the end of [lesson 3](https://course.fast.ai/videos/?lesson=3) and beginning of [lesson 4](https://course.fast.ai/videos/?lesson=4) of the latest fast.ai Practical Deep Learning for Coders course.  We will cover all the material you need here in this notebook, so no need to have taken the Deep Learning course.  Even if you have taken the DL class, we will go slower and get into more detail here!"
      ]
    },
    {
      "cell_type": "markdown",
      "metadata": {
        "id": "q1qhL-2NWpLr"
      },
      "source": [
        "# Transfer Learning for Natural Language Modeling\n",
        "### Contructing a Language Model and a Sentiment Classifier for IMDB movie reviews"
      ]
    },
    {
      "cell_type": "markdown",
      "metadata": {
        "id": "o0ssTspaWpLs"
      },
      "source": [
        "\n",
        "\n",
        "Transfer learning has been widely used with great success in computer vision for several years, but only in the last year or so has it been successfully applied to NLP (beginning with ULMFit, which we will use here, which was built upon by BERT and GPT-2).\n",
        "\n",
        "As Sebastian Ruder wrote in [The Gradient](https://thegradient.pub/) last summer, [NLP's ImageNet moment has arrived](https://thegradient.pub/nlp-imagenet/).\n",
        "\n",
        "We will first build a language model for IMDB movie reviews.  Next we will build a sentiment classifier, which will predict whether a review is negative or positive, based on its text. For both of these tasks, we will use **transfer learning**. Starting with the pre-trained weights from the `wikitext-103` language model, we will tune these weights to specialize to the language of `IMDb` movie reviews. "
      ]
    },
    {
      "cell_type": "markdown",
      "metadata": {
        "heading_collapsed": true,
        "id": "3hKRSenMWpLs"
      },
      "source": [
        "## Language Models"
      ]
    },
    {
      "cell_type": "markdown",
      "metadata": {
        "hidden": true,
        "id": "081mp5ePWpLs"
      },
      "source": [
        "Language modeling can be a fun creative form. Research scientist [Janelle Shane blogs](https://aiweirdness.com/) & [tweets](https://twitter.com/JanelleCShane) about her creative AI explorations, which often involve text.  For instance, see her:\n",
        "\n",
        "- [Why did the neural network cross the road?](https://aiweirdness.com/post/174691534037/why-did-the-neural-network-cross-the-road)\n",
        "- [Try these neural network-generated recipes at your own risk.](https://aiweirdness.com/post/163878889437/try-these-neural-network-generated-recipes-at-your)\n",
        "- [D&D character bios - now making slightly more sense](https://aiweirdness.com/post/183471928977/dd-character-bios-now-making-slightly-more)"
      ]
    },
    {
      "cell_type": "markdown",
      "metadata": {
        "id": "ZEefC5-6WpLs"
      },
      "source": [
        "## Using a GPU"
      ]
    },
    {
      "cell_type": "markdown",
      "metadata": {
        "id": "2blcmwHZWpLt"
      },
      "source": [
        "You will need to have the fastai library installed for this lesson, and you will want to use a GPU to train your neural net.  If you don't have a GPU you can use in your computer (currently, only Nvidia GPUs are fully supported by the main deep learning libraries), no worries!  There are a number of cloud options you can consider:\n",
        "\n",
        "[GPU Cloud Options](https://course.fast.ai/#using-a-gpu)\n",
        "\n",
        "**Reminder: If you are using a cloud GPU, always be sure to shut it down when you are done!!! Otherwise, you could end up with an expensive bill!**"
      ]
    },
    {
      "cell_type": "code",
      "metadata": {
        "id": "7GU9GRRGWpLt"
      },
      "source": [
        "%reload_ext autoreload\n",
        "%autoreload 2\n",
        "\n",
        "%matplotlib inline"
      ],
      "execution_count": 14,
      "outputs": []
    },
    {
      "cell_type": "markdown",
      "metadata": {
        "id": "3PJVesdxYN7K"
      },
      "source": [
        "https://medium.com/@mukesh.kumar43585/model-checkpoint-google-colab-and-drive-as-persistent-storage-for-long-training-runs-e35ffa0c33d9"
      ]
    },
    {
      "cell_type": "code",
      "metadata": {
        "id": "EJpPOBi6WpLt"
      },
      "source": [
        "from fastai import *\n",
        "from fastai.text import *\n",
        "from scipy.spatial.distance import cosine as dist"
      ],
      "execution_count": 15,
      "outputs": []
    },
    {
      "cell_type": "markdown",
      "metadata": {
        "id": "A9wpZi68WpLu"
      },
      "source": [
        "Note that language models can use a lot of GPU, so you may need to decrease batchsize here."
      ]
    },
    {
      "cell_type": "markdown",
      "metadata": {
        "id": "SIrzlsyj-tYU"
      },
      "source": [
        "#Q3.\n",
        "In the following cell, what does **bs** refer to ? Suppose that you have a vocabulary in which there 600000 tokens. How many batches will you have?\n",
        "\n",
        "\n",
        "References:\n",
        "\n",
        "https://forums.fast.ai/t/batch-and-bptt-in-language-model-data-matrix/8487\n",
        "\n",
        "https://forums.fast.ai/t/understanding-bptt-batchsize-and-what-is-getting-fed-into-the-forward-function-per-mini-batch/9028/11\n",
        "\n",
        "\n",
        "https://forums.fast.ai/t/bptt-intuitions/15417\n",
        "\n"
      ]
    },
    {
      "cell_type": "code",
      "metadata": {
        "id": "1FI_7SYg-rx9"
      },
      "source": [
        ""
      ],
      "execution_count": 15,
      "outputs": []
    },
    {
      "cell_type": "code",
      "metadata": {
        "id": "QHZy_WZiWpLu"
      },
      "source": [
        "# bs=192\n",
        "bs=48\n",
        "# bs=24"
      ],
      "execution_count": null,
      "outputs": []
    },
    {
      "cell_type": "markdown",
      "metadata": {
        "id": "z38VOjWBWpLu"
      },
      "source": [
        "### Fix this line: should be `device(0)` instead of `device(2)`"
      ]
    },
    {
      "cell_type": "code",
      "metadata": {
        "id": "09g3gOTYWpLu"
      },
      "source": [
        "#torch.cuda.set_device(2)\n",
        "torch.cuda.set_device(0)"
      ],
      "execution_count": null,
      "outputs": []
    },
    {
      "cell_type": "markdown",
      "metadata": {
        "heading_collapsed": true,
        "id": "4nC_4MqXWpLv"
      },
      "source": [
        "## 1. Prepare the URLs.IMDb_SAMPLE data (only 800 review samples out of 100,000 reviews, URLs.IMDB ). Part I is not part of the final task of this notebook, but a toy example which explains the basic concepts and ideas. Part 2 is the real meat. In part 2, there are many toy cells which are NOT parts of the final task. You need to distinguish which are toy cells."
      ]
    },
    {
      "cell_type": "markdown",
      "metadata": {
        "hidden": true,
        "id": "XTwmVBiOWpLv"
      },
      "source": [
        "First let's download the dataset we are going to study. The `IMDb` [dataset](http://ai.stanford.edu/~amaas/data/sentiment/) has been curated by Andrew Maas et al. and contains a total of 100,000 reviews on IMDB. 25,000 of them are labelled as positive and negative for training, another 25,000 are labelled for testing (in both cases they are highly polarized). The remaning 50,000 is an additional unlabelled data (but we will find a use for it nonetheless).\n",
        "\n",
        "We'll begin with a sample we've prepared for you, so that things run quickly before going over the full dataset."
      ]
    },
    {
      "cell_type": "code",
      "metadata": {
        "hidden": true,
        "colab": {
          "base_uri": "https://localhost:8080/",
          "height": 52
        },
        "id": "pu14aE0jWpLv",
        "outputId": "ed312f6f-98a0-48f7-8f5b-3b38537f6b41"
      },
      "source": [
        "path = untar_data(URLs.IMDB_SAMPLE, dest='/content/data')\n",
        "path.ls()"
      ],
      "execution_count": null,
      "outputs": [
        {
          "output_type": "stream",
          "text": [
            "Downloading http://files.fast.ai/data/examples/imdb_sample.tgz\n"
          ],
          "name": "stdout"
        },
        {
          "output_type": "display_data",
          "data": {
            "text/html": [
              ""
            ],
            "text/plain": [
              "<IPython.core.display.HTML object>"
            ]
          },
          "metadata": {
            "tags": []
          }
        },
        {
          "output_type": "execute_result",
          "data": {
            "text/plain": [
              "[PosixPath('/content/data/imdb_sample/texts.csv')]"
            ]
          },
          "metadata": {
            "tags": []
          },
          "execution_count": 7
        }
      ]
    },
    {
      "cell_type": "markdown",
      "metadata": {
        "hidden": true,
        "id": "RlWYhToPWpLv"
      },
      "source": [
        "It only contains one csv file, let's have a look at it."
      ]
    },
    {
      "cell_type": "markdown",
      "metadata": {
        "hidden": true,
        "id": "qmGtjz3LWpLw"
      },
      "source": [
        "It contains one line per review, with the label ('negative' or 'positive'), the text and a flag to determine if it should be part of the validation set or the training set. If we ignore this flag, we can create a `DataBunch` containing this data in one line of code:"
      ]
    },
    {
      "cell_type": "markdown",
      "metadata": {
        "id": "T5XfmuCvWpLw"
      },
      "source": [
        "### Load and preprocess the data and form a `databunch`\n",
        "Add workaround for the bug in the `fastai Text API`"
      ]
    },
    {
      "cell_type": "code",
      "metadata": {
        "hidden": true,
        "colab": {
          "base_uri": "https://localhost:8080/",
          "height": 193
        },
        "id": "XiWRKC-hWpLw",
        "outputId": "99432b45-61bf-40f6-fc1f-cc9e458d2f2b"
      },
      "source": [
        "%%time\n",
        "\n",
        "# throws `BrokenProcessPool' Error sometimes. Keep trying `till it works!\n",
        "count = 0\n",
        "error = True\n",
        "while error:\n",
        "    try: \n",
        "        # Preprocessing steps\n",
        "        data_lm = TextDataBunch.from_csv(path, 'texts.csv')\n",
        "        error = False\n",
        "        print(f'failure count is {count}\\n')    \n",
        "    except: # catch *all* exceptions\n",
        "        # accumulate failure count\n",
        "        count = count + 1\n",
        "        print(f'failure count is {count}')"
      ],
      "execution_count": null,
      "outputs": [
        {
          "output_type": "display_data",
          "data": {
            "text/html": [
              ""
            ],
            "text/plain": [
              "<IPython.core.display.HTML object>"
            ]
          },
          "metadata": {
            "tags": []
          }
        },
        {
          "output_type": "stream",
          "text": [
            "/usr/local/lib/python3.7/dist-packages/fastai/core.py:302: VisibleDeprecationWarning: Creating an ndarray from ragged nested sequences (which is a list-or-tuple of lists-or-tuples-or ndarrays with different lengths or shapes) is deprecated. If you meant to do this, you must specify 'dtype=object' when creating the ndarray\n",
            "  return np.array(a, dtype=dtype, **kwargs)\n"
          ],
          "name": "stderr"
        },
        {
          "output_type": "display_data",
          "data": {
            "text/html": [
              ""
            ],
            "text/plain": [
              "<IPython.core.display.HTML object>"
            ]
          },
          "metadata": {
            "tags": []
          }
        },
        {
          "output_type": "stream",
          "text": [
            "failure count is 0\n",
            "\n",
            "CPU times: user 487 ms, sys: 94.8 ms, total: 582 ms\n",
            "Wall time: 36.3 s\n"
          ],
          "name": "stdout"
        },
        {
          "output_type": "stream",
          "text": [
            "/usr/local/lib/python3.7/dist-packages/numpy/core/_asarray.py:83: VisibleDeprecationWarning: Creating an ndarray from ragged nested sequences (which is a list-or-tuple of lists-or-tuples-or ndarrays with different lengths or shapes) is deprecated. If you meant to do this, you must specify 'dtype=object' when creating the ndarray\n",
            "  return array(a, dtype, copy=False, order=order)\n",
            "<string>:6: VisibleDeprecationWarning: Creating an ndarray from ragged nested sequences (which is a list-or-tuple of lists-or-tuples-or ndarrays with different lengths or shapes) is deprecated. If you meant to do this, you must specify 'dtype=object' when creating the ndarray\n"
          ],
          "name": "stderr"
        }
      ]
    },
    {
      "cell_type": "markdown",
      "metadata": {
        "hidden": true,
        "id": "0QImL4MOWpLw"
      },
      "source": [
        "By executing this line a process was launched that took a bit of time. Let's dig a bit into it. Images could be fed (almost) directly into a model because they're just a big array of pixel values that are floats between 0 and 1. A text is composed of words, and we can't apply mathematical functions to them directly. We first have to convert them to numbers. This is done in two differents steps: tokenization and numericalization. A `TextDataBunch` does all of that behind the scenes for you."
      ]
    },
    {
      "cell_type": "markdown",
      "metadata": {
        "heading_collapsed": true,
        "hidden": true,
        "id": "43LDWyAPWpLw"
      },
      "source": [
        "### Tokenization"
      ]
    },
    {
      "cell_type": "markdown",
      "metadata": {
        "hidden": true,
        "id": "ubqrB1HxWpLx"
      },
      "source": [
        "The first step of processing we make texts go through is to split the raw sentences into words, or more exactly tokens. The easiest way to do this would be to split the string on spaces, but we can be smarter:\n",
        "\n",
        "- we need to take care of punctuation\n",
        "- some words are contractions of two different words, like isn't or don't\n",
        "- we may need to clean some parts of our texts, if there's HTML code for instance\n",
        "\n",
        "To see what the tokenizer had done behind the scenes, let's have a look at a few texts in a batch."
      ]
    },
    {
      "cell_type": "markdown",
      "metadata": {
        "hidden": true,
        "id": "CNgDlzfjWpLx"
      },
      "source": [
        "The texts are truncated at 100 tokens for more readability. We can see that it did more than just split on space and punctuation symbols: \n",
        "- the \"'s\" are grouped together in one token\n",
        "- the contractions are separated like his: \"did\", \"n't\"\n",
        "- content has been cleaned for any HTML symbol and lower cased\n",
        "- there are several special tokens (all those that begin by xx), to replace unkown tokens (see below) or to introduce different text fields (here we only have one)."
      ]
    },
    {
      "cell_type": "markdown",
      "metadata": {
        "heading_collapsed": true,
        "hidden": true,
        "id": "vfWEB2d5WpLx"
      },
      "source": [
        "### Numericalization"
      ]
    },
    {
      "cell_type": "markdown",
      "metadata": {
        "hidden": true,
        "id": "4HQ0R3Q9WpLx"
      },
      "source": [
        "Once we have extracted tokens from our texts, we convert to integers by creating a list of all the words used. We only keep the ones that appear at list twice with a maximum vocabulary size of 60,000 (by default) and replace the ones that don't make the cut by the unknown token `UNK`.\n",
        "\n",
        "The correspondance from ids tokens is stored in the `vocab` attribute of our datasets, in a dictionary called `itos` (for int to string)."
      ]
    },
    {
      "cell_type": "code",
      "metadata": {
        "colab": {
          "base_uri": "https://localhost:8080/"
        },
        "id": "Ftb--l30cbXd",
        "outputId": "a01f7676-b457-4668-8651-5dadb6fdc0b3"
      },
      "source": [
        "len(data_lm.vocab.itos) # the of the vocab of  URLs.IMDb_SAMPLE"
      ],
      "execution_count": null,
      "outputs": [
        {
          "output_type": "execute_result",
          "data": {
            "text/plain": [
              "8928"
            ]
          },
          "metadata": {
            "tags": []
          },
          "execution_count": 9
        }
      ]
    },
    {
      "cell_type": "code",
      "metadata": {
        "colab": {
          "base_uri": "https://localhost:8080/"
        },
        "id": "G8pbROXBcnYM",
        "outputId": "5eac9b67-1e21-44d3-93be-71b5a6394d3b"
      },
      "source": [
        "type(data_lm.vocab.itos)"
      ],
      "execution_count": null,
      "outputs": [
        {
          "output_type": "execute_result",
          "data": {
            "text/plain": [
              "list"
            ]
          },
          "metadata": {
            "tags": []
          },
          "execution_count": 13
        }
      ]
    },
    {
      "cell_type": "code",
      "metadata": {
        "hidden": true,
        "id": "vW-p733sWpLy",
        "outputId": "94a67136-e736-4923-9aa1-d0df50eac9ac"
      },
      "source": [
        "data_lm.vocab.itos[:10]"
      ],
      "execution_count": null,
      "outputs": [
        {
          "output_type": "execute_result",
          "data": {
            "text/plain": [
              "['xxunk',\n",
              " 'xxpad',\n",
              " 'xxbos',\n",
              " 'xxeos',\n",
              " 'xxfld',\n",
              " 'xxmaj',\n",
              " 'xxup',\n",
              " 'xxrep',\n",
              " 'xxwrep',\n",
              " 'the']"
            ]
          },
          "metadata": {
            "tags": []
          },
          "execution_count": 7
        }
      ]
    },
    {
      "cell_type": "markdown",
      "metadata": {
        "hidden": true,
        "id": "3bod99J2WpLy"
      },
      "source": [
        "And if we look at what a what's in our datasets, we'll see the tokenized text as a representation:"
      ]
    },
    {
      "cell_type": "code",
      "metadata": {
        "colab": {
          "base_uri": "https://localhost:8080/"
        },
        "id": "BZ4wKNXpcyRb",
        "outputId": "5ec7efe5-087e-4521-efdc-c222d9085c66"
      },
      "source": [
        "type(data_lm.train_ds)"
      ],
      "execution_count": null,
      "outputs": [
        {
          "output_type": "execute_result",
          "data": {
            "text/plain": [
              "fastai.data_block.LabelList"
            ]
          },
          "metadata": {
            "tags": []
          },
          "execution_count": 14
        }
      ]
    },
    {
      "cell_type": "code",
      "metadata": {
        "colab": {
          "base_uri": "https://localhost:8080/"
        },
        "id": "uhwyUPmodkjg",
        "outputId": "67b95ef6-ec12-4af6-d6c3-0d49ba74a5b5"
      },
      "source": [
        "len(data_lm.train_ds)"
      ],
      "execution_count": null,
      "outputs": [
        {
          "output_type": "execute_result",
          "data": {
            "text/plain": [
              "799"
            ]
          },
          "metadata": {
            "tags": []
          },
          "execution_count": 10
        }
      ]
    },
    {
      "cell_type": "code",
      "metadata": {
        "colab": {
          "base_uri": "https://localhost:8080/"
        },
        "id": "iMu-3uxsdAbr",
        "outputId": "f3021a9d-7ae8-4fae-8b55-f6968e20f0d9"
      },
      "source": [
        "data_lm.train_ds[0]"
      ],
      "execution_count": null,
      "outputs": [
        {
          "output_type": "execute_result",
          "data": {
            "text/plain": [
              "(Text [   2    5  108   14 ...   16   82 6040   10], Category 0)"
            ]
          },
          "metadata": {
            "tags": []
          },
          "execution_count": 18
        }
      ]
    },
    {
      "cell_type": "code",
      "metadata": {
        "id": "wZhlotE3dhE6"
      },
      "source": [
        ""
      ],
      "execution_count": null,
      "outputs": []
    },
    {
      "cell_type": "code",
      "metadata": {
        "hidden": true,
        "id": "Wc36ve6sWpLy",
        "outputId": "f5335c00-b661-4c65-ed87-ab02e9309dd2"
      },
      "source": [
        "data_lm.train_ds[0][0]"
      ],
      "execution_count": null,
      "outputs": [
        {
          "output_type": "execute_result",
          "data": {
            "text/plain": [
              "Text xxbos xxmaj this movie is so bad , i knew how it ends right after this little girl killed the first person . xxmaj very bad acting very bad plot very bad movie \n",
              " \n",
              "  do yourself a favour and xxup don't watch it 1 / 10"
            ]
          },
          "metadata": {
            "tags": []
          },
          "execution_count": 8
        }
      ]
    },
    {
      "cell_type": "code",
      "metadata": {
        "colab": {
          "base_uri": "https://localhost:8080/"
        },
        "id": "54rEdXQyd5fA",
        "outputId": "fca3dd9b-a3ab-4558-975c-0decf67c254f"
      },
      "source": [
        "data_lm.train_ds[0][1]"
      ],
      "execution_count": null,
      "outputs": [
        {
          "output_type": "execute_result",
          "data": {
            "text/plain": [
              "Category 0"
            ]
          },
          "metadata": {
            "tags": []
          },
          "execution_count": 21
        }
      ]
    },
    {
      "cell_type": "markdown",
      "metadata": {
        "hidden": true,
        "id": "dYDYqxmHWpLy"
      },
      "source": [
        "But the underlying data is all numbers"
      ]
    },
    {
      "cell_type": "code",
      "metadata": {
        "hidden": true,
        "id": "YNnkfe7VWpLy",
        "outputId": "d69ce6d9-ed02-47f6-891d-392ab3b4d7c9"
      },
      "source": [
        "data_lm.train_ds[0][0].data[:10]"
      ],
      "execution_count": null,
      "outputs": [
        {
          "output_type": "execute_result",
          "data": {
            "text/plain": [
              "array([  2,   5,  21,  31,  16,  52, 107,  10,  19, 669], dtype=int64)"
            ]
          },
          "metadata": {
            "tags": []
          },
          "execution_count": 9
        }
      ]
    },
    {
      "cell_type": "markdown",
      "metadata": {
        "heading_collapsed": true,
        "hidden": true,
        "id": "U00LpR6yWpLy"
      },
      "source": [
        "### Alternative approach: with the `data block API`"
      ]
    },
    {
      "cell_type": "markdown",
      "metadata": {
        "hidden": true,
        "id": "kpkB2eQlWpLy"
      },
      "source": [
        "We can use the data block API with NLP and have a lot more flexibility than what the default factory methods offer. In the previous example for instance, the data was randomly split between train and validation instead of reading the third column of the csv.\n",
        "\n",
        "With the data block API though, we have to manually call the tokenize and numericalize steps. This allows more flexibility, and if you're not using the defaults from fastai, the various arguments to pass will appear in the step they're revelant, so it'll be more readable."
      ]
    },
    {
      "cell_type": "markdown",
      "metadata": {
        "id": "-wI1qWxmWpLz"
      },
      "source": [
        "### Load and preprocess the data and form a `datablock`\n",
        "Add workaround for the bug in the `fastai Text API`"
      ]
    },
    {
      "cell_type": "code",
      "metadata": {
        "hidden": true,
        "colab": {
          "base_uri": "https://localhost:8080/",
          "height": 193
        },
        "id": "pUZ_FePuWpLz",
        "outputId": "ec4f448f-9530-49ed-fd16-3d4ba09dde02"
      },
      "source": [
        "%%time\n",
        "\n",
        "# throws `BrokenProcessPool' Error sometimes. Keep trying `till it works!\n",
        "count = 0\n",
        "error = True\n",
        "while error:\n",
        "    try: \n",
        "        # Preprocessing steps\n",
        "        data = (TextList.from_csv(path, 'texts.csv', cols='text')\n",
        "                .split_from_df(col=2)\n",
        "                .label_from_df(cols=0)\n",
        "                .databunch())        \n",
        "        error = False\n",
        "        print(f'failure count is {count}\\n')    \n",
        "    except: # catch *all* exceptions\n",
        "        # accumulate failure count\n",
        "        count = count + 1\n",
        "        print(f'failure count is {count}')"
      ],
      "execution_count": null,
      "outputs": [
        {
          "output_type": "display_data",
          "data": {
            "text/html": [
              ""
            ],
            "text/plain": [
              "<IPython.core.display.HTML object>"
            ]
          },
          "metadata": {
            "tags": []
          }
        },
        {
          "output_type": "stream",
          "text": [
            "/usr/local/lib/python3.7/dist-packages/fastai/core.py:302: VisibleDeprecationWarning: Creating an ndarray from ragged nested sequences (which is a list-or-tuple of lists-or-tuples-or ndarrays with different lengths or shapes) is deprecated. If you meant to do this, you must specify 'dtype=object' when creating the ndarray\n",
            "  return np.array(a, dtype=dtype, **kwargs)\n"
          ],
          "name": "stderr"
        },
        {
          "output_type": "display_data",
          "data": {
            "text/html": [
              ""
            ],
            "text/plain": [
              "<IPython.core.display.HTML object>"
            ]
          },
          "metadata": {
            "tags": []
          }
        },
        {
          "output_type": "stream",
          "text": [
            "failure count is 0\n",
            "\n",
            "CPU times: user 427 ms, sys: 80.5 ms, total: 508 ms\n",
            "Wall time: 36.3 s\n"
          ],
          "name": "stdout"
        },
        {
          "output_type": "stream",
          "text": [
            "/usr/local/lib/python3.7/dist-packages/numpy/core/_asarray.py:83: VisibleDeprecationWarning: Creating an ndarray from ragged nested sequences (which is a list-or-tuple of lists-or-tuples-or ndarrays with different lengths or shapes) is deprecated. If you meant to do this, you must specify 'dtype=object' when creating the ndarray\n",
            "  return array(a, dtype, copy=False, order=order)\n",
            "<string>:6: VisibleDeprecationWarning: Creating an ndarray from ragged nested sequences (which is a list-or-tuple of lists-or-tuples-or ndarrays with different lengths or shapes) is deprecated. If you meant to do this, you must specify 'dtype=object' when creating the ndarray\n"
          ],
          "name": "stderr"
        }
      ]
    },
    {
      "cell_type": "code",
      "metadata": {
        "colab": {
          "base_uri": "https://localhost:8080/"
        },
        "id": "a9TE5-D9gYQO",
        "outputId": "76743697-59e0-491f-ca14-4bdaff5f66b4"
      },
      "source": [
        "len(data.items)"
      ],
      "execution_count": null,
      "outputs": [
        {
          "output_type": "execute_result",
          "data": {
            "text/plain": [
              "800"
            ]
          },
          "metadata": {
            "tags": []
          },
          "execution_count": 12
        }
      ]
    },
    {
      "cell_type": "markdown",
      "metadata": {
        "id": "CVQ7HoApWpLz"
      },
      "source": [
        "## 2. Transfer Learning <br>\n",
        "### We are going to create an `IMDb` language model starting with the pretrained weights from the `wikitext-103` language model."
      ]
    },
    {
      "cell_type": "markdown",
      "metadata": {
        "id": "dsBDlFoJWpLz"
      },
      "source": [
        "Now let's grab the full `IMDb` dataset for what follows."
      ]
    },
    {
      "cell_type": "code",
      "metadata": {
        "colab": {
          "base_uri": "https://localhost:8080/"
        },
        "id": "g1fWronFWpLz",
        "outputId": "e692035d-6b36-49e5-cddc-23b21eab598e"
      },
      "source": [
        "path = untar_data(URLs.IMDB,dest='/content/data')\n",
        "path.ls()"
      ],
      "execution_count": 16,
      "outputs": [
        {
          "output_type": "execute_result",
          "data": {
            "text/plain": [
              "[PosixPath('/content/data/imdb/imdb.vocab'),\n",
              " PosixPath('/content/data/imdb/README'),\n",
              " PosixPath('/content/data/imdb/train'),\n",
              " PosixPath('/content/data/imdb/unsup'),\n",
              " PosixPath('/content/data/imdb/test'),\n",
              " PosixPath('/content/data/imdb/tmp_lm'),\n",
              " PosixPath('/content/data/imdb/tmp_clas')]"
            ]
          },
          "metadata": {
            "tags": []
          },
          "execution_count": 16
        }
      ]
    },
    {
      "cell_type": "code",
      "metadata": {
        "id": "BVUvQIWgWpLz",
        "colab": {
          "base_uri": "https://localhost:8080/"
        },
        "outputId": "b27fea6b-33b4-4097-8ef1-f01b74e59949"
      },
      "source": [
        "(path/'train').ls()"
      ],
      "execution_count": null,
      "outputs": [
        {
          "output_type": "execute_result",
          "data": {
            "text/plain": [
              "[PosixPath('/content/data/imdb/train/pos'),\n",
              " PosixPath('/content/data/imdb/train/labeledBow.feat'),\n",
              " PosixPath('/content/data/imdb/train/unsupBow.feat'),\n",
              " PosixPath('/content/data/imdb/train/neg')]"
            ]
          },
          "metadata": {
            "tags": []
          },
          "execution_count": 6
        }
      ]
    },
    {
      "cell_type": "markdown",
      "metadata": {
        "id": "k5LNaqgBWpL0"
      },
      "source": [
        "The reviews are in a training and test set following an imagenet structure. The only difference is that there is an `unsup` folder in `train` that contains the unlabelled data.\n",
        "\n",
        "We're not going to train a model that classifies the reviews from scratch. Like in computer vision, we'll use a model pretrained on a bigger dataset (a cleaned subset of wikipedia called [wikitext-103](https://s3.amazonaws.com/research.metamind.io/wikitext/wikitext-103-v1.zip)). That model has been trained to guess what the next word, its input being all the previous words. It has a recurrent structure and a hidden state that is updated each time it sees a new word. This hidden state thus contains information about the sentence up to that point.\n",
        "\n",
        "We are going to use that 'knowledge' of the English language to build our classifier, but first, like for computer vision, we need to fine-tune the pretrained model to our particular dataset. Because the English of the reviews left by people on IMDB isn't the same as the English of wikipedia, we'll need to adjust a little bit the parameters of our model. Plus there might be some words extremely common in that dataset that were barely present in wikipedia, and therefore might no be part of the vocabulary the model was trained on."
      ]
    },
    {
      "cell_type": "markdown",
      "metadata": {
        "heading_collapsed": true,
        "id": "K1u15sX-WpL0"
      },
      "source": [
        "### More about WikiText-103"
      ]
    },
    {
      "cell_type": "markdown",
      "metadata": {
        "hidden": true,
        "id": "CHAI_lwUWpL0"
      },
      "source": [
        "We will be using the `WikiText-103` dataset created by [Stephen Merity](https://smerity.com/) to pre-train a language model.\n",
        "\n",
        "To quote [Stephen's post](https://blog.einstein.ai/the-wikitext-long-term-dependency-language-modeling-dataset/):\n",
        "\n",
        "*The WikiText language modeling dataset is a collection of over 100 million tokens extracted from the set of verified Good and Featured articles on Wikipedia. The dataset is available under the Creative Commons Attribution-ShareAlike License.*\n",
        "\n",
        "*Compared to the preprocessed version of Penn Treebank (PTB), WikiText-2 is over 2 times larger and WikiText-103 is over 110 times larger. The WikiText dataset also features a far larger vocabulary and retains the original case, punctuation and numbers - all of which are removed in PTB. As it is composed of full articles, the dataset is well suited for models that can take advantage of long term dependencies.*"
      ]
    },
    {
      "cell_type": "markdown",
      "metadata": {
        "id": "CifM1kqYWpL0"
      },
      "source": [
        "[Download wikitext-103](https://s3.amazonaws.com/research.metamind.io/wikitext/wikitext-103-v1.zip). Unzip it into the `.fastai/data/` folder on your computer."
      ]
    },
    {
      "cell_type": "markdown",
      "metadata": {
        "heading_collapsed": true,
        "id": "90Mk2JCfWpL0"
      },
      "source": [
        "### 2A. Package the `IMDb` data into a language model `databunch`"
      ]
    },
    {
      "cell_type": "markdown",
      "metadata": {
        "hidden": true,
        "id": "xhxxa6jxWpL0"
      },
      "source": [
        "This is where the unlabelled data is going to be useful to us, as we can use it to fine-tune our model. Let's create our data object with the data block API (this takes a few minutes).\n",
        "\n",
        "We'll to use a special kind of `TextDataBunch` for the language model, that ignores the labels (that's why we put 0 everywhere), will shuffle the texts at each epoch before concatenating them all together (only for training; we don't shuffle for the validation set) and will send batches that read that text in order with targets that are the next word in the sentence.\n",
        "\n",
        "Add a `try-except` wrapper as a workaround for the bug in the `fastai Text API`"
      ]
    },
    {
      "cell_type": "code",
      "metadata": {
        "colab": {
          "base_uri": "https://localhost:8080/"
        },
        "id": "rK35gY7nAsSc",
        "outputId": "4386519c-2793-4a94-fcdd-1c350d744afa"
      },
      "source": [
        "path"
      ],
      "execution_count": null,
      "outputs": [
        {
          "output_type": "execute_result",
          "data": {
            "text/plain": [
              "PosixPath('/content/data/imdb')"
            ]
          },
          "metadata": {
            "tags": []
          },
          "execution_count": 14
        }
      ]
    },
    {
      "cell_type": "code",
      "metadata": {
        "hidden": true,
        "colab": {
          "base_uri": "https://localhost:8080/"
        },
        "id": "JUQf1xNgWpL1",
        "outputId": "262f0b5f-14e1-40db-f2fe-ca8c59021031"
      },
      "source": [
        "%%time\n",
        "\n",
        "# throws `BrokenProcessPool` Error sometimes. Keep trying `till it works!\n",
        "count = 0\n",
        "error = True\n",
        "while error:\n",
        "    try: \n",
        "        # The 1st step: Preprocessing steps\n",
        "        data_lm_full = (TextList.from_folder(path)\n",
        "           #Inputs: all the text files in path\n",
        "            .filter_by_folder(include=['train', 'test', 'unsup']) \n",
        "           # notebook 3-logreg-nb-imbd used .split_by_folder instead of .filter_by_folder\n",
        "            # and this took less time to run. Can we do the same here?\n",
        "           #We may have other temp folders that contain text files so we only keep what's in train and test\n",
        "            .split_by_rand_pct(0.1, seed=42))\n",
        "           #We randomly split and keep 10% (10,000 reviews) for validation\n",
        "            #.label_for_lm()           \n",
        "           #We want to make a language model so we label accordingly\n",
        "            #.databunch(bs=bs, num_workers=1))\n",
        "        error = False\n",
        "        print(f'failure count is {count}\\n')    \n",
        "    except: # catch *all* exceptions\n",
        "        # accumulate failure count\n",
        "        count = count + 1\n",
        "        print(f'failure count is {count}')"
      ],
      "execution_count": 17,
      "outputs": [
        {
          "output_type": "stream",
          "text": [
            "failure count is 0\n",
            "\n",
            "CPU times: user 1.49 s, sys: 43.4 ms, total: 1.53 s\n",
            "Wall time: 1.53 s\n"
          ],
          "name": "stdout"
        }
      ]
    },
    {
      "cell_type": "code",
      "metadata": {
        "colab": {
          "base_uri": "https://localhost:8080/"
        },
        "id": "andSamKqjF32",
        "outputId": "976cb61d-49f8-4e2c-befa-711e448d9d16"
      },
      "source": [
        "len(data_lm_full.vocab.itos)"
      ],
      "execution_count": null,
      "outputs": [
        {
          "output_type": "execute_result",
          "data": {
            "text/plain": [
              "60000"
            ]
          },
          "metadata": {
            "tags": []
          },
          "execution_count": 80
        }
      ]
    },
    {
      "cell_type": "code",
      "metadata": {
        "colab": {
          "base_uri": "https://localhost:8080/"
        },
        "id": "1I6HQdFYA876",
        "outputId": "9f468824-34bc-4209-bc4f-db9c0e7bac0a"
      },
      "source": [
        "len(data_lm_full.items)"
      ],
      "execution_count": null,
      "outputs": [
        {
          "output_type": "execute_result",
          "data": {
            "text/plain": [
              "90000"
            ]
          },
          "metadata": {
            "tags": []
          },
          "execution_count": 17
        }
      ]
    },
    {
      "cell_type": "code",
      "metadata": {
        "colab": {
          "base_uri": "https://localhost:8080/"
        },
        "id": "GodQT3qCCNI_",
        "outputId": "5bde5903-aa8c-4e40-fcc5-9d2eaec0e6ad"
      },
      "source": [
        "data_lm_full.train"
      ],
      "execution_count": null,
      "outputs": [
        {
          "output_type": "execute_result",
          "data": {
            "text/plain": [
              "LabelList (90000 items)\n",
              "x: LMTextList\n",
              "xxbos a film so insecure the xxunk perhaps hoped to milk an original film noir classic title , \" xxmaj farewell xxmaj my xxmaj lovely \" , thinking the gullible would assume it a remake . xxmaj the characters are so foul and unappealing that it deserved its cold reception when first released . xxmaj time only adds to it its absurdity . xxmaj having none of the guile , cinematography , desperation or despair of classic noir it relied instead on a convoluted and senseless crime plot that would have easily resulted in several arrests within hours . xxmaj as if that were n't enough it threw in an utterly sexless attempt at erotica in which at least one of the participants had n't bothered to bathe in several days . xxmaj this only made this mess all the more painful to watch . xxmaj find a good classic forties or fifties film noir instead of wasting two hours on this failure .,xxbos i had numerous problems with this film . \n",
              " \n",
              "  xxmaj it contains some basic factual information concerning quantum mechanics , which is fine . xxmaj although quantum physics has been around for over 50 years , the film presents this information in a grandiose way that seems to be saying : \" xxmaj are n't you just blown away by this ! \" xxmaj well , not really . xxmaj these are n't earth shattering revelations anymore . xxmaj at any rate , i was already familiar with quantum theory , and the fact that particles have to be described by wave equations , etc . is not new . \n",
              " \n",
              "  xxmaj the main problem i have with this movie , however , is the way these people use quantum theory as a way of providing a scientific basis for mysticism and spiritualism . i do n't have any serious problem with mysticism and spiritualism , but quantum mechanics does n't really have anything to do with these things , and it should be kept separate . xxmaj the people they interviewed for this movie start with the ideas of quantum theory and then make the leap to say that simply by thinking about something you can alter the matter around you , hence we should think positively so as to have a positive impact on the world and make our lives better . xxmaj the reasoning is completely ridiculous , and the conclusions do not logically follow from quantum theory . xxmaj for every so called \" expert \" that they interviewed for this film , there are scores of theoretically physicists who would completely disagree . xxmaj they would point out , quite rightly , that the unpredictability of the subatomic world does not lend support to mystical notions about our spiritual connectedness . \n",
              " \n",
              "  xxmaj it disturbs me that people are going to see this film and completely eat it up because it leaves them with a nice positive feeling . xxmaj the main thrust of the film is based on a total misinterpretation of quantum theory , and it is as bad in its reasoning as any attempt to justify organized religion with similar pseudo - scientific arguments . \n",
              " \n",
              "  xxmaj avoid this film . \n",
              " \n",
              "  xxmaj oh yeah . xxmaj at one point , one of the \" experts \" says that since throughout history most of the assumptions people have made about the world turned out to be false , therefore the assumptions we currently hold about the world are also likely to be false . xxmaj huh ? xxmaj that totally does not follow . xxmaj and even if it did , i do n't see how that helps his argument . i mean , if his ideas ever became common assumptions then i guess we would have to assume that they are false too , based on his own reasoning .,xxbos xxmaj being a slasher film aficionado , i typically will settle in to watch every slash movie that passes over my retinas , which sometimes does more harm than good to my brain , i will say . xxmaj while channel surfing the other night , xxmaj sleepaway xxmaj camp xxup ii happened to cross paths with me . xxmaj of course , i wanted to check it out , as i had heard of the xxmaj sleepaway xxmaj camp franchise , but have never actually seen any of them ( for shame , i know ) . i will note that since i have not seen the original , my criticism should probably not be taken too seriously , because perhaps what i think is wrong with it is totally intentional by the franchise 's own design . \n",
              " \n",
              "  xxmaj now i 'm assuming that the franchise of xxmaj sleepaway xxmaj camp is , in itself , a joke on itself . xxmaj hell , even the name comes off as an intentional joke . xxmaj sleep away camp ? xxmaj it 's good fun . i can appreciate the film for wanting to just put together something for pure camp horror value , but that 's about as far as i can go . xxmaj the acting in this movie made the cast of the original xxmaj friday the 13th look like thespians doing a rendition of xxmaj macbeth . xxmaj campy requires bad acting , but come on . xxmaj pamela xxmaj springsteen as the evil out - of - touch - with - reality killer did a better job of killing off my interest than she did killing off the entire cast . xxmaj as far as comedy goes , there were a few times where i chuckled , but it was few and far between . \n",
              " \n",
              "  xxmaj ultimately , xxup sac xxup ii is pretty boring , and i really did want to sleep away the camp . xxmaj the deaths are so obviously staged and fake that you can barely appreciate them . xxmaj if you 're looking for a slasher film comedy with good camp , i recommend xxmaj club xxmaj dread . xxmaj if your channel surfing takes you across this one , check and see what else is on .,xxbos xxmaj wow . xxmaj some movies just leave me speechless . xxmaj this was undeniably one of those movies . xxmaj when i left the theatre , not a single word came to my mouth . xxmaj all i had was an incredible urge to slam my head against the theatre wall to help me forget about the last hour and a half . xxmaj unfortunately , it did n't work . xxmaj honestly , this movie has nothing to recommend . xxmaj the humor was at the first grade level , at best , the acting was overly silly , and the plot was astronomically far - fetched . i xxunk pledge never to see an other movie starring xxmaj chris xxmaj kattan or any other cast - member of xxup snl .,xxbos xxmaj as a youth pastor i heard good things about this movie . xxmaj then i watched it . xxmaj the acting was n't the best . xxmaj that 's forgivable . xxmaj it 's the message that 's not : xxmaj give xxmaj jesus your life and everything will change - you 'll tackle better , make amazing catches , stop fumbling , start making touchdown passes , and even make the playoffs . xxmaj all because xxmaj jesus magically turns horrible undersized weaklings into xxmaj all - xxmaj american athletes . i laughed out loud when a coach quoted scripture to explain to the kicker why he was missing field goals . xxmaj but wait , that 's not all . xxmaj you 'll get a brand new truck , a $ 6000 raise , and you and your wife 's struggle with infertility will suddenly end in pregnancy - twice . xxup then you 'll win the state championship because xxmaj god helps a weakling kick the winning field goal 12 yards further than he 's ever kicked before - and into the wind , no less - all because \" xxmaj god wanted him to make it . \" xxmaj then you 'll win the state championship again the next year . xxmaj none of this good stuff would have happened if the team had n't chosen to follow xxmaj jesus will all their hearts . \n",
              " \n",
              "  xxmaj here 's what i took away from the movie : xxmaj god can do anything he wants to do whenever he wants to do it - and it 's all about making our lives better , easier , and more enjoyable . xxmaj he chooses his favorite team and helps them win games . xxmaj which bible is this story based on ? i 'll bet xxmaj saint xxmaj stephen wished he 'd known the keys to such a safe life before he was stoned to death . xxmaj someone should have made this movie before 10 of the 11 apostles were killed for following xxmaj jesus . xxmaj it would have saved them all a lot of trouble .\n",
              "y: LMLabelList\n",
              ",,,,\n",
              "Path: /content/data/imdb"
            ]
          },
          "metadata": {
            "tags": []
          },
          "execution_count": 28
        }
      ]
    },
    {
      "cell_type": "code",
      "metadata": {
        "colab": {
          "base_uri": "https://localhost:8080/"
        },
        "id": "qIDiXiLXCTaU",
        "outputId": "f54b67d3-45d9-4c08-9e3f-c97388d56ba8"
      },
      "source": [
        "data_lm_full.valid"
      ],
      "execution_count": null,
      "outputs": [
        {
          "output_type": "execute_result",
          "data": {
            "text/plain": [
              "TextList (10000 items)\n",
              "/content/data/imdb/unsup/30750_0.txt,/content/data/imdb/unsup/30024_0.txt,/content/data/imdb/train/pos/2944_10.txt,/content/data/imdb/unsup/4680_0.txt,/content/data/imdb/unsup/16856_0.txt\n",
              "Path: /content/data/imdb"
            ]
          },
          "metadata": {
            "tags": []
          },
          "execution_count": 21
        }
      ]
    },
    {
      "cell_type": "markdown",
      "metadata": {
        "id": "UqQpYAL2WpL1"
      },
      "source": [
        "#### the last two steps for preparing the dataset for the neural net."
      ]
    },
    {
      "cell_type": "code",
      "metadata": {
        "colab": {
          "base_uri": "https://localhost:8080/",
          "height": 139
        },
        "id": "guyI7kAVWpL1",
        "outputId": "7d97bb2c-b032-4fa5-c75e-b92213ec8698"
      },
      "source": [
        "%%time\n",
        "\n",
        "# throws `BrokenProcessPool' Error sometimes. Keep trying `till it works!\n",
        "count = 0\n",
        "error = True\n",
        "while error:\n",
        "    try: \n",
        "        # the 2nd step (labeling texts) and the 3rd step (batching for language model)\n",
        "        #     the these steps is the bottleneck (takes a long time)\n",
        "        data_lm = (data_lm_full.label_for_lm()           \n",
        "           #We want to make a language model so we label accordingly\n",
        "            .databunch(bs=bs, num_workers=1))\n",
        "        error = False\n",
        "        print(f'failure count is {count}\\n')    \n",
        "    except: # catch *all* exceptions\n",
        "        # accumulate failure count\n",
        "        count = count + 1\n",
        "        print(f'failure count is {count}')"
      ],
      "execution_count": 18,
      "outputs": [
        {
          "output_type": "display_data",
          "data": {
            "text/html": [
              ""
            ],
            "text/plain": [
              "<IPython.core.display.HTML object>"
            ]
          },
          "metadata": {
            "tags": []
          }
        },
        {
          "output_type": "stream",
          "text": [
            "/usr/local/lib/python3.7/dist-packages/fastai/core.py:302: VisibleDeprecationWarning: Creating an ndarray from ragged nested sequences (which is a list-or-tuple of lists-or-tuples-or ndarrays with different lengths or shapes) is deprecated. If you meant to do this, you must specify 'dtype=object' when creating the ndarray\n",
            "  return np.array(a, dtype=dtype, **kwargs)\n"
          ],
          "name": "stderr"
        },
        {
          "output_type": "display_data",
          "data": {
            "text/html": [
              ""
            ],
            "text/plain": [
              "<IPython.core.display.HTML object>"
            ]
          },
          "metadata": {
            "tags": []
          }
        },
        {
          "output_type": "stream",
          "text": [
            "failure count is 0\n",
            "\n",
            "CPU times: user 16.6 s, sys: 3.42 s, total: 20 s\n",
            "Wall time: 2min 38s\n"
          ],
          "name": "stdout"
        }
      ]
    },
    {
      "cell_type": "code",
      "metadata": {
        "hidden": true,
        "scrolled": true,
        "colab": {
          "base_uri": "https://localhost:8080/"
        },
        "id": "pZnR_hZDWpL1",
        "outputId": "102ada70-ae5e-4b83-cf2e-4dcdcc1464b1"
      },
      "source": [
        "len(data_lm.vocab.itos),len(data_lm.train_ds), len(data_lm.valid_ds)"
      ],
      "execution_count": 19,
      "outputs": [
        {
          "output_type": "execute_result",
          "data": {
            "text/plain": [
              "(60000, 90000, 10000)"
            ]
          },
          "metadata": {
            "tags": []
          },
          "execution_count": 19
        }
      ]
    },
    {
      "cell_type": "code",
      "metadata": {
        "id": "rbZ99lbBdUcg"
      },
      "source": [
        ""
      ],
      "execution_count": null,
      "outputs": []
    },
    {
      "cell_type": "code",
      "metadata": {
        "hidden": true,
        "colab": {
          "base_uri": "https://localhost:8080/",
          "height": 97
        },
        "id": "ZP_uGJDrWpL1",
        "outputId": "a850490e-9b56-45f0-b7ac-28742fa0ac1d"
      },
      "source": [
        "data_lm.show_batch(1)"
      ],
      "execution_count": 20,
      "outputs": [
        {
          "output_type": "display_data",
          "data": {
            "text/html": [
              "<table border=\"1\" class=\"dataframe\">\n",
              "  <thead>\n",
              "    <tr style=\"text-align: right;\">\n",
              "      <th>idx</th>\n",
              "      <th>text</th>\n",
              "    </tr>\n",
              "  </thead>\n",
              "  <tbody>\n",
              "    <tr>\n",
              "      <td>0</td>\n",
              "      <td>movie is a mile a minute . xxmaj it 's basically a big excuse to have fun , and i 'm sure that you will . xxmaj bullied freshmen ? xxmaj check . a dorky music teacher ( xxmaj paul xxmaj bartel , also from \" xxmaj eating xxmaj raoul \" * ) ? xxmaj check . xxmaj exploding mice ? xxmaj xxunk . \\n \\n  xxmaj anyway ,</td>\n",
              "    </tr>\n",
              "  </tbody>\n",
              "</table>"
            ],
            "text/plain": [
              "<IPython.core.display.HTML object>"
            ]
          },
          "metadata": {
            "tags": []
          }
        }
      ]
    },
    {
      "cell_type": "code",
      "metadata": {
        "colab": {
          "base_uri": "https://localhost:8080/"
        },
        "id": "FVNgTWG8eWbp",
        "outputId": "9451c8d2-14f6-4d41-c551-3d43f2387ec2"
      },
      "source": [
        "x,y = data_lm.one_batch(DatasetType.Train)\n",
        "x"
      ],
      "execution_count": 24,
      "outputs": [
        {
          "output_type": "execute_result",
          "data": {
            "text/plain": [
              "tensor([[   22,     5, 13575,  ...,    12,    14,   287],\n",
              "        [ 5999,  2948,    24,  ...,     9,   111,  6088],\n",
              "        [ 2308,    11,    12,  ...,   174,    11,    17],\n",
              "        ...,\n",
              "        [   88,    36,    47,  ...,  9426,    10,     5],\n",
              "        [   63,     5,  1631,  ...,    47,    42,    99],\n",
              "        [   94,    50,  2127,  ...,   862,    11,    50]])"
            ]
          },
          "metadata": {
            "tags": []
          },
          "execution_count": 24
        }
      ]
    },
    {
      "cell_type": "code",
      "metadata": {
        "colab": {
          "base_uri": "https://localhost:8080/"
        },
        "id": "Kq8IGxveBanZ",
        "outputId": "850510b7-4ff6-40bf-8f55-6713d25a7370"
      },
      "source": [
        "y"
      ],
      "execution_count": 23,
      "outputs": [
        {
          "output_type": "execute_result",
          "data": {
            "text/plain": [
              "tensor([[  455,    14,   540,  ...,   162,    27,    22],\n",
              "        [    5,   347,    14,  ...,     9, 25733,  5999],\n",
              "        [32341,     5,  1228,  ...,     9,   239,  2308],\n",
              "        ...,\n",
              "        [   73,    13,  8943,  ...,    11,   155,    88],\n",
              "        [    5,    12,   116,  ...,     9,   502,    63],\n",
              "        [  125,   186,    10,  ...,     5, 36217,    94]])"
            ]
          },
          "metadata": {
            "tags": []
          },
          "execution_count": 23
        }
      ]
    },
    {
      "cell_type": "markdown",
      "metadata": {
        "id": "X9FqMd43WpL2"
      },
      "source": [
        "#### Load the saved data"
      ]
    },
    {
      "cell_type": "code",
      "metadata": {
        "id": "X5Rg6T7NWpL2"
      },
      "source": [
        "data_lm = load_data(path, 'lm_databunch', bs=bs)"
      ],
      "execution_count": 38,
      "outputs": []
    },
    {
      "cell_type": "code",
      "metadata": {
        "id": "jeZfA5YgVgo0"
      },
      "source": [
        "AWD_LSTM??"
      ],
      "execution_count": 39,
      "outputs": []
    },
    {
      "cell_type": "code",
      "metadata": {
        "id": "rQr2V9H_Ypdv"
      },
      "source": [
        "language_model_learner??"
      ],
      "execution_count": 40,
      "outputs": []
    },
    {
      "cell_type": "code",
      "metadata": {
        "id": "zIwsT4ytZpVu"
      },
      "source": [
        "LanguageLearner??\n",
        "# Init signature: LanguageLearner(*args, **kwargs)\n",
        "# Source:        \n",
        "# class LanguageLearner(RNNLearner):\n",
        "#     \"Subclass of RNNLearner for predictions.\"\n",
        "\n",
        "#     def predict(self, text:str, n_words:int=1, no_unk:bool=True, temperature:float=1., min_p:float=None, sep:str=' ',\n",
        "#                 decoder=decode_spec_tokens):\n",
        "#         \"Return `text` and the `n_words` that come after\"\n",
        "#         self.model.reset()\n",
        "#         xb,yb = self.data.one_item(text)\n",
        "#         new_idx = []\n",
        "#         for _ in range(n_words): #progress_bar(range(n_words), leave=False):\n",
        "#             res = self.pred_batch(batch=(xb,yb))[0][-1]\n",
        "#             #if len(new_idx) == 0: self.model[0].select_hidden([0])\n",
        "#             if no_unk: res[self.data.vocab.stoi[UNK]] = 0.\n",
        "#             if min_p is not None:\n",
        "#                 if (res >= min_p).float().sum() == 0:\n",
        "#                     warn(f\"There is no item with probability >= {min_p}, try a lower value.\")\n",
        "#                 else: res[res < min_p] = 0.\n",
        "#             if temperature != 1.: res.pow_(1 / temperature)\n",
        "#             idx = torch.multinomial(res, 1).item()\n",
        "#             new_idx.append(idx)\n",
        "#             xb = xb.new_tensor([idx])[None]\n",
        "#         return text + sep + sep.join(decoder(self.data.vocab.textify(new_idx, sep=None)))\n",
        "\n",
        "#     def beam_search(self, text:str, n_words:int, no_unk:bool=True, top_k:int=10, beam_sz:int=1000, temperature:float=1.,\n",
        "#                     sep:str=' ', decoder=decode_spec_tokens):\n",
        "#         \"Return the `n_words` that come after `text` using beam search.\"\n",
        "#         self.model.reset()\n",
        "#         self.model.eval()\n",
        "#         xb, yb = self.data.one_item(text)\n",
        "#         nodes = None\n",
        "#         nodes = xb.clone()\n",
        "#         scores = xb.new_zeros(1).float()\n",
        "#         with torch.no_grad():\n",
        "#             for k in progress_bar(range(n_words), leave=False):\n",
        "#                 out = F.log_softmax(self.model(xb)[0][:,-1], dim=-1)\n",
        "#                 if no_unk: out[:,self.data.vocab.stoi[UNK]] = -float('Inf')\n",
        "#                 values, indices = out.topk(top_k, dim=-1)\n",
        "#                 scores = (-values + scores[:,None]).view(-1)\n",
        "#                 indices_idx = torch.arange(0,nodes.size(0))[:,None].expand(nodes.size(0), top_k).contiguous().view(-1)\n",
        "#                 sort_idx = scores.argsort()[:beam_sz]\n",
        "#                 scores = scores[sort_idx]\n",
        "#                 nodes = torch.cat([nodes[:,None].expand(nodes.size(0),top_k,nodes.size(1)),\n",
        "#                                 indices[:,:,None].expand(nodes.size(0),top_k,1),], dim=2)\n",
        "#                 nodes = nodes.view(-1, nodes.size(2))[sort_idx]\n",
        "#                 self.model[0].select_hidden(indices_idx[sort_idx])\n",
        "#                 xb = nodes[:,-1][:,None]\n",
        "#         if temperature != 1.: scores.div_(temperature)\n",
        "#         node_idx = torch.multinomial(torch.exp(-scores), 1).item()\n",
        "#         return text + sep + sep.join(decoder(self.data.vocab.textify([i.item() for i in nodes[node_idx][1:] ], sep=None)))\n",
        "\n",
        "#     def show_results(self, ds_type=DatasetType.Valid, rows:int=5, max_len:int=20):\n",
        "#         from IPython.display import display, HTML\n",
        "#         \"Show `rows` result of predictions on `ds_type` dataset.\"\n",
        "#         ds = self.dl(ds_type).dataset\n",
        "#         x,y = self.data.one_batch(ds_type, detach=False, denorm=False)\n",
        "#         preds = self.pred_batch(batch=(x,y))\n",
        "#         y = y.view(*x.size())\n",
        "#         z = preds.view(*x.size(),-1).argmax(dim=2)\n",
        "#         xs = [ds.x.reconstruct(grab_idx(x, i)) for i in range(rows)]\n",
        "#         ys = [ds.x.reconstruct(grab_idx(y, i)) for i in range(rows)]\n",
        "#         zs = [ds.x.reconstruct(grab_idx(z, i)) for i in range(rows)]\n",
        "#         items,names = [],['text', 'target', 'pred']\n",
        "#         for i, (x,y,z) in enumerate(zip(xs,ys,zs)):\n",
        "#             txt_x = ' '.join(x.text.split(' ')[:max_len])\n",
        "#             txt_y = ' '.join(y.text.split(' ')[max_len-1:2*max_len-1])\n",
        "#             txt_z = ' '.join(z.text.split(' ')[max_len-1:2*max_len-1])\n",
        "#             items.append([txt_x, txt_y, txt_z])\n",
        "#         items = np.array(items)\n",
        "#         df = pd.DataFrame({n:items[:,i] for i,n in enumerate(names)}, columns=names)\n",
        "#         with pd.option_context('display.max_colwidth', pd_max_colwidth()):\n",
        "#             display(HTML(df.to_html(index=False)))\n",
        "# File:           /usr/local/lib/python3.7/dist-packages/fastai/text/learner.py\n",
        "# Type:           type"
      ],
      "execution_count": 41,
      "outputs": []
    },
    {
      "cell_type": "code",
      "metadata": {
        "id": "XOLc0goSvNhJ"
      },
      "source": [
        "get_language_model??"
      ],
      "execution_count": 42,
      "outputs": []
    },
    {
      "cell_type": "code",
      "metadata": {
        "id": "F5IEOAkzXBet"
      },
      "source": [
        ""
      ],
      "execution_count": 42,
      "outputs": []
    },
    {
      "cell_type": "markdown",
      "metadata": {
        "hidden": true,
        "id": "iqanZXA7WpL1"
      },
      "source": [
        "#### Save the `databunch` for next time."
      ]
    },
    {
      "cell_type": "code",
      "metadata": {
        "id": "zCEa6B60Xmjk"
      },
      "source": [
        "data_lm.save??\n"
      ],
      "execution_count": 35,
      "outputs": []
    },
    {
      "cell_type": "code",
      "metadata": {
        "colab": {
          "base_uri": "https://localhost:8080/"
        },
        "id": "QjC_7uscX-1z",
        "outputId": "82327f7f-3466-43ee-ca1b-a6c523d649eb"
      },
      "source": [
        "data_lm.path"
      ],
      "execution_count": 36,
      "outputs": [
        {
          "output_type": "execute_result",
          "data": {
            "text/plain": [
              "PosixPath('/content/data/imdb')"
            ]
          },
          "metadata": {
            "tags": []
          },
          "execution_count": 36
        }
      ]
    },
    {
      "cell_type": "code",
      "metadata": {
        "id": "KwMIVTMDWpL2"
      },
      "source": [
        "data_lm.save('lm_databunch')"
      ],
      "execution_count": 37,
      "outputs": []
    },
    {
      "cell_type": "markdown",
      "metadata": {
        "id": "ZMg-vzHNWpL2"
      },
      "source": [
        "### 2B. The **Transfer Learning** step.\n",
        "#### This is where the magic happens!\n",
        "#### The `AWD_LSTM` object contains the pretrained weights and the neural net architecture of the `wikitext-103` language model. These will be downloaded the first time you execute the following line, and stored in `~/.fastai/models/` (or elsewhere if you specified different paths in your config file). \n",
        "\n",
        "We import these into the `language_model_learner` object for our `IMDb` language model as follows:"
      ]
    },
    {
      "cell_type": "markdown",
      "metadata": {
        "id": "utqWqhWlDl_h"
      },
      "source": [
        "#Q4.\n",
        "In the following statement, what does AWD_LSTM refer to? What does data_lm refer to? When the following statement is executed, learn_lm is trained by using data_lm? "
      ]
    },
    {
      "cell_type": "code",
      "metadata": {
        "scrolled": true,
        "id": "uqgzBH9UWpL2"
      },
      "source": [
        "learn_lm = language_model_learner(data_lm, AWD_LSTM, drop_mult=0.3) #pretained=true"
      ],
      "execution_count": 43,
      "outputs": []
    },
    {
      "cell_type": "code",
      "metadata": {
        "colab": {
          "base_uri": "https://localhost:8080/"
        },
        "id": "HtZlF7vMagJp",
        "outputId": "baef76a0-1873-4dd1-8a83-2be5914622be"
      },
      "source": [
        "x,y = learn_lm .data.one_batch(DatasetType.Train)\n",
        "x,y"
      ],
      "execution_count": 44,
      "outputs": [
        {
          "output_type": "execute_result",
          "data": {
            "text/plain": [
              "(tensor([[   30,    16,    13,  ...,    11,    20,    16],\n",
              "         [  691,    12,    16,  ...,   267,    30,    12],\n",
              "         [  287,    18,     9,  ...,     5,  1383,    23],\n",
              "         ...,\n",
              "         [    9,   308,  4538,  ...,    65,    13,  1779],\n",
              "         [   13, 34362,    10,  ...,     9,  1176,    23],\n",
              "         [ 2556,    24,   238,  ...,    60,    17,    24]]),\n",
              " tensor([[   16,    13,  4139,  ...,    20,    16,     9],\n",
              "         [   12,    16,   577,  ...,    30,    12,    63],\n",
              "         [   18,     9,   674,  ...,  1383,    23,     5],\n",
              "         ...,\n",
              "         [  308,  4538, 16613,  ...,    13,  1779,  1278],\n",
              "         [34362,    10,     5,  ...,  1176,    23,    10],\n",
              "         [   24,   238,    31,  ...,    17,    24,   225]]))"
            ]
          },
          "metadata": {
            "tags": []
          },
          "execution_count": 44
        }
      ]
    },
    {
      "cell_type": "markdown",
      "metadata": {
        "id": "CVHIKY5DA0oM"
      },
      "source": [
        "#Q5.\n",
        "print the length of x; Print x[0] and x[47]. Print the length of x[0] and x[47].\n",
        "Based on the printed values, is the length of x the same as the value of some variable? If so, which variable? Why do you think that the length of x is the same as the value of the variable. What does the length of x[0] refer to? It is not defined by you but by the system.\n"
      ]
    },
    {
      "cell_type": "markdown",
      "metadata": {
        "id": "LASnytpeDeDJ"
      },
      "source": [
        ""
      ]
    },
    {
      "cell_type": "markdown",
      "metadata": {
        "id": "E8QByCNiEJF2"
      },
      "source": [
        "#Q6.\n",
        "Print the model (neural net) of learn_lm object. Except for Dropout layers, how many layers are there in the net?\n",
        "\n",
        "What does number 60000 refer to? What does number 400 refer to?\n",
        "What does Embedding layer, the first layer of the net,  do in the network?\n",
        "\n",
        "Why is the size of the input vector of the Embedding layer the same as the size of the output vector of the network?"
      ]
    },
    {
      "cell_type": "code",
      "metadata": {
        "colab": {
          "base_uri": "https://localhost:8080/"
        },
        "id": "zz_yeKqqDf4x",
        "outputId": "ed76eb26-b34b-4aa4-98e1-edb9d6d28524"
      },
      "source": [
        "learn_lm.model"
      ],
      "execution_count": 70,
      "outputs": [
        {
          "output_type": "execute_result",
          "data": {
            "text/plain": [
              "SequentialRNN(\n",
              "  (0): AWD_LSTM(\n",
              "    (encoder): Embedding(60000, 400, padding_idx=1)\n",
              "    (encoder_dp): EmbeddingDropout(\n",
              "      (emb): Embedding(60000, 400, padding_idx=1)\n",
              "    )\n",
              "    (rnns): ModuleList(\n",
              "      (0): WeightDropout(\n",
              "        (module): LSTM(400, 1152, batch_first=True)\n",
              "      )\n",
              "      (1): WeightDropout(\n",
              "        (module): LSTM(1152, 1152, batch_first=True)\n",
              "      )\n",
              "      (2): WeightDropout(\n",
              "        (module): LSTM(1152, 400, batch_first=True)\n",
              "      )\n",
              "    )\n",
              "    (input_dp): RNNDropout()\n",
              "    (hidden_dps): ModuleList(\n",
              "      (0): RNNDropout()\n",
              "      (1): RNNDropout()\n",
              "      (2): RNNDropout()\n",
              "    )\n",
              "  )\n",
              "  (1): LinearDecoder(\n",
              "    (decoder): Linear(in_features=400, out_features=60000, bias=True)\n",
              "    (output_dp): RNNDropout()\n",
              "  )\n",
              ")"
            ]
          },
          "metadata": {
            "tags": []
          },
          "execution_count": 70
        }
      ]
    },
    {
      "cell_type": "markdown",
      "metadata": {
        "id": "HJXkw97FGuae"
      },
      "source": [
        "#Q7.\n",
        "What would be the shape of the weight matrix of the Embedding layer in our neural net?\n",
        "\n",
        "We can say that the ith row of the weight matrix of the Embedding layer is the same as the word vector of the ith token. Explain why this is so."
      ]
    },
    {
      "cell_type": "markdown",
      "metadata": {
        "id": "J6CA9xANWpL-"
      },
      "source": [
        "#Q8.\n",
        "\n",
        "The following figures describes the process of merging the vocabulary  of the pretrained ULMFit language model and the vocabulary  of the new texts. The purpose is a create languge model neural net fine-tuned to the new texts.\n",
        "\n",
        "As we observed above, the information about the vocabulary is contained in the embedding weight matrix.  Each row of the embedding weight matrix corresponds to the word vector of a token in the vocabulary. \n",
        "\n",
        "When trying to fine-tuned a pretrained language model to new texts, \n",
        "the single embedding weight matrix should be constructed when the new learn object is created.  Show that you understand the process described by the diagram. Copying words does not help. Show that you really understand what is going on.\n",
        "\n",
        "![image.png](data:image/png;base64,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)"
      ]
    },
    {
      "cell_type": "code",
      "metadata": {
        "id": "OCyOtSDqWpL3"
      },
      "source": [
        "learn_lm.model[0]"
      ],
      "execution_count": null,
      "outputs": []
    },
    {
      "cell_type": "code",
      "metadata": {
        "id": "ynWd7dJVJI17"
      },
      "source": [
        "len(learn_lm.model)"
      ],
      "execution_count": null,
      "outputs": []
    },
    {
      "cell_type": "code",
      "metadata": {
        "id": "leoszkH5JOQ3"
      },
      "source": [
        "learn_lm.model[1]"
      ],
      "execution_count": null,
      "outputs": []
    },
    {
      "cell_type": "markdown",
      "metadata": {
        "id": "aLdnjs6sWpL3"
      },
      "source": [
        "#### Get the `IMDb` language model `encoder`. Recall that the `encoder` translates tokens into numerical vectors in the space defined by the `IMDb` vocabulary."
      ]
    },
    {
      "cell_type": "code",
      "metadata": {
        "id": "CQ91uJ5PWoJB"
      },
      "source": [
        "AWD_LSTM??"
      ],
      "execution_count": 52,
      "outputs": []
    },
    {
      "cell_type": "code",
      "metadata": {
        "colab": {
          "base_uri": "https://localhost:8080/"
        },
        "id": "s4eFVeKgW54W",
        "outputId": "31a9cbc5-b036-4928-9fc6-1b0d4bf2d4e6"
      },
      "source": [
        "awd_lstm = learn_lm.model[0]\n",
        "awd_lstm.encoder"
      ],
      "execution_count": 54,
      "outputs": [
        {
          "output_type": "execute_result",
          "data": {
            "text/plain": [
              "Embedding(60000, 400, padding_idx=1)"
            ]
          },
          "metadata": {
            "tags": []
          },
          "execution_count": 54
        }
      ]
    },
    {
      "cell_type": "code",
      "metadata": {
        "id": "K3RQkr5GWpL3"
      },
      "source": [
        "enc = learn_lm.model[0].encoder"
      ],
      "execution_count": 55,
      "outputs": []
    },
    {
      "cell_type": "code",
      "metadata": {
        "colab": {
          "base_uri": "https://localhost:8080/"
        },
        "id": "a7NoZRdtWpL3",
        "outputId": "d69eba4e-d4e2-43f3-a92f-9801e3c3a9ee"
      },
      "source": [
        "enc.weight.size()  #Encoder (= Embedder) weight matrix"
      ],
      "execution_count": 56,
      "outputs": [
        {
          "output_type": "execute_result",
          "data": {
            "text/plain": [
              "torch.Size([60000, 400])"
            ]
          },
          "metadata": {
            "tags": []
          },
          "execution_count": 56
        }
      ]
    },
    {
      "cell_type": "code",
      "metadata": {
        "colab": {
          "base_uri": "https://localhost:8080/"
        },
        "id": "GDckEzQafisk",
        "outputId": "c29b71a6-fd61-457e-b4ea-61838a850a80"
      },
      "source": [
        "enc.weight.shape"
      ],
      "execution_count": 57,
      "outputs": [
        {
          "output_type": "execute_result",
          "data": {
            "text/plain": [
              "torch.Size([60000, 400])"
            ]
          },
          "metadata": {
            "tags": []
          },
          "execution_count": 57
        }
      ]
    },
    {
      "cell_type": "markdown",
      "metadata": {
        "heading_collapsed": true,
        "id": "ktZkU-m_WpL7"
      },
      "source": [
        "#### Generating fake movie review-like text with the **untrained** `IMDb` language model"
      ]
    },
    {
      "cell_type": "code",
      "metadata": {
        "hidden": true,
        "id": "jIs3kPVtWpL7"
      },
      "source": [
        "TEXT = \"The color of the sky is\"\n",
        "N_WORDS = 40\n",
        "N_SENTENCES = 2"
      ],
      "execution_count": 72,
      "outputs": []
    },
    {
      "cell_type": "code",
      "metadata": {
        "hidden": true,
        "scrolled": false,
        "id": "tjJ2dWo4WpL7",
        "colab": {
          "base_uri": "https://localhost:8080/"
        },
        "outputId": "44455f86-64da-4741-9c75-560b5d3b8f66"
      },
      "source": [
        "print(\"\\n\".join(learn_lm.predict(TEXT, N_WORDS, temperature=0.75) for _ in range(N_SENTENCES)))"
      ],
      "execution_count": 73,
      "outputs": [
        {
          "output_type": "stream",
          "text": [
            "The color of the sky is a mixture of dark and dark color , and the color is used by many different artists , including Richard Daley and Michael Jackson . It is also the name of the fictional world of\n",
            "The color of the sky is shaped by a frame in the Sky Color Sky , a dark strip of blue , flat , or green . In order to keep away the sky 's skies , computer - generated imagery (\n"
          ],
          "name": "stdout"
        }
      ]
    },
    {
      "cell_type": "code",
      "metadata": {
        "hidden": true,
        "id": "sKeik19BWpL7"
      },
      "source": [
        "#learn_lm.predict(TEXT, N_WORDS..)  return TEXT  and the `n_words` that come after\"\n",
        "TEXT = \"I hated this movie\"\n",
        "N_WORDS = 30\n",
        "N_SENTENCES = 2"
      ],
      "execution_count": 74,
      "outputs": []
    },
    {
      "cell_type": "code",
      "metadata": {
        "hidden": true,
        "id": "XFCYfeLYWpL7",
        "colab": {
          "base_uri": "https://localhost:8080/"
        },
        "outputId": "e4184339-f4ac-4b3a-8140-5143db3be8dc"
      },
      "source": [
        "print(\"\\n\".join(learn_lm.predict(TEXT, N_WORDS, temperature=0.75) for _ in range(N_SENTENCES)))"
      ],
      "execution_count": 75,
      "outputs": [
        {
          "output_type": "stream",
          "text": [
            "I hated this movie . This was the first time in the history of what he called \" a straightforward pop culture \" . He was subsequently given the nickname \"\n",
            "I hated this movie and would not do it in his lifetime , but it was not a success . He certainly felt that it was a combination of a problem , a\n"
          ],
          "name": "stdout"
        }
      ]
    },
    {
      "cell_type": "markdown",
      "metadata": {
        "id": "CcgMNRpGFg7x"
      },
      "source": [
        "#Q7.\n",
        "Do you think that the next words predicted after \"I hated this movie?\" sounds reasonable? If not, why do you think it is not?"
      ]
    },
    {
      "cell_type": "code",
      "metadata": {
        "hidden": true,
        "scrolled": true,
        "colab": {
          "base_uri": "https://localhost:8080/"
        },
        "id": "v5jeG3t5WpL8",
        "outputId": "dfc67136-e679-42e5-e6c6-801b3c21f624"
      },
      "source": [
        "print(\"\\n\".join(learn_lm.predict(TEXT, N_WORDS, temperature=0.75) for _ in range(N_SENTENCES)))"
      ],
      "execution_count": 76,
      "outputs": [
        {
          "output_type": "stream",
          "text": [
            "I hated this movie as a film , as it was a film which was \" very scary \" . He commented that the \" evil \" character of the film made him\n",
            "I hated this movie : \" i was always doing a little like it . It was really a kind of entertainment . \" The film featured a \" good moment \"\n"
          ],
          "name": "stdout"
        }
      ]
    },
    {
      "cell_type": "code",
      "metadata": {
        "id": "0M4sQwGBw4Fa"
      },
      "source": [
        "learn_lm.predict??"
      ],
      "execution_count": null,
      "outputs": []
    },
    {
      "cell_type": "code",
      "metadata": {
        "hidden": true,
        "id": "6r9b-KxuWpL8"
      },
      "source": [
        "doc(LanguageLearner.predict)"
      ],
      "execution_count": null,
      "outputs": []
    },
    {
      "cell_type": "markdown",
      "metadata": {
        "id": "LDgtrpT8GKJi"
      },
      "source": [
        "#Q8.\n",
        "what happens to the prediction when you decrease the value of temperature parameter in learn_lm.predict?"
      ]
    },
    {
      "cell_type": "markdown",
      "metadata": {
        "hidden": true,
        "id": "fHRzDiqzWpL8"
      },
      "source": [
        "Lowering the `temperature` will make the texts less randomized."
      ]
    },
    {
      "cell_type": "code",
      "metadata": {
        "hidden": true,
        "scrolled": true,
        "colab": {
          "base_uri": "https://localhost:8080/"
        },
        "id": "piSxGrIUWpL8",
        "outputId": "089e9eb7-a7ee-4bb3-ee94-372d8810bcc1"
      },
      "source": [
        "print(\"\\n\".join(learn_lm.predict(TEXT, N_WORDS, temperature=0.10) for _ in range(N_SENTENCES)))"
      ],
      "execution_count": 77,
      "outputs": [
        {
          "output_type": "stream",
          "text": [
            "I hated this movie by James Cameron , Jr . , The King of Limbs , and The King of Limbs . He said\n",
            "I hated this movie by John Lennon , and he said , \" i ' m not sure what i ' m doing . It 's a bad thing . \"\n"
          ],
          "name": "stdout"
        }
      ]
    },
    {
      "cell_type": "code",
      "metadata": {
        "hidden": true,
        "id": "kc3l9K1_WpL8"
      },
      "source": [
        "doc(LanguageLearner.predict)"
      ],
      "execution_count": null,
      "outputs": []
    },
    {
      "cell_type": "code",
      "metadata": {
        "hidden": true,
        "id": "Q_Z8098iWpL8"
      },
      "source": [
        "print(\"\\n\".join(learn_lm.predict(TEXT, N_WORDS, temperature=0.10) for _ in range(N_SENTENCES)))"
      ],
      "execution_count": null,
      "outputs": []
    },
    {
      "cell_type": "markdown",
      "metadata": {
        "id": "mj4dB7eBWpL8"
      },
      "source": [
        "### 2C. Training (fine-tuning) the `IMDb` language model\n",
        "#### Starting with the `wikitext-103` pretrained weights, we'll fine-tune the model to \"learn\" the structure in the \"language\" of IMDb movie reviews."
      ]
    },
    {
      "cell_type": "markdown",
      "metadata": {
        "id": "ZueOwcGfWpL9"
      },
      "source": [
        "#### Choose an appropriate learning rate."
      ]
    },
    {
      "cell_type": "code",
      "metadata": {
        "colab": {
          "base_uri": "https://localhost:8080/",
          "height": 112
        },
        "id": "HcRmcue8WpL9",
        "outputId": "65d8208d-c564-4d1b-8e68-7b527b142725"
      },
      "source": [
        "learn_lm.lr_find()"
      ],
      "execution_count": 78,
      "outputs": [
        {
          "output_type": "display_data",
          "data": {
            "text/html": [
              "\n",
              "    <div>\n",
              "        <style>\n",
              "            /* Turns off some styling */\n",
              "            progress {\n",
              "                /* gets rid of default border in Firefox and Opera. */\n",
              "                border: none;\n",
              "                /* Needs to be in here for Safari polyfill so background images work as expected. */\n",
              "                background-size: auto;\n",
              "            }\n",
              "            .progress-bar-interrupted, .progress-bar-interrupted::-webkit-progress-bar {\n",
              "                background: #F44336;\n",
              "            }\n",
              "        </style>\n",
              "      <progress value='0' class='' max='1' style='width:300px; height:20px; vertical-align: middle;'></progress>\n",
              "      0.00% [0/1 00:00<00:00]\n",
              "    </div>\n",
              "    \n",
              "<table border=\"1\" class=\"dataframe\">\n",
              "  <thead>\n",
              "    <tr style=\"text-align: left;\">\n",
              "      <th>epoch</th>\n",
              "      <th>train_loss</th>\n",
              "      <th>valid_loss</th>\n",
              "      <th>accuracy</th>\n",
              "      <th>time</th>\n",
              "    </tr>\n",
              "  </thead>\n",
              "  <tbody>\n",
              "  </tbody>\n",
              "</table><p>\n",
              "\n",
              "    <div>\n",
              "        <style>\n",
              "            /* Turns off some styling */\n",
              "            progress {\n",
              "                /* gets rid of default border in Firefox and Opera. */\n",
              "                border: none;\n",
              "                /* Needs to be in here for Safari polyfill so background images work as expected. */\n",
              "                background-size: auto;\n",
              "            }\n",
              "            .progress-bar-interrupted, .progress-bar-interrupted::-webkit-progress-bar {\n",
              "                background: #F44336;\n",
              "            }\n",
              "        </style>\n",
              "      <progress value='99' class='' max='8060' style='width:300px; height:20px; vertical-align: middle;'></progress>\n",
              "      1.23% [99/8060 00:31<41:42 11.5857]\n",
              "    </div>\n",
              "    "
            ],
            "text/plain": [
              "<IPython.core.display.HTML object>"
            ]
          },
          "metadata": {
            "tags": []
          }
        },
        {
          "output_type": "stream",
          "text": [
            "LR Finder is complete, type {learner_name}.recorder.plot() to see the graph.\n"
          ],
          "name": "stdout"
        }
      ]
    },
    {
      "cell_type": "code",
      "metadata": {
        "colab": {
          "base_uri": "https://localhost:8080/",
          "height": 279
        },
        "id": "OSP0Pg0bWpL9",
        "outputId": "a32e78d6-4fb2-4edc-9649-36fd9b9a0e88"
      },
      "source": [
        "learn_lm.recorder.plot(skip_end=15)"
      ],
      "execution_count": 79,
      "outputs": [
        {
          "output_type": "display_data",
          "data": {
            "image/png": "[encoded data removed]",
            "text/plain": [
              "<Figure size 432x288 with 1 Axes>"
            ]
          },
          "metadata": {
            "tags": [],
            "needs_background": "light"
          }
        }
      ]
    },
    {
      "cell_type": "code",
      "metadata": {
        "id": "BWENhB89WpL9"
      },
      "source": [
        "lr = 1e-3\n",
        "lr *= bs/48"
      ],
      "execution_count": 80,
      "outputs": []
    },
    {
      "cell_type": "markdown",
      "metadata": {
        "id": "Dx_xqYbzWpL9"
      },
      "source": [
        "#### Use the mixed-precision option, if you have it, otherwise omit this step"
      ]
    },
    {
      "cell_type": "code",
      "metadata": {
        "id": "-N6x5dxSWpL9"
      },
      "source": [
        "learn_lm.to_fp16()"
      ],
      "execution_count": null,
      "outputs": []
    },
    {
      "cell_type": "markdown",
      "metadata": {
        "id": "-MuOkG_4WpL9"
      },
      "source": [
        "#### The first step in fine-tuning is to train only the last layer of the model. \n",
        "This takes about a half-hour on an NVIDIA RTX-2070 GPU"
      ]
    },
    {
      "cell_type": "code",
      "metadata": {
        "colab": {
          "base_uri": "https://localhost:8080/",
          "height": 80
        },
        "id": "pGvnToLWWpL9",
        "outputId": "ec31cbc4-c580-4437-de30-94878de9745f"
      },
      "source": [
        "learn_lm.fit_one_cycle(1, lr*10, moms=(0.8,0.7))"
      ],
      "execution_count": 82,
      "outputs": [
        {
          "output_type": "display_data",
          "data": {
            "text/html": [
              "<table border=\"1\" class=\"dataframe\">\n",
              "  <thead>\n",
              "    <tr style=\"text-align: left;\">\n",
              "      <th>epoch</th>\n",
              "      <th>train_loss</th>\n",
              "      <th>valid_loss</th>\n",
              "      <th>accuracy</th>\n",
              "      <th>time</th>\n",
              "    </tr>\n",
              "  </thead>\n",
              "  <tbody>\n",
              "    <tr>\n",
              "      <td>0</td>\n",
              "      <td>4.150118</td>\n",
              "      <td>3.551267</td>\n",
              "      <td>0.257143</td>\n",
              "      <td>43:19</td>\n",
              "    </tr>\n",
              "  </tbody>\n",
              "</table>"
            ],
            "text/plain": [
              "<IPython.core.display.HTML object>"
            ]
          },
          "metadata": {
            "tags": []
          }
        }
      ]
    },
    {
      "cell_type": "markdown",
      "metadata": {
        "id": "gGMOdzpiWpL-"
      },
      "source": [
        "Since this is relatively slow to train, we will save our weights:"
      ]
    },
    {
      "cell_type": "code",
      "metadata": {
        "id": "bOCPvoISWpL-"
      },
      "source": [
        "learn_lm.save('fit_1')"
      ],
      "execution_count": 83,
      "outputs": []
    },
    {
      "cell_type": "code",
      "metadata": {
        "colab": {
          "base_uri": "https://localhost:8080/"
        },
        "id": "OgLlzOVHWpL-",
        "outputId": "af234fed-12a1-4d8b-d6a1-8658eafd148b"
      },
      "source": [
        "learn_lm.load('fit_1')"
      ],
      "execution_count": 84,
      "outputs": [
        {
          "output_type": "execute_result",
          "data": {
            "text/plain": [
              "LanguageLearner(data=TextLMDataBunch;\n",
              "\n",
              "Train: LabelList (90000 items)\n",
              "x: LMTextList\n",
              "xxbos \" xxmaj rock ' n ' xxmaj roll xxmaj high xxmaj school \" will probably have to go down in history as the ultimate rebellious party flick . xxmaj portraying a bunch of high school students using the xxmaj ramones ' music as inspiration to rise up against their despotic principal ( xxmaj mary xxmaj woronov , of \" xxmaj eating xxmaj raoul \" fame ) , the whole movie is a mile a minute . xxmaj it 's basically a big excuse to have fun , and i 'm sure that you will . xxmaj bullied freshmen ? xxmaj check . a dorky music teacher ( xxmaj paul xxmaj bartel , also from \" xxmaj eating xxmaj raoul \" * ) ? xxmaj check . xxmaj exploding mice ? xxmaj xxunk . \n",
              " \n",
              "  xxmaj anyway , this is the sort of stuff that makes life worth living . xxmaj even for someone like me who does n't know the xxmaj ramones ' music , it 's pure pleasure . xxmaj with xxmaj roger xxmaj corman executive producing and xxmaj joe xxmaj dante co - directing , how could we expect anything less ? xxmaj too bad that director xxmaj allan xxmaj arkush later degenerated into fare such as \" xxmaj caddyshack xxup ii \" . \n",
              " \n",
              "  xxmaj also starring xxup p.j. xxmaj soles , xxmaj vincent xxmaj van xxmaj patten , xxmaj clint xxmaj howard , xxmaj dey xxmaj young , xxmaj dick xxmaj miller ( who has appeared in every one of xxmaj joe xxmaj dante 's movies , and many of xxmaj roger xxmaj corman 's ) , xxmaj don xxmaj steele , and of course the xxmaj ramones . a real treat . \n",
              " \n",
              "  * xxmaj it seems like xxmaj bartel and xxmaj woronov always co - starred . xxmaj they also co - starred in xxmaj joe xxmaj dante 's \" xxmaj hollywood xxmaj boulevard \" and the slasher flick \" xxmaj chopping xxmaj mall \" ( also starring xxmaj dick xxmaj xxunk ... in which they reprised their roles from \" xxmaj eating xxmaj raoul \" .,xxbos i really enjoyed this movie . xxmaj it took a pretty dark story - that of xxmaj shakespeare 's xxmaj xxunk and wrapped it in a quirky , often funny and poignant modern yarn . \n",
              " \n",
              "  xxmaj kudos to the way the filmmaker brought the very different worlds of modern xxup nyc and xxmaj macbeth 's xxmaj scotland together under one roof . xxmaj the opposing worlds act to \n",
              " \n",
              "  really bring out the intrigue and comedy of the play and you have to love xxmaj harold xxmaj perrineau as the xxmaj chorus , a part which does n't exist in the play but really helps to jazz things up . xxmaj the ending stands out among little indies i 've seen for it 's closure and originality .,xxbos xxmaj the cat and mouse are involved in the usual chases when xxmaj jerry dives into a bottle of invisible ink and discovers that it makes him vanish . xxmaj instead of seizing the opportunity to go spy on a girl mouse changing room or something , he uses his new - found invisibility to torment xxmaj tom . xxmaj and it 's pretty funny and quite inventive despite being a somewhat one - joke cartoon . xxmaj and the action never leaves the interior of the house , which is usually the trait of below average xxup t&j shorts . xxmaj still worth a 7 / 10 . \n",
              " \n",
              "  xxmaj however , i 'm not sure how an invisible mouse can cast a shadow on the wall , it defies physics and the very nature of being invisible itself .,xxbos xxmaj after \" a xxmaj dirty xxmaj shame \" , i never thought that i was going to see another xxmaj john xxmaj waters movie . xxmaj that movie was really so bad , that i was convinced that all his movies would be like that . xxmaj but when the xxup dvd of this movie was reviewed in a popular magazine and they said that this was an excellent movie , i decided to give it a try anyway . xxmaj only a couple of days later it was shown on television . i taped it out of curiosity and now that i 've seen it , i can tell you that this \" xxmaj pecker \" sure is a lot better than \" a xxmaj dirty xxmaj shame \" . \n",
              " \n",
              "  xxmaj in this movie we see how a young ' nobody ' from xxmaj baltimore becomes an overnight sensation in the art world of xxmaj new xxmaj york . xxmaj he 's a sandwich shop employee who photographs his weird family or things that he sees on the street as a hobby . xxmaj when he keeps his very first ' exhibition ' in the shop where he works , his pictures are noticed by a gallery owner who loves the pictures full of misery and weirdness . xxmaj his photographs are sold for enormous prices , but when he sees how his family , friends and strangers react to his success he decides that he will no longer go to xxmaj new xxmaj york , they will have to come to him if they want to see more of him . xxmaj and they do , but what they get to see there , is a bigger shock than they could ever imagine ... \n",
              " \n",
              "  xxmaj it 's not difficult to see why i loved this movie a lot more than \" a xxmaj dirty xxmaj shame \" . xxmaj the first reason is that this movie has an actual story . xxmaj this movie really has something to say and is n't just intended to shock as many people as possible . xxmaj the fact that they make fun of the art world who considers everything out of the ordinary as art because they do n't know what the reality is like , is n't just funny , it 's not that far from the truth either . i guess there are many people who feel about modern art that way . xxmaj nobody understands why they are making such a fuss about it , but apparently we are all supposed to like it . xxmaj the second reason why i liked this movie is because this one had much better acting performances to offer . i 'm not saying that everything that you will see is great , but at least the characters have some meaning thanks to the performances of the different actors like xxmaj edward xxmaj furlong , xxmaj christina xxmaj ricci , ... \n",
              " \n",
              "  xxmaj overall this is n't a great movie , but thanks to its criticism and some good jokes - which never really go too far - this is an enjoyable movie . xxmaj it certainly is n't the best comedy ever , but i liked it a lot more than \" a xxmaj dirty xxmaj shame \" . i give this movie a 6.5 / 10 .,xxbos xxmaj this period melodrama is one of xxmaj griffith 's earliest claustrophobic films . xxmaj characters trapped within a room are prevalent throughout his work and , as time went by , he would become increasingly adept at portraying their helplessness and involving the audience in their terror . xxmaj in the bluntly titled xxmaj sealed xxmaj room there is one major difference to the normal plot line , in that there truly is no escape . \n",
              " \n",
              "  xxmaj griffith achieves the claustrophobic effect here in two ways . xxmaj first is his use of space . xxmaj while the typical xxmaj biograph short might utilise a dozen or more sets , xxmaj the xxmaj sealed xxmaj room features only two adjoining rooms  the king 's court and the dove cote that becomes the eponymous tomb . xxmaj the set design in these shorts is rarely referenced , but here it is crucial . xxmaj the court is a large interior , with a backdrop hinting at greater depth and showing us a window and a staircase . xxmaj actors enter and leave from various directions , suggesting the room is not only spacious but also free and open . xxmaj by contrast the dove cote 's back wall is very close to the camera , and the angles in it suggesting a xxunk or xxunk shape make it seem even more confined . \n",
              " \n",
              "  xxmaj the second technique on display here is the cross - cutting . xxmaj anyone with an interest in xxmaj griffith 's work will probably know about his heavy use and development of cross - cutting to build excitement or tension . xxmaj many will also know that strictly speaking it was n't his invention . xxmaj however what makes xxmaj griffith 's cross - cuts so effective is the way he paces the opposing images so they complement each other . xxmaj the xxmaj sealed xxmaj room contains a good example of what i mean . xxmaj the shots of the masons shifting the heavy bricks have a slow , step - by - step pace to them , with tension building as the wall gets higher . xxmaj this movement is matched by the shots of the blissfully unaware lovers , in which xxmaj marion xxmaj leonard tears off flower petals one - by - one . xxmaj as the couple realise their predicament , their rising panic is complemented by the opposing shot of the king madly thrashing his sword against the wall . \n",
              " \n",
              "  xxmaj at this point , xxmaj griffith was yet to realise that the action could be heightened further by introducing a third strand to the cross - cut . xxmaj the dramatic \" ride - to - the - rescue \" , here absent , was later to become a standard climax to xxmaj griffith 's pictures .\n",
              "y: LMLabelList\n",
              ",,,,\n",
              "Path: /content/data/imdb;\n",
              "\n",
              "Valid: LabelList (10000 items)\n",
              "x: LMTextList\n",
              "xxbos xxmaj the way i found out about this movie was when i watched xxmaj american pie 2 , at the start it had a trailer for xxmaj ali g indahouse , i watched the trailer and it just forced me to buy the xxup dvd , it looked incredibly funny ! so the next day , i went to my local store and picked it up for £ 3.99 ( xxmaj bargain ! ) . xxmaj the film is about xxmaj ali g , who is a \" gangster \" of the west staines massive crew , who 's rivals are the east staines massive crew . xxmaj ali has a \" xxmaj cub xxmaj scout \" pack of children where he teaches them how to survive in the \" ghetto \" by teaching them how to swear and steal cars , after xxmaj ali finds out the government are stopping the money coming to the leisure centre where xxmaj ali teaches the kids , he runs for xxup mp for staines and xxunk another xxup mp in his attempts to get rid of the leisure centre to make room for an airport in staines . xxmaj throughout the film there are laughs aplenty as xxmaj ali gets up to some crazy stuff ! xxmaj borat makes an appearance for a few seconds in the film too , this is a definite must watch film for all you xxmaj sacha xxmaj baron xxmaj cohen fans out there !,xxbos xxmaj this xxmaj is one of my favourite westerns . xxmaj what a cast ! xxmaj glenn xxmaj ford plays his role xxmaj in his usual mild , controlled but firm manner . xxmaj ford plays one of the smaller ranchers xxmaj in the shadow of the mighty anchor ranch that wants to swallow up the whole territory . xxmaj edward g xxmaj robinson plays the crippled patriarch of the anchor ranch and xxmaj barbera xxmaj stanwyck plays his sly scheming wife . xxmaj there xxmaj is plenty of action xxmaj in this western that xxmaj is quite xxmaj impressive , the scenery xxmaj is delicious and the letterbox scope photography xxmaj is breath taking and the soundtrack xxmaj is stereo ! i would say that this western had a size - able budget xxmaj it looks expensive . xxmaj one of a series of great xxmaj glenn xxmaj ford westerns .,xxbos xxmaj when i first saw a glimpse of this movie , i quickly noticed the actress who was playing the role of xxmaj lucille xxmaj ball . xxmaj rachel xxmaj york 's portrayal of xxmaj lucy is absolutely awful . xxmaj lucille xxmaj ball was an astounding comedian with incredible talent . xxmaj to think about a legend like xxmaj lucille xxmaj ball being portrayed the way she was in the movie is horrendous . i can not believe out of all the actresses in the world who could play a much better xxmaj lucy , the producers decided to get xxmaj rachel xxmaj york . xxmaj she might be a good actress in other roles but to play the role of xxmaj lucille xxmaj ball is tough . xxmaj it is pretty hard to find someone who could resemble xxmaj lucille xxmaj ball , but they could at least find someone a bit similar in looks and talent . xxmaj if you noticed xxmaj york 's portrayal of xxmaj lucy in episodes of i xxmaj love xxmaj lucy like the chocolate factory or xxunk , nothing is similar in any way - her expression , voice , or movement . \n",
              " \n",
              "  xxmaj to top it all off , xxmaj danny xxmaj pino playing xxmaj desi xxmaj arnaz is horrible . xxmaj pino does not qualify to play as xxmaj ricky . xxmaj he 's small and skinny , his accent is unreal , and once again , his acting is unbelievable . xxmaj although xxmaj fred and xxmaj ethel were not similar either , they were not as bad as the characters of xxmaj lucy and xxmaj ricky . \n",
              " \n",
              "  xxmaj overall , extremely horrible casting and the story is badly told . xxmaj if people want to understand the real life situation of xxmaj lucille xxmaj ball , i suggest watching xxup a&e xxmaj biography of xxmaj lucy and xxmaj desi , read the book from xxmaj lucille xxmaj ball herself , or xxup pbs ' xxmaj american xxmaj masters : xxmaj finding xxmaj lucy . xxmaj if you want to see a docudrama , \" xxmaj before the xxmaj laughter \" would be a better choice . xxmaj the casting of xxmaj lucille xxmaj ball and xxmaj desi xxmaj arnaz in \" xxmaj before the xxmaj laughter \" is much better compared to this . xxmaj at least , a similar aspect is shown rather than nothing .,xxbos i watched this movie on xxup tcm last night , all excited expectation , having last seen it ( twice ) in its memorable 1957 release in xxmaj toronto . i told my wife , who had n't seen it before , to watch for the thrilling long tracking shot , no cuts , where xxmaj veronika is seen on a bus on her way to find her xxmaj boris . xxmaj in a hand - held frame that certainly predates the modern xxmaj steadicam , the shot then pulls back up and cranes ( pun unintended ) over the street as she exits the bus , and darts among the tanks to cross the road . xxup then i remember that , no cuts , we follow her up close to the fence as she peers through , anxiously looking for him , but does not find him . xxmaj but we do continue to follow xxmaj veronika as she searches the faces of harried recruits and their emotionally racked women , all extras , and each one a gem of riveting xxmaj xxunk behavior . xxmaj how , one wonders , did xxmaj kalatozov and his cameraman xxmaj urusevsky set up this extraordinary sequence . xxmaj but what did i see in this version ? xxmaj after crossing the street dodging the tanks , the scene abruptly ended , and cut back to scenes at the apartment , before continuing to the soldiers and their families at the fence . xxmaj seems to me that this film was not only restored , but also re - edited . xxmaj what a downer !,xxbos xxmaj get xxmaj smart should be titled xxmaj get xxmaj stupid . xxmaj there is not one funny line or gag in the entire film . xxmaj this film is so bad it makes the xxmaj austin xxmaj powers films look xxmaj shakespearean . a few more films like this and xxmaj steve xxmaj carell can kiss his career goodbye . xxmaj as for xxmaj anne xxmaj hathaway , what is she doing in this film ? xxmaj she 's a good actress but is just plain terrible . \n",
              " \n",
              "  xxmaj the writing is pathetically lame . xxmaj there is not one funny , clever , or witty line . xxmaj there is not one good sight gag . \n",
              " \n",
              "  xxmaj the directing is terrible . xxmaj comedy relies on timing . xxmaj someone should tell the director that . xxmaj every line that is supposed to be funny ( and is n't ) is delivered with absolutely the worst sense of comic timing i 've ever seen . \n",
              " \n",
              "  0 stars\n",
              "y: LMLabelList\n",
              ",,,,\n",
              "Path: /content/data/imdb;\n",
              "\n",
              "Test: None, model=SequentialRNN(\n",
              "  (0): AWD_LSTM(\n",
              "    (encoder): Embedding(60000, 400, padding_idx=1)\n",
              "    (encoder_dp): EmbeddingDropout(\n",
              "      (emb): Embedding(60000, 400, padding_idx=1)\n",
              "    )\n",
              "    (rnns): ModuleList(\n",
              "      (0): WeightDropout(\n",
              "        (module): LSTM(400, 1152, batch_first=True)\n",
              "      )\n",
              "      (1): WeightDropout(\n",
              "        (module): LSTM(1152, 1152, batch_first=True)\n",
              "      )\n",
              "      (2): WeightDropout(\n",
              "        (module): LSTM(1152, 400, batch_first=True)\n",
              "      )\n",
              "    )\n",
              "    (input_dp): RNNDropout()\n",
              "    (hidden_dps): ModuleList(\n",
              "      (0): RNNDropout()\n",
              "      (1): RNNDropout()\n",
              "      (2): RNNDropout()\n",
              "    )\n",
              "  )\n",
              "  (1): LinearDecoder(\n",
              "    (decoder): Linear(in_features=400, out_features=60000, bias=True)\n",
              "    (output_dp): RNNDropout()\n",
              "  )\n",
              "), opt_func=functools.partial(<class 'torch.optim.adam.Adam'>, betas=(0.9, 0.99)), loss_func=FlattenedLoss of CrossEntropyLoss(), metrics=[<function accuracy at 0x7f649879cb00>], true_wd=True, bn_wd=True, wd=0.01, train_bn=True, path=PosixPath('/content/data/imdb'), model_dir='models', callback_fns=[functools.partial(<class 'fastai.basic_train.Recorder'>, add_time=True, silent=False)], callbacks=[RNNTrainer\n",
              "learn: ...\n",
              "alpha: 2.0\n",
              "beta: 1.0], layer_groups=[Sequential(\n",
              "  (0): WeightDropout(\n",
              "    (module): LSTM(400, 1152, batch_first=True)\n",
              "  )\n",
              "  (1): RNNDropout()\n",
              "), Sequential(\n",
              "  (0): WeightDropout(\n",
              "    (module): LSTM(1152, 1152, batch_first=True)\n",
              "  )\n",
              "  (1): RNNDropout()\n",
              "), Sequential(\n",
              "  (0): WeightDropout(\n",
              "    (module): LSTM(1152, 400, batch_first=True)\n",
              "  )\n",
              "  (1): RNNDropout()\n",
              "), Sequential(\n",
              "  (0): Embedding(60000, 400, padding_idx=1)\n",
              "  (1): EmbeddingDropout(\n",
              "    (emb): Embedding(60000, 400, padding_idx=1)\n",
              "  )\n",
              "  (2): LinearDecoder(\n",
              "    (decoder): Linear(in_features=400, out_features=60000, bias=True)\n",
              "    (output_dp): RNNDropout()\n",
              "  )\n",
              ")], add_time=True, silent=False)"
            ]
          },
          "metadata": {
            "tags": []
          },
          "execution_count": 84
        }
      ]
    },
    {
      "cell_type": "code",
      "metadata": {
        "id": "5FWAkozpWpL-"
      },
      "source": [
        "learn_lm.unfreeze()"
      ],
      "execution_count": 85,
      "outputs": []
    },
    {
      "cell_type": "markdown",
      "metadata": {
        "id": "FIu2mtkrWpL-"
      },
      "source": [
        "Fine tuning the model takes ~30 minutes per epoch on an NVIDIA RTX-2070 GPU, with bs=48<br>\n",
        "Note the relatively low value of accuracy, which did not improve significantly beyond `epoch 4`."
      ]
    },
    {
      "cell_type": "code",
      "metadata": {
        "scrolled": false,
        "colab": {
          "base_uri": "https://localhost:8080/",
          "height": 95
        },
        "id": "_nqaQuApWpL-",
        "outputId": "b2a4db99-feb7-4404-bb8f-40fbdf9e80a3"
      },
      "source": [
        "learn_lm.fit_one_cycle(4, lr, moms=(0.8,0.7))"
      ],
      "execution_count": null,
      "outputs": [
        {
          "output_type": "display_data",
          "data": {
            "text/html": [
              "\n",
              "    <div>\n",
              "        <style>\n",
              "            /* Turns off some styling */\n",
              "            progress {\n",
              "                /* gets rid of default border in Firefox and Opera. */\n",
              "                border: none;\n",
              "                /* Needs to be in here for Safari polyfill so background images work as expected. */\n",
              "                background-size: auto;\n",
              "            }\n",
              "            .progress-bar-interrupted, .progress-bar-interrupted::-webkit-progress-bar {\n",
              "                background: #F44336;\n",
              "            }\n",
              "        </style>\n",
              "      <progress value='0' class='' max='4' style='width:300px; height:20px; vertical-align: middle;'></progress>\n",
              "      0.00% [0/4 00:00<00:00]\n",
              "    </div>\n",
              "    \n",
              "<table border=\"1\" class=\"dataframe\">\n",
              "  <thead>\n",
              "    <tr style=\"text-align: left;\">\n",
              "      <th>epoch</th>\n",
              "      <th>train_loss</th>\n",
              "      <th>valid_loss</th>\n",
              "      <th>accuracy</th>\n",
              "      <th>time</th>\n",
              "    </tr>\n",
              "  </thead>\n",
              "  <tbody>\n",
              "  </tbody>\n",
              "</table><p>\n",
              "\n",
              "    <div>\n",
              "        <style>\n",
              "            /* Turns off some styling */\n",
              "            progress {\n",
              "                /* gets rid of default border in Firefox and Opera. */\n",
              "                border: none;\n",
              "                /* Needs to be in here for Safari polyfill so background images work as expected. */\n",
              "                background-size: auto;\n",
              "            }\n",
              "            .progress-bar-interrupted, .progress-bar-interrupted::-webkit-progress-bar {\n",
              "                background: #F44336;\n",
              "            }\n",
              "        </style>\n",
              "      <progress value='2730' class='' max='8060' style='width:300px; height:20px; vertical-align: middle;'></progress>\n",
              "      33.87% [2730/8060 16:08<31:30 3.9143]\n",
              "    </div>\n",
              "    "
            ],
            "text/plain": [
              "<IPython.core.display.HTML object>"
            ]
          },
          "metadata": {
            "tags": []
          }
        }
      ]
    },
    {
      "cell_type": "markdown",
      "metadata": {
        "id": "1_c5GM_hWpL-"
      },
      "source": [
        "#### Save the fine-tuned **language model** and the **encoder**\n",
        "We have to save not just the `fine-tuned` **IMDb language model** but also its **encoder**. The **language model** is the part that tries to guess the next word. The **encoder** is the part that's responsible for creating and updating the hidden state. \n",
        "\n",
        "In the next part we will build a **sentiment classifier** for the IMDb movie reviews. To do this we will need the **encoder** from the **IMDb language model** that we built.\n",
        "\n",
        "\n",
        "#Q9. Explain why you do not need the whole language model network of IMDB, but only the \"encoder part\" for the purpose of creating a neural net to classify texts."
      ]
    },
    {
      "cell_type": "code",
      "metadata": {
        "id": "vSFiGgrIWpL_"
      },
      "source": [
        "learn_lm.save('fine_tuned')"
      ],
      "execution_count": null,
      "outputs": []
    },
    {
      "cell_type": "code",
      "metadata": {
        "id": "bHYWHFudWpL_"
      },
      "source": [
        "learn_lm.save_encoder('fine_tuned_enc')"
      ],
      "execution_count": null,
      "outputs": []
    },
    {
      "cell_type": "markdown",
      "metadata": {
        "heading_collapsed": true,
        "id": "gA7WKhwxWpL_"
      },
      "source": [
        "#### Load the saved **model** and its **encoder**"
      ]
    },
    {
      "cell_type": "code",
      "metadata": {
        "hidden": true,
        "id": "D4IorgzsWpL_"
      },
      "source": [
        "learn_lm.load('fine_tuned')"
      ],
      "execution_count": null,
      "outputs": []
    },
    {
      "cell_type": "markdown",
      "metadata": {
        "hidden": true,
        "id": "fUV7BKEAWpL_"
      },
      "source": [
        "Now that we've trained our model, different representations have been learned for the words that were in `IMDb` but not `wikitext-103` (remember that at the beginning we had initialized them all to the same thing):"
      ]
    },
    {
      "cell_type": "code",
      "metadata": {
        "hidden": true,
        "id": "9UDCooZXWpL_"
      },
      "source": [
        "enc = learn_lm.model[0].encoder"
      ],
      "execution_count": null,
      "outputs": []
    },
    {
      "cell_type": "code",
      "metadata": {
        "hidden": true,
        "id": "8TU4nxbYWpL_"
      },
      "source": [
        "np.allclose(enc.weight[vocab.stoi[\"30-something\"], :], \n",
        "            enc.weight[vocab.stoi[\"linklater\"], :])"
      ],
      "execution_count": null,
      "outputs": []
    },
    {
      "cell_type": "code",
      "metadata": {
        "hidden": true,
        "id": "T3zyUmGJWpMA"
      },
      "source": [
        "np.allclose(enc.weight[vocab.stoi[\"30-something\"], :], new_word_vec)"
      ],
      "execution_count": null,
      "outputs": []
    },
    {
      "cell_type": "markdown",
      "metadata": {
        "heading_collapsed": true,
        "id": "7PjbA4bqWpMA"
      },
      "source": [
        "#### Generate movie review-like text, with the **fine-tuned** ` IMDb` language model\n",
        "Compare these texts to the ones generated with the **untrained** `IMDb model` in part **2A**. Do they seem qualitatively better?"
      ]
    },
    {
      "cell_type": "markdown",
      "metadata": {
        "hidden": true,
        "id": "U_HbHUd0WpMA"
      },
      "source": [
        "How good is our fine-tuned IMDb language model? Well let's try to see what it predicts when given a phrase that might appear in a movie review."
      ]
    },
    {
      "cell_type": "code",
      "metadata": {
        "hidden": true,
        "id": "XVjXy6sVWpMA"
      },
      "source": [
        "TEXT = \"i liked this movie because\"\n",
        "N_WORDS = 40\n",
        "N_SENTENCES = 2"
      ],
      "execution_count": null,
      "outputs": []
    },
    {
      "cell_type": "code",
      "metadata": {
        "hidden": true,
        "id": "D4TTm9SUWpMA"
      },
      "source": [
        "print(\"\\n\".join(learn_lm.predict(TEXT, N_WORDS, temperature=0.75) for _ in range(N_SENTENCES)))"
      ],
      "execution_count": null,
      "outputs": []
    },
    {
      "cell_type": "code",
      "metadata": {
        "hidden": true,
        "id": "RSEUODjMWpMA"
      },
      "source": [
        "TEXT = \"This movie was\"\n",
        "N_WORDS = 30\n",
        "N_SENTENCES = 2"
      ],
      "execution_count": null,
      "outputs": []
    },
    {
      "cell_type": "code",
      "metadata": {
        "hidden": true,
        "id": "bun6UTwQWpMA"
      },
      "source": [
        "print(\"\\n\".join(learn_lm.predict(TEXT, N_WORDS, temperature=0.75) for _ in range(N_SENTENCES)))"
      ],
      "execution_count": null,
      "outputs": []
    },
    {
      "cell_type": "code",
      "metadata": {
        "hidden": true,
        "id": "p0YVymEeWpMA"
      },
      "source": [
        "TEXT = \"I hated this movie\"\n",
        "N_WORDS = 40\n",
        "N_SENTENCES = 2"
      ],
      "execution_count": null,
      "outputs": []
    },
    {
      "cell_type": "code",
      "metadata": {
        "hidden": true,
        "id": "RPfvD6YgWpMB"
      },
      "source": [
        "print(\"\\n\".join(learn_lm.predict(TEXT, N_WORDS, temperature=0.75) for _ in range(N_SENTENCES)))"
      ],
      "execution_count": null,
      "outputs": []
    },
    {
      "cell_type": "markdown",
      "metadata": {
        "id": "j9uRFC5Zc88x"
      },
      "source": [
        "#Q10.\n",
        "Do you think that the languge model of IMDB has improved? Guess what happened to the embedding weight matrix when the network was fine-tuned."
      ]
    },
    {
      "cell_type": "code",
      "metadata": {
        "id": "_MDjEXA3QEN2"
      },
      "source": [
        ""
      ],
      "execution_count": null,
      "outputs": []
    },
    {
      "cell_type": "markdown",
      "metadata": {
        "heading_collapsed": true,
        "id": "ccTUuzDWWpMB"
      },
      "source": [
        "#### Risks of language models"
      ]
    },
    {
      "cell_type": "markdown",
      "metadata": {
        "hidden": true,
        "id": "UJDg8msZWpMB"
      },
      "source": [
        "We will talk about ethical concerns raised by very accurate language models in lesson 7, but here are a few brief notes:\n",
        "\n",
        "In reference to [OpenAI's GPT-2](https://www.theverge.com/2019/2/14/18224704/ai-machine-learning-language-models-read-write-openai-gpt2): Jeremy Howard said, *I’ve been trying to warn people about this for a while. We have the technology to totally fill Twitter, email, and the web up with reasonable-sounding, context-appropriate prose, which would drown out all other speech and be impossible to filter.*\n",
        "\n",
        "For a small example, consider when completely incorrect (but reasonable sounding) ML generated answers were [posted to StackOverflow](https://meta.stackoverflow.com/questions/384596/completely-incorrect-machine-learning-generated-answers?stw=2):\n",
        "\n",
        "<img src=\"https://github.com/fastai/course-nlp/blob/master/images/robot-overflow.png?raw=1\" alt=\"Roboflow\" style=\"width: 80%\"/>"
      ]
    },
    {
      "cell_type": "markdown",
      "metadata": {
        "hidden": true,
        "id": "6LQiGfisWpMB"
      },
      "source": [
        "<img src=\"https://github.com/fastai/course-nlp/blob/master/images/husain-tweet.png?raw=1\" alt=\"Roboflow\" style=\"width: 60%\"/>"
      ]
    },
    {
      "cell_type": "markdown",
      "metadata": {
        "id": "7pXrzmNyWpMB"
      },
      "source": [
        "## 3. Building an `IMDb Sentiment Classifier`\n",
        "#### We'll now use **transfer learning** to create a `classifier`, again starting from the pretrained weights of the `wikitext-103` language model.  We'll also need the `IMDb language model` **encoder** that we saved previously. "
      ]
    },
    {
      "cell_type": "code",
      "metadata": {
        "id": "kEDjKyacO21b"
      },
      "source": [
        ""
      ],
      "execution_count": null,
      "outputs": []
    },
    {
      "cell_type": "markdown",
      "metadata": {
        "id": "6fhIRuY6WpMB"
      },
      "source": [
        "### 3A. Load and preprocess the data, and form a `databunch`\n",
        "Using fastai's flexible API, we will now create a different kind of `databunch` object, one that is suitable for a **classifier** rather than a for **language model** (as we did in **2A**). This time we'll keep the labels for the `IMDb` movie reviews data. \n",
        "\n",
        "Add the `try-except` wrapper workaround for the bug in the `fastai Text API`\n",
        "\n",
        "Here the batch size is decreased from 48 to 8, to avoid a `CUDA out of memory error`; your hardware may be able to handle a larger batch, in which case training will likely be faster.\n",
        "\n",
        "Again, this takes a bit of time."
      ]
    },
    {
      "cell_type": "code",
      "metadata": {
        "id": "bRL5PN6ZWpMB"
      },
      "source": [
        "bs=8"
      ],
      "execution_count": null,
      "outputs": []
    },
    {
      "cell_type": "code",
      "metadata": {
        "hidden": true,
        "id": "tq_Jee1bWpMB"
      },
      "source": [
        "%%time\n",
        "\n",
        "# throws `BrokenProcessPool' Error sometimes. Keep trying `till it works!\n",
        "#    the progress bar has to complete three consecutive steps. Why three? \n",
        "#    fails nearly 100 times, and doesn't respond to interrupt\n",
        "count = 0\n",
        "error = True\n",
        "while error:\n",
        "    try: \n",
        "        # Preprocessing steps\n",
        "        data_clas = (TextList.from_folder(path, vocab=data_lm.vocab)\n",
        "             #grab all the text files in path\n",
        "             .split_by_folder(valid='test')\n",
        "             #split by train and valid folder (that only keeps 'train' and 'test' so no need to filter)\n",
        "             .label_from_folder(classes=['neg', 'pos']))\n",
        "             #label them all with their folders\n",
        "             #.databunch(bs=bs, num_workers=1))\n",
        "        error = False\n",
        "        print(f'failure count is {count}\\n')   \n",
        "        \n",
        "    except: # catch *all* exceptions\n",
        "        # accumulate failure count\n",
        "        count = count + 1\n",
        "        print(f'failure count is {count}')"
      ],
      "execution_count": null,
      "outputs": []
    },
    {
      "cell_type": "markdown",
      "metadata": {
        "id": "SM-d9ZrlWpMC"
      },
      "source": [
        "#### Form the preprocessed data into a `databunch`"
      ]
    },
    {
      "cell_type": "code",
      "metadata": {
        "id": "yZvcYnFAWpMC"
      },
      "source": [
        "data_clas = data_clas.databunch(bs=bs, num_workers=1)"
      ],
      "execution_count": null,
      "outputs": []
    },
    {
      "cell_type": "markdown",
      "metadata": {
        "id": "4tqIx7KkWpMC"
      },
      "source": [
        "#### Save the databunch (since it took so long to make) and load it"
      ]
    },
    {
      "cell_type": "code",
      "metadata": {
        "id": "jcsj8mKUWpMC"
      },
      "source": [
        "data_clas.save('imdb_textlist_class')"
      ],
      "execution_count": null,
      "outputs": []
    },
    {
      "cell_type": "code",
      "metadata": {
        "id": "-6OvrPa-WpMC"
      },
      "source": [
        "data_clas = load_data(path, 'imdb_textlist_class', bs=bs, num_workers=1)"
      ],
      "execution_count": null,
      "outputs": []
    },
    {
      "cell_type": "code",
      "metadata": {
        "id": "_va3683sWpMC"
      },
      "source": [
        "data_clas.show_batch()"
      ],
      "execution_count": null,
      "outputs": []
    },
    {
      "cell_type": "markdown",
      "metadata": {
        "id": "PRT1EuBpWpMC"
      },
      "source": [
        "### 3B. Create a model to **classify** the `IMDb` reviews, and load the **encoder** we saved before.\n",
        "#### Freeze the weights for all but the last layer and find a good value for the learning rate. "
      ]
    },
    {
      "cell_type": "markdown",
      "metadata": {
        "id": "Y9QKZz5yQ6OH"
      },
      "source": [
        "#Q11.\n",
        "Explain how the databunch \"data_clas\" for text classification differs from the databunch \"data_lm\" for language model. You need to explain why \"data_lm\" can use all the texts under the three folders:\n",
        "['train', 'test', 'unsup'])"
      ]
    },
    {
      "cell_type": "code",
      "metadata": {
        "id": "KwsnJyMOQ5VL"
      },
      "source": [
        ""
      ],
      "execution_count": null,
      "outputs": []
    },
    {
      "cell_type": "code",
      "metadata": {
        "id": "1PmelbpTWpMD"
      },
      "source": [
        "learn_c = text_classifier_learner(data_clas, AWD_LSTM, drop_mult=0.3).to_fp16()\n",
        "learn_c.load_encoder('fine_tuned_enc')\n",
        "learn_c.freeze()"
      ],
      "execution_count": null,
      "outputs": []
    },
    {
      "cell_type": "code",
      "metadata": {
        "id": "yZQXBu-gWpMD"
      },
      "source": [
        "learn_c.lr_find()"
      ],
      "execution_count": null,
      "outputs": []
    },
    {
      "cell_type": "code",
      "metadata": {
        "id": "WCMswBLKWpMD"
      },
      "source": [
        "learn_c.recorder.plot()"
      ],
      "execution_count": null,
      "outputs": []
    },
    {
      "cell_type": "markdown",
      "metadata": {
        "id": "whTFJYxUWpMD"
      },
      "source": [
        "### 3C. Training and fine-tuning the `IMDb sentiment classifier`"
      ]
    },
    {
      "cell_type": "markdown",
      "metadata": {
        "id": "e1d1QHTcWpMD"
      },
      "source": [
        "#### Train for one cycle, save intermediate result"
      ]
    },
    {
      "cell_type": "code",
      "metadata": {
        "scrolled": false,
        "id": "Nwr1jvDDWpMD"
      },
      "source": [
        "learn_c.fit_one_cycle(1, 2e-2, moms=(0.8,0.7))"
      ],
      "execution_count": null,
      "outputs": []
    },
    {
      "cell_type": "code",
      "metadata": {
        "id": "QUPLLbsmWpMD"
      },
      "source": [
        "learn_c.save('first')"
      ],
      "execution_count": null,
      "outputs": []
    },
    {
      "cell_type": "code",
      "metadata": {
        "id": "yL7D1t2NWpMD"
      },
      "source": [
        "learn_c.load('first');"
      ],
      "execution_count": null,
      "outputs": []
    },
    {
      "cell_type": "markdown",
      "metadata": {
        "id": "0n8wUgHOWpME"
      },
      "source": [
        "#### Unfreeze last two layers and train for one cycle, save intermediate result."
      ]
    },
    {
      "cell_type": "code",
      "metadata": {
        "id": "E5mh2-_oWpME"
      },
      "source": [
        "learn_c.freeze_to(-2)\n",
        "learn_c.fit_one_cycle(1, slice(1e-2/(2.6**4),1e-2), moms=(0.8,0.7))"
      ],
      "execution_count": null,
      "outputs": []
    },
    {
      "cell_type": "code",
      "metadata": {
        "id": "0i1bux7jWpME"
      },
      "source": [
        "learn_c.save('2nd')"
      ],
      "execution_count": null,
      "outputs": []
    },
    {
      "cell_type": "markdown",
      "metadata": {
        "id": "3ClE4L0oWpME"
      },
      "source": [
        "#### Unfreeze the last three layers, and train for one cycle, and save intermediate result.\n",
        "At this point we've already beaten the 2017 (pre-transfer learning) state of the art!"
      ]
    },
    {
      "cell_type": "code",
      "metadata": {
        "id": "j3_Oxbg2WpME"
      },
      "source": [
        "learn_c.freeze_to(-3)\n",
        "learn_c.fit_one_cycle(1, slice(5e-3/(2.6**4),5e-3), moms=(0.8,0.7))"
      ],
      "execution_count": null,
      "outputs": []
    },
    {
      "cell_type": "code",
      "metadata": {
        "id": "Ea-YQtZrWpME"
      },
      "source": [
        "learn_c.save('3rd')"
      ],
      "execution_count": null,
      "outputs": []
    },
    {
      "cell_type": "code",
      "metadata": {
        "id": "Es2eEHysWpME"
      },
      "source": [
        "learn_c.load('3rd')"
      ],
      "execution_count": null,
      "outputs": []
    },
    {
      "cell_type": "markdown",
      "metadata": {
        "id": "hoDJrmW5WpMF"
      },
      "source": [
        "#### Unfreeze all the layers, train for two cycles, and save the result."
      ]
    },
    {
      "cell_type": "markdown",
      "metadata": {
        "id": "0T-9VV9nWpMF"
      },
      "source": [
        "Note: at this step I encountered a `CUDA error: unspecified launch failure`. This is a known (and unsolved) problem with PyTorch when using an LSTM. https://github.com/pytorch/pytorch/issues/27837\n",
        "\n",
        "Nothing to do but try again... and it worked on the second try."
      ]
    },
    {
      "cell_type": "code",
      "metadata": {
        "id": "sVXX9NtGWpMF"
      },
      "source": [
        "learn_c.unfreeze()\n",
        "learn_c.fit_one_cycle(2, slice(1e-3/(2.6**4),1e-3), moms=(0.8,0.7))"
      ],
      "execution_count": null,
      "outputs": []
    },
    {
      "cell_type": "markdown",
      "metadata": {
        "id": "pTImDNubWpMF"
      },
      "source": [
        "The state of the art for this dataset in 2017 was 94.1%, and we have crushed it!!!"
      ]
    },
    {
      "cell_type": "markdown",
      "metadata": {
        "id": "tVLTNm3JWpMF"
      },
      "source": [
        "#### Save the IMDb classifer model"
      ]
    },
    {
      "cell_type": "code",
      "metadata": {
        "id": "vss1Wfb_WpMF"
      },
      "source": [
        "learn_c.save('clas')"
      ],
      "execution_count": null,
      "outputs": []
    },
    {
      "cell_type": "markdown",
      "metadata": {
        "id": "F7rDiRtXWpMF"
      },
      "source": [
        "#### Let's look at a few examples, just to check that the classifier is working as we think it should. \n",
        "The three outputs of the model predition are the label (`pos` or `neg`) and the class probability estimates for `neg` and `pos`, which meausure the model's confidence in it's prediction. As we'd expect, the model is extremely confident that the first review is `pos` and quite confident that the second review is `neg`. So it passes the test with flying colors. \n",
        "\n",
        "\n",
        "#Q12.\n",
        "Construct three reviews of your own. Try to predict the class to each review belong?\n"
      ]
    },
    {
      "cell_type": "code",
      "metadata": {
        "id": "sumKirnCWpMF"
      },
      "source": [
        "learn_c.predict(\"I really loved that movie, it was awesome!\")"
      ],
      "execution_count": null,
      "outputs": []
    },
    {
      "cell_type": "code",
      "metadata": {
        "id": "qjikII5EWpMG"
      },
      "source": [
        "learn_c.predict(\"I didn't really love that movie, and I didn't think it was awesome.\")"
      ],
      "execution_count": null,
      "outputs": []
    },
    {
      "cell_type": "markdown",
      "metadata": {
        "id": "_HXU4mcJWpMG"
      },
      "source": [
        "#### Now that we've built the model, here is the part where you get to have some fun!! Take the model for a spin, try out your own examples!!"
      ]
    },
    {
      "cell_type": "markdown",
      "metadata": {
        "heading_collapsed": true,
        "id": "gmKY6f5AWpMG"
      },
      "source": [
        "## Appendix: Language Model Zoo"
      ]
    },
    {
      "cell_type": "markdown",
      "metadata": {
        "hidden": true,
        "id": "UXT5qc0KWpMG"
      },
      "source": [
        "fast.ai alumni have applied ULMFit to dozens of different languages, and have beat the SOTA in Thai, Polish, German, Indonesian, Hindi, & Malay.\n",
        "\n",
        "They share tips and best practices in [this forum thread](https://forums.fast.ai/t/language-model-zoo-gorilla/14623) in case you are interested in getting involved!\n",
        "\n",
        "<img src=\"https://github.com/fastai/course-nlp/blob/master/images/language_model_zoo.png?raw=1\" alt=\"language model zoo\" style=\"width: 80%\"/>"
      ]
    },
    {
      "cell_type": "code",
      "metadata": {
        "hidden": true,
        "id": "y1z8Np8eWpMG"
      },
      "source": [
        ""
      ],
      "execution_count": null,
      "outputs": []
    }
  ]
}