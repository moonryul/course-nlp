{
  "nbformat": 4,
  "nbformat_minor": 0,
  "metadata": {
    "colab": {
      "name": "Copy of RNNFromScratch.ipynb",
      "provenance": [],
      "authorship_tag": "ABX9TyN4RTaM07zgCzY1B9DtTAhQ",
      "include_colab_link": true
    },
    "kernelspec": {
      "name": "python3",
      "display_name": "Python 3"
    },
    "language_info": {
      "name": "python"
    },
    "accelerator": "GPU"
  },
  "cells": [
    {
      "cell_type": "markdown",
      "metadata": {
        "id": "view-in-github",
        "colab_type": "text"
      },
      "source": [
        "<a href=\"https://colab.research.google.com/github/moonryul/course-nlp/blob/master/Copy_of_RNNFromScratch.ipynb\" target=\"_parent\"><img src=\"https://colab.research.google.com/assets/colab-badge.svg\" alt=\"Open In Colab\"/></a>"
      ]
    },
    {
      "cell_type": "code",
      "execution_count": null,
      "metadata": {
        "colab": {
          "base_uri": "https://localhost:8080/"
        },
        "id": "htgD7lWjRJ1z",
        "outputId": "6f5cb17e-7062-46b7-ea8b-7d3c19f5870b"
      },
      "outputs": [
        {
          "output_type": "stream",
          "name": "stdout",
          "text": [
            "Populating the interactive namespace from numpy and matplotlib\n"
          ]
        }
      ],
      "source": [
        "%pylab inline\n",
        "import math\n",
        "import numpy as np"
      ]
    },
    {
      "cell_type": "code",
      "source": [
        "sin_wave = np.array( [math.sin(x) for x in np.arange(200)])"
      ],
      "metadata": {
        "id": "uAZmxdmNRXp9"
      },
      "execution_count": null,
      "outputs": []
    },
    {
      "cell_type": "code",
      "source": [
        "plt.plot( sin_wave[:50])"
      ],
      "metadata": {
        "colab": {
          "base_uri": "https://localhost:8080/",
          "height": 282
        },
        "id": "FUiZJ69mRsC0",
        "outputId": "cdc4c1a6-aeca-4ab4-d404-63b9e5e1ace8"
      },
      "execution_count": null,
      "outputs": [
        {
          "output_type": "execute_result",
          "data": {
            "text/plain": [
              "[<matplotlib.lines.Line2D at 0x7feba498d210>]"
            ]
          },
          "metadata": {},
          "execution_count": 5
        },
        {
          "output_type": "display_data",
          "data": {
            "image/png": "[encoded data removed]",
            "text/plain": [
              "<Figure size 432x288 with 1 Axes>"
            ]
          },
          "metadata": {
            "needs_background": "light"
          }
        }
      ]
    },
    {
      "cell_type": "code",
      "source": [
        "X = []\n",
        "Y = []\n",
        "\n",
        "seq_len = 50\n",
        "num_records = len(sin_wave) - seq_len\n",
        "\n",
        "for i in range(num_records - 50):\n",
        "    X.append(sin_wave[i:i+seq_len])\n",
        "    Y.append(sin_wave[i+seq_len])\n",
        "    print(\"X[{0}]={1}\".format(i,sin_wave[i:i+seq_len]) )\n",
        "    print(\"Y[{0}]={1}\".format(i,sin_wave[i+seq_len]) )\n",
        "    "
      ],
      "metadata": {
        "id": "xcJOAM3fR7Wb"
      },
      "execution_count": null,
      "outputs": []
    },
    {
      "cell_type": "code",
      "source": [
        "num_records"
      ],
      "metadata": {
        "colab": {
          "base_uri": "https://localhost:8080/"
        },
        "id": "4uN8VQQWVHJP",
        "outputId": "69bb109b-1c03-4afb-8874-d48c9844ae85"
      },
      "execution_count": null,
      "outputs": [
        {
          "output_type": "execute_result",
          "data": {
            "text/plain": [
              "150"
            ]
          },
          "metadata": {},
          "execution_count": 15
        }
      ]
    },
    {
      "cell_type": "code",
      "source": [
        "X = np.array(X)\n",
        "X.shape"
      ],
      "metadata": {
        "colab": {
          "base_uri": "https://localhost:8080/"
        },
        "id": "vzWSC-sXUwEI",
        "outputId": "43070d25-a97f-4d2f-f39b-afd5b9d4c356"
      },
      "execution_count": null,
      "outputs": [
        {
          "output_type": "execute_result",
          "data": {
            "text/plain": [
              "(100, 50)"
            ]
          },
          "metadata": {},
          "execution_count": 40
        }
      ]
    },
    {
      "cell_type": "code",
      "source": [
        ""
      ],
      "metadata": {
        "id": "DHlAn3POVeIW"
      },
      "execution_count": null,
      "outputs": []
    },
    {
      "cell_type": "code",
      "source": [
        "X = np.expand_dims(X, axis=2)\n",
        "X.shape"
      ],
      "metadata": {
        "colab": {
          "base_uri": "https://localhost:8080/"
        },
        "id": "7TFogC6gVXMm",
        "outputId": "62c27ab1-2032-4473-968d-a52b4a477196"
      },
      "execution_count": null,
      "outputs": [
        {
          "output_type": "execute_result",
          "data": {
            "text/plain": [
              "(100, 50, 1)"
            ]
          },
          "metadata": {},
          "execution_count": 41
        }
      ]
    },
    {
      "cell_type": "code",
      "source": [
        "Y = np.array(Y)\n",
        "Y = np.expand_dims(Y, axis=1)"
      ],
      "metadata": {
        "id": "ZYm133whSfQa"
      },
      "execution_count": null,
      "outputs": []
    },
    {
      "cell_type": "code",
      "source": [
        "Y.shape"
      ],
      "metadata": {
        "colab": {
          "base_uri": "https://localhost:8080/"
        },
        "id": "fkH72PPsV17M",
        "outputId": "ad6f2785-caa0-4a57-ec94-3dfee4540270"
      },
      "execution_count": null,
      "outputs": [
        {
          "output_type": "execute_result",
          "data": {
            "text/plain": [
              "(100, 1)"
            ]
          },
          "metadata": {},
          "execution_count": 43
        }
      ]
    },
    {
      "cell_type": "code",
      "source": [
        "X_val = []\n",
        "Y_val = []\n",
        "\n",
        "for i in range(num_records - 50, num_records):\n",
        "    X_val.append(sin_wave[i:i+seq_len])\n",
        "    Y_val.append(sin_wave[i+seq_len])\n",
        "    \n",
        "X_val = np.array(X_val)\n",
        "X_val = np.expand_dims(X_val, axis=2)\n",
        "\n",
        "Y_val = np.array(Y_val)\n",
        "Y_val = np.expand_dims(Y_val, axis=1)"
      ],
      "metadata": {
        "id": "Nal6expcWJrU"
      },
      "execution_count": null,
      "outputs": []
    },
    {
      "cell_type": "code",
      "source": [
        "learning_rate = 0.0001    \n",
        "nepoch = 25               \n",
        "T = 50                   # length of sequence\n",
        "hidden_dim = 100         \n",
        "output_dim = 1\n",
        "\n",
        "bptt_truncate = 5\n",
        "min_clip_value = -10\n",
        "max_clip_value = 10"
      ],
      "metadata": {
        "id": "fsZHKnhDWWh7"
      },
      "execution_count": null,
      "outputs": []
    },
    {
      "cell_type": "code",
      "source": [
        "U = np.random.uniform(0, 1, (hidden_dim, T))\n",
        "W = np.random.uniform(0, 1, (hidden_dim, hidden_dim))\n",
        "V = np.random.uniform(0, 1, (output_dim, hidden_dim))"
      ],
      "metadata": {
        "id": "xdTc3ls4YGCM"
      },
      "execution_count": null,
      "outputs": []
    },
    {
      "cell_type": "code",
      "source": [
        "U.shape"
      ],
      "metadata": {
        "colab": {
          "base_uri": "https://localhost:8080/"
        },
        "id": "rBQ4yu7DeYa0",
        "outputId": "1918b26f-bd7a-48ab-d640-8477020e91c0"
      },
      "execution_count": null,
      "outputs": [
        {
          "output_type": "execute_result",
          "data": {
            "text/plain": [
              "(100, 50)"
            ]
          },
          "metadata": {},
          "execution_count": 50
        }
      ]
    },
    {
      "cell_type": "code",
      "source": [
        "def sigmoid(x):\n",
        "    return 1 / (1 + np.exp(-x))"
      ],
      "metadata": {
        "id": "0-vaghjDYK3r"
      },
      "execution_count": null,
      "outputs": []
    },
    {
      "cell_type": "code",
      "source": [
        ""
      ],
      "metadata": {
        "id": "Nz1385egYtXp"
      },
      "execution_count": null,
      "outputs": []
    },
    {
      "cell_type": "code",
      "source": [
        "for epoch in range(nepoch):\n",
        "    # check loss on train\n",
        "    loss = 0.0\n",
        "    \n",
        "    # do a forward pass to get prediction\n",
        "    for i in range(Y.shape[0]): # Y.shape[0] = Batch dim\n",
        "        x, y = X[i], Y[i]                    # get input, output values of each record\n",
        "        #print(\"x.shape=\", x.shape)\n",
        "        #print(\"y.shape=\", y.shape)\n",
        "        prev_s = np.zeros((hidden_dim, 1))   # here, prev-s is the value of the previous activation of hidden layer; which is initialized as all zeroes\n",
        "        for t in range(T):\n",
        "            new_input = np.zeros(x.shape)    #x.shape = (50, 1):  we then do a forward pass for every timestep in the sequence\n",
        "            new_input[t] = x[t]              # for this, we define a single input for that timestep for the current batch\n",
        "            mulu = np.dot(U, new_input)      # new_input is a vector where only one place has a non-zero value\n",
        "            #print(\"new_input.shape=\", new_input.shape)\n",
        "            #print(\"mulu.shape=\", mulu.shape)\n",
        "            #print(\"At t = {0}: new_input={1}\".format(t, new_input) )\n",
        "            #print(\"mulu=\", mulu)\n",
        "            mulw = np.dot(W, prev_s) # mulu is a 100x1 matrix\n",
        "            add = mulw + mulu\n",
        "            s = sigmoid(add)\n",
        "            mulv = np.dot(V, s)\n",
        "            prev_s = s\n",
        "    # for i in range(Y.shape[0]): # Y.shape[0] = Batch dim\n",
        "    # calculate error \n",
        "        loss_per_record = (y - mulv)**2 / 2\n",
        "        loss += loss_per_record\n",
        "    loss = loss / float(y.shape[0])    "
      ],
      "metadata": {
        "id": "ap35PoWlY8Bo"
      },
      "execution_count": null,
      "outputs": []
    },
    {
      "cell_type": "code",
      "source": [
        "# check loss on val\n",
        "val_loss = 0.0\n",
        "for i in range(Y_val.shape[0]):\n",
        "        x, y = X_val[i], Y_val[i]\n",
        "        prev_s = np.zeros((hidden_dim, 1))\n",
        "        for t in range(T):\n",
        "            new_input = np.zeros(x.shape)\n",
        "            new_input[t] = x[t]\n",
        "            mulu = np.dot(U, new_input)\n",
        "            mulw = np.dot(W, prev_s)\n",
        "            add = mulw + mulu\n",
        "            s = sigmoid(add)\n",
        "            mulv = np.dot(V, s)\n",
        "            prev_s = s\n",
        "\n",
        "        loss_per_record = (y - mulv)**2 / 2\n",
        "        val_loss += loss_per_record\n",
        "val_loss = val_loss / float(y.shape[0])\n",
        "\n",
        "print('Epoch: ', epoch + 1, ', Loss: ', loss, ', Val Loss: ', val_loss)"
      ],
      "metadata": {
        "colab": {
          "base_uri": "https://localhost:8080/"
        },
        "id": "nRmbuO2YY71R",
        "outputId": "2599a067-c126-4b40-beb5-bbb4811f7c15"
      },
      "execution_count": null,
      "outputs": [
        {
          "output_type": "stream",
          "name": "stdout",
          "text": [
            "Epoch:  25 , Loss:  [[116709.64788441]] , Val Loss:  [[58352.92078119]]\n"
          ]
        }
      ]
    },
    {
      "cell_type": "markdown",
      "source": [
        ""
      ],
      "metadata": {
        "id": "xUfIUVkyWJbT"
      }
    },
    {
      "cell_type": "code",
      "source": [
        "for epoch in range(nepoch):\n",
        "    # check loss on train\n",
        "    loss = 0.0\n",
        "    \n",
        "# train model\n",
        "    for i in range(Y.shape[0]): # for each mini-batch\n",
        "\n",
        "        x, y = X[i], Y[i]\n",
        "    \n",
        "        layers = []\n",
        "        prev_s = np.zeros((hidden_dim, 1))\n",
        "        dU = np.zeros(U.shape)\n",
        "        dV = np.zeros(V.shape)\n",
        "        dW = np.zeros(W.shape)\n",
        "        \n",
        "        dU_t = np.zeros(U.shape)\n",
        "        dV_t = np.zeros(V.shape)\n",
        "        dW_t = np.zeros(W.shape)\n",
        "        \n",
        "        dU_i = np.zeros(U.shape)\n",
        "        dW_i = np.zeros(W.shape)\n",
        "        \n",
        "\n",
        "        # forward pass\n",
        "        for t in range(T):\n",
        "            new_input = np.zeros(x.shape)\n",
        "            new_input[t] = x[t] # one-hot input vector for each time step\n",
        "            mulu = np.dot(U, new_input)\n",
        "\n",
        "            mulw = np.dot(W, prev_s)\n",
        "            add = mulw + mulu\n",
        "            s = sigmoid(add)\n",
        "            mulv = np.dot(V, s)\n",
        "            layers.append({'s':s, 'prev_s':prev_s})\n",
        "\n",
        "            prev_s = s\n",
        "        #for t in range(T):  \n",
        "\n",
        "\n",
        "        # calculate error for the last output mulv\n",
        "        loss_per_record = (y - mulv)**2 / 2\n",
        "        loss += loss_per_record\n",
        "    \n",
        "   \n",
        "        # derivative of pred for the current mini-batch\n",
        "        dmulv = (mulv - y)\n",
        "        \n",
        "        # backward pass for the current mini-batch\n",
        "        for t in range(T):\n",
        "            dV_t = np.dot(dmulv, np.transpose(layers[t]['s']))\n",
        "\n",
        "            dsv = np.dot(np.transpose(V), dmulv)\n",
        "            \n",
        "            ds = dsv\n",
        "            dadd = add * (1 - add) * ds\n",
        "            \n",
        "            dmulw = dadd * np.ones_like(mulw)\n",
        "\n",
        "            dprev_s = np.dot(np.transpose(W), dmulw)\n",
        "\n",
        "            for i in range(t-1, max(-1, t-bptt_truncate-1), -1):\n",
        "                ds = dsv + dprev_s\n",
        "                dadd = add * (1 - add) * ds\n",
        "\n",
        "                dmulw = dadd * np.ones_like(mulw)\n",
        "                dmulu = dadd * np.ones_like(mulu)\n",
        "\n",
        "                dW_i = np.dot(W, layers[t]['prev_s'])\n",
        "\n",
        "                dprev_s = np.dot(np.transpose(W), dmulw)\n",
        "\n",
        "                new_input = np.zeros(x.shape)\n",
        "                new_input[t] = x[t]\n",
        "                dU_i = np.dot(U, new_input)\n",
        "                dx = np.dot(np.transpose(U), dmulu)\n",
        "\n",
        "                dU_t += dU_i\n",
        "                dW_t += dW_i\n",
        "            #for i in range(t-1, max(-1, t-bptt_truncate-1), -1):\n",
        "\n",
        "            dV += dV_t\n",
        "            dU += dU_t\n",
        "            dW += dW_t\n",
        "\n",
        "            if dU.max() > max_clip_value:\n",
        "                dU[dU > max_clip_value] = max_clip_value\n",
        "            if dV.max() > max_clip_value:\n",
        "                dV[dV > max_clip_value] = max_clip_value\n",
        "            if dW.max() > max_clip_value:\n",
        "                dW[dW > max_clip_value] = max_clip_value\n",
        "                \n",
        "            \n",
        "            if dU.min() < min_clip_value:\n",
        "                dU[dU < min_clip_value] = min_clip_value\n",
        "            if dV.min() < min_clip_value:\n",
        "                dV[dV < min_clip_value] = min_clip_value\n",
        "            if dW.min() < min_clip_value:\n",
        "                dW[dW < min_clip_value] = min_clip_value\n",
        "        \n",
        "        # update param for the current mini-batch\n",
        "        U -= learning_rate * dU\n",
        "        V -= learning_rate * dV\n",
        "        W -= learning_rate * dW\n",
        "\n",
        "    \n",
        "\n",
        "    # for i in range(Y.shape[0]): # Y.shape[0] = Batch dim\n",
        "\n",
        "    loss = loss / float(y.shape[0])    \n",
        "\n",
        "    print('Epoch: ', epoch + 1, ', Loss: ', loss)\n",
        "\n",
        "#for epoch in range(nepoch):    "
      ],
      "metadata": {
        "colab": {
          "base_uri": "https://localhost:8080/"
        },
        "id": "qWiBz_23iLeG",
        "outputId": "2aee227d-ec61-4c04-c30d-498f63da3128"
      },
      "execution_count": null,
      "outputs": [
        {
          "output_type": "stream",
          "name": "stdout",
          "text": [
            "Epoch:  1 , Loss:  [[94433.57788251]]\n",
            "Epoch:  2 , Loss:  [[56075.2514908]]\n",
            "Epoch:  3 , Loss:  [[27716.92396292]]\n",
            "Epoch:  4 , Loss:  [[9349.09369537]]\n",
            "Epoch:  5 , Loss:  [[851.79653636]]\n",
            "Epoch:  6 , Loss:  [[30.26634222]]\n",
            "Epoch:  7 , Loss:  [[27.58141065]]\n",
            "Epoch:  8 , Loss:  [[27.60473782]]\n",
            "Epoch:  9 , Loss:  [[27.67892975]]\n",
            "Epoch:  10 , Loss:  [[27.52001335]]\n",
            "Epoch:  11 , Loss:  [[28.17280411]]\n",
            "Epoch:  12 , Loss:  [[27.81414302]]\n",
            "Epoch:  13 , Loss:  [[27.35363774]]\n",
            "Epoch:  14 , Loss:  [[27.73624256]]\n",
            "Epoch:  15 , Loss:  [[27.75643899]]\n",
            "Epoch:  16 , Loss:  [[27.91027388]]\n",
            "Epoch:  17 , Loss:  [[27.29978006]]\n",
            "Epoch:  18 , Loss:  [[27.6337583]]\n",
            "Epoch:  19 , Loss:  [[27.79043967]]\n",
            "Epoch:  20 , Loss:  [[27.96931462]]\n",
            "Epoch:  21 , Loss:  [[27.91412089]]\n",
            "Epoch:  22 , Loss:  [[28.13702661]]\n",
            "Epoch:  23 , Loss:  [[27.59571769]]\n",
            "Epoch:  24 , Loss:  [[27.74156722]]\n",
            "Epoch:  25 , Loss:  [[27.82615383]]\n"
          ]
        }
      ]
    },
    {
      "cell_type": "code",
      "source": [
        "preds = []\n",
        "for i in range(Y.shape[0]):\n",
        "    x, y = X[i], Y[i]\n",
        "    prev_s = np.zeros((hidden_dim, 1))\n",
        "    # Forward pass\n",
        "    for t in range(T):\n",
        "        mulu = np.dot(U, x)\n",
        "        mulw = np.dot(W, prev_s)\n",
        "        add = mulw + mulu\n",
        "        s = sigmoid(add)\n",
        "        mulv = np.dot(V, s)\n",
        "        prev_s = s\n",
        "\n",
        "    preds.append(mulv)\n",
        "    \n",
        "preds = np.array(preds)"
      ],
      "metadata": {
        "id": "tiwc3FYXEEPG"
      },
      "execution_count": null,
      "outputs": []
    },
    {
      "cell_type": "code",
      "source": [
        "plt.plot(preds[:, 0, 0], 'g')\n",
        "plt.plot(Y[:, 0], 'r')\n",
        "plt.show()"
      ],
      "metadata": {
        "colab": {
          "base_uri": "https://localhost:8080/",
          "height": 267
        },
        "id": "wrD8ua_OEOW8",
        "outputId": "21608ed3-9235-4204-d950-c16fa53ad02a"
      },
      "execution_count": null,
      "outputs": [
        {
          "output_type": "display_data",
          "data": {
            "image/png": "[encoded data removed]",
            "text/plain": [
              "<Figure size 432x288 with 1 Axes>"
            ]
          },
          "metadata": {
            "needs_background": "light"
          }
        }
      ]
    }
  ]
}